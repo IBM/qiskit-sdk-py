{
 "cells": [
  {
   "cell_type": "markdown",
   "metadata": {},
   "source": [
    "<img src=\"../images/QISKit-c.gif\" alt=\"Note: In order for images to show up in this jupyter notebook you need to select File => Trusted Notebook\" width=\"250 px\" align=\"left\">"
   ]
  },
  {
   "cell_type": "markdown",
   "metadata": {},
   "source": [
    "## Running QX Examples Using IBM Data Science Experience\n",
    "\n",
    "This example is copied from the original [tutorial4developer.ipynb](https://github.com/IBM/qiskit-sdk-py/blob/master/tutorial/sections/tutorial4developer.ipynb). It is tweaked (see the first code cell), so that it can be directly run using [IBM Data Science Experience](datascience.ibm.com) (IBM DSX). If you want to run other QX notebooks in IBM DSX, you can simply copy the contents from first *code cell* and paste at the beginning of your other notebook.\n",
    "\n",
    "***\n",
    "\n",
    "### About IBM Data Science Experience\n",
    "\n",
    "IBM Data Science Experience supports the data scientist community to learn, create, and collaborate. \n",
    "\n",
    "If you just starting with Qiskit and looking for a webhosted Jupyter notebook environment, this is a good option. It is fairly easy to get your QX notebook running in the Jupyter notebook environment provided by IBM DSX. \n",
    "\n",
    "**This example illustrates how to tweak your notebook so that it is ready to be run using IBM DSX.**\n",
    "\n",
    "* In the first code cell:\n",
    "   * Update the value of **`QX_API_token`**\n",
    "   * When you run the cell, you will see this prompt: ***\"Do you want to proceed with this Python dependency installation? (y/n)\"*** . Here, give an appropriate response (**y** for yes, **n** for no)!\n",
    "\n",
    "* To run any other Quantum experience notebooks in IBM  Data Science Experience ...\n",
    "  * Copy the first *code cell* of this notebook and paste it as the first *code cell* of your '*other*' QX notebook, then run that other notebook. \n",
    "  \n",
    "\n",
    "### Credits and Contributions\n",
    "1. The list of the contributors to the main QISKit SDK tutorial can be found in this notebook: [tutorial4developer.ipynb](https://github.com/IBM/qiskit-sdk-py/blob/master/tutorial/sections/tutorial4developer.ipynb).\n",
    "2. The code for preparing the example to be run on IBM DSX uses this  [public gist](https://gist.github.com/dtmcclure/a1299fc99d12f5dc37ad6400fb8bbf2a) (See github user [dtmcclure](https://github.com/dtmcclure) ) as a reference and does further modifications. \n",
    "3. Ninad Sathaye (notebook customization for running it on IBM Data Science Experience)\n",
    "***\n",
    "\n",
    "For more information about how to use the IBM Q experience (QX), consult the [tutorials](https://quantumexperience.ng.bluemix.net/qstage/#/tutorial?sectionId=c59b3710b928891a1420190148a72cce&pageIndex=0), or check out the [community](https://quantumexperience.ng.bluemix.net/qstage/#/community).\n"
   ]
  },
  {
   "cell_type": "markdown",
   "metadata": {},
   "source": [
    "## QISKit SDK Tutorial\n",
    "\n",
    "This tutorial aims to explain how to use the QISKit SDK from a developer's point of view. We review the steps it takes to install and start to use the SDK tools.\n",
    "\n",
    "QISKit is a Python software development kit (SDK) that you can use to create your quantum computing programs based on circuits defined through the [OpenQASM 2.0 specification](https://github.com/IBM/qiskit-openqasm), compile them, and execute them on several backends (Real Quantum Processors online, Simulators online, and Simulators on local). For the online backends, QISKit uses our [python API connector](https://github.com/IBM/qiskit-api-py) to the [IBM Q experience project](http://quantumexperience.ng.bluemix.net/).\n",
    "\n",
    "In addition to this tutorial, we have other tutorials that introduce you to more complex concepts directly related to quantum computing.\n",
    "\n",
    "More examples:\n",
    "- Familiarize yourself with the important concepts of [superposition and entanglement](superposition_and_entanglement.ipynb).\n",
    "- Go beyond and explore a bit more in-depth in [entanglement revisited](entanglement_revisited.ipynb).\n",
    "\n"
   ]
  },
  {
   "cell_type": "markdown",
   "metadata": {},
   "source": [
    "## Basic Concept\n",
    "\n",
    "The basic concept of our quantum program is an array of quantum circuits. The program workflow consists of three stages: [Build](#sectionB), [Compile](#sectionC), and [Run](#sectionR). Build allows you to make different quantum circuits that represent the problem you are solving; Compile allows you to rewrite them to run on different backends (simulators/real chips of different [quantum volumes](http://ibm.biz/qiskit-quantum-volume), sizes, fidelity, etc); and Run launches the jobs.  After the jobs have been run, the data is collected. There are methods for putting this data together, depending on the program. This either gives you the answer you wanted or allows you to make a better program for the next instance.\n"
   ]
  },
  {
   "cell_type": "code",
   "execution_count": null,
   "metadata": {
    "collapsed": false
   },
   "outputs": [],
   "source": [
    "# This cell does some preparatory work to run this Jupyter notebook in IBM Data Science \n",
    "# Experience (datascience.ibm.com). All the remaining cells (except some \n",
    "# imports in the next cell) remain the same as in the original example. \n",
    "\n",
    "import sys\n",
    "import os\n",
    "\n",
    "print(\"sys.version_info:\", sys.version_info)\n",
    "if sys.version_info < (3, 0):\n",
    "    RELOAD_MODULE = reload\n",
    "else:\n",
    "    # -----------------------------------------------------------\n",
    "    # importlib.reload is used to reload the Qconfig \n",
    "    # Fixes a problem where Qconfig.APItoken is not getting the \n",
    "    # updated values upon reexecution.\n",
    "    # -----------------------------------------------------------\n",
    "    import importlib\n",
    "    RELOAD_MODULE = importlib.reload\n",
    "\n",
    "# We need visibility to Qconfig.py module and qiskit package. Add qiskit-sdk-py to your sys.path\n",
    "sys.path.append(\"./\")\n",
    "\n",
    "# -----------------------------------------------------------------------------------------------\n",
    "# Move the older version of qiskit-sdk-py directory (if any) as \"OLD.qiskit-sdk-py\"\n",
    "# NOTE: If you want to retrieve any data from \"OLD.qiskit-sdk-py\" NOW WOULD BE THE TIME!!\n",
    "# Because, if you re-run this cell later, it will just overwrite \"OLD.qiskit-sdk-py\". \n",
    "# Alternatively, you can modify the code below to change the default behavior. \n",
    "# -----------------------------------------------------------------------------------------------\n",
    "if os.path.isdir(\"./qiskit-sdk-py\"):   \n",
    "    print(\"qiskit-sdk-py directory exists. Moving it as OLD.qiskit-sdk-py\")    \n",
    "    if os.path.isdir(\"./OLD.qiskit-sdk-py\"):\n",
    "        !rm -rf OLD.qiskit-sdk-py               \n",
    "    !mv -T qiskit-sdk-py OLD.qiskit-sdk-py\n",
    "\n",
    "# Clone the qiskit-sdk-py repository\n",
    "!git clone https://github.com/IBM/qiskit-sdk-py    \n",
    "os.chdir('./qiskit-sdk-py')             \n",
    "print(\"About to install the Python dependencies for qiskit-sdk-py.\")\n",
    "print(\"See qiskit-sdk-py/requires.txt to see the dependencies and their versions to be installed\")        \n",
    "!pip install --upgrade -r requires.txt\n",
    "\n",
    "# -----------------------------------------------------------------------------------------------\n",
    "# There appears to be a bug in IBMQuantumExperience v1.8 which results in a 'KeyError' \n",
    "# while getting the results back. Temporarily, rollback to v1.6\n",
    "# -----------------------------------------------------------------------------------------------\n",
    "!pip install IBMQuantumExperience==1.6\n",
    "\n",
    "# -----------------------------------------------------------------------------------------------\n",
    "# Log on to your QX account and get your API token. You can get it from the Accounts page \n",
    "# (the top-right icon on QX website) Paste this API token below.BE SURE TO ENCLOSE IN QUOTES (\"\")\n",
    "# -----------------------------------------------------------------------------------------------\n",
    "QX_API_TOKEN = \"PUT_YOUR_API_TOKEN_HERE\" \n",
    "\n",
    "# Update the Qconfig.py file so as to connect to the QX API.\n",
    "!cp qiskit-sdk-py/tutorial/Qconfig.py.default Qconfig.py\n",
    "# Replace the token string with the one from above! Do not change this line.\n",
    "!sed -e 's/#APItoken = \"PUT_YOUR_API_TOKEN_HERE\"/APItoken = \"$QX_API_TOKEN\"/' -i qiskit-sdk-py/Qconfig.py\n",
    "\n",
    "# Now import the required modules\n",
    "from qiskit import QuantumProgram\n",
    "import Qconfig\n",
    "\n",
    "try:\n",
    "    # Reload Qconfig module again to make sure the APItoken is updated\n",
    "    RELOAD_MODULE(Qconfig)\n",
    "except NameError as e:\n",
    "    print(\"Name error: \", e.args)\n",
    "except:\n",
    "    print(\"unable to reload the module, continuing the execution..\")\n",
    "    \n",
    "print(\"Qconfig.APItoken = \", Qconfig.APItoken)\n",
    "\n",
    "# ------------------------------------------------------------------------------------------------\n",
    "# DO NOT CHANGE THE FOLLOWING LINE. It makes an assertion that you have changed the value of \n",
    "#  QX_API_TOKEN above (although it does not check if the token is valid)\n",
    "# ------------------------------------------------------------------------------------------------\n",
    "assert Qconfig.APItoken != \"PUT_YOUR_API_TOKEN_HERE\""
   ]
  },
  {
   "cell_type": "markdown",
   "metadata": {},
   "source": [
    "The basic elements needed for your first program are the QuantumProgram, a Circuit, a Quantum Register, and a Classical Register."
   ]
  },
  {
   "cell_type": "code",
   "execution_count": null,
   "metadata": {
    "collapsed": false
   },
   "outputs": [],
   "source": [
    "# Creating Programs\n",
    "# create your first QuantumProgram object instance.\n",
    "Q_program = QuantumProgram()\n",
    "\n",
    "# Creating Registers\n",
    "# create your first Quantum Register called \"qr\" with 2 qubits \n",
    "qr = Q_program.create_quantum_registers(\"qr\", 2)\n",
    "# create your first Classical Register  called \"cr\" with 2 bits\n",
    "cr = Q_program.create_classical_registers(\"cr\", 2)\n",
    "\n",
    "# Creating Circuits\n",
    "# create your first Quantum Circuit called \"qc\" involving your Quantum Register \"qr\"\n",
    "# and your Classical Register \"cr\"\n",
    "qc = Q_program.create_circuit(\"qc\", [\"qr\"], [\"cr\"])"
   ]
  },
  {
   "cell_type": "markdown",
   "metadata": {},
   "source": [
    "Another option for creating your QuantumProgram instance is to define a dictionary with all the necessary components of your program."
   ]
  },
  {
   "cell_type": "code",
   "execution_count": null,
   "metadata": {
    "collapsed": false
   },
   "outputs": [],
   "source": [
    "Q_SPECS = {\n",
    "    \"circuits\": [{\n",
    "        \"name\": \"Circuit\",\n",
    "        \"quantum_registers\": [{\n",
    "            \"name\": \"qr\",\n",
    "            \"size\": 4\n",
    "        }],\n",
    "        \"classical_registers\": [{\n",
    "            \"name\": \"cr\",\n",
    "            \"size\": 4\n",
    "        }]}],\n",
    "}"
   ]
  },
  {
   "cell_type": "markdown",
   "metadata": {},
   "source": [
    "The required element for a Program is a \"circuits\" array. Within \"circuits\", the required field is \"name\"; it can have several Quantum Registers and Classical Registers. Every register must have a name and the number of each element (qubits or bits).\n",
    "\n",
    "After that, you can use this dictionary definition as the specs of one QuantumProgram object to initialize it."
   ]
  },
  {
   "cell_type": "code",
   "execution_count": null,
   "metadata": {
    "collapsed": false
   },
   "outputs": [],
   "source": [
    "Q_program = QuantumProgram(specs=Q_SPECS)"
   ]
  },
  {
   "cell_type": "markdown",
   "metadata": {},
   "source": [
    "You can also get every component from your new Q_program to use."
   ]
  },
  {
   "cell_type": "code",
   "execution_count": null,
   "metadata": {
    "collapsed": false
   },
   "outputs": [],
   "source": [
    "# Get the components.\n",
    "\n",
    "# get the circuit by Name\n",
    "circuit = Q_program.get_circuit(\"Circuit\")\n",
    "\n",
    "# get the Quantum Register by Name\n",
    "quantum_r = Q_program.get_quantum_registers(\"qr\")\n",
    "\n",
    "# get the Classical Register by Name\n",
    "classical_r = Q_program.get_classical_registers('cr')"
   ]
  },
  {
   "cell_type": "markdown",
   "metadata": {
    "collapsed": false
   },
   "source": [
    "### Building your program: Add Gates to your Circuit\n",
    "After you create the circuit with its registers, you can add gates to manipulate the registers. Below is a list of the gates you can use in the QX.\n",
    "\n",
    "You can find extensive information about these gates and how use them in our [Quantum Experience User Guide](https://quantumexperience.ng.bluemix.net/qstage/#/tutorial?sectionId=71972f437b08e12d1f465a8857f4514c&pageIndex=2). "
   ]
  },
  {
   "cell_type": "code",
   "execution_count": null,
   "metadata": {
    "collapsed": false
   },
   "outputs": [],
   "source": [
    "# H (Hadamard) gate to the qubit 0 in the Quantum Register \"qr\" \n",
    "circuit.h(quantum_r[0])\n",
    "\n",
    "# Pauli X gate to the qubit 1 in the Quantum Register \"qr\" \n",
    "circuit.x(quantum_r[1])\n",
    "\n",
    "# Pauli Y gate to the qubit 2 in the Quantum Register \"qr\" \n",
    "circuit.y(quantum_r[2])\n",
    "\n",
    "# Pauli Z gate to the qubit 3 in the Quantum Register \"qr\" \n",
    "circuit.z(quantum_r[3])\n",
    "\n",
    "# CNOT (Controlled-NOT) gate from qubit 0 to the Qbit 2\n",
    "circuit.cx(quantum_r[0], quantum_r[2])\n",
    "\n",
    "# add a barrier to your circuit\n",
    "circuit.barrier()\n",
    "\n",
    "# first physical gate: u1(lambda) to qubit 0\n",
    "circuit.u1(0.3, quantum_r[0])\n",
    "\n",
    "# second physical gate: u2(phi,lambda) to qubit 1\n",
    "circuit.u2(0.3, 0.2, quantum_r[1])\n",
    "\n",
    "# second physical gate: u3(theta,phi,lambda) to qubit 2\n",
    "circuit.u3(0.3, 0.2, 0.1, quantum_r[2])\n",
    "\n",
    "# S Phase gate to qubit 0\n",
    "circuit.s(quantum_r[0])\n",
    "\n",
    "# T Phase gate to qubit 1\n",
    "circuit.t(quantum_r[1])\n",
    "\n",
    "# identity gate to qubit 1\n",
    "circuit.iden(quantum_r[1])\n",
    "\n",
    "# Note: \"if\" is not implemented in the local simulator right now,\n",
    "#       so we comment it out here. You can uncomment it and\n",
    "#       run in the online simulator if you'd like.\n",
    "\n",
    "# Classical if, from qubit2 gate Z to classical bit 1\n",
    "# circuit.z(quantum_r[2]).c_if(classical_r, 0)\n",
    "\n",
    "# measure gate from the qubit 0 to classical bit 0\n",
    "circuit.measure(quantum_r[0], classical_r[0])\n"
   ]
  },
  {
   "cell_type": "markdown",
   "metadata": {},
   "source": [
    "### Extract QASM\n",
    "\n",
    "You can obtain a QASM representation of your code."
   ]
  },
  {
   "cell_type": "code",
   "execution_count": null,
   "metadata": {
    "collapsed": false
   },
   "outputs": [],
   "source": [
    "# QASM from a program\n",
    "\n",
    "QASM_source = Q_program.get_qasm(\"Circuit\")\n",
    "\n",
    "print(QASM_source)"
   ]
  },
  {
   "cell_type": "markdown",
   "metadata": {
    "collapsed": false
   },
   "source": [
    "### Compile and Run or Execute <a id='sectionC'></a>"
   ]
  },
  {
   "cell_type": "code",
   "execution_count": null,
   "metadata": {
    "collapsed": false
   },
   "outputs": [],
   "source": [
    "device = 'ibmqx_qasm_simulator' # Backend to execute your program, in this case it is the online simulator\n",
    "circuits = [\"Circuit\"]  # Group of circuits to execute\n",
    "\n",
    "Q_program.set_api(Qconfig.APItoken, Qconfig.config[\"url\"]) # set the APIToken and API url"
   ]
  },
  {
   "cell_type": "code",
   "execution_count": null,
   "metadata": {
    "collapsed": false
   },
   "outputs": [],
   "source": [
    "Q_program.compile(circuits, device) # Compile your program\n",
    "\n",
    "# Run your program in the device and check the execution result every 2 seconds \n",
    "result = Q_program.run(wait=2, timeout=240)\n",
    "\n",
    "print(result)"
   ]
  },
  {
   "cell_type": "markdown",
   "metadata": {},
   "source": [
    "When you run a program, the possible results will be:\n",
    "\n",
    "```\n",
    "JOB_STATUS = {\n",
    "    inProgress: 'RUNNING',\n",
    "    errorOnCreate: 'ERROR_CREATING_JOB',\n",
    "    errorExecuting: 'ERROR_RUNNING_JOB',\n",
    "    completed: 'COMPLETED'\n",
    "  };\n",
    "```\n",
    "\n",
    "The *run()* command waits until the job either times out, returns an error message, or completes successfully. "
   ]
  },
  {
   "cell_type": "code",
   "execution_count": null,
   "metadata": {
    "collapsed": false
   },
   "outputs": [],
   "source": [
    "Q_program.get_counts(\"Circuit\")"
   ]
  },
  {
   "cell_type": "markdown",
   "metadata": {},
   "source": [
    "In addition to getting the number of times each output was seen, you can get the compiled QASM.\n",
    "For this simulation, the compiled circuit is not much different from the input circuit. Each single-qubit gate has been expressed as a u1, u2, or u3 gate."
   ]
  },
  {
   "cell_type": "code",
   "execution_count": null,
   "metadata": {
    "collapsed": false
   },
   "outputs": [],
   "source": [
    "compiled_qasm = Q_program.get_compiled_qasm(\"Circuit\")\n",
    "\n",
    "print(compiled_qasm)"
   ]
  },
  {
   "cell_type": "markdown",
   "metadata": {
    "collapsed": false
   },
   "source": [
    "You can use *execute()* to combine the compile and run in a single step."
   ]
  },
  {
   "cell_type": "code",
   "execution_count": null,
   "metadata": {
    "collapsed": false
   },
   "outputs": [],
   "source": [
    "Q_program.execute(circuits, device, wait=2, timeout=240)"
   ]
  },
  {
   "cell_type": "markdown",
   "metadata": {},
   "source": [
    "#### Compile Parameters\n",
    "Q_program.compile(circuits, device=\"simulator\", shots=1024, max_credits=3, basis_gates=None, coupling_map=None, seed=None)\n",
    "     - circuits: Array of circuits to compile\n",
    "     - device: Backend \n",
    "        [\"simulator\",               # online default simulator links to ibmqx_qasm_simulator\n",
    "         \"real\",                    # online default real chip links to ibmqx2\n",
    "         \"ibmqx_qasm_simulator\"     # qasm simulator \n",
    "         \"ibmqx2\",                  # online real chip with 5 qubits\n",
    "         \"ibmqx3\",                  # online real chip with 16 qubits\n",
    "         \"local_unitary_simulator\", # local unitary simulator \n",
    "         \"local_qasm_simulator\"]    # local simulator \n",
    "     - shots: Number of shots, only for real chips and qasm simulators\n",
    "     - max_credits: Maximum number of the credits to spend in the executions. If the executions cost more than your available credits, the job is aborted\n",
    "     - basis_gates: the base gates by default are: u1, u2, u3, cx, id\n",
    "     - coupling_map: Object that represents the physical/topological layout of a chip.\n",
    "     - seed: For the qasm simulator if you want to set the initial seed. \n",
    "#### Run Parameters\n",
    "Q_program.run(wait=5, timeout=60)\n",
    "     - wait: Time to wait before checking if the execution is COMPLETED.\n",
    "     - timeout: Timeout of the execution.\n",
    "#### Execute Parameters \n",
    "*Execute has the combined parameters of compile and run.*\n",
    "\n",
    "Q_program.execute(circuits, device, shots=1024,\n",
    "                max_credits=3, basis_gates=None, wait=5, timeout=60, basis_gates=None, coupling_map=None,)"
   ]
  },
  {
   "cell_type": "markdown",
   "metadata": {},
   "source": [
    "### Execute on a Real Device<a id='sectionR'></a>"
   ]
  },
  {
   "cell_type": "code",
   "execution_count": null,
   "metadata": {
    "collapsed": false
   },
   "outputs": [],
   "source": [
    "device = 'ibmqx2'   # Backend where you execute your program; in this case, on the Real Quantum Chip online \n",
    "circuits = [\"Circuit\"]   # Group of circuits to execute\n",
    "shots = 1024           # Number of shots to run the program (experiment); maximum is 8192 shots.\n",
    "max_credits = 3          # Maximum number of credits to spend on executions. \n",
    "\n",
    "result = Q_program.execute(circuits, device, shots, max_credits=3, wait=10, timeout=240)"
   ]
  },
  {
   "cell_type": "markdown",
   "metadata": {},
   "source": [
    "### Result\n",
    "You can access the result via the function *get_counts(\"circuit_name\")*. By default, the last device is used, but you can be more specific by using *get_counts(\"circuit_name\", device=\"device_name\")*."
   ]
  },
  {
   "cell_type": "code",
   "execution_count": null,
   "metadata": {
    "collapsed": false
   },
   "outputs": [],
   "source": [
    "Q_program.get_counts(\"Circuit\")"
   ]
  },
  {
   "cell_type": "markdown",
   "metadata": {},
   "source": [
    "### Execute on a local simulator"
   ]
  },
  {
   "cell_type": "code",
   "execution_count": null,
   "metadata": {
    "collapsed": false
   },
   "outputs": [],
   "source": [
    "Q_program.compile(circuits, \"local_qasm_simulator\") # Compile your program\n",
    "\n",
    "# Run your program in the device and check the execution result every 2 seconds \n",
    "result = Q_program.run(wait=2, timeout=240)\n",
    "\n",
    "Q_program.get_counts(\"Circuit\")"
   ]
  },
  {
   "cell_type": "code",
   "execution_count": null,
   "metadata": {
    "collapsed": true
   },
   "outputs": [],
   "source": []
  }
 ],
 "metadata": {
  "anaconda-cloud": {},
  "kernelspec": {
   "display_name": "Python [default]",
   "language": "python",
   "name": "python3"
  },
  "language_info": {
   "codemirror_mode": {
    "name": "ipython",
    "version": 3
   },
   "file_extension": ".py",
   "mimetype": "text/x-python",
   "name": "python",
   "nbconvert_exporter": "python",
   "pygments_lexer": "ipython3",
   "version": "3.5.2"
  }
 },
 "nbformat": 4,
 "nbformat_minor": 0
}
