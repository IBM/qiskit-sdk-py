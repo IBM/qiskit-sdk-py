{
 "cells": [
  {
   "cell_type": "code",
   "execution_count": 1,
   "metadata": {
    "ExecuteTime": {
     "end_time": "2020-09-23T01:38:16.941667Z",
     "start_time": "2020-09-23T01:38:02.039327Z"
    }
   },
   "outputs": [
    {
     "name": "stderr",
     "output_type": "stream",
     "text": [
      "/Users/lucianobello/repos/qiskit-terra/qiskit/circuit/instruction.py:82: DeprecationWarning: Gate param type <class 'numpy.ndarray'> is being deprecated as of 0.16.0, and will be removed no earlier than 3 months after that release date. Considering creating your own Gate subclass with the method validate_parameter  to allow this param type.\n",
      "  self.params = params\n",
      "......................\n",
      "----------------------------------------------------------------------\n",
      "Ran 22 tests in 7.527s\n",
      "\n",
      "OK\n"
     ]
    }
   ],
   "source": [
    "import warnings; warnings.simplefilter('ignore')\n",
    "%run 'mpl/test_circuit_matplotlib_drawer.py'"
   ]
  },
  {
   "cell_type": "code",
   "execution_count": 2,
   "metadata": {
    "ExecuteTime": {
     "end_time": "2020-09-23T01:38:18.485714Z",
     "start_time": "2020-09-23T01:38:16.950322Z"
    }
   },
   "outputs": [
    {
     "data": {
      "text/html": [
       "<div><details><summary style=\"background-color:lightgreen;\"> <tt><b>big_gates.png</b> | test_big_gates (__main__.TestMatplotlibDrawer) </tt> | ratio: 1.0 </summary><table><tr><td><img src=\"mpl/big_gates.png\"</td><td><img src=\"mpl/references/big_gates.png\"</td><td><img src=\"mpl/big_gates.diff.png\"</td></tr></table></details><details><summary style=\"background-color:lightgreen;\"> <tt><b>cnot.png</b> | test_cnot (__main__.TestMatplotlibDrawer) </tt> | ratio: 1.0 </summary><table><tr><td><img src=\"mpl/cnot.png\"</td><td><img src=\"mpl/references/cnot.png\"</td><td><img src=\"mpl/cnot.diff.png\"</td></tr></table></details><details><summary style=\"background-color:lightgreen;\"> <tt><b>conditional.png</b> | test_conditional (__main__.TestMatplotlibDrawer) </tt> | ratio: 1.0 </summary><table><tr><td><img src=\"mpl/conditional.png\"</td><td><img src=\"mpl/references/conditional.png\"</td><td><img src=\"mpl/conditional.diff.png\"</td></tr></table></details><details><summary style=\"background-color:lightgreen;\"> <tt><b>creg_initial_false.png</b> | test_creg_initial (__main__.TestMatplotlibDrawer) </tt> | ratio: 1.0 </summary><table><tr><td><img src=\"mpl/creg_initial_false.png\"</td><td><img src=\"mpl/references/creg_initial_false.png\"</td><td><img src=\"mpl/creg_initial_false.diff.png\"</td></tr></table></details><details><summary style=\"background-color:lightgreen;\"> <tt><b>creg_initial_true.png</b> | test_creg_initial (__main__.TestMatplotlibDrawer) </tt> | ratio: 1.0 </summary><table><tr><td><img src=\"mpl/creg_initial_true.png\"</td><td><img src=\"mpl/references/creg_initial_true.png\"</td><td><img src=\"mpl/creg_initial_true.diff.png\"</td></tr></table></details><details><summary style=\"background-color:lightgreen;\"> <tt><b>cswap_rzz.png</b> | test_cswap_rzz (__main__.TestMatplotlibDrawer) </tt> | ratio: 1.0 </summary><table><tr><td><img src=\"mpl/cswap_rzz.png\"</td><td><img src=\"mpl/references/cswap_rzz.png\"</td><td><img src=\"mpl/cswap_rzz.diff.png\"</td></tr></table></details><details><summary style=\"background-color:lightgreen;\"> <tt><b>ctrl_labels.png</b> | test_ctrl_labels (__main__.TestMatplotlibDrawer) </tt> | ratio: 1.0 </summary><table><tr><td><img src=\"mpl/ctrl_labels.png\"</td><td><img src=\"mpl/references/ctrl_labels.png\"</td><td><img src=\"mpl/ctrl_labels.diff.png\"</td></tr></table></details><details><summary style=\"background-color:lightgreen;\"> <tt><b>empty_circut.png</b> | test_empty_circuit (__main__.TestMatplotlibDrawer) </tt> | ratio: 1.0 </summary><table><tr><td><img src=\"mpl/empty_circut.png\"</td><td><img src=\"mpl/references/empty_circut.png\"</td><td><img src=\"mpl/empty_circut.diff.png\"</td></tr></table></details><details><summary style=\"background-color:lightgreen;\"> <tt><b>fold_4.png</b> | test_fold_4 (__main__.TestMatplotlibDrawer) </tt> | ratio: 1.0 </summary><table><tr><td><img src=\"mpl/fold_4.png\"</td><td><img src=\"mpl/references/fold_4.png\"</td><td><img src=\"mpl/fold_4.diff.png\"</td></tr></table></details><details><summary style=\"background-color:lightgreen;\"> <tt><b>fold_minus1.png</b> | test_fold_minus1 (__main__.TestMatplotlibDrawer) </tt> | ratio: 1.0 </summary><table><tr><td><img src=\"mpl/fold_minus1.png\"</td><td><img src=\"mpl/references/fold_minus1.png\"</td><td><img src=\"mpl/fold_minus1.diff.png\"</td></tr></table></details><details><summary style=\"background-color:lightgreen;\"> <tt><b>ghz_to_gate.png</b> | test_ghz_to_gate (__main__.TestMatplotlibDrawer) </tt> | ratio: 1.0 </summary><table><tr><td><img src=\"mpl/ghz_to_gate.png\"</td><td><img src=\"mpl/references/ghz_to_gate.png\"</td><td><img src=\"mpl/ghz_to_gate.diff.png\"</td></tr></table></details><details><summary style=\"background-color:lightgreen;\"> <tt><b>global_phase.png</b> | test_with_global_phase (__main__.TestMatplotlibDrawer) </tt> | ratio: 1.0 </summary><table><tr><td><img src=\"mpl/global_phase.png\"</td><td><img src=\"mpl/references/global_phase.png\"</td><td><img src=\"mpl/global_phase.diff.png\"</td></tr></table></details><details><summary style=\"background-color:lightgreen;\"> <tt><b>init_reset.png</b> | test_init_reset (__main__.TestMatplotlibDrawer) </tt> | ratio: 1.0 </summary><table><tr><td><img src=\"mpl/init_reset.png\"</td><td><img src=\"mpl/references/init_reset.png\"</td><td><img src=\"mpl/init_reset.diff.png\"</td></tr></table></details><details><summary style=\"background-color:lightgreen;\"> <tt><b>long_name.png</b> | test_long_name (__main__.TestMatplotlibDrawer) </tt> | ratio: 1.0 </summary><table><tr><td><img src=\"mpl/long_name.png\"</td><td><img src=\"mpl/references/long_name.png\"</td><td><img src=\"mpl/long_name.diff.png\"</td></tr></table></details><details><summary style=\"background-color:lightgreen;\"> <tt><b>no_barriers.png</b> | test_no_barriers_false (__main__.TestMatplotlibDrawer) </tt> | ratio: 1.0 </summary><table><tr><td><img src=\"mpl/no_barriers.png\"</td><td><img src=\"mpl/references/no_barriers.png\"</td><td><img src=\"mpl/no_barriers.diff.png\"</td></tr></table></details><details><summary style=\"background-color:lightgreen;\"> <tt><b>partial_layout.png</b> | test_partial_layout (__main__.TestMatplotlibDrawer) </tt> | ratio: 1.0 </summary><table><tr><td><img src=\"mpl/partial_layout.png\"</td><td><img src=\"mpl/references/partial_layout.png\"</td><td><img src=\"mpl/partial_layout.diff.png\"</td></tr></table></details><details><summary style=\"background-color:lightgreen;\"> <tt><b>pauli_clifford.png</b> | test_pauli_clifford (__main__.TestMatplotlibDrawer) </tt> | ratio: 1.0 </summary><table><tr><td><img src=\"mpl/pauli_clifford.png\"</td><td><img src=\"mpl/references/pauli_clifford.png\"</td><td><img src=\"mpl/pauli_clifford.diff.png\"</td></tr></table></details><details open><summary style=\"background-color:lightcoral;\"> <tt><b>pi_in_param_expr.png</b> | test_pi_param_expr (__main__.TestMatplotlibDrawer) </tt> | ratio: 0.9957492422562283 </summary><table><tr><td><img src=\"mpl/pi_in_param_expr.png\"</td><td><img src=\"mpl/references/pi_in_param_expr.png\"</td><td><img src=\"mpl/pi_in_param_expr.diff.png\"</td></tr></table></details><details><summary style=\"background-color:lightgreen;\"> <tt><b>plot_barriers_false.png</b> | test_plot_barriers (__main__.TestMatplotlibDrawer) </tt> | ratio: 1.0 </summary><table><tr><td><img src=\"mpl/plot_barriers_false.png\"</td><td><img src=\"mpl/references/plot_barriers_false.png\"</td><td><img src=\"mpl/plot_barriers_false.diff.png\"</td></tr></table></details><details><summary style=\"background-color:lightgreen;\"> <tt><b>plot_barriers_true.png</b> | test_plot_barriers (__main__.TestMatplotlibDrawer) </tt> | ratio: 1.0 </summary><table><tr><td><img src=\"mpl/plot_barriers_true.png\"</td><td><img src=\"mpl/references/plot_barriers_true.png\"</td><td><img src=\"mpl/plot_barriers_true.diff.png\"</td></tr></table></details><details><summary style=\"background-color:lightgreen;\"> <tt><b>plot_partial_barrier.png</b> | test_plot_partial_barrier (__main__.TestMatplotlibDrawer) </tt> | ratio: 1.0 </summary><table><tr><td><img src=\"mpl/plot_partial_barrier.png\"</td><td><img src=\"mpl/references/plot_partial_barrier.png\"</td><td><img src=\"mpl/plot_partial_barrier.diff.png\"</td></tr></table></details><details><summary style=\"background-color:lightgreen;\"> <tt><b>r_gates.png</b> | test_r_gates (__main__.TestMatplotlibDrawer) </tt> | ratio: 1.0 </summary><table><tr><td><img src=\"mpl/r_gates.png\"</td><td><img src=\"mpl/references/r_gates.png\"</td><td><img src=\"mpl/r_gates.diff.png\"</td></tr></table></details><details><summary style=\"background-color:lightgreen;\"> <tt><b>scale_default.png</b> | test_scale (__main__.TestMatplotlibDrawer) </tt> | ratio: 1.0 </summary><table><tr><td><img src=\"mpl/scale_default.png\"</td><td><img src=\"mpl/references/scale_default.png\"</td><td><img src=\"mpl/scale_default.diff.png\"</td></tr></table></details><details><summary style=\"background-color:lightgreen;\"> <tt><b>scale_double.png</b> | test_scale (__main__.TestMatplotlibDrawer) </tt> | ratio: 1.0 </summary><table><tr><td><img src=\"mpl/scale_double.png\"</td><td><img src=\"mpl/references/scale_double.png\"</td><td><img src=\"mpl/scale_double.diff.png\"</td></tr></table></details><details><summary style=\"background-color:lightgreen;\"> <tt><b>scale_half.png</b> | test_scale (__main__.TestMatplotlibDrawer) </tt> | ratio: 1.0 </summary><table><tr><td><img src=\"mpl/scale_half.png\"</td><td><img src=\"mpl/references/scale_half.png\"</td><td><img src=\"mpl/scale_half.diff.png\"</td></tr></table></details><details><summary style=\"background-color:lightgreen;\"> <tt><b>u_gates.png</b> | test_u_gates (__main__.TestMatplotlibDrawer) </tt> | ratio: 1.0 </summary><table><tr><td><img src=\"mpl/u_gates.png\"</td><td><img src=\"mpl/references/u_gates.png\"</td><td><img src=\"mpl/u_gates.diff.png\"</td></tr></table></details></div>"
      ],
      "text/plain": [
       "<__main__.Results at 0x7fdde00a2690>"
      ]
     },
     "execution_count": 2,
     "metadata": {},
     "output_type": "execute_result"
    }
   ],
   "source": [
    "%run -i 'results.py'\n",
    "results"
   ]
  },
  {
   "cell_type": "code",
   "execution_count": null,
   "metadata": {},
   "outputs": [],
   "source": []
  }
 ],
 "metadata": {
  "kernelspec": {
   "display_name": "Python 3",
   "language": "python",
   "name": "python3"
  },
  "language_info": {
   "codemirror_mode": {
    "name": "ipython",
    "version": 3
   },
   "file_extension": ".py",
   "mimetype": "text/x-python",
   "name": "python",
   "nbconvert_exporter": "python",
   "pygments_lexer": "ipython3",
   "version": "3.7.8"
  }
 },
 "nbformat": 4,
 "nbformat_minor": 4
}
