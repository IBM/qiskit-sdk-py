{
 "cells": [
  {
   "cell_type": "code",
   "execution_count": 1,
   "metadata": {},
   "outputs": [
    {
     "name": "stderr",
     "output_type": "stream",
     "text": [
      ".................\n",
      "----------------------------------------------------------------------\n",
      "Ran 17 tests in 6.951s\n",
      "\n",
      "OK\n"
     ]
    }
   ],
   "source": [
    "import warnings; warnings.simplefilter('ignore')\n",
    "%run 'mpl/test_circuit_matplotlib_drawer.py'"
   ]
  },
  {
   "cell_type": "code",
   "execution_count": 2,
   "metadata": {},
   "outputs": [
    {
     "data": {
      "text/html": [
       "<div><a href=\"mpl/mismatch.zip\">Download 3 mismatch results as a zip</a></div><div><details><summary style=\"background-color:lightgreen;\"> <tt><b>big_gates.png</b> | test_big_gates (__main__.TestMatplotlibDrawer) </tt> | ratio: 1.0 </summary><table><tr><td><img src=\"mpl/big_gates.png\"</td><td><img src=\"mpl/references/big_gates.png\"</td><td><img src=\"mpl/big_gates.diff.png\"</td></tr></table></details><details open><summary style=\"background-color:lightcoral;\"> <tt><b>scale_half.png</b> | test_scale (__main__.TestMatplotlibDrawer) </tt> | ratio: 0.9003252733471803 </summary><table><tr><td><img src=\"mpl/scale_half.png\"</td><td><img src=\"mpl/references/scale_half.png\"</td><td><img src=\"mpl/scale_half.diff.png\"</td></tr></table></details><details><summary style=\"background-color:lightgreen;\"> <tt><b>plot_barriers_true.png</b> | test_plot_barriers (__main__.TestMatplotlibDrawer) </tt> | ratio: 1.0 </summary><table><tr><td><img src=\"mpl/plot_barriers_true.png\"</td><td><img src=\"mpl/references/plot_barriers_true.png\"</td><td><img src=\"mpl/plot_barriers_true.diff.png\"</td></tr></table></details><details><summary style=\"background-color:lightgreen;\"> <tt><b>u_gates.png</b> | test_u_gates (__main__.TestMatplotlibDrawer) </tt> | ratio: 1.0 </summary><table><tr><td><img src=\"mpl/u_gates.png\"</td><td><img src=\"mpl/references/u_gates.png\"</td><td><img src=\"mpl/u_gates.diff.png\"</td></tr></table></details><details><summary style=\"background-color:lightgreen;\"> <tt><b>cswap_rzz.png</b> | test_cswap_rzz (__main__.TestMatplotlibDrawer) </tt> | ratio: 1.0 </summary><table><tr><td><img src=\"mpl/cswap_rzz.png\"</td><td><img src=\"mpl/references/cswap_rzz.png\"</td><td><img src=\"mpl/cswap_rzz.diff.png\"</td></tr></table></details><details><summary style=\"background-color:lightgreen;\"> <tt><b>creg_initial_false.png</b> | test_creg_initial (__main__.TestMatplotlibDrawer) </tt> | ratio: 1.0 </summary><table><tr><td><img src=\"mpl/creg_initial_false.png\"</td><td><img src=\"mpl/references/creg_initial_false.png\"</td><td><img src=\"mpl/creg_initial_false.diff.png\"</td></tr></table></details><details><summary style=\"background-color:lightgreen;\"> <tt><b>plot_barriers_false.png</b> | test_plot_barriers (__main__.TestMatplotlibDrawer) </tt> | ratio: 1.0 </summary><table><tr><td><img src=\"mpl/plot_barriers_false.png\"</td><td><img src=\"mpl/references/plot_barriers_false.png\"</td><td><img src=\"mpl/plot_barriers_false.diff.png\"</td></tr></table></details><details><summary style=\"background-color:lightgreen;\"> <tt><b>no_barriers.png</b> | test_no_barriers_false (__main__.TestMatplotlibDrawer) </tt> | ratio: 1.0 </summary><table><tr><td><img src=\"mpl/no_barriers.png\"</td><td><img src=\"mpl/references/no_barriers.png\"</td><td><img src=\"mpl/no_barriers.diff.png\"</td></tr></table></details><details><summary style=\"background-color:lightgreen;\"> <tt><b>long_name.png</b> | test_long_name (__main__.TestMatplotlibDrawer) </tt> | ratio: 1.0 </summary><table><tr><td><img src=\"mpl/long_name.png\"</td><td><img src=\"mpl/references/long_name.png\"</td><td><img src=\"mpl/long_name.diff.png\"</td></tr></table></details><details><summary style=\"background-color:lightgreen;\"> <tt><b>r_gates.png</b> | test_r_gates (__main__.TestMatplotlibDrawer) </tt> | ratio: 1.0 </summary><table><tr><td><img src=\"mpl/r_gates.png\"</td><td><img src=\"mpl/references/r_gates.png\"</td><td><img src=\"mpl/r_gates.diff.png\"</td></tr></table></details><details><summary style=\"background-color:lightgreen;\"> <tt><b>empty_circut.png</b> | test_empty_circuit (__main__.TestMatplotlibDrawer) </tt> | ratio: 1.0 </summary><table><tr><td><img src=\"mpl/empty_circut.png\"</td><td><img src=\"mpl/references/empty_circut.png\"</td><td><img src=\"mpl/empty_circut.diff.png\"</td></tr></table></details><details><summary style=\"background-color:lightgreen;\"> <tt><b>ctrl_x.png</b> | test_ctrl_x (__main__.TestMatplotlibDrawer) </tt> | ratio: 1.0 </summary><table><tr><td><img src=\"mpl/ctrl_x.png\"</td><td><img src=\"mpl/references/ctrl_x.png\"</td><td><img src=\"mpl/ctrl_x.diff.png\"</td></tr></table></details><details><summary style=\"background-color:lightgreen;\"> <tt><b>fold_4.png</b> | test_fold_4 (__main__.TestMatplotlibDrawer) </tt> | ratio: 1.0 </summary><table><tr><td><img src=\"mpl/fold_4.png\"</td><td><img src=\"mpl/references/fold_4.png\"</td><td><img src=\"mpl/fold_4.diff.png\"</td></tr></table></details><details><summary style=\"background-color:lightgreen;\"> <tt><b>fold_minus1.png</b> | test_fold_minus1 (__main__.TestMatplotlibDrawer) </tt> | ratio: 1.0 </summary><table><tr><td><img src=\"mpl/fold_minus1.png\"</td><td><img src=\"mpl/references/fold_minus1.png\"</td><td><img src=\"mpl/fold_minus1.diff.png\"</td></tr></table></details><details><summary style=\"background-color:lightgreen;\"> <tt><b>creg_initial_true.png</b> | test_creg_initial (__main__.TestMatplotlibDrawer) </tt> | ratio: 1.0 </summary><table><tr><td><img src=\"mpl/creg_initial_true.png\"</td><td><img src=\"mpl/references/creg_initial_true.png\"</td><td><img src=\"mpl/creg_initial_true.diff.png\"</td></tr></table></details><details open><summary style=\"background-color:lightcoral;\"> <tt><b>scale_default.png</b> | test_scale (__main__.TestMatplotlibDrawer) </tt> | ratio: 0.9047218954797513 </summary><table><tr><td><img src=\"mpl/scale_default.png\"</td><td><img src=\"mpl/references/scale_default.png\"</td><td><img src=\"mpl/scale_default.diff.png\"</td></tr></table></details><details><summary style=\"background-color:lightgreen;\"> <tt><b>pauli_clifford.png</b> | test_pauli_clifford (__main__.TestMatplotlibDrawer) </tt> | ratio: 1.0 </summary><table><tr><td><img src=\"mpl/pauli_clifford.png\"</td><td><img src=\"mpl/references/pauli_clifford.png\"</td><td><img src=\"mpl/pauli_clifford.diff.png\"</td></tr></table></details><details><summary style=\"background-color:lightgreen;\"> <tt><b>ctrl_labels.png</b> | test_ctrl_labels (__main__.TestMatplotlibDrawer) </tt> | ratio: 1.0 </summary><table><tr><td><img src=\"mpl/ctrl_labels.png\"</td><td><img src=\"mpl/references/ctrl_labels.png\"</td><td><img src=\"mpl/ctrl_labels.diff.png\"</td></tr></table></details><details><summary style=\"background-color:lightgreen;\"> <tt><b>ghz_to_gate.png</b> | test_ghz_to_gate (__main__.TestMatplotlibDrawer) </tt> | ratio: 1.0 </summary><table><tr><td><img src=\"mpl/ghz_to_gate.png\"</td><td><img src=\"mpl/references/ghz_to_gate.png\"</td><td><img src=\"mpl/ghz_to_gate.diff.png\"</td></tr></table></details><details open><summary style=\"background-color:lightcoral;\"> <tt><b>scale_double.png</b> | test_scale (__main__.TestMatplotlibDrawer) </tt> | ratio: 0.9103867847160622 </summary><table><tr><td><img src=\"mpl/scale_double.png\"</td><td><img src=\"mpl/references/scale_double.png\"</td><td><img src=\"mpl/scale_double.diff.png\"</td></tr></table></details><details><summary style=\"background-color:lightgreen;\"> <tt><b>conditional.png</b> | test_conditional (__main__.TestMatplotlibDrawer) </tt> | ratio: 1.0 </summary><table><tr><td><img src=\"mpl/conditional.png\"</td><td><img src=\"mpl/references/conditional.png\"</td><td><img src=\"mpl/conditional.diff.png\"</td></tr></table></details></div>"
      ],
      "text/plain": [
       "<__main__.Results at 0x125ade590>"
      ]
     },
     "execution_count": 2,
     "metadata": {},
     "output_type": "execute_result"
    }
   ],
   "source": [
    "%run -i 'results.py'\n",
    "results"
   ]
  },
  {
   "cell_type": "code",
   "execution_count": null,
   "metadata": {},
   "outputs": [],
   "source": []
  }
 ],
 "metadata": {
  "kernelspec": {
   "display_name": "Python 3",
   "language": "python",
   "name": "python3"
  },
  "language_info": {
   "codemirror_mode": {
    "name": "ipython",
    "version": 3
   },
   "file_extension": ".py",
   "mimetype": "text/x-python",
   "name": "python",
   "nbconvert_exporter": "python",
   "pygments_lexer": "ipython3",
   "version": "3.7.7"
  }
 },
 "nbformat": 4,
 "nbformat_minor": 4
}
