{
 "nbformat": 4,
 "nbformat_minor": 2,
 "metadata": {
  "language_info": {
   "name": "python",
   "codemirror_mode": {
    "name": "ipython",
    "version": 3
   },
   "version": "3.7.5-final"
  },
  "orig_nbformat": 2,
  "file_extension": ".py",
  "mimetype": "text/x-python",
  "name": "python",
  "npconvert_exporter": "python",
  "pygments_lexer": "ipython3",
  "version": 3,
  "kernelspec": {
   "name": "python37564bitlatestvirtualenv76cfe9d7d3f749489cf2ff69593234af",
   "display_name": "Python 3.7.5 64-bit ('latest': virtualenv)"
  }
 },
 "cells": [
  {
   "source": [
    "import numpy\n",
    "import numpy as np\n",
    "import matplotlib.pyplot as plt\n",
    "\n",
    "from qiskit import QuantumCircuit, execute, BasicAer\n",
    "from qiskit.extensions.standard import RCCXGate, RCCCXGate\n",
    "from qiskit.quantum_info import Operator\n",
    "\n",
    "from zrl.utils import to_qiskit_ordering"
   ],
   "cell_type": "code",
   "outputs": [
    {
     "output_type": "error",
     "ename": "ModuleNotFoundError",
     "evalue": "No module named 'zrl'",
     "traceback": [
      "\u001b[0;31m---------------------------------------------------------------------------\u001b[0m",
      "\u001b[0;31mModuleNotFoundError\u001b[0m                       Traceback (most recent call last)",
      "\u001b[0;32m<ipython-input-1-9dd48e083772>\u001b[0m in \u001b[0;36m<module>\u001b[0;34m\u001b[0m\n\u001b[1;32m      7\u001b[0m \u001b[0;32mfrom\u001b[0m \u001b[0mqiskit\u001b[0m\u001b[0;34m.\u001b[0m\u001b[0mquantum_info\u001b[0m \u001b[0;32mimport\u001b[0m \u001b[0mOperator\u001b[0m\u001b[0;34m\u001b[0m\u001b[0;34m\u001b[0m\u001b[0m\n\u001b[1;32m      8\u001b[0m \u001b[0;34m\u001b[0m\u001b[0m\n\u001b[0;32m----> 9\u001b[0;31m \u001b[0;32mfrom\u001b[0m \u001b[0mzrl\u001b[0m\u001b[0;34m.\u001b[0m\u001b[0mutils\u001b[0m \u001b[0;32mimport\u001b[0m \u001b[0mto_qiskit_ordering\u001b[0m\u001b[0;34m\u001b[0m\u001b[0;34m\u001b[0m\u001b[0m\n\u001b[0m",
      "\u001b[0;31mModuleNotFoundError\u001b[0m: No module named 'zrl'"
     ]
    }
   ],
   "metadata": {},
   "execution_count": 1
  },
  {
   "source": [
    "def _compute_control_matrix(base_mat, num_ctrl_qubits):\n",
    "    \"\"\"\n",
    "    Compute the controlled version of the input matrix with qiskit ordering.\n",
    "\n",
    "    Args:\n",
    "        base_mat (ndarray): unitary to be controlled\n",
    "        num_ctrl_qubits (int): number of controls for new unitary\n",
    "\n",
    "    Returns:\n",
    "        ndarray: controlled version of base matrix.\n",
    "    \"\"\"\n",
    "    num_target = int(np.log2(base_mat.shape[0]))\n",
    "    ctrl_dim = 2**num_ctrl_qubits\n",
    "    ctrl_grnd = np.repeat([[1], [0]], [1, ctrl_dim-1])\n",
    "    full_mat_dim = ctrl_dim * base_mat.shape[0]\n",
    "    full_mat = np.zeros((full_mat_dim, full_mat_dim), dtype=base_mat.dtype)\n",
    "    ctrl_proj = np.diag(np.roll(ctrl_grnd, ctrl_dim - 1))\n",
    "    full_mat = (np.kron(np.eye(2**num_target),\n",
    "                        np.eye(ctrl_dim) - ctrl_proj)\n",
    "                + np.kron(base_mat, ctrl_proj))\n",
    "    return full_mat"
   ],
   "cell_type": "code",
   "outputs": [],
   "metadata": {},
   "execution_count": 0
  },
  {
   "source": [
    "def _compute_control_matrix(base_mat, num_ctrl_qubits, ctrl_state=None):\n",
    "    \"\"\"\n",
    "    Compute the controlled version of the input matrix with qiskit ordering.\n",
    "    Args:\n",
    "        base_mat (ndarray): unitary to be controlled\n",
    "        num_ctrl_qubits (int): number of controls for new unitary\n",
    "        ctrl_state (int or str or None): The control state in decimal or as\n",
    "            a bitstring (e.g. '111'). If None, use 2**num_ctrl_qubits-1.\n",
    "    Returns:\n",
    "        ndarray: controlled version of base matrix.\n",
    "    Raises:\n",
    "        QiskitError: unrecognized mode or invalid ctrl_state\n",
    "    \"\"\"\n",
    "    num_target = int(numpy.log2(base_mat.shape[0]))\n",
    "    ctrl_dim = 2**num_ctrl_qubits\n",
    "    ctrl_grnd = numpy.repeat([[1], [0]], [1, ctrl_dim-1])\n",
    "    if ctrl_state is None:\n",
    "        ctrl_state = ctrl_dim - 1\n",
    "    elif isinstance(ctrl_state, str):\n",
    "        ctrl_state = int(ctrl_state, 2)\n",
    "    if isinstance(ctrl_state, int):\n",
    "        if not 0 <= ctrl_state < ctrl_dim:\n",
    "            raise QiskitError('Invalid control state value specified.')\n",
    "    else:\n",
    "        raise QiskitError('Invalid control state type specified.')\n",
    "    full_mat_dim = ctrl_dim * base_mat.shape[0]\n",
    "    full_mat = numpy.zeros((full_mat_dim, full_mat_dim), dtype=base_mat.dtype)\n",
    "    ctrl_proj = numpy.diag(numpy.roll(ctrl_grnd, ctrl_state))\n",
    "    full_mat = (numpy.kron(numpy.eye(2**num_target),\n",
    "                           numpy.eye(ctrl_dim) - ctrl_proj)\n",
    "                + numpy.kron(base_mat, ctrl_proj))\n",
    "    return full_mat"
   ],
   "cell_type": "code",
   "outputs": [],
   "metadata": {},
   "execution_count": 0
  },
  {
   "source": [
    "B = np.eye(8, dtype=complex)\n",
    "B[5, 5] = -1\n",
    "B[6:, 6:] = np.array([[0, -1j], [1j, 0]])\n",
    "\n",
    "CB = np.eye(16, 16, dtype=complex)\n",
    "CB[8:, 8:] = B\n",
    "\n",
    "cb = to_qiskit_ordering(CB)"
   ],
   "cell_type": "code",
   "outputs": [],
   "metadata": {},
   "execution_count": 0
  },
  {
   "source": [
    "plt.figure()\n",
    "plt.imshow(np.abs(CB))\n",
    "plt.figure()\n",
    "plt.imshow(np.abs(cb))\n",
    ""
   ],
   "cell_type": "code",
   "outputs": [],
   "metadata": {},
   "execution_count": 0
  },
  {
   "source": [
    "ctrl = _compute_control_matrix(RCCXGate().to_matrix(), 1)\n",
    "plt.imshow(np.abs(ctrl - cb))"
   ],
   "cell_type": "code",
   "outputs": [],
   "metadata": {},
   "execution_count": 0
  },
  {
   "source": [
    "num_ctrl_qubits = 1\n",
    "for gate in [RCCXGate()]:\n",
    "    cgate = gate.control(num_ctrl_qubits)\n",
    "    base_mat = Operator(gate).data\n",
    "    ctrl_mat = Operator(cgate).data\n",
    "    target_mat = _compute_control_matrix(base_mat, num_ctrl_qubits)\n",
    "    print(gate.name)\n",
    "\n",
    "    diff = np.abs(ctrl_mat - target_mat)\n",
    "    plt.figure()\n",
    "    plt.imshow(np.abs(ctrl_mat))\n",
    "    plt.colorbar()\n",
    "\n",
    "    plt.figure()\n",
    "    plt.imshow(diff)\n",
    "    plt.colorbar()\n",
    ""
   ],
   "cell_type": "code",
   "outputs": [],
   "metadata": {},
   "execution_count": 0
  },
  {
   "source": [
    "cgate = RCCXGate().control()\n",
    "qc = QuantumCircuit(cgate.num_qubits)\n",
    "qc.append(cgate, list(range(cgate.num_qubits)), [])\n",
    "qc.draw()"
   ],
   "cell_type": "code",
   "outputs": [],
   "metadata": {},
   "execution_count": 0
  },
  {
   "source": [
    "unitary = execute(qc, BasicAer.get_backend('unitary_simulator')).result().get_unitary()"
   ],
   "cell_type": "code",
   "outputs": [],
   "metadata": {},
   "execution_count": 0
  },
  {
   "source": [
    "plt.imshow(np.abs(unitary))\n",
    "plt.imshow(np.abs(unitary - ctrl))\n",
    "\n",
    "atol = 1e-10\n",
    "for i in range(2**cgate.num_qubits):\n",
    "    for j in range(2**cgate.num_qubits):\n",
    "        if np.abs(ctrl[i, j] - unitary[i, j]) >= atol:\n",
    "            print(i, j, ctrl[i, j], unitary[i, j])"
   ],
   "cell_type": "code",
   "outputs": [],
   "metadata": {},
   "execution_count": 0
  },
  {
   "cell_type": "code",
   "execution_count": null,
   "metadata": {},
   "outputs": [],
   "source": []
  }
 ]
}