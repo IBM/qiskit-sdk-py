{
 "cells": [
  {
   "cell_type": "code",
   "execution_count": 1,
   "metadata": {
    "ExecuteTime": {
     "end_time": "2018-11-03T09:53:51.588009Z",
     "start_time": "2018-11-03T09:53:51.582816Z"
    }
   },
   "outputs": [],
   "source": [
    "import os\n",
    "import sys\n",
    "import time\n",
    "cwd = os.getcwd()\n",
    "qiskit_dir = os.path.abspath(os.path.dirname(os.path.dirname(os.path.dirname(cwd))))\n",
    "sys.path.append(qiskit_dir)"
   ]
  },
  {
   "cell_type": "code",
   "execution_count": 2,
   "metadata": {
    "ExecuteTime": {
     "end_time": "2018-11-03T09:53:53.127570Z",
     "start_time": "2018-11-03T09:53:51.836476Z"
    }
   },
   "outputs": [],
   "source": [
    "from qiskit import Aer, QuantumRegister, ClassicalRegister, QuantumCircuit, execute\n",
    "from qiskit.transpiler._parallel import parallel_map\n",
    "from qiskit.transpiler._progressbar import TextProgressBar\n",
    "from qiskit.wrapper.jupyter import *"
   ]
  },
  {
   "cell_type": "code",
   "execution_count": 3,
   "metadata": {
    "ExecuteTime": {
     "end_time": "2018-11-03T09:53:53.132070Z",
     "start_time": "2018-11-03T09:53:53.129617Z"
    }
   },
   "outputs": [],
   "source": [
    "def func(_):\n",
    "    time.sleep(0.1)\n",
    "    return 0"
   ]
  },
  {
   "cell_type": "markdown",
   "metadata": {},
   "source": [
    "## Test HTMLProgressBar"
   ]
  },
  {
   "cell_type": "code",
   "execution_count": 4,
   "metadata": {
    "ExecuteTime": {
     "end_time": "2018-11-03T09:53:53.520903Z",
     "start_time": "2018-11-03T09:53:53.134115Z"
    }
   },
   "outputs": [
    {
     "data": {
      "application/vnd.jupyter.widget-view+json": {
       "model_id": "84f9b17fe9b34c29a45d977a0dedc755",
       "version_major": 2,
       "version_minor": 0
      },
      "text/plain": [
       "VBox(children=(HTML(value=''), IntProgress(value=0, bar_style='info', max=10)))"
      ]
     },
     "metadata": {},
     "output_type": "display_data"
    }
   ],
   "source": [
    "HTMLProgressBar()\n",
    "parallel_map(func, list(range(10)));"
   ]
  },
  {
   "cell_type": "markdown",
   "metadata": {},
   "source": [
    "## Test magic with HTMLProgessBar"
   ]
  },
  {
   "cell_type": "code",
   "execution_count": 5,
   "metadata": {
    "ExecuteTime": {
     "end_time": "2018-11-03T09:53:54.018993Z",
     "start_time": "2018-11-03T09:53:53.528751Z"
    }
   },
   "outputs": [
    {
     "data": {
      "application/vnd.jupyter.widget-view+json": {
       "model_id": "9453de919ba9403985c81a725c06767a",
       "version_major": 2,
       "version_minor": 0
      },
      "text/plain": [
       "VBox(children=(HTML(value=''), IntProgress(value=0, bar_style='info', max=10)))"
      ]
     },
     "metadata": {},
     "output_type": "display_data"
    }
   ],
   "source": [
    "%%qiskit_progress_bar\n",
    "parallel_map(func, list(range(10)));"
   ]
  },
  {
   "cell_type": "markdown",
   "metadata": {},
   "source": [
    "## Test TextProgressBar"
   ]
  },
  {
   "cell_type": "code",
   "execution_count": 6,
   "metadata": {
    "ExecuteTime": {
     "end_time": "2018-11-03T09:53:54.473481Z",
     "start_time": "2018-11-03T09:53:54.022567Z"
    }
   },
   "outputs": [
    {
     "name": "stdout",
     "output_type": "stream",
     "text": [
      "|██████████████████████████████████████████████████| 10/10 [00:00:00:00]\n"
     ]
    }
   ],
   "source": [
    "TextProgressBar()\n",
    "parallel_map(func, list(range(10)));"
   ]
  },
  {
   "cell_type": "markdown",
   "metadata": {},
   "source": [
    "## Test magic with TextProgessBar"
   ]
  },
  {
   "cell_type": "code",
   "execution_count": 7,
   "metadata": {
    "ExecuteTime": {
     "end_time": "2018-11-03T09:53:54.822742Z",
     "start_time": "2018-11-03T09:53:54.476627Z"
    }
   },
   "outputs": [
    {
     "name": "stdout",
     "output_type": "stream",
     "text": [
      "|██████████████████████████████████████████████████| 10/10 [00:00:00:00]\n"
     ]
    }
   ],
   "source": [
    "%%qiskit_progress_bar -t text\n",
    "parallel_map(func, list(range(10)));"
   ]
  },
  {
   "cell_type": "markdown",
   "metadata": {},
   "source": [
    "## Test job status magic"
   ]
  },
  {
   "cell_type": "code",
   "execution_count": 8,
   "metadata": {
    "ExecuteTime": {
     "end_time": "2018-11-03T09:53:55.355923Z",
     "start_time": "2018-11-03T09:53:54.826577Z"
    }
   },
   "outputs": [
    {
     "data": {
      "application/vnd.jupyter.widget-view+json": {
       "model_id": "78325728b1bf4efabf23b84786bdae6a",
       "version_major": 2,
       "version_minor": 0
      },
      "text/plain": [
       "VBox(children=(HTML(value=\"<p style='font-size:16px;'>Job Status : job is actively running </p>\"),))"
      ]
     },
     "metadata": {},
     "output_type": "display_data"
    }
   ],
   "source": [
    "%%qiskit_job_status\n",
    "q = QuantumRegister(2)\n",
    "c = ClassicalRegister(2)\n",
    "qc = QuantumCircuit(q, c)\n",
    "\n",
    "qc.h(q[0])\n",
    "qc.cx(q[0], q[1])\n",
    "qc.measure(q, c)\n",
    "\n",
    "backend = Aer.get_backend('qasm_simulator')\n",
    "job_sim = execute([qc]*10, backend)"
   ]
  },
  {
   "cell_type": "code",
   "execution_count": null,
   "metadata": {},
   "outputs": [],
   "source": []
  }
 ],
 "metadata": {
  "kernelspec": {
   "display_name": "Python 3",
   "language": "python",
   "name": "python3"
  },
  "language_info": {
   "codemirror_mode": {
    "name": "ipython",
    "version": 3
   },
   "file_extension": ".py",
   "mimetype": "text/x-python",
   "name": "python",
   "nbconvert_exporter": "python",
   "pygments_lexer": "ipython3",
   "version": "3.7.0"
  }
 },
 "nbformat": 4,
 "nbformat_minor": 2
}
