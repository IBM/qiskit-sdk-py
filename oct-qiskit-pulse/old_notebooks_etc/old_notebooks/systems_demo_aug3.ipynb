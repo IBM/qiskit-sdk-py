{
 "cells": [
  {
   "cell_type": "code",
   "execution_count": 65,
   "outputs": [],
   "source": [
    "import numpy as np\n",
    "\n",
    "import qiskit\n",
    "from qiskit import IBMQ, QuantumRegister, ClassicalRegister, assemble\n",
    "from qiskit.extensions import UnitaryGate\n",
    "from qiskit.providers.aer import PulseSimulator, Aer, QasmSimulator\n",
    "from qiskit.providers.aer.noise import NoiseModel\n",
    "from qiskit.providers.aer.pulse import PulseSystemModel, hamiltonian_model\n",
    "from qiskit.test.mock import FakeArmonk\n",
    "from qiskit.tools import job_monitor\n",
    "from src.helper import qutip_ham_converter\n",
    "from src.qoc_instruction_schedule_map import QOCInstructionScheduleMap\n",
    "from src.QutipOptimizer import QutipOptimizer"
   ],
   "metadata": {
    "collapsed": false,
    "pycharm": {
     "name": "#%%\n"
    }
   }
  },
  {
   "cell_type": "code",
   "execution_count": 66,
   "outputs": [
    {
     "name": "stderr",
     "output_type": "stream",
     "text": [
      "ibmqfactory.load_account:WARNING:2020-08-06 13:57:27,793: Credentials are already in use. The existing account in the session will be replaced.\n"
     ]
    }
   ],
   "source": [
    "IBMQ.load_account()\n",
    "\n",
    "# provider = IBMQ.get_provider(hub='ibm-q', group='open', project='main')\n",
    "provider = IBMQ.get_provider(hub='ibm-q-internal', group='deployed', project='default')\n",
    "real_armonk_backend = provider.get_backend('ibmq_armonk')\n",
    "fake_armonk_backend = FakeArmonk()"
   ],
   "metadata": {
    "collapsed": false,
    "pycharm": {
     "name": "#%%\n"
    }
   }
  },
  {
   "cell_type": "code",
   "execution_count": 67,
   "outputs": [
    {
     "data": {
      "text/plain": "0.07188793042715262"
     },
     "execution_count": 67,
     "metadata": {},
     "output_type": "execute_result"
    }
   ],
   "source": [
    "omegad0 = getattr(real_armonk_backend.configuration(), 'hamiltonian')['vars']['omegad0']\n",
    "omegad0"
   ],
   "metadata": {
    "collapsed": false,
    "pycharm": {
     "name": "#%%\n"
    }
   }
  },
  {
   "cell_type": "code",
   "execution_count": 68,
   "outputs": [],
   "source": [
    "#set armonk sim parameters\n",
    "omegad0 = 31919806.545849085\n",
    "\n",
    "# omegad0 = 0.07\n",
    "omegad0 = omegad0 * .5 * 1e9\n",
    "# make sure to print omegad0 and wq0\n",
    "getattr(fake_armonk_backend.configuration(), 'hamiltonian')['vars']['omegad0'] = omegad0\n",
    "freq_est = 4.97445401836326e9\n",
    "fake_armonk_backend.configuration().qubit_freq_est=[freq_est]\n",
    "getattr(fake_armonk_backend.configuration(), 'hamiltonian')['vars']['wq0'] = 2*np.pi*freq_est\n",
    "fake_armonk_model = PulseSystemModel.from_backend(fake_armonk_backend)"
   ],
   "metadata": {
    "collapsed": false,
    "pycharm": {
     "name": "#%%\n"
    }
   }
  },
  {
   "cell_type": "code",
   "execution_count": 69,
   "outputs": [],
   "source": [
    "# fake_armonk_backend=real_armonk_backend"
   ],
   "metadata": {
    "collapsed": false,
    "pycharm": {
     "name": "#%%\n"
    }
   }
  },
  {
   "cell_type": "code",
   "execution_count": 70,
   "outputs": [],
   "source": [
    "# Instantiate grape optimizer with armonk backend\n",
    "grape_optimizer = QutipOptimizer(fake_armonk_backend, n_ts=320)\n",
    "\n",
    "# Create new QocInstructionScheduleMap with this optimizer\n",
    "def_inst = ['measure']\n",
    "builtin_instructions = fake_armonk_backend.defaults().instruction_schedule_map\n",
    "grape_inst_map = QOCInstructionScheduleMap.from_inst_map(grape_optimizer, builtin_instructions,\n",
    "                                                         default_inst=def_inst)\n"
   ],
   "metadata": {
    "collapsed": false,
    "pycharm": {
     "name": "#%%\n"
    }
   }
  },
  {
   "cell_type": "code",
   "execution_count": 71,
   "outputs": [],
   "source": [
    "# choose random phi for u3 rotation\n",
    "phi = np.random.random_sample(1)\n",
    "theta = np.random.random_sample(1)\n",
    "lamb = np.random.random_sample(1)\n",
    "phi = phi[0] * np.pi\n",
    "# phi = np.pi"
   ],
   "metadata": {
    "collapsed": false,
    "pycharm": {
     "name": "#%%\n"
    }
   }
  },
  {
   "cell_type": "code",
   "execution_count": 72,
   "outputs": [
    {
     "data": {
      "text/plain": "<qiskit.circuit.instructionset.InstructionSet at 0x7fee57dce670>"
     },
     "execution_count": 72,
     "metadata": {},
     "output_type": "execute_result"
    }
   ],
   "source": [
    "# create circuit\n",
    "q = QuantumRegister(1)\n",
    "c = ClassicalRegister(1)\n",
    "circ = qiskit.QuantumCircuit(q, c)\n",
    "# add an x gate using u3\n",
    "circ.x(q)\n",
    "# circ.h(q)\n",
    "# circ.u3(phi,0,phi, q)\n",
    "# circ.u3(theta,phi,lamb, q)\n",
    "# add measurement pulse\n",
    "circ.measure([0],[0])"
   ],
   "metadata": {
    "collapsed": false,
    "pycharm": {
     "name": "#%%\n"
    }
   }
  },
  {
   "cell_type": "code",
   "execution_count": 73,
   "outputs": [
    {
     "name": "stdout",
     "output_type": "stream",
     "text": [
      "gate hit\n"
     ]
    }
   ],
   "source": [
    "# construct the schedule from the circuit using the grape instruction_schedule_map\n",
    "grape_schedule = qiskit.schedule(circ, inst_map = grape_inst_map,\n",
    "                        meas_map = fake_armonk_backend.configuration().meas_map)"
   ],
   "metadata": {
    "collapsed": false,
    "pycharm": {
     "name": "#%%\n"
    }
   }
  },
  {
   "cell_type": "code",
   "execution_count": 74,
   "outputs": [
    {
     "name": "stdout",
     "output_type": "stream",
     "text": [
      "changed instruction to instruction.name\n"
     ]
    }
   ],
   "source": [
    "# now compare to the default\n",
    "default_schedule = qiskit.schedule(circ, inst_map = builtin_instructions,\n",
    "                        meas_map = fake_armonk_backend.configuration().meas_map)"
   ],
   "metadata": {
    "collapsed": false,
    "pycharm": {
     "name": "#%%\n"
    }
   }
  },
  {
   "cell_type": "code",
   "execution_count": 75,
   "outputs": [
    {
     "data": {
      "text/plain": "16640"
     },
     "execution_count": 75,
     "metadata": {},
     "output_type": "execute_result"
    }
   ],
   "source": [
    "grape_schedule.duration\n",
    "default_schedule.duration"
   ],
   "metadata": {
    "collapsed": false,
    "pycharm": {
     "name": "#%%\n"
    }
   }
  },
  {
   "cell_type": "code",
   "execution_count": 76,
   "outputs": [],
   "source": [
    "# grape_schedule.draw(plot_range=[0,2000], label=True)"
   ],
   "metadata": {
    "collapsed": false,
    "pycharm": {
     "name": "#%%\n"
    }
   }
  },
  {
   "cell_type": "code",
   "execution_count": 77,
   "outputs": [],
   "source": [
    "# default_schedule.draw(plot_range=[0,2000], label=True)\n",
    "# grape_schedule.draw(label=True, scaling=0.8)"
   ],
   "metadata": {
    "collapsed": false,
    "pycharm": {
     "name": "#%%\n"
    }
   }
  },
  {
   "cell_type": "code",
   "execution_count": 78,
   "outputs": [],
   "source": [
    "# assemble qobj for job submission\n",
    "backend_sim = PulseSimulator(configuration=fake_armonk_backend.configuration)\n",
    "\n",
    "grape_qobj = assemble(grape_schedule,\n",
    "                      backend=backend_sim,\n",
    "                      qubit_lo_freq=[freq_est],\n",
    "                      meas_level=2,\n",
    "                      meas_return='single',\n",
    "                      shots=1024)\n",
    "\n",
    "default_qobj = assemble(default_schedule,\n",
    "                      backend=backend_sim,\n",
    "                      qubit_lo_freq=[freq_est],\n",
    "                      meas_level=2,\n",
    "                      meas_return='single',\n",
    "                      shots=1024)"
   ],
   "metadata": {
    "collapsed": false,
    "pycharm": {
     "name": "#%%\n"
    }
   }
  },
  {
   "cell_type": "code",
   "execution_count": 79,
   "outputs": [],
   "source": [
    "sim_result = backend_sim.run(grape_qobj, fake_armonk_model).result()\n",
    "def_sim_result = backend_sim.run(default_qobj, fake_armonk_model).result()\n",
    "# sim_result.get_counts()"
   ],
   "metadata": {
    "collapsed": false,
    "pycharm": {
     "name": "#%%\n"
    }
   }
  },
  {
   "cell_type": "code",
   "execution_count": 80,
   "outputs": [],
   "source": [
    "noise_model = NoiseModel()\n",
    "noise_model.add_basis_gates(['unitary'])\n",
    "ideal_job = qiskit.execute(circ, QasmSimulator(),\n",
    "                           basis_gates=noise_model.basis_gates)\n",
    "# ideal_job.result().get_counts()\n",
    "\n"
   ],
   "metadata": {
    "collapsed": false,
    "pycharm": {
     "name": "#%%\n"
    }
   }
  },
  {
   "cell_type": "code",
   "execution_count": 81,
   "outputs": [],
   "source": [
    "num_shots = 1024"
   ],
   "metadata": {
    "collapsed": false,
    "pycharm": {
     "name": "#%%\n"
    }
   }
  },
  {
   "cell_type": "code",
   "execution_count": 82,
   "outputs": [],
   "source": [
    "armonk_qobj = assemble(grape_schedule,\n",
    "                      backend=real_armonk_backend,\n",
    "                      qubit_lo_freq=[freq_est],\n",
    "                      meas_level=2,\n",
    "                      meas_return='single',\n",
    "                      shots=num_shots)\n",
    "real_job = real_armonk_backend.run(armonk_qobj)\n",
    "job_id = real_job._job_id"
   ],
   "metadata": {
    "collapsed": false,
    "pycharm": {
     "name": "#%%\n"
    }
   }
  },
  {
   "cell_type": "code",
   "execution_count": 83,
   "outputs": [],
   "source": [
    "def_armonk_qobj = assemble(default_schedule,\n",
    "                      backend=real_armonk_backend,\n",
    "                      qubit_lo_freq=[freq_est],\n",
    "                      meas_level=2,\n",
    "                      meas_return='single',\n",
    "                      shots=num_shots)\n",
    "def_real_job = real_armonk_backend.run(def_armonk_qobj)\n",
    "def_job_id = def_real_job._job_id"
   ],
   "metadata": {
    "collapsed": false,
    "pycharm": {
     "name": "#%%\n"
    }
   }
  }
 ],
 "metadata": {
  "kernelspec": {
   "display_name": "Python 3",
   "language": "python",
   "name": "python3"
  },
  "language_info": {
   "codemirror_mode": {
    "name": "ipython",
    "version": 2
   },
   "file_extension": ".py",
   "mimetype": "text/x-python",
   "name": "python",
   "nbconvert_exporter": "python",
   "pygments_lexer": "ipython2",
   "version": "2.7.6"
  }
 },
 "nbformat": 4,
 "nbformat_minor": 0
}