{
 "cells": [
  {
   "cell_type": "code",
   "execution_count": 22,
   "metadata": {
    "collapsed": true
   },
   "outputs": [],
   "source": [
    "import qiskit\n",
    "from qiskit.providers.aer import PulseSimulator\n",
    "from qiskit.providers.aer.pulse import PulseSystemModel\n",
    "import numpy as np\n",
    "\n",
    "from qiskit import IBMQ, pulse, QuantumCircuit, QuantumRegister, ClassicalRegister, assemble\n",
    "from qiskit.providers.aer.pulse.hamiltonian_model import HamiltonianModel\n",
    "from qiskit.quantum_info import Operator, Pauli\n",
    "from qiskit.tools.monitor import job_monitor\n",
    "from qutip import Qobj\n",
    "from src.qoc_instruction_schedule_map import QOCInstructionScheduleMap\n",
    "from qiskit.test.mock import FakeArmonk\n",
    "from src.qutip_helper import convert_qutip_ham\n",
    "from src.QutipOptimizer import QutipOptimizer, prefactor_parser"
   ]
  },
  {
   "cell_type": "code",
   "execution_count": 23,
   "outputs": [
    {
     "name": "stderr",
     "output_type": "stream",
     "text": [
      "ibmqfactory.load_account:WARNING:2020-08-18 17:40:20,722: Credentials are already in use. The existing account in the session will be replaced.\n"
     ]
    }
   ],
   "source": [
    "IBMQ.load_account()\n",
    "\n",
    "# provider = IBMQ.get_provider(hub='ibm-q', group='open', project='main')\n",
    "provider = IBMQ.get_provider(hub='ibm-q-internal', group='deployed', project='default')\n",
    "real_backend = provider.get_backend('ibmq_athens')\n",
    "# backend = FakeArmonk()\n",
    "backend = real_backend"
   ],
   "metadata": {
    "collapsed": false,
    "pycharm": {
     "name": "#%%\n"
    }
   }
  },
  {
   "cell_type": "markdown",
   "source": [
    "\\begin{align} \\mathcal{H}/\\hbar = & \\sum_{i=0}^{0}\\left(\\frac{\\omega_{q,i}}{2}(\\mathbb{I}-\\sigma_i^{z})+\\frac{\\Delta_{i}}{2}(O_i^2-O_i)+\\Omega_{d,i}D_i(t)\\sigma_i^{X}\\right) \\\\ \\end{align}"
   ],
   "metadata": {
    "collapsed": false,
    "pycharm": {
     "name": "#%% md\n"
    }
   }
  },
  {
   "cell_type": "code",
   "execution_count": 24,
   "outputs": [],
   "source": [
    "omegad0 = getattr(real_backend.configuration(), 'hamiltonian')['vars']['omegad0']\n",
    "omegad0 = omegad0 * .5"
   ],
   "metadata": {
    "collapsed": false,
    "pycharm": {
     "name": "#%%\n"
    }
   }
  },
  {
   "cell_type": "code",
   "execution_count": 25,
   "outputs": [],
   "source": [
    "#set armonk sim parameters\n",
    "\n",
    "# omegad0 = omegad0 * 1e-44."
   ],
   "metadata": {
    "collapsed": false,
    "pycharm": {
     "name": "#%%\n"
    }
   }
  },
  {
   "cell_type": "code",
   "execution_count": 26,
   "outputs": [
    {
     "data": {
      "text/plain": "{'description': 'Qubits are modeled as Duffing oscillators. In this case, the system includes higher energy states, i.e. not just |0> and |1>. The Pauli operators are generalized via the following set of transformations:\\n\\n$(\\\\mathbb{I}-\\\\sigma_{i}^z)/2 \\\\rightarrow O_i \\\\equiv b^\\\\dagger_{i} b_{i}$,\\n\\n$\\\\sigma_{+} \\\\rightarrow b^\\\\dagger$,\\n\\n$\\\\sigma_{-} \\\\rightarrow b$,\\n\\n$\\\\sigma_{i}^X \\\\rightarrow b^\\\\dagger_{i} + b_{i}$.\\n\\nQubits are coupled through resonator buses. The provided Hamiltonian has been projected into the zero excitation subspace of the resonator buses leading to an effective qubit-qubit flip-flop interaction. The qubit resonance frequencies in the Hamiltonian are the cavity dressed frequencies and not exactly what is returned by the backend defaults, which also includes the dressing due to the qubit-qubit interactions.\\n\\nQuantities are returned in angular frequencies, with units 2*pi*GHz.\\n\\nWARNING: Currently not all system Hamiltonian information is available to the public, missing values have been replaced with 0.\\n',\n 'h_latex': '\\\\begin{align} \\\\mathcal{H}/\\\\hbar = & \\\\sum_{i=0}^{4}\\\\left(\\\\frac{\\\\omega_{q,i}}{2}(\\\\mathbb{I}-\\\\sigma_i^{z})+\\\\frac{\\\\Delta_{i}}{2}(O_i^2-O_i)+\\\\Omega_{d,i}D_i(t)\\\\sigma_i^{X}\\\\right) \\\\\\\\ & + J_{1,2}(\\\\sigma_{1}^{+}\\\\sigma_{2}^{-}+\\\\sigma_{1}^{-}\\\\sigma_{2}^{+}) + J_{3,4}(\\\\sigma_{3}^{+}\\\\sigma_{4}^{-}+\\\\sigma_{3}^{-}\\\\sigma_{4}^{+}) + J_{0,1}(\\\\sigma_{0}^{+}\\\\sigma_{1}^{-}+\\\\sigma_{0}^{-}\\\\sigma_{1}^{+}) + J_{2,3}(\\\\sigma_{2}^{+}\\\\sigma_{3}^{-}+\\\\sigma_{2}^{-}\\\\sigma_{3}^{+}) \\\\\\\\ & + \\\\Omega_{d,0}(U_{0}^{(0,1)}(t))\\\\sigma_{0}^{X} + \\\\Omega_{d,1}(U_{1}^{(1,0)}(t)+U_{2}^{(1,2)}(t))\\\\sigma_{1}^{X} \\\\\\\\ & + \\\\Omega_{d,2}(U_{3}^{(2,1)}(t)+U_{4}^{(2,3)}(t))\\\\sigma_{2}^{X} + \\\\Omega_{d,3}(U_{6}^{(3,4)}(t)+U_{5}^{(3,2)}(t))\\\\sigma_{3}^{X} \\\\\\\\ & + \\\\Omega_{d,4}(U_{7}^{(4,3)}(t))\\\\sigma_{4}^{X} \\\\\\\\ \\\\end{align}',\n 'h_str': ['_SUM[i,0,4,wq{i}/2*(I{i}-Z{i})]',\n  '_SUM[i,0,4,delta{i}/2*O{i}*O{i}]',\n  '_SUM[i,0,4,-delta{i}/2*O{i}]',\n  '_SUM[i,0,4,omegad{i}*X{i}||D{i}]',\n  'jq1q2*Sp1*Sm2',\n  'jq1q2*Sm1*Sp2',\n  'jq3q4*Sp3*Sm4',\n  'jq3q4*Sm3*Sp4',\n  'jq0q1*Sp0*Sm1',\n  'jq0q1*Sm0*Sp1',\n  'jq2q3*Sp2*Sm3',\n  'jq2q3*Sm2*Sp3',\n  'omegad1*X0||U0',\n  'omegad0*X1||U1',\n  'omegad2*X1||U2',\n  'omegad1*X2||U3',\n  'omegad3*X2||U4',\n  'omegad4*X3||U6',\n  'omegad2*X3||U5',\n  'omegad3*X4||U7'],\n 'osc': {},\n 'qub': {'0': 3, '1': 3, '2': 3, '3': 3, '4': 3},\n 'vars': {'delta0': -2.1117934764003934,\n  'delta1': -2.0894421352015744,\n  'delta2': -2.1179183671068604,\n  'delta3': -2.0410045431261215,\n  'delta4': -2.1119885565086776,\n  'jq0q1': 0.010495754104003914,\n  'jq1q2': 0.01078171551120001,\n  'jq2q3': 0.008920779377814226,\n  'jq3q4': 0.008985191651087791,\n  'omegad0': 0.4772678001006175,\n  'omegad1': 0.4818259553960528,\n  'omegad2': 0.497220721643611,\n  'omegad3': 0.48324203357185597,\n  'omegad4': 0.48279719671063626,\n  'wq0': 32.51916996872005,\n  'wq1': 33.09884965901385,\n  'wq2': 31.742973252674417,\n  'wq3': 30.51333895347833,\n  'wq4': 32.16102649667611}}"
     },
     "execution_count": 26,
     "metadata": {},
     "output_type": "execute_result"
    }
   ],
   "source": [
    "backend.configuration().hamiltonian"
   ],
   "metadata": {
    "collapsed": false,
    "pycharm": {
     "name": "#%%\n"
    }
   }
  },
  {
   "cell_type": "code",
   "execution_count": 27,
   "outputs": [],
   "source": [
    "# omegad0 = 0.07\n",
    "# make sure to print omegad0 and wq0\n",
    "# omegad0 = 31919806.545849085\n",
    "getattr(backend.configuration(), 'hamiltonian')['vars']['omegad0'] = omegad0\n",
    "# freq_est = 4.97445401836326e9\n",
    "# freq_est = 97445401836326e9\n",
    "# backend.configuration().qubit_freq_est=[freq_est]\n",
    "# getattr(backend.configuration(), 'hamiltonian')['vars']['wq0'] = 2*np.pi*freq_est * 1e-11\n",
    "# getattr(backend.configuration(), 'hamiltonian')['vars']['wq0'] = 0.0000000001"
   ],
   "metadata": {
    "collapsed": false,
    "pycharm": {
     "name": "#%%\n"
    }
   }
  },
  {
   "cell_type": "code",
   "execution_count": 28,
   "outputs": [],
   "source": [
    "grape_optimizer = QutipOptimizer(backend, n_ts=800, two_level=True)\n",
    "builtin_instructions = backend.defaults().instruction_schedule_map\n",
    "\n",
    "qoc_inst_map = QOCInstructionScheduleMap.from_inst_map(grape_optimizer,builtin_instructions)"
   ],
   "metadata": {
    "collapsed": false,
    "pycharm": {
     "name": "#%%\n"
    }
   }
  },
  {
   "cell_type": "code",
   "execution_count": 29,
   "outputs": [],
   "source": [
    "q = QuantumRegister(1)\n",
    "c = ClassicalRegister(1)\n",
    "\n",
    "circ = QuantumCircuit(5)\n",
    "\n",
    "circ.h(3)\n",
    "circ.measure_all()"
   ],
   "metadata": {
    "collapsed": false,
    "pycharm": {
     "name": "#%%\n"
    }
   }
  },
  {
   "cell_type": "code",
   "execution_count": 30,
   "outputs": [],
   "source": [
    "# backend = provider.get_backend('ibmq_valencia')"
   ],
   "metadata": {
    "collapsed": false,
    "pycharm": {
     "name": "#%%\n"
    }
   }
  },
  {
   "cell_type": "code",
   "execution_count": 31,
   "outputs": [],
   "source": [
    "# job = qiskit.execute(circ,backend=backend, shots=8192, inst_map=qoc_inst_map, schedule_circuit=True)"
   ],
   "metadata": {
    "collapsed": false,
    "pycharm": {
     "name": "#%%\n"
    }
   }
  },
  {
   "cell_type": "code",
   "execution_count": 32,
   "outputs": [],
   "source": [
    "# def_job = qiskit.execute(circ,backend=backend, shots=8192)"
   ],
   "metadata": {
    "collapsed": false,
    "pycharm": {
     "name": "#%%\n"
    }
   }
  },
  {
   "cell_type": "code",
   "execution_count": 33,
   "outputs": [],
   "source": [
    "# job_monitor(job)\n",
    "# job.result().get_counts()"
   ],
   "metadata": {
    "collapsed": false,
    "pycharm": {
     "name": "#%%\n"
    }
   }
  },
  {
   "cell_type": "code",
   "execution_count": 34,
   "outputs": [],
   "source": [
    "# def_job.result().get_counts()"
   ],
   "metadata": {
    "collapsed": false,
    "pycharm": {
     "name": "#%%\n"
    }
   }
  },
  {
   "cell_type": "code",
   "execution_count": 35,
   "outputs": [],
   "source": [
    "# for i in 'asdf':print(i)"
   ],
   "metadata": {
    "collapsed": false,
    "pycharm": {
     "name": "#%%\n"
    }
   }
  },
  {
   "cell_type": "code",
   "execution_count": 36,
   "outputs": [],
   "source": [
    "def state_converter(counts):\n",
    "    qb_dict = {a:0 for a in [0,1,2,3,4]}\n",
    "    for state in counts.keys():\n",
    "        for i,ind in enumerate(state):\n",
    "            if ind == '1':\n",
    "                qb_dict[4 - i] += counts[state]\n",
    "    return qb_dict"
   ],
   "metadata": {
    "collapsed": false,
    "pycharm": {
     "name": "#%%\n"
    }
   }
  },
  {
   "cell_type": "code",
   "execution_count": 37,
   "outputs": [
    {
     "ename": "NameError",
     "evalue": "name 'def_job' is not defined",
     "output_type": "error",
     "traceback": [
      "\u001B[0;31m---------------------------------------------------------------------------\u001B[0m",
      "\u001B[0;31mNameError\u001B[0m                                 Traceback (most recent call last)",
      "\u001B[0;32m<ipython-input-37-8b69728af97a>\u001B[0m in \u001B[0;36m<module>\u001B[0;34m\u001B[0m\n\u001B[0;32m----> 1\u001B[0;31m \u001B[0mstate_converter\u001B[0m\u001B[0;34m(\u001B[0m\u001B[0mdef_job\u001B[0m\u001B[0;34m.\u001B[0m\u001B[0mresult\u001B[0m\u001B[0;34m(\u001B[0m\u001B[0;34m)\u001B[0m\u001B[0;34m.\u001B[0m\u001B[0mget_counts\u001B[0m\u001B[0;34m(\u001B[0m\u001B[0;34m)\u001B[0m\u001B[0;34m)\u001B[0m\u001B[0;34m\u001B[0m\u001B[0;34m\u001B[0m\u001B[0m\n\u001B[0m\u001B[1;32m      2\u001B[0m \u001B[0;34m\u001B[0m\u001B[0m\n",
      "\u001B[0;31mNameError\u001B[0m: name 'def_job' is not defined"
     ]
    }
   ],
   "source": [
    "state_converter(def_job.result().get_counts())"
   ],
   "metadata": {
    "collapsed": false,
    "pycharm": {
     "name": "#%%\n"
    }
   }
  },
  {
   "cell_type": "code",
   "execution_count": null,
   "outputs": [],
   "source": [
    "state_converter(job.result().get_counts())"
   ],
   "metadata": {
    "collapsed": false,
    "pycharm": {
     "name": "#%%\n"
    }
   }
  },
  {
   "cell_type": "code",
   "execution_count": null,
   "outputs": [],
   "source": [
    "# getattr(backend.configuration(), 'hamiltonian')['vars']['wq0'] = 2*np.pi*freq_est\n",
    "pulse_model = PulseSystemModel.from_backend(backend)\n",
    "\n",
    "grape_schedule = qiskit.schedule(circ, inst_map = qoc_inst_map,\n",
    "                        meas_map = backend.configuration().meas_map)\n",
    "\n",
    "def_trans_circ = qiskit.transpile(circ, basis_gates=backend.configuration().basis_gates)\n",
    "default_schedule = qiskit.schedule(def_trans_circ, inst_map = builtin_instructions,\n",
    "                        meas_map = backend.configuration().meas_map)"
   ],
   "metadata": {
    "collapsed": false,
    "pycharm": {
     "name": "#%%\n"
    }
   }
  },
  {
   "cell_type": "code",
   "execution_count": null,
   "outputs": [],
   "source": [
    "freq_est = backend.defaults().qubit_freq_est"
   ],
   "metadata": {
    "collapsed": false,
    "pycharm": {
     "name": "#%%\n"
    }
   }
  },
  {
   "cell_type": "code",
   "execution_count": null,
   "outputs": [],
   "source": [
    "backend_sim = PulseSimulator(configuration=backend.configuration)\n",
    "\n",
    "grape_qobj = assemble(grape_schedule,\n",
    "                      backend=backend_sim,\n",
    "                      qubit_lo_freq=freq_est,\n",
    "                      meas_level=2,\n",
    "                      meas_return='single',\n",
    "                      shots=1024)"
   ],
   "metadata": {
    "collapsed": false,
    "pycharm": {
     "name": "#%%\n"
    }
   }
  },
  {
   "cell_type": "code",
   "execution_count": null,
   "outputs": [],
   "source": [
    "def_trans_circ = qiskit.transpile(circ, basis_gates=backend.configuration().basis_gates)\n",
    "default_schedule = qiskit.schedule(def_trans_circ, inst_map = builtin_instructions,\n",
    "                        meas_map = backend.configuration().meas_map)\n",
    "\n",
    "\n",
    "# omegad0 = 31919806.545849085\n",
    "# getattr(backend.configuration(), 'hamiltonian')['vars']['omegad0'] = omegad0\n",
    "# getattr(backend.configuration(), 'hamiltonian')['vars']['wq0'] = 2*np.pi*freq_est\n",
    "default_qobj = assemble(default_schedule,\n",
    "                      backend=backend_sim,\n",
    "                      qubit_lo_freq=freq_est,\n",
    "                      meas_level=2,\n",
    "                      meas_return='single',\n",
    "                      shots=1024)"
   ],
   "metadata": {
    "collapsed": false,
    "pycharm": {
     "name": "#%%\n"
    }
   }
  },
  {
   "cell_type": "code",
   "execution_count": null,
   "outputs": [],
   "source": [
    "# sim_result = backend_sim.run(grape_qobj, pulse_model).result()\n",
    "def_sim_result = backend_sim.run(default_qobj, pulse_model)#.result()\n",
    "# print(sim_result.get_counts())\n",
    "# print(def_sim_result.get_counts())"
   ],
   "metadata": {
    "collapsed": false,
    "pycharm": {
     "name": "#%%\n"
    }
   }
  },
  {
   "cell_type": "code",
   "execution_count": null,
   "outputs": [],
   "source": [
    "def_sim_result.result()"
   ],
   "metadata": {
    "collapsed": false,
    "pycharm": {
     "name": "#%%\n"
    }
   }
  },
  {
   "cell_type": "code",
   "execution_count": null,
   "outputs": [],
   "source": [
    "def_sim_result = backend_sim.run(default_qobj, pulse_model).result()\n",
    "def_sim_result.get_counts()"
   ],
   "metadata": {
    "collapsed": false,
    "pycharm": {
     "name": "#%%\n"
    }
   }
  },
  {
   "cell_type": "code",
   "execution_count": null,
   "outputs": [],
   "source": [
    "grape_schedule.draw(plot_range=[0,1000])"
   ],
   "metadata": {
    "collapsed": false,
    "pycharm": {
     "name": "#%%\n"
    }
   }
  },
  {
   "cell_type": "code",
   "execution_count": null,
   "outputs": [],
   "source": [
    "# pretty sure 3d x unitary is gellman [0,1,0], [1,0,0], [0,0,0]\n",
    "num_shots=4096\n",
    "\n",
    "armonk_qobj = assemble(grape_schedule,\n",
    "                      backend=real_backend,\n",
    "                      qubit_lo_freq=[freq_est],\n",
    "                      meas_level=2,\n",
    "                      meas_return='single',\n",
    "                      shots=num_shots)\n",
    "real_job = real_backend.run(armonk_qobj)\n",
    "job_id = real_job._job_id"
   ],
   "metadata": {
    "collapsed": false,
    "pycharm": {
     "name": "#%%\n"
    }
   }
  },
  {
   "cell_type": "code",
   "execution_count": null,
   "outputs": [],
   "source": [
    "job_monitor(real_job)\n",
    "real_job.result().get_counts()"
   ],
   "metadata": {
    "collapsed": false,
    "pycharm": {
     "name": "#%%\n"
    }
   }
  },
  {
   "cell_type": "code",
   "execution_count": null,
   "outputs": [],
   "source": [
    "input_backend = backend\n",
    "hamiltonian_backend = input_backend.configuration().hamiltonian\n",
    "hamiltonian_dict = HamiltonianModel.from_dict(hamiltonian_backend)\n",
    "hamiltonian = {'H_c': {}, 'iH_c': {}, 'H_d': 0}\n",
    "for i, control_field in enumerate(hamiltonian_dict._system):\n",
    "    matrix = (control_field[0])\n",
    "    prefactor, control = prefactor_parser(control_field[1], hamiltonian_dict._variables)\n",
    "    if prefactor == 0:\n",
    "        continue\n",
    "    if control:\n",
    "        print(matrix)\n",
    "        hamiltonian['H_c'][control] = Qobj((matrix * prefactor).full())\n",
    "        hamiltonian['iH_c'][control] = Qobj((complex(0, 1) * matrix * prefactor).full())\n",
    "    elif hamiltonian['H_d'] == 0:\n",
    "        hamiltonian['H_d'] = matrix * prefactor\n",
    "    else:\n",
    "        hamiltonian['H_d'] += matrix * prefactor\n",
    "hamiltonian['H_d'] = Qobj(hamiltonian['H_d'].full())"
   ],
   "metadata": {
    "collapsed": false,
    "pycharm": {
     "name": "#%%\n"
    }
   }
  },
  {
   "cell_type": "code",
   "execution_count": null,
   "outputs": [],
   "source": [
    "hamiltonian"
   ],
   "metadata": {
    "collapsed": false,
    "pycharm": {
     "name": "#%%\n"
    }
   }
  }
 ],
 "metadata": {
  "kernelspec": {
   "name": "python38364bitqutipconda72ab910969ae45118da3f2cef457c161",
   "language": "python",
   "display_name": "Python 3.8.3 64-bit ('qutip': conda)"
  },
  "language_info": {
   "codemirror_mode": {
    "name": "ipython",
    "version": 2
   },
   "file_extension": ".py",
   "mimetype": "text/x-python",
   "name": "python",
   "nbconvert_exporter": "python",
   "pygments_lexer": "ipython2",
   "version": "2.7.6"
  }
 },
 "nbformat": 4,
 "nbformat_minor": 0
}