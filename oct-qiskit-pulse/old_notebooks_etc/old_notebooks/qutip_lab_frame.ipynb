{
 "metadata": {
  "language_info": {
   "codemirror_mode": {
    "name": "ipython",
    "version": 3
   },
   "file_extension": ".py",
   "mimetype": "text/x-python",
   "name": "python",
   "nbconvert_exporter": "python",
   "pygments_lexer": "ipython3",
   "version": "3.8.5-final"
  },
  "orig_nbformat": 2,
  "kernelspec": {
   "name": "python_defaultSpec_1598968496563",
   "display_name": "Python 3.8.5 64-bit ('qoc': conda)"
  }
 },
 "nbformat": 4,
 "nbformat_minor": 2,
 "cells": [
  {
   "cell_type": "code",
   "execution_count": 1,
   "metadata": {
    "tags": []
   },
   "outputs": [
    {
     "output_type": "stream",
     "name": "stdout",
     "text": "/Users/benrosand/oct-qiskit-pulse\n"
    }
   ],
   "source": [
    "cd /Users/benrosand/oct-qiskit-pulse\n"
   ]
  },
  {
   "cell_type": "code",
   "execution_count": 2,
   "metadata": {
    "tags": []
   },
   "outputs": [],
   "source": [
    "from qiskit import IBMQ, pulse, assemble\n",
    "import numpy as np\n",
    "from qiskit.providers.aer.pulse.system_models.hamiltonian_model import HamiltonianModel\n",
    "from qiskit.pulse import Schedule, Play\n",
    "from qiskit.tools import job_monitor\n",
    "from qutip import sigmax, tensor, identity, Qobj\n",
    "from qutip.control.pulseoptim import optimize_pulse_unitary\n",
    "from qutip.qip.device import Processor\n",
    "from src.qutip_helper import convert_qutip_ham\n",
    "import qutip.logging_utils as logging\n",
    "import qutip\n",
    "import math\n",
    "import qutip.control.pulseoptim as cpo\n",
    "\n",
    "from qutip.control import *\n",
    "from qutip import *\n",
    "\n",
    "import datetime"
   ]
  },
  {
   "cell_type": "code",
   "execution_count": 3,
   "metadata": {
    "tags": []
   },
   "outputs": [
    {
     "output_type": "stream",
     "name": "stderr",
     "text": "/Users/benrosand/anaconda3/envs/qoc/lib/python3.8/site-packages/ipykernel/ipkernel.py:287: DeprecationWarning: `should_run_async` will not call `transform_cell` automatically in the future. Please pass the result to `transformed_cell` argument and any exception that happen during thetransform in `preprocessing_exc_tuple` in IPython 7.17 and above.\n  and should_run_async(code)\n"
    }
   ],
   "source": [
    "from src.schedule_helper import channel_finder\n",
    "# subsystem_list=[0,1]\n",
    "subsystem_list=[0]\n",
    "IBMQ.load_account()\n",
    "\n",
    "# provider = IBMQ.get_provider(hub='ibm-q', group='open', project='main')\n",
    "provider = IBMQ.get_provider(hub='ibm-q-internal', group='deployed', project='default')\n",
    "backend = provider.get_backend('ibmq_armonk')"
   ]
  },
  {
   "cell_type": "code",
   "execution_count": 4,
   "metadata": {
    "tags": []
   },
   "outputs": [
    {
     "output_type": "stream",
     "name": "stderr",
     "text": "/Users/benrosand/anaconda3/envs/qoc/lib/python3.8/site-packages/ipykernel/ipkernel.py:287: DeprecationWarning: `should_run_async` will not call `transform_cell` automatically in the future. Please pass the result to `transformed_cell` argument and any exception that happen during thetransform in `preprocessing_exc_tuple` in IPython 7.17 and above.\n  and should_run_async(code)\n"
    },
    {
     "output_type": "execute_result",
     "data": {
      "text/plain": "{'H_c': {'D0': Quantum object: dims = [[3], [3]], shape = (3, 3), type = oper, isherm = True\n  Qobj data =\n  [[0.         0.03593737 0.        ]\n   [0.03593737 0.         0.05082312]\n   [0.         0.05082312 0.        ]]},\n 'iH_c': {},\n 'H_d': Quantum object: dims = [[3], [3]], shape = (3, 3), type = oper, isherm = True\n Qobj data =\n [[ 0.          0.          0.        ]\n  [ 0.         31.25541787  0.        ]\n  [ 0.          0.         62.51083574]]}"
     },
     "metadata": {},
     "execution_count": 4
    }
   ],
   "source": [
    "backend.configuration().hamiltonian['vars']['wq0']\n",
    "ham = convert_qutip_ham(backend, subsystem_list, False)\n",
    "ham\n"
   ]
  },
  {
   "cell_type": "code",
   "execution_count": 5,
   "metadata": {
    "tags": []
   },
   "outputs": [
    {
     "output_type": "stream",
     "name": "stderr",
     "text": "/Users/benrosand/anaconda3/envs/qoc/lib/python3.8/site-packages/ipykernel/ipkernel.py:287: DeprecationWarning: `should_run_async` will not call `transform_cell` automatically in the future. Please pass the result to `transformed_cell` argument and any exception that happen during thetransform in `preprocessing_exc_tuple` in IPython 7.17 and above.\n  and should_run_async(code)\n"
    }
   ],
   "source": [
    "# a= Qobj([[0,1,0],\n",
    "#             [0,0,math.sqrt(2)],\n",
    "#             [0,0,0]])\n",
    "\n",
    "# adag = a.dag()\n",
    "\n",
    "# sigmax_3 = a + adag\n",
    "# sigmay_3 = complex(0,1) * (adag - a)\n",
    "# # sigmaz_3 = \n",
    "\n"
   ]
  },
  {
   "cell_type": "code",
   "execution_count": 6,
   "metadata": {
    "tags": []
   },
   "outputs": [
    {
     "output_type": "stream",
     "name": "stderr",
     "text": "/Users/benrosand/anaconda3/envs/qoc/lib/python3.8/site-packages/ipykernel/ipkernel.py:287: DeprecationWarning: `should_run_async` will not call `transform_cell` automatically in the future. Please pass the result to `transformed_cell` argument and any exception that happen during thetransform in `preprocessing_exc_tuple` in IPython 7.17 and above.\n  and should_run_async(code)\n"
    }
   ],
   "source": [
    "H_d = drift_hamiltonian = ham['H_d']\n",
    "H_c = control_hamiltonians = [ham['H_c']['D0'] * 1e9] \n",
    "# control_hamiltonians = [sigmax_3]"
   ]
  },
  {
   "cell_type": "code",
   "execution_count": 7,
   "metadata": {
    "tags": []
   },
   "outputs": [
    {
     "output_type": "stream",
     "name": "stderr",
     "text": "/Users/benrosand/anaconda3/envs/qoc/lib/python3.8/site-packages/ipykernel/ipkernel.py:287: DeprecationWarning: `should_run_async` will not call `transform_cell` automatically in the future. Please pass the result to `transformed_cell` argument and any exception that happen during thetransform in `preprocessing_exc_tuple` in IPython 7.17 and above.\n  and should_run_async(code)\n"
    }
   ],
   "source": [
    "sigmax_goal = Qobj([[0,1,0],\n",
    "                    [1,0,0],\n",
    "                    [0,0,1]])"
   ]
  },
  {
   "cell_type": "code",
   "execution_count": 45,
   "metadata": {
    "tags": []
   },
   "outputs": [
    {
     "output_type": "stream",
     "name": "stderr",
     "text": "/Users/benrosand/anaconda3/envs/qoc/lib/python3.8/site-packages/ipykernel/ipkernel.py:287: DeprecationWarning: `should_run_async` will not call `transform_cell` automatically in the future. Please pass the result to `transformed_cell` argument and any exception that happen during thetransform in `preprocessing_exc_tuple` in IPython 7.17 and above.\n  and should_run_async(code)\n"
    }
   ],
   "source": [
    "# Duration of each timeslot\n",
    "dt = 0.02\n",
    "# List of evolution times to try\n",
    "evo_times = [1, 3, 6]\n",
    "n_evo_times = len(evo_times)\n",
    "evo_time = evo_times[0]\n",
    "n_ts = int(float(evo_time) / dt)\n",
    "#Empty list that will hold the results for each evolution time\n",
    "results = list()"
   ]
  },
  {
   "cell_type": "code",
   "execution_count": null,
   "metadata": {},
   "outputs": [],
   "source": []
  },
  {
   "cell_type": "code",
   "execution_count": 47,
   "metadata": {
    "tags": []
   },
   "outputs": [
    {
     "output_type": "stream",
     "name": "stderr",
     "text": "/Users/benrosand/anaconda3/envs/qoc/lib/python3.8/site-packages/ipykernel/ipkernel.py:287: DeprecationWarning: `should_run_async` will not call `transform_cell` automatically in the future. Please pass the result to `transformed_cell` argument and any exception that happen during thetransform in `preprocessing_exc_tuple` in IPython 7.17 and above.\n  and should_run_async(code)\n"
    },
    {
     "output_type": "execute_result",
     "data": {
      "text/plain": "Quantum object: dims = [[3], [3]], shape = (3, 3), type = oper, isherm = False\nQobj data =\n[[-0.29590144-0.68457814j -0.53002558+0.18540569j  0.15334614+0.32400259j]\n [-0.52999618+0.18530067j -0.07967596-0.22779329j -0.7472157 +0.26114815j]\n [ 0.15338007+0.32409469j -0.74713574+0.26124272j -0.18836111-0.45770919j]]",
      "text/latex": "Quantum object: dims = [[3], [3]], shape = (3, 3), type = oper, isherm = False\\begin{equation*}\\left(\\begin{array}{*{11}c}(-0.296-0.685j) & (-0.530+0.185j) & (0.153+0.324j)\\\\(-0.530+0.185j) & (-0.080-0.228j) & (-0.747+0.261j)\\\\(0.153+0.324j) & (-0.747+0.261j) & (-0.188-0.458j)\\\\\\end{array}\\right)\\end{equation*}"
     },
     "metadata": {},
     "execution_count": 47
    }
   ],
   "source": [
    "# n_ts = 1280\n",
    "\n",
    "sigmax_3 = Qobj([[0,1,0],[1,0,math.sqrt(2)], [0, math.sqrt(2),0]])\n",
    "\n",
    "# dt = backend.configuration().dt\n",
    "# n_ts = 640 \n",
    "# n_ts = 320\n",
    "# evo_time = np.pi\n",
    "# evo_time = n_ts * dt * 1e9\n",
    "# drift_hamiltonian = drift_hamiltonian * 1e9\n",
    "# control_hamiltonians = [control * 1e9 for control in control_hamiltonians\n",
    "\n",
    "fid_err_targ=1e-20\n",
    "max_iter=2000\n",
    "max_wall_time=120\n",
    "min_grad=1e-20\n",
    "p_type='LIN'\n",
    "alg='GRAPE'\n",
    "\n",
    "log_level = logging.WARN\n",
    "U_0 = identity(3)\n",
    "U_targ = sigmax_goal\n",
    "\n",
    "result = optimize_pulse_unitary(drift_hamiltonian, control_hamiltonians, U_0, U_targ, n_ts,\n",
    "                                evo_time,\n",
    "                                fid_err_targ=fid_err_targ, min_grad=min_grad,\n",
    "                                max_iter=max_iter, max_wall_time=max_wall_time,\n",
    "                                out_file_ext=None, init_pulse_type=p_type,\n",
    "                                log_level=log_level, gen_stats=True, alg=alg,\n",
    "                                amp_lbound=-1, amp_ubound=1, phase_option='PSU')\n",
    "result.evo_full_final"
   ]
  },
  {
   "cell_type": "code",
   "execution_count": 36,
   "metadata": {
    "tags": []
   },
   "outputs": [
    {
     "output_type": "stream",
     "name": "stderr",
     "text": "/Users/benrosand/anaconda3/envs/qoc/lib/python3.8/site-packages/ipykernel/ipkernel.py:287: DeprecationWarning: `should_run_async` will not call `transform_cell` automatically in the future. Please pass the result to `transformed_cell` argument and any exception that happen during thetransform in `preprocessing_exc_tuple` in IPython 7.17 and above.\n  and should_run_async(code)\n"
    }
   ],
   "source": [
    "# Duration of each timeslot\n",
    "dt = 0.05\n",
    "# List of evolution times to try\n",
    "evo_times = [1, 3, 6]\n",
    "n_evo_times = len(evo_times)\n",
    "evo_time = evo_times[0]\n",
    "n_ts = int(float(evo_time) / dt)\n",
    "#Empty list that will hold the results for each evolution time\n",
    "results = list()"
   ]
  },
  {
   "cell_type": "code",
   "execution_count": 37,
   "metadata": {
    "tags": []
   },
   "outputs": [
    {
     "output_type": "stream",
     "name": "stderr",
     "text": "/Users/benrosand/anaconda3/envs/qoc/lib/python3.8/site-packages/ipykernel/ipkernel.py:287: DeprecationWarning: `should_run_async` will not call `transform_cell` automatically in the future. Please pass the result to `transformed_cell` argument and any exception that happen during thetransform in `preprocessing_exc_tuple` in IPython 7.17 and above.\n  and should_run_async(code)\n"
    }
   ],
   "source": [
    "optim = cpo.create_pulse_optimizer(H_d, H_c, U_0, U_targ, n_ts, evo_time, \n",
    "                amp_lbound=-5.0, amp_ubound=5.0, \n",
    "                fid_err_targ=fid_err_targ, min_grad=min_grad, \n",
    "                max_iter=max_iter, max_wall_time=max_wall_time, \n",
    "                optim_method='fmin_l_bfgs_b',\n",
    "                method_params={'max_metric_corr':20, 'accuracy_factor':1e8},\n",
    "                dyn_type='UNIT', \n",
    "                fid_params={'phase_option':'PSU'},\n",
    "                init_pulse_type=p_type, \n",
    "                log_level=log_level, gen_stats=True)\n",
    "\n",
    "# **** get handles to the other objects ****\n",
    "optim.test_out_files = 0\n",
    "dyn = optim.dynamics\n",
    "dyn.test_out_files = 0\n",
    "p_gen = optim.pulse_generator\n",
    "                \n"
   ]
  },
  {
   "cell_type": "code",
   "execution_count": 38,
   "metadata": {
    "tags": []
   },
   "outputs": [
    {
     "output_type": "stream",
     "name": "stderr",
     "text": "/Users/benrosand/anaconda3/envs/qoc/lib/python3.8/site-packages/ipykernel/ipkernel.py:287: DeprecationWarning: `should_run_async` will not call `transform_cell` automatically in the future. Please pass the result to `transformed_cell` argument and any exception that happen during thetransform in `preprocessing_exc_tuple` in IPython 7.17 and above.\n  and should_run_async(code)\n"
    }
   ],
   "source": [
    "n_ctrls=1\n",
    "f_ext=None"
   ]
  },
  {
   "cell_type": "code",
   "execution_count": 39,
   "metadata": {
    "tags": []
   },
   "outputs": [
    {
     "output_type": "stream",
     "name": "stderr",
     "text": "/Users/benrosand/anaconda3/envs/qoc/lib/python3.8/site-packages/ipykernel/ipkernel.py:287: DeprecationWarning: `should_run_async` will not call `transform_cell` automatically in the future. Please pass the result to `transformed_cell` argument and any exception that happen during thetransform in `preprocessing_exc_tuple` in IPython 7.17 and above.\n  and should_run_async(code)\n"
    },
    {
     "output_type": "error",
     "ename": "NameError",
     "evalue": "name 'init_amps' is not defined",
     "traceback": [
      "\u001b[0;31m---------------------------------------------------------------------------\u001b[0m",
      "\u001b[0;31mNameError\u001b[0m                                 Traceback (most recent call last)",
      "\u001b[0;32m<ipython-input-39-0a17a9eadf65>\u001b[0m in \u001b[0;36m<module>\u001b[0;34m\u001b[0m\n\u001b[0;32m----> 1\u001b[0;31m \u001b[0minit_amps\u001b[0m\u001b[0;34m[\u001b[0m\u001b[0;34m:\u001b[0m\u001b[0;34m,\u001b[0m \u001b[0mj\u001b[0m\u001b[0;34m]\u001b[0m\u001b[0;34m\u001b[0m\u001b[0;34m\u001b[0m\u001b[0m\n\u001b[0m\u001b[1;32m      2\u001b[0m \u001b[0mp_gen\u001b[0m\u001b[0;34m.\u001b[0m\u001b[0mgen_pulse\u001b[0m\u001b[0;34m(\u001b[0m\u001b[0;34m)\u001b[0m\u001b[0;34m\u001b[0m\u001b[0;34m\u001b[0m\u001b[0m\n\u001b[1;32m      3\u001b[0m \u001b[0mn_ts\u001b[0m\u001b[0;34m\u001b[0m\u001b[0;34m\u001b[0m\u001b[0m\n\u001b[1;32m      4\u001b[0m \u001b[0;34m\u001b[0m\u001b[0m\n\u001b[1;32m      5\u001b[0m \u001b[0mdyn\u001b[0m\u001b[0;34m\u001b[0m\u001b[0;34m\u001b[0m\u001b[0m\n",
      "\u001b[0;31mNameError\u001b[0m: name 'init_amps' is not defined"
     ]
    }
   ],
   "source": [
    "# init_amps[:, j]\n",
    "p_gen.gen_pulse()\n",
    "n_ts\n",
    "\n",
    "dyn\n"
   ]
  },
  {
   "cell_type": "code",
   "execution_count": 40,
   "metadata": {
    "tags": []
   },
   "outputs": [
    {
     "output_type": "stream",
     "name": "stderr",
     "text": "/Users/benrosand/anaconda3/envs/qoc/lib/python3.8/site-packages/ipykernel/ipkernel.py:287: DeprecationWarning: `should_run_async` will not call `transform_cell` automatically in the future. Please pass the result to `transformed_cell` argument and any exception that happen during thetransform in `preprocessing_exc_tuple` in IPython 7.17 and above.\n  and should_run_async(code)\n0\n***********************************\n\n+++++++++++++++++++++++++++++++++++\nStarting pulse optimisation for T=1\n+++++++++++++++++++++++++++++++++++\n\n\n------------------------------------\n---- Control optimisation stats ----\n**** Timings (HH:MM:SS.US) ****\nTotal wall time elapsed during optimisation: 0:00:00.135305\nWall time computing Hamiltonians: 0:00:00.005210 (3.85%)\nWall time computing propagators: 0:00:00.098497 (72.80%)\nWall time computing forward propagation: 0:00:00.001062 (0.78%)\nWall time computing onward propagation: 0:00:00.001048 (0.77%)\nWall time computing gradient: 0:00:00.007368 (5.45%)\n\n**** Iterations and function calls ****\nNumber of iterations: 21\nNumber of fidelity function calls: 40\nNumber of times fidelity is computed: 40\nNumber of gradient function calls: 40\nNumber of times gradients are computed: 40\nNumber of times timeslot evolution is recomputed: 40\n\n**** Control amplitudes ****\nNumber of control amplitude updates: 39\nMean number of updates per iteration: 1.8571428571428572\nNumber of timeslot values changed: 780\nMean number of timeslot changes per update: 20.0\nNumber of amplitude values changed: 780\nMean number of amplitude changes per update: 20.0\n------------------------------------\nFinal evolution\nQuantum object: dims = [[3], [3]], shape = (3, 3), type = oper, isherm = False\nQobj data =\n[[-1.03595846e-06+4.50504539e-06j  6.31975005e-01-7.74988769e-01j\n   1.29569578e-05-4.12541871e-07j]\n [ 6.31975005e-01-7.74988769e-01j  4.20430971e-06-1.92134076e-06j\n   2.20278126e-06+1.27750371e-05j]\n [ 1.29569578e-05-4.12542000e-07j  2.20278139e-06+1.27750371e-05j\n   6.31993547e-01-7.74973648e-01j]]\n\n********* Summary *****************\nFinal fidelity error 1.8276236080083663e-10\nFinal gradient normal 40.53914064086549\nTerminated due to function converged\nNumber of iterations 21\nCompleted in 0:00:00.135305 HH:MM:SS.US\n1\n"
    },
    {
     "output_type": "error",
     "ename": "ValueError",
     "evalue": "could not broadcast input array from shape (20) into shape (60)",
     "traceback": [
      "\u001b[0;31m---------------------------------------------------------------------------\u001b[0m",
      "\u001b[0;31mValueError\u001b[0m                                Traceback (most recent call last)",
      "\u001b[0;32m<ipython-input-40-5bc510287b9d>\u001b[0m in \u001b[0;36m<module>\u001b[0;34m\u001b[0m\n\u001b[1;32m     18\u001b[0m         \u001b[0;32mfor\u001b[0m \u001b[0mj\u001b[0m \u001b[0;32min\u001b[0m \u001b[0mrange\u001b[0m\u001b[0;34m(\u001b[0m\u001b[0mn_ctrls\u001b[0m\u001b[0;34m)\u001b[0m\u001b[0;34m:\u001b[0m\u001b[0;34m\u001b[0m\u001b[0;34m\u001b[0m\u001b[0m\n\u001b[1;32m     19\u001b[0m             \u001b[0mp_gen\u001b[0m\u001b[0;34m.\u001b[0m\u001b[0mscaling\u001b[0m \u001b[0;34m=\u001b[0m \u001b[0mfloat\u001b[0m\u001b[0;34m(\u001b[0m\u001b[0mj\u001b[0m\u001b[0;34m)\u001b[0m \u001b[0;34m-\u001b[0m \u001b[0mfloat\u001b[0m\u001b[0;34m(\u001b[0m\u001b[0mn_ctrls\u001b[0m \u001b[0;34m-\u001b[0m \u001b[0;36m1\u001b[0m\u001b[0;34m)\u001b[0m\u001b[0;34m/\u001b[0m\u001b[0;36m2\u001b[0m\u001b[0;34m\u001b[0m\u001b[0;34m\u001b[0m\u001b[0m\n\u001b[0;32m---> 20\u001b[0;31m             \u001b[0minit_amps\u001b[0m\u001b[0;34m[\u001b[0m\u001b[0;34m:\u001b[0m\u001b[0;34m,\u001b[0m \u001b[0mj\u001b[0m\u001b[0;34m]\u001b[0m \u001b[0;34m=\u001b[0m \u001b[0mp_gen\u001b[0m\u001b[0;34m.\u001b[0m\u001b[0mgen_pulse\u001b[0m\u001b[0;34m(\u001b[0m\u001b[0;34m)\u001b[0m\u001b[0;34m\u001b[0m\u001b[0;34m\u001b[0m\u001b[0m\n\u001b[0m\u001b[1;32m     21\u001b[0m     \u001b[0;32melif\u001b[0m \u001b[0;34m(\u001b[0m\u001b[0misinstance\u001b[0m\u001b[0;34m(\u001b[0m\u001b[0mp_gen\u001b[0m\u001b[0;34m,\u001b[0m \u001b[0mpulsegen\u001b[0m\u001b[0;34m.\u001b[0m\u001b[0mPulseGenZero\u001b[0m\u001b[0;34m)\u001b[0m\u001b[0;34m)\u001b[0m\u001b[0;34m:\u001b[0m\u001b[0;34m\u001b[0m\u001b[0;34m\u001b[0m\u001b[0m\n\u001b[1;32m     22\u001b[0m         \u001b[0;32mfor\u001b[0m \u001b[0mj\u001b[0m \u001b[0;32min\u001b[0m \u001b[0mrange\u001b[0m\u001b[0;34m(\u001b[0m\u001b[0mn_ctrls\u001b[0m\u001b[0;34m)\u001b[0m\u001b[0;34m:\u001b[0m\u001b[0;34m\u001b[0m\u001b[0;34m\u001b[0m\u001b[0m\n",
      "\u001b[0;31mValueError\u001b[0m: could not broadcast input array from shape (20) into shape (60)"
     ]
    }
   ],
   "source": [
    "for i in range(n_evo_times):\n",
    "    print(i)\n",
    "    # Generate the tau (duration) and time (cumulative) arrays\n",
    "    # so that it can be used to create the pulse generator\n",
    "    # with matching timeslots\n",
    "    dyn.init_timeslots()\n",
    "    if i > 0:\n",
    "        # Create a new pulse generator for the new dynamics\n",
    "        p_gen = pulsegen.create_pulse_gen(p_type, dyn)\n",
    "        \n",
    "    #Generate different initial pulses for each of the controls\n",
    "    init_amps = np.zeros([n_ts, n_ctrls])\n",
    "    if (p_gen.periodic):\n",
    "        phase_diff = np.pi / n_ctrls\n",
    "        for j in range(n_ctrls):\n",
    "            init_amps[:, j] = p_gen.gen_pulse(start_phase=phase_diff*j)\n",
    "    elif (isinstance(p_gen, pulsegen.PulseGenLinear)):\n",
    "        for j in range(n_ctrls):\n",
    "            p_gen.scaling = float(j) - float(n_ctrls - 1)/2\n",
    "            init_amps[:, j] = p_gen.gen_pulse()\n",
    "    elif (isinstance(p_gen, pulsegen.PulseGenZero)):\n",
    "        for j in range(n_ctrls):\n",
    "            p_gen.offset = sf = float(j) - float(n_ctrls - 1)/2\n",
    "            init_amps[:, j] = p_gen.gen_pulse()\n",
    "    else:\n",
    "        # Should be random pulse\n",
    "        for j in range(n_ctrls):\n",
    "            init_amps[:, j] = p_gen.gen_pulse()\n",
    "    \n",
    "    dyn.initialize_controls(init_amps)\n",
    "    \n",
    "    # Save initial amplitudes to a text file\n",
    "    if f_ext is not None:\n",
    "        pulsefile = \"ctrl_amps_initial_\" + f_ext\n",
    "        dyn.save_amps(pulsefile)\n",
    "        print(\"Initial amplitudes output to file: \" + pulsefile)\n",
    "\n",
    "    print(\"***********************************\")\n",
    "    print(\"\\n+++++++++++++++++++++++++++++++++++\")\n",
    "    print(\"Starting pulse optimisation for T={}\".format(evo_time))\n",
    "    print(\"+++++++++++++++++++++++++++++++++++\\n\")\n",
    "    result = optim.run_optimization()\n",
    "    results.append(result)\n",
    "\n",
    "    # Save final amplitudes to a text file\n",
    "    if f_ext is not None:\n",
    "        pulsefile = \"ctrl_amps_final_\" + f_ext\n",
    "        dyn.save_amps(pulsefile)\n",
    "        print(\"Final amplitudes output to file: \" + pulsefile)\n",
    "    \n",
    "    # Report the results\n",
    "    result.stats.report()\n",
    "    print(\"Final evolution\\n{}\\n\".format(result.evo_full_final))\n",
    "    print(\"********* Summary *****************\")\n",
    "    print(\"Final fidelity error {}\".format(result.fid_err))\n",
    "    print(\"Final gradient normal {}\".format(result.grad_norm_final))\n",
    "    print(\"Terminated due to {}\".format(result.termination_reason))\n",
    "    print(\"Number of iterations {}\".format(result.num_iter))\n",
    "    print(\"Completed in {} HH:MM:SS.US\".format(\n",
    "            datetime.timedelta(seconds=result.wall_time)))\n",
    "    \n",
    "    if i+1 < len(evo_times):\n",
    "        # reconfigure the dynamics for the next evo time\n",
    "        evo_time = evo_times[i+1]\n",
    "        n_ts = int(float(evo_time) / dt)\n",
    "        dyn.tau = None\n",
    "        dyn.evo_time = evo_time"
   ]
  },
  {
   "cell_type": "code",
   "execution_count": 41,
   "metadata": {
    "tags": []
   },
   "outputs": [
    {
     "output_type": "stream",
     "name": "stderr",
     "text": "/Users/benrosand/anaconda3/envs/qoc/lib/python3.8/site-packages/ipykernel/ipkernel.py:287: DeprecationWarning: `should_run_async` will not call `transform_cell` automatically in the future. Please pass the result to `transformed_cell` argument and any exception that happen during thetransform in `preprocessing_exc_tuple` in IPython 7.17 and above.\n  and should_run_async(code)\n"
    },
    {
     "output_type": "execute_result",
     "data": {
      "text/plain": "Quantum object: dims = [[3], [3]], shape = (3, 3), type = oper, isherm = False\nQobj data =\n[[-1.03595846e-06+4.50504539e-06j  6.31975005e-01-7.74988769e-01j\n   1.29569578e-05-4.12541871e-07j]\n [ 6.31975005e-01-7.74988769e-01j  4.20430971e-06-1.92134076e-06j\n   2.20278126e-06+1.27750371e-05j]\n [ 1.29569578e-05-4.12542000e-07j  2.20278139e-06+1.27750371e-05j\n   6.31993547e-01-7.74973648e-01j]]",
      "text/latex": "Quantum object: dims = [[3], [3]], shape = (3, 3), type = oper, isherm = False\\begin{equation*}\\left(\\begin{array}{*{11}c}(-1.036\\times10^{-06}+4.505\\times10^{-06}j) & (0.632-0.775j) & (1.296\\times10^{-05}-4.125\\times10^{-07}j)\\\\(0.632-0.775j) & (4.204\\times10^{-06}-1.921\\times10^{-06}j) & (2.203\\times10^{-06}+1.278\\times10^{-05}j)\\\\(1.296\\times10^{-05}-4.125\\times10^{-07}j) & (2.203\\times10^{-06}+1.278\\times10^{-05}j) & (0.632-0.775j)\\\\\\end{array}\\right)\\end{equation*}"
     },
     "metadata": {},
     "execution_count": 41
    }
   ],
   "source": [
    "result.evo_full_final"
   ]
  },
  {
   "cell_type": "code",
   "execution_count": 42,
   "metadata": {
    "tags": []
   },
   "outputs": [
    {
     "output_type": "stream",
     "name": "stderr",
     "text": "/Users/benrosand/anaconda3/envs/qoc/lib/python3.8/site-packages/ipykernel/ipkernel.py:287: DeprecationWarning: `should_run_async` will not call `transform_cell` automatically in the future. Please pass the result to `transformed_cell` argument and any exception that happen during thetransform in `preprocessing_exc_tuple` in IPython 7.17 and above.\n  and should_run_async(code)\n"
    },
    {
     "output_type": "error",
     "ename": "AttributeError",
     "evalue": "'OptimResult' object has no attribute 'H_t'",
     "traceback": [
      "\u001b[0;31m---------------------------------------------------------------------------\u001b[0m",
      "\u001b[0;31mAttributeError\u001b[0m                            Traceback (most recent call last)",
      "\u001b[0;32m<ipython-input-42-b9f4a242c507>\u001b[0m in \u001b[0;36m<module>\u001b[0;34m\u001b[0m\n\u001b[1;32m      1\u001b[0m \u001b[0mc_ops\u001b[0m \u001b[0;34m=\u001b[0m \u001b[0;34m[\u001b[0m\u001b[0;34m]\u001b[0m\u001b[0;34m\u001b[0m\u001b[0;34m\u001b[0m\u001b[0m\n\u001b[0;32m----> 2\u001b[0;31m \u001b[0mU_f_numerical\u001b[0m \u001b[0;34m=\u001b[0m \u001b[0mpropagator\u001b[0m\u001b[0;34m(\u001b[0m\u001b[0mresult\u001b[0m\u001b[0;34m.\u001b[0m\u001b[0mH_t\u001b[0m\u001b[0;34m,\u001b[0m \u001b[0mtimes\u001b[0m\u001b[0;34m[\u001b[0m\u001b[0;34m-\u001b[0m\u001b[0;36m1\u001b[0m\u001b[0;34m]\u001b[0m\u001b[0;34m,\u001b[0m \u001b[0mc_ops\u001b[0m\u001b[0;34m,\u001b[0m \u001b[0margs\u001b[0m\u001b[0;34m=\u001b[0m\u001b[0;34m{\u001b[0m\u001b[0;34m}\u001b[0m\u001b[0;34m)\u001b[0m\u001b[0;34m\u001b[0m\u001b[0;34m\u001b[0m\u001b[0m\n\u001b[0m\u001b[1;32m      3\u001b[0m \u001b[0mU_f_numerical\u001b[0m\u001b[0;34m\u001b[0m\u001b[0;34m\u001b[0m\u001b[0m\n",
      "\u001b[0;31mAttributeError\u001b[0m: 'OptimResult' object has no attribute 'H_t'"
     ]
    }
   ],
   "source": [
    "\n",
    "\n",
    "c_ops = []\n",
    "U_f_numerical = propagator(result.H_t, times[-1], c_ops, args={})\n",
    "U_f_numerical"
   ]
  },
  {
   "cell_type": "code",
   "execution_count": 43,
   "metadata": {
    "tags": []
   },
   "outputs": [
    {
     "output_type": "stream",
     "name": "stderr",
     "text": "/Users/benrosand/anaconda3/envs/qoc/lib/python3.8/site-packages/ipykernel/ipkernel.py:287: DeprecationWarning: `should_run_async` will not call `transform_cell` automatically in the future. Please pass the result to `transformed_cell` argument and any exception that happen during thetransform in `preprocessing_exc_tuple` in IPython 7.17 and above.\n  and should_run_async(code)\n"
    }
   ],
   "source": [
    "from qutip import propagator"
   ]
  }
 ]
}