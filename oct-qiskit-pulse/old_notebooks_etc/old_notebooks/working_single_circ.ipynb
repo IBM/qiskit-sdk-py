{
 "cells": [
  {
   "cell_type": "code",
   "execution_count": 217,
   "outputs": [],
   "source": [
    "\n",
    "from qiskit.circuit import Gate"
   ],
   "metadata": {
    "collapsed": false,
    "pycharm": {
     "name": "#%%\n"
    }
   }
  },
  {
   "cell_type": "code",
   "execution_count": 218,
   "outputs": [],
   "source": [
    "import qiskit\n",
    "from qiskit.providers.aer.pulse import PulseSystemModel\n",
    "from qutip import sigmax\n",
    "from qutip.control.grape import _overlap\n",
    "# from notebooks.qiskit_scripts import pulse_to_gate_1q\n",
    "from notebooks.qutip_wrapper import qutip_optimize_wrapper, qutip_simulate_wrapper\n",
    "%matplotlib inline\n",
    "# import matplotlib.pyplot as plt\n",
    "import numpy as np\n",
    "# import datetime\n",
    "# from qutip_wrapper import qutip_optimize_wrapper, qutip_simulate_wrapper\n",
    "from notebooks.qiskit_scripts import *\n",
    "# from qutip import identity, sigmax, sigmaz, sigmay, hadamard_transform\n",
    "\n",
    "from qiskit.tools.qi.qi import outer"
   ],
   "metadata": {
    "collapsed": false,
    "pycharm": {
     "name": "#%%\n"
    }
   }
  },
  {
   "cell_type": "code",
   "execution_count": 219,
   "outputs": [
    {
     "name": "stderr",
     "output_type": "stream",
     "text": [
      "ibmqfactory.load_account:WARNING:2020-07-29 16:51:00,303: Credentials are already in use. The existing account in the session will be replaced.\n"
     ]
    }
   ],
   "source": [
    "from qiskit import IBMQ, pulse, ClassicalRegister, QuantumRegister\n",
    "from qiskit.circuit import QuantumCircuit\n",
    "from qiskit.pulse import Play\n",
    "\n",
    "IBMQ.load_account()\n",
    "\n",
    "provider = IBMQ.get_provider(hub='ibm-q', group='open', project='main')\n",
    "backend = provider.get_backend('ibmq_armonk')\n",
    "armonk_backend = backend"
   ],
   "metadata": {
    "collapsed": false,
    "pycharm": {
     "name": "#%%\n"
    }
   }
  },
  {
   "cell_type": "code",
   "execution_count": 220,
   "outputs": [
    {
     "name": "stdout",
     "output_type": "stream",
     "text": [
      "Final evolution\n",
      "Quantum object: dims = [[2], [2]], shape = (2, 2), type = oper, isherm = False\n",
      "Qobj data =\n",
      "[[-2.52544713e-06-2.92248508e-06j  9.90742286e-01-1.35756113e-01j]\n",
      " [ 9.90742029e-01-1.35757989e-01j  1.64620941e-06-3.49410888e-06j]]\n",
      "\n"
     ]
    }
   ],
   "source": [
    "freq_est = 4974450442.586346\n",
    "omegad0 = 31919806.545849085\n",
    "dt = armonk_backend.configuration().dt\n",
    "wq0 = 2 * np.pi * freq_est\n",
    "\n",
    "scale_factor = 1e4\n",
    "n_ts = int(1600)\n",
    "evo_time = dt * n_ts * scale_factor\n",
    "delta=wq0/16\n",
    "# delta=0\n",
    "# default_delta = wq0/16\n",
    "delta_freq = delta / 2 / np.pi\n",
    "phase=np.pi/3\n",
    "optimized_pulse_seq, qutip_result = qutip_optimize_wrapper(delta/scale_factor, omegad0/scale_factor, evo_time, n_ts, final_evo=True, target='sigmax', p_type='RND')"
   ],
   "metadata": {
    "collapsed": false,
    "pycharm": {
     "name": "#%%\n"
    }
   }
  },
  {
   "cell_type": "code",
   "execution_count": null,
   "outputs": [],
   "source": [
    "delta"
   ],
   "metadata": {
    "collapsed": false,
    "pycharm": {
     "name": "#%%\n"
    }
   }
  },
  {
   "cell_type": "code",
   "execution_count": 222,
   "outputs": [],
   "source": [
    "getattr(armonk_backend.configuration(), 'hamiltonian')['vars']['omegad0'] = omegad0\n",
    "getattr(armonk_backend.configuration(), 'hamiltonian')['vars']['wq0'] = wq0\n",
    "\n",
    "\n",
    "armonk_backend.configuration().qubit_lo_freq=[freq_est - delta_freq]"
   ],
   "metadata": {
    "collapsed": false,
    "pycharm": {
     "name": "#%%\n"
    }
   }
  },
  {
   "cell_type": "code",
   "execution_count": 223,
   "outputs": [
    {
     "name": "stderr",
     "output_type": "stream",
     "text": [
      "/Users/benrosand/anaconda3/envs/qutip/lib/python3.8/site-packages/qiskit/pulse/pulse_lib/sample_pulse.py:149: DeprecationWarning: Calling `SamplePulse` with a channel is deprecated. Instantiate the new `Play` instruction directly with a pulse and a channel. In this case, please use: `Play(SamplePulse(samples), DriveChannel(0))`.\n",
      "  warnings.warn(\"Calling `{}` with a channel is deprecated. Instantiate the new `Play` \"\n",
      "/Users/benrosand/anaconda3/envs/qutip/lib/python3.8/site-packages/qiskit/pulse/pulse_lib/pulse.py:46: DeprecationWarning: Calling `SamplePulse` with a channel is deprecated. Instantiate the new `Play` instruction directly with a pulse and a channel. In this case, please use: `Play(SamplePulse(array([-1.+0.j, -1.+0.j, -1.+0.j, ..., -1.+0.j, -1.+0.j, -1.+0.j])), DriveChannel(0))`.\n",
      "  warnings.warn(\"Calling `{}` with a channel is deprecated. Instantiate the new `Play` \"\n",
      "/Users/benrosand/anaconda3/envs/qutip/lib/python3.8/site-packages/qiskit/providers/models/pulsedefaults.py:283: DeprecationWarning: The `circuit_instruction_map` attribute has been renamed to `instruction_schedule_map`.\n",
      "  warnings.warn(\"The `circuit_instruction_map` attribute has been renamed to \"\n"
     ]
    }
   ],
   "source": [
    "gate, inst_map = pulse_to_gate_1q(backend, pulse.SamplePulse(optimized_pulse_seq))\n",
    "pulse_aer_backend = qiskit.providers.aer.PulseSimulator(\n",
    "    configuration=armonk_backend.configuration())\n",
    "armonk_model = PulseSystemModel.from_backend(armonk_backend)"
   ],
   "metadata": {
    "collapsed": false,
    "pycharm": {
     "name": "#%%\n"
    }
   }
  },
  {
   "cell_type": "code",
   "execution_count": 224,
   "outputs": [],
   "source": [
    "#NOTE we removed measurement for qpt?\n",
    "q = QuantumRegister(1)\n",
    "c = ClassicalRegister(1)\n",
    "my_circ = qiskit.QuantumCircuit(q, c)\n",
    "my_circ.append(gate,q)\n",
    "# my_circ.x(q)\n",
    "my_circ.measure([0], [0])\n",
    "\n",
    "small_transp_circ = qiskit.transpile(my_circ, backend=armonk_backend, basis_gates=armonk_backend.configuration().basis_gates + ['opt_gate'])\n",
    "small_gate_sched = qiskit.schedule(small_transp_circ, inst_map=inst_map, backend=pulse_aer_backend, meas_map=[[0]])\n",
    "\n",
    "program = assemble(small_gate_sched, backend=armonk_backend, meas_level=2, meas_return='single',\n",
    "                   shots=4096, qubit_lo_freq=[freq_est-delta_freq])\n",
    "#\n",
    "job = qiskit.execute(small_gate_sched, pulse_aer_backend, shots=4096, system_model=armonk_model)\n",
    "# prog_job = qiskit.execute(program, pulse_aer_backend, shots=4096, system_model=armonk_model)\n",
    "prog_job = pulse_aer_backend.run(program,armonk_model)"
   ],
   "metadata": {
    "collapsed": false,
    "pycharm": {
     "name": "#%%\n"
    }
   }
  },
  {
   "cell_type": "code",
   "execution_count": 225,
   "outputs": [
    {
     "data": {
      "text/plain": "{'0': 1917, '1': 2179}"
     },
     "execution_count": 225,
     "metadata": {},
     "output_type": "execute_result"
    }
   ],
   "source": [
    "# job.result().get_counts()\n",
    "prog_job.result().get_counts()"
   ],
   "metadata": {
    "collapsed": false,
    "pycharm": {
     "name": "#%%\n"
    }
   }
  }
 ],
 "metadata": {
  "kernelspec": {
   "name": "python38364bitqutipconda72ab910969ae45118da3f2cef457c161",
   "language": "python",
   "display_name": "Python 3.8.3 64-bit ('qutip': conda)"
  },
  "language_info": {
   "codemirror_mode": {
    "name": "ipython",
    "version": 2
   },
   "file_extension": ".py",
   "mimetype": "text/x-python",
   "name": "python",
   "nbconvert_exporter": "python",
   "pygments_lexer": "ipython2",
   "version": "2.7.6"
  }
 },
 "nbformat": 4,
 "nbformat_minor": 0
}