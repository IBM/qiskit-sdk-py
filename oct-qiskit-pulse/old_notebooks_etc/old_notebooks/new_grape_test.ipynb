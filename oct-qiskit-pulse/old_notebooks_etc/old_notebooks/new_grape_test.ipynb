{
 "cells": [
  {
   "cell_type": "code",
   "execution_count": 16,
   "outputs": [],
   "source": [
    "from collections import defaultdict\n",
    "import qiskit\n",
    "from qiskit.circuit.library import XGate\n",
    "from qiskit.providers.aer import PulseSimulator\n",
    "from qiskit.providers.aer.pulse import PulseSystemModel\n",
    "from qiskit.providers.aer.pulse.hamiltonian_model import HamiltonianModel\n",
    "from qiskit.providers.aer.pulse.qobj.opparse import HamiltonianParser\n",
    "from qutip import identity, Qobj, sigmax\n",
    "import numpy as np\n",
    "\n",
    "from src.prefactor_parsing import prefactor_parser\n",
    "from qiskit import IBMQ, pulse, QuantumCircuit, QuantumRegister, ClassicalRegister, assemble\n",
    "from src.prefactor_parsing import prefactor_parser\n",
    "from src.qoc_instruction_schedule_map import QOCInstructionScheduleMap\n",
    "from qiskit.test.mock import FakeArmonk\n",
    "from src.qutip_helper import convert_qutip_ham\n",
    "from src.QutipOptimizer import QutipOptimizer"
   ],
   "metadata": {
    "collapsed": false,
    "pycharm": {
     "name": "#%%\n"
    }
   }
  },
  {
   "cell_type": "code",
   "execution_count": 17,
   "outputs": [
    {
     "name": "stderr",
     "output_type": "stream",
     "text": [
      "ibmqfactory.load_account:WARNING:2020-08-07 17:28:26,056: Credentials are already in use. The existing account in the session will be replaced.\n"
     ]
    }
   ],
   "source": [
    "IBMQ.load_account()\n",
    "\n",
    "# provider = IBMQ.get_provider(hub='ibm-q', group='open', project='main')\n",
    "provider = IBMQ.get_provider(hub='ibm-q-internal', group='deployed', project='default')\n",
    "backend = provider.get_backend('ibmq_armonk')\n",
    "backend = FakeArmonk()"
   ],
   "metadata": {
    "collapsed": false,
    "pycharm": {
     "name": "#%%\n"
    }
   }
  },
  {
   "cell_type": "code",
   "execution_count": 18,
   "outputs": [],
   "source": [
    "omegad0 = getattr(backend.configuration(), 'hamiltonian')['vars']['omegad0']\n",
    "omegad0 = omegad0 * .5 * 1e9\n",
    "\n",
    "omegad0 = 31919806.545849085\n",
    "\n",
    "getattr(backend.configuration(), 'hamiltonian')['vars']['omegad0'] = omegad0\n",
    "freq_est = 4.97445401836326e9\n",
    "backend.configuration().qubit_freq_est=[freq_est]\n",
    "getattr(backend.configuration(), 'hamiltonian')['vars']['wq0'] = 2*np.pi*freq_est"
   ],
   "metadata": {
    "collapsed": false,
    "pycharm": {
     "name": "#%%\n"
    }
   }
  },
  {
   "cell_type": "code",
   "execution_count": 19,
   "outputs": [
    {
     "data": {
      "text/plain": "{'H_c': {'D0': Quantum object: dims = [[2], [2]], shape = (2, 2), type = oper, isherm = True\n  Qobj data =\n  [[       0.         31919806.54584908]\n   [31919806.54584908        0.        ]]},\n 'iH_c': {'D0': Quantum object: dims = [[2], [2]], shape = (2, 2), type = oper, isherm = False\n  Qobj data =\n  [[0.       +0.j         0.+31919806.54584908j]\n   [0.+31919806.54584908j 0.       +0.j        ]]},\n 'H_d': Quantum object: dims = [[2], [2]], shape = (2, 2), type = oper, isherm = True\n Qobj data =\n [[0.00000000e+00 0.00000000e+00]\n  [0.00000000e+00 3.12554164e+10]]}"
     },
     "execution_count": 19,
     "metadata": {},
     "output_type": "execute_result"
    }
   ],
   "source": [
    "hamiltonian = convert_qutip_ham(backend)\n",
    "hamiltonian"
   ],
   "metadata": {
    "collapsed": false,
    "pycharm": {
     "name": "#%%\n"
    }
   }
  },
  {
   "cell_type": "code",
   "execution_count": 19,
   "outputs": [],
   "source": [],
   "metadata": {
    "collapsed": false,
    "pycharm": {
     "name": "#%%\n"
    }
   }
  },
  {
   "cell_type": "code",
   "execution_count": 20,
   "outputs": [],
   "source": [
    "grape_optimizer = QutipOptimizer(backend, n_ts=1600)"
   ],
   "metadata": {
    "collapsed": false,
    "pycharm": {
     "name": "#%%\n"
    }
   }
  },
  {
   "cell_type": "code",
   "execution_count": 21,
   "outputs": [
    {
     "name": "stdout",
     "output_type": "stream",
     "text": [
      "[-0.7         0.42361043]\n",
      "[0.7        0.54042808]\n"
     ]
    }
   ],
   "source": [
    "result = grape_optimizer.run_optimizer(unitary=Qobj(XGate().to_matrix()))"
   ],
   "metadata": {
    "collapsed": false,
    "pycharm": {
     "name": "#%%\n"
    }
   }
  },
  {
   "cell_type": "code",
   "execution_count": 22,
   "outputs": [
    {
     "data": {
      "text/plain": "[Quantum object: dims = [[2], [2]], shape = (2, 2), type = oper, isherm = True\n Qobj data =\n [[       0.         31919806.54584908]\n  [31919806.54584908        0.        ]],\n Quantum object: dims = [[2], [2]], shape = (2, 2), type = oper, isherm = False\n Qobj data =\n [[0.       +0.j         0.+31919806.54584908j]\n  [0.+31919806.54584908j 0.       +0.j        ]]]"
     },
     "execution_count": 22,
     "metadata": {},
     "output_type": "execute_result"
    }
   ],
   "source": [
    "grape_optimizer.hamiltonian\n",
    "grape_optimizer.controls"
   ],
   "metadata": {
    "collapsed": false,
    "pycharm": {
     "name": "#%%\n"
    }
   }
  }
 ],
 "metadata": {
  "kernelspec": {
   "display_name": "Python 3",
   "language": "python",
   "name": "python3"
  },
  "language_info": {
   "codemirror_mode": {
    "name": "ipython",
    "version": 2
   },
   "file_extension": ".py",
   "mimetype": "text/x-python",
   "name": "python",
   "nbconvert_exporter": "python",
   "pygments_lexer": "ipython2",
   "version": "2.7.6"
  }
 },
 "nbformat": 4,
 "nbformat_minor": 0
}