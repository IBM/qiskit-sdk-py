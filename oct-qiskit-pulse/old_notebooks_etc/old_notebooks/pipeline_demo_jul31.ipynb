{
 "cells": [
  {
   "cell_type": "code",
   "execution_count": 3,
   "metadata": {},
   "outputs": [],
   "source": [
    "import numpy as np\n",
    "\n",
    "import qiskit\n",
    "from qiskit import IBMQ, QuantumRegister, ClassicalRegister, assemble\n",
    "from qiskit.extensions import UnitaryGate\n",
    "from qiskit.providers.aer import PulseSimulator, Aer, QasmSimulator\n",
    "from qiskit.providers.aer.noise import NoiseModel\n",
    "from qiskit.providers.aer.pulse import PulseSystemModel\n",
    "from qiskit.test.mock import FakeArmonk\n",
    "from qiskit.tools import job_monitor\n",
    "from src.helper import qutip_ham_converter\n",
    "from src.qoc_instruction_schedule_map import QOCInstructionScheduleMap\n",
    "from src.QutipOptimizer import QutipOptimizer\n",
    "\n",
    "IBMQ.load_account()\n",
    "\n",
    "provider = IBMQ.get_provider(hub='ibm-q', group='open', project='main')\n",
    "real_armonk_backend = provider.get_backend('ibmq_armonk')"
   ]
  },
  {
   "cell_type": "code",
   "execution_count": 4,
   "outputs": [],
   "source": [
    "# real_armonk_backend.default"
   ],
   "metadata": {
    "collapsed": false,
    "pycharm": {
     "name": "#%%\n"
    }
   }
  },
  {
   "cell_type": "code",
   "execution_count": 5,
   "metadata": {
    "pycharm": {
     "name": "#%%\n"
    }
   },
   "outputs": [],
   "source": [
    "fake_armonk_backend=FakeArmonk()\n",
    "which_armonk = 'fake'\n",
    "# which_armonk = 'real'\n",
    "# def_x = True\n",
    "# if which_armonk=='real':\n",
    "# fake_armonk_backend=real_armonk_backend\n",
    "# doesn't work with name()'"
   ]
  },
  {
   "cell_type": "code",
   "execution_count": 6,
   "metadata": {
    "pycharm": {
     "name": "#%%\n"
    }
   },
   "outputs": [],
   "source": [
    "# convert hamiltonian from backend to qutip nbformat\n",
    "# hamiltonian = qutip_ham_converter(fake_armonk_backend)\n",
    "\n",
    "# Instantiate grape optimizer with this hamiltonian\n",
    "grape_optimizer = QutipOptimizer(fake_armonk_backend)\n",
    "\n",
    "# Create new QOCInstructionScheduleMap with this optimizer\n",
    "grape_inst_map = QOCInstructionScheduleMap(grape_optimizer)"
   ]
  },
  {
   "cell_type": "code",
   "execution_count": 7,
   "metadata": {
    "pycharm": {
     "name": "#%%\n"
    }
   },
   "outputs": [],
   "source": [
    "# add measurement map to grape_inst_map\n",
    "# this isn't long term sol, for measurement probably just use getter or something in instantiation\n",
    "grape_inst_map._map['measure'] = fake_armonk_backend.defaults().instruction_schedule_map._map['measure']\n",
    "# grape_inst_map._map['MEAS'] = fake_armonk_backend.defaults().instruction_schedule_map._map['MEAS']\n",
    "grape_inst_map._qubit_instructions = fake_armonk_backend.defaults().instruction_schedule_map._qubit_instructions\n",
    "# grape_inst_map = fake_armonk_backend.defaults().instruction_schedule_map"
   ]
  },
  {
   "cell_type": "code",
   "execution_count": 8,
   "metadata": {
    "pycharm": {
     "name": "#%%\n"
    }
   },
   "outputs": [
    {
     "data": {
      "text/plain": "array([[ 0.10032203+0.95502284j, -0.26220766-0.09546728j],\n       [-0.21919403-0.1726871j , -0.86480991+0.41741702j]])"
     },
     "execution_count": 8,
     "metadata": {},
     "output_type": "execute_result"
    }
   ],
   "source": [
    "# create a random gate for testing\n",
    "rand_gate = UnitaryGate(qiskit.quantum_info.random_unitary(2,2))\n",
    "rand_gate.to_matrix()"
   ]
  },
  {
   "cell_type": "code",
   "execution_count": 9,
   "metadata": {
    "pycharm": {
     "name": "#%%\n"
    }
   },
   "outputs": [
    {
     "data": {
      "text/plain": "<qiskit.circuit.instructionset.InstructionSet at 0x7fc935f23cd0>"
     },
     "execution_count": 9,
     "metadata": {},
     "output_type": "execute_result"
    }
   ],
   "source": [
    "# Create circuit\n",
    "q = QuantumRegister(1)\n",
    "c = ClassicalRegister(1)\n",
    "circ = qiskit.QuantumCircuit(q, c)\n",
    "\n",
    "# Add the X gate\n",
    "# circ.x(q)\n",
    "# circ.x(q)\n",
    "# # circ.h(q)\n",
    "circ.u3(np.pi,0,np.pi,q)\n",
    "\n",
    "# circ.append(rand_gate, q)\n",
    "\n",
    "# Add the measurement pulse\n",
    "circ.measure([0], [0])"
   ]
  },
  {
   "cell_type": "code",
   "execution_count": 10,
   "metadata": {
    "pycharm": {
     "name": "#%%\n"
    }
   },
   "outputs": [],
   "source": [
    "# set the drive strength\n",
    "omegad0 = 31919806.545849085\n",
    "# omegad0/ 2 / np.pi"
   ]
  },
  {
   "cell_type": "code",
   "execution_count": 11,
   "outputs": [],
   "source": [
    "getattr(fake_armonk_backend.configuration(), 'hamiltonian')['vars']['omegad0'] = omegad0\n",
    "\n",
    "\n",
    "# set the qubit frequency\n",
    "freq_est = 4.97445401836326e9\n",
    "fake_armonk_backend.configuration().qubit_freq_est=[freq_est]\n",
    "getattr(fake_armonk_backend.configuration(), 'hamiltonian')['vars']['wq0'] = 2*np.pi*freq_est"
   ],
   "metadata": {
    "collapsed": false,
    "pycharm": {
     "name": "#%%\n"
    }
   }
  },
  {
   "cell_type": "code",
   "execution_count": 12,
   "metadata": {
    "pycharm": {
     "name": "#%%\n"
    }
   },
   "outputs": [],
   "source": [
    "# generate model from backend\n",
    "armonk_model = PulseSystemModel.from_backend(fake_armonk_backend)"
   ]
  },
  {
   "cell_type": "code",
   "execution_count": 13,
   "metadata": {
    "pycharm": {
     "name": "#%%\n"
    }
   },
   "outputs": [
    {
     "name": "stderr",
     "output_type": "stream",
     "text": [
      "INFO:qutip.control.dynamics:Setting memory optimisations for level 0\n",
      "INFO:qutip.control.dynamics:Internal operator data type choosen to be <class 'numpy.ndarray'>\n",
      "INFO:qutip.control.dynamics:phased dynamics generator caching True\n",
      "INFO:qutip.control.dynamics:propagator gradient caching True\n",
      "INFO:qutip.control.dynamics:eigenvector adjoint caching True\n",
      "INFO:qutip.control.dynamics:use sparse eigen decomp False\n",
      "INFO:qutip.control.pulseoptim:System configuration:\n",
      "Drift Hamiltonian:\n",
      "Quantum object: dims = [[2], [2]], shape = (2, 2), type = oper, isherm = True\n",
      "Qobj data =\n",
      "[[0. 0.]\n",
      " [0. 0.]]\n",
      "Control 1 Hamiltonian:\n",
      "Quantum object: dims = [[2], [2]], shape = (2, 2), type = oper, isherm = True\n",
      "Qobj data =\n",
      "[[   0.         3191.98065458]\n",
      " [3191.98065458    0.        ]]\n",
      "Control 2 Hamiltonian:\n",
      "Quantum object: dims = [[2], [2]], shape = (2, 2), type = oper, isherm = True\n",
      "Qobj data =\n",
      "[[0.   +0.j         0.-3191.98065458j]\n",
      " [0.+3191.98065458j 0.   +0.j        ]]\n",
      "Initial state / operator:\n",
      "Quantum object: dims = [[2], [2]], shape = (2, 2), type = oper, isherm = True\n",
      "Qobj data =\n",
      "[[1. 0.]\n",
      " [0. 1.]]\n",
      "Target state / operator:\n",
      "Quantum object: dims = [[2], [2]], shape = (2, 2), type = oper, isherm = True\n",
      "Qobj data =\n",
      "[[ 6.123234e-17+0.00000000e+00j  1.000000e+00-1.22464680e-16j]\n",
      " [ 1.000000e+00+0.00000000e+00j -6.123234e-17+7.49879891e-33j]]\n",
      "INFO:qutip.control.optimizer:Optimising pulse(s) using GRAPE with 'fmin_l_bfgs_b' method\n"
     ]
    },
    {
     "name": "stdout",
     "output_type": "stream",
     "text": [
      "gate hit\n"
     ]
    }
   ],
   "source": [
    "# construct the schedule from the circuit using the grape instruction_schedule_map\n",
    "grape_schedule = qiskit.schedule(circ, inst_map = grape_inst_map,\n",
    "                        meas_map = fake_armonk_backend.configuration().meas_map)"
   ]
  },
  {
   "cell_type": "code",
   "execution_count": 14,
   "metadata": {
    "pycharm": {
     "name": "#%%\n"
    }
   },
   "outputs": [],
   "source": [
    "# assemble qobj for job submission\n",
    "backend_sim = PulseSimulator(configuration=fake_armonk_backend.configuration)\n",
    "\n",
    "grape_qobj = assemble(grape_schedule,\n",
    "                      backend=backend_sim,\n",
    "                      qubit_lo_freq=[freq_est],\n",
    "                      meas_level=2,\n",
    "                      meas_return='single',\n",
    "                      shots=1024)"
   ]
  },
  {
   "cell_type": "code",
   "execution_count": 15,
   "metadata": {
    "pycharm": {
     "name": "#%%\n"
    }
   },
   "outputs": [
    {
     "data": {
      "text/plain": "{'1': 1024}"
     },
     "execution_count": 15,
     "metadata": {},
     "output_type": "execute_result"
    }
   ],
   "source": [
    "sim_result = backend_sim.run(grape_qobj, armonk_model).result()\n",
    "sim_result.get_counts()"
   ]
  },
  {
   "cell_type": "code",
   "execution_count": 16,
   "metadata": {
    "pycharm": {
     "name": "#%%\n"
    }
   },
   "outputs": [
    {
     "data": {
      "text/plain": "{'1': 1024}"
     },
     "execution_count": 16,
     "metadata": {},
     "output_type": "execute_result"
    }
   ],
   "source": [
    "noise_model = NoiseModel()\n",
    "noise_model.add_basis_gates(['unitary'])\n",
    "ideal_job = qiskit.execute(circ, QasmSimulator(),\n",
    "                           basis_gates=noise_model.basis_gates)\n",
    "ideal_job.result().get_counts()"
   ]
  },
  {
   "cell_type": "code",
   "execution_count": 17,
   "metadata": {
    "pycharm": {
     "name": "#%%\n"
    }
   },
   "outputs": [
    {
     "ename": "NameError",
     "evalue": "name 'real_armonk_backend' is not defined",
     "output_type": "error",
     "traceback": [
      "\u001B[0;31m---------------------------------------------------------------------------\u001B[0m",
      "\u001B[0;31mNameError\u001B[0m                                 Traceback (most recent call last)",
      "\u001B[0;32m<ipython-input-17-ac9d8805ce29>\u001B[0m in \u001B[0;36m<module>\u001B[0;34m\u001B[0m\n\u001B[1;32m      1\u001B[0m \u001B[0;31m# now we run it on the real armonk\u001B[0m\u001B[0;34m\u001B[0m\u001B[0;34m\u001B[0m\u001B[0;34m\u001B[0m\u001B[0m\n\u001B[1;32m      2\u001B[0m armonk_qobj = assemble(grape_schedule,\n\u001B[0;32m----> 3\u001B[0;31m                       \u001B[0mbackend\u001B[0m\u001B[0;34m=\u001B[0m\u001B[0mreal_armonk_backend\u001B[0m\u001B[0;34m,\u001B[0m\u001B[0;34m\u001B[0m\u001B[0;34m\u001B[0m\u001B[0m\n\u001B[0m\u001B[1;32m      4\u001B[0m                       \u001B[0mqubit_lo_freq\u001B[0m\u001B[0;34m=\u001B[0m\u001B[0;34m[\u001B[0m\u001B[0mfreq_est\u001B[0m\u001B[0;34m]\u001B[0m\u001B[0;34m,\u001B[0m\u001B[0;34m\u001B[0m\u001B[0;34m\u001B[0m\u001B[0m\n\u001B[1;32m      5\u001B[0m                       \u001B[0mmeas_level\u001B[0m\u001B[0;34m=\u001B[0m\u001B[0;36m2\u001B[0m\u001B[0;34m,\u001B[0m\u001B[0;34m\u001B[0m\u001B[0;34m\u001B[0m\u001B[0m\n",
      "\u001B[0;31mNameError\u001B[0m: name 'real_armonk_backend' is not defined"
     ]
    }
   ],
   "source": [
    "# now we run it on the real armonk\n",
    "armonk_qobj = assemble(grape_schedule,\n",
    "                      backend=real_armonk_backend,\n",
    "                      qubit_lo_freq=[freq_est],\n",
    "                      meas_level=2,\n",
    "                      meas_return='single',\n",
    "                      shots=1024)\n",
    "# real_job = real_armonk_backend.run(armonk_qobj)\n",
    "job_id = real_job._job_id"
   ]
  },
  {
   "cell_type": "code",
   "execution_count": null,
   "metadata": {
    "pycharm": {
     "name": "#%%\n"
    }
   },
   "outputs": [],
   "source": [
    "job = real_armonk_backend.retrieve_job(job_id)\n",
    "job_monitor(job)\n",
    "job.result().get_counts()\n",
    "\n",
    "#%\n",
    "\n",
    "print('ideal results: {}'.format(ideal_job.result().get_counts()))\n",
    "print('simulated results: {}'.format(sim_result.get_counts()))\n",
    "# print('real results: {}'.format(real_job.result().get_counts()))\n",
    "print('Grape run on {} backend'.format(which_armonk))\n",
    "print('Used grape gate: {}'.format(not def_x))"
   ]
  },
  {
   "cell_type": "code",
   "execution_count": null,
   "metadata": {
    "pycharm": {
     "name": "#%%\n"
    }
   },
   "outputs": [],
   "source": [
    "# def x gate on real armonk: 0:67, 1:957\n",
    "# grape x gate on real armonk: 0:212, 1:812\n",
    "# see https://qiskit.org/documentation/locale/de_DE/tutorials/pulse/5_pulse_simulator_backend_model.html"
   ]
  }
 ],
 "metadata": {
  "kernelspec": {
   "display_name": "Python 3.8.3 64-bit ('qutip': conda)",
   "language": "python",
   "name": "python38364bitqutipconda72ab910969ae45118da3f2cef457c161"
  },
  "language_info": {
   "codemirror_mode": {
    "name": "ipython",
    "version": 3
   },
   "file_extension": ".py",
   "mimetype": "text/x-python",
   "name": "python",
   "nbconvert_exporter": "python",
   "pygments_lexer": "ipython3",
   "version": "3.8.5"
  }
 },
 "nbformat": 4,
 "nbformat_minor": 1
}