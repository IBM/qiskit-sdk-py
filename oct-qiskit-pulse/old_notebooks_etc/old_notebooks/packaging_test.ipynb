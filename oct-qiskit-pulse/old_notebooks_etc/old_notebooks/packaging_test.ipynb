{
 "cells": [
  {
   "cell_type": "code",
   "execution_count": 1,
   "outputs": [],
   "source": [
    "import qiskit\n",
    "from qiskit import QuantumRegister, ClassicalRegister, assemble\n",
    "from qiskit.circuit import Gate\n",
    "from qiskit.circuit.library import XGate, HGate\n",
    "from qiskit.providers.aer.pulse import PulseSystemModel\n",
    "from src import qoc_instruction_schedule_map\n",
    "from src.QOC_optimizer import QOC_optimizer\n",
    "\n",
    "from qiskit.providers.aer.pulse.hamiltonian_model import HamiltonianModel\n",
    "from qutip import identity, sigmax, sigmaz, sigmay\n",
    "import qutip.control.pulseoptim as cpo\n",
    "import qutip.logging_utils as logging\n",
    "import numpy as np\n",
    "\n",
    "from qutip.qip.device import Processor\n",
    "from qutip.states import basis\n",
    "from qutip.operators import identity"
   ],
   "metadata": {
    "collapsed": false,
    "pycharm": {
     "name": "#%%\n"
    }
   }
  },
  {
   "cell_type": "code",
   "execution_count": 2,
   "outputs": [],
   "source": [
    "import qutip.control.pulseoptim as cpo\n"
   ],
   "metadata": {
    "collapsed": false,
    "pycharm": {
     "name": "#%%\n"
    }
   }
  },
  {
   "cell_type": "code",
   "execution_count": 3,
   "outputs": [],
   "source": [
    "from qiskit import IBMQ, pulse, QuantumCircuit\n",
    "from qiskit.pulse import Play\n",
    "# import qiskit\n",
    "\n",
    "IBMQ.load_account()\n",
    "\n",
    "provider = IBMQ.get_provider(hub='ibm-q', group='open', project='main')\n",
    "backend = provider.get_backend('ibmq_armonk')\n",
    "armonk_backend = backend\n",
    "# original_backend = provider.get_backend('ibmq_armonk')"
   ],
   "metadata": {
    "collapsed": false,
    "pycharm": {
     "name": "#%%\n"
    }
   }
  },
  {
   "cell_type": "code",
   "execution_count": 4,
   "outputs": [
    {
     "data": {
      "text/plain": "'ibmq_armonk'"
     },
     "execution_count": 4,
     "metadata": {},
     "output_type": "execute_result"
    }
   ],
   "source": [
    "armonk_backend.name()"
   ],
   "metadata": {
    "collapsed": false,
    "pycharm": {
     "name": "#%%\n"
    }
   }
  },
  {
   "cell_type": "code",
   "execution_count": 5,
   "outputs": [],
   "source": [
    "\n",
    "# set the qubit frequency\n",
    "# freq_est = 4.97e9\n",
    "freq_est = 4974450442.586346\n",
    "wq0 = 2 * np.pi * freq_est\n",
    "delta = wq0 / 16\n",
    "delta_freq = delta / 2 / np.pi"
   ],
   "metadata": {
    "collapsed": false,
    "pycharm": {
     "name": "#%%\n"
    }
   }
  },
  {
   "cell_type": "code",
   "execution_count": 6,
   "outputs": [],
   "source": [
    "\n",
    "from src.qoc_instruction_schedule_map import QOCInstructionScheduleMap\n",
    "hamiltonian = {'H_d': delta * (1-sigmaz())/2, 'H_c': [31919806.545849085 * sigmax()]}\n",
    "# grape_calibrator = QOC_optimizer(cpo, hamiltonian)"
   ],
   "metadata": {
    "collapsed": false,
    "pycharm": {
     "name": "#%%\n"
    }
   }
  },
  {
   "cell_type": "code",
   "execution_count": 7,
   "outputs": [
    {
     "ename": "NotImplementedError",
     "evalue": "",
     "output_type": "error",
     "traceback": [
      "\u001B[0;31m---------------------------------------------------------------------------\u001B[0m",
      "\u001B[0;31mNotImplementedError\u001B[0m                       Traceback (most recent call last)",
      "\u001B[0;32m<ipython-input-7-9c4fdac970c9>\u001B[0m in \u001B[0;36m<module>\u001B[0;34m\u001B[0m\n\u001B[1;32m      2\u001B[0m \u001B[0;32mfrom\u001B[0m \u001B[0msrc\u001B[0m\u001B[0;34m.\u001B[0m\u001B[0mhelper\u001B[0m \u001B[0;32mimport\u001B[0m \u001B[0mqutip_ham_converter\u001B[0m\u001B[0;34m\u001B[0m\u001B[0;34m\u001B[0m\u001B[0m\n\u001B[1;32m      3\u001B[0m \u001B[0;31m# unitary_goal = sigmax()\u001B[0m\u001B[0;34m\u001B[0m\u001B[0;34m\u001B[0m\u001B[0;34m\u001B[0m\u001B[0m\n\u001B[0;32m----> 4\u001B[0;31m \u001B[0mqutip_ham_converter\u001B[0m\u001B[0;34m(\u001B[0m\u001B[0marmonk_backend\u001B[0m\u001B[0;34m)\u001B[0m\u001B[0;34m\u001B[0m\u001B[0;34m\u001B[0m\u001B[0m\n\u001B[0m\u001B[1;32m      5\u001B[0m \u001B[0;31m# grape_calibrator = QOC_optimizer(cpo, hamiltonian)\u001B[0m\u001B[0;34m\u001B[0m\u001B[0;34m\u001B[0m\u001B[0;34m\u001B[0m\u001B[0m\n\u001B[1;32m      6\u001B[0m \u001B[0mgrape_calibrator\u001B[0m \u001B[0;34m=\u001B[0m \u001B[0mqutip_optimizer\u001B[0m\u001B[0;34m(\u001B[0m\u001B[0mhamiltonian\u001B[0m\u001B[0;34m)\u001B[0m\u001B[0;34m\u001B[0m\u001B[0;34m\u001B[0m\u001B[0m\n",
      "\u001B[0;32m~/oct-qiskit-pulse/src/helper.py\u001B[0m in \u001B[0;36mqutip_ham_converter\u001B[0;34m(backend)\u001B[0m\n\u001B[1;32m     14\u001B[0m     \u001B[0;32melse\u001B[0m\u001B[0;34m:\u001B[0m\u001B[0;34m\u001B[0m\u001B[0;34m\u001B[0m\u001B[0m\n\u001B[1;32m     15\u001B[0m         \u001B[0;31m# hamiltonian = None\u001B[0m\u001B[0;34m\u001B[0m\u001B[0;34m\u001B[0m\u001B[0;34m\u001B[0m\u001B[0m\n\u001B[0;32m---> 16\u001B[0;31m         \u001B[0;32mraise\u001B[0m \u001B[0mNotImplementedError\u001B[0m\u001B[0;34m(\u001B[0m\u001B[0;34m)\u001B[0m\u001B[0;34m\u001B[0m\u001B[0;34m\u001B[0m\u001B[0m\n\u001B[0m\u001B[1;32m     17\u001B[0m     \u001B[0;32mreturn\u001B[0m \u001B[0mhamiltonian\u001B[0m\u001B[0;34m\u001B[0m\u001B[0;34m\u001B[0m\u001B[0m\n",
      "\u001B[0;31mNotImplementedError\u001B[0m: "
     ]
    }
   ],
   "source": [
    "from src.QutipOptimizer import QutipOptimizer\n",
    "from src.helper import qutip_ham_converter\n",
    "# unitary_goal = sigmax()\n",
    "qutip_ham_converter(armonk_backend)\n",
    "# grape_calibrator = QOC_optimizer(cpo, hamiltonian)\n",
    "grape_calibrator = QutipOptimizer(hamiltonian)\n",
    "new_inst_map = QOCInstructionScheduleMap(grape_calibrator)\n",
    "# new_inst_map.get(XGate(), [0])"
   ],
   "metadata": {
    "collapsed": false,
    "pycharm": {
     "name": "#%%\n"
    }
   }
  },
  {
   "cell_type": "code",
   "execution_count": null,
   "outputs": [],
   "source": [
    "# x = XGate()\n",
    "# x.to_matrix()\n",
    "\n",
    "new_x = HGate()\n",
    "new_x.name = HGate()"
   ],
   "metadata": {
    "collapsed": false,
    "pycharm": {
     "name": "#%%\n"
    }
   }
  },
  {
   "cell_type": "code",
   "execution_count": null,
   "outputs": [],
   "source": [
    "q = QuantumRegister(1)\n",
    "c = ClassicalRegister(1)\n",
    "circ = qiskit.QuantumCircuit(q, c)\n",
    "# circ.x(q)\n",
    "# circ.x(q)\n",
    "# circ.append(XGate(),[0])\n",
    "circ.append(new_x,[0])\n",
    "\n",
    "\n",
    "circ.measure([0], [0])"
   ],
   "metadata": {
    "collapsed": false,
    "pycharm": {
     "name": "#%%\n"
    }
   }
  },
  {
   "cell_type": "code",
   "execution_count": null,
   "outputs": [],
   "source": [
    "# circ.data\n",
    "#\n",
    "# new_inst_map._map\n",
    "# inst_map._"
   ],
   "metadata": {
    "collapsed": false,
    "pycharm": {
     "name": "#%%\n"
    }
   }
  },
  {
   "cell_type": "code",
   "execution_count": null,
   "outputs": [],
   "source": [
    "#so every time we take a new gate, then we have to store in optimizer"
   ],
   "metadata": {
    "collapsed": false,
    "pycharm": {
     "name": "#%%\n"
    }
   }
  },
  {
   "cell_type": "code",
   "execution_count": null,
   "outputs": [],
   "source": [
    "#TODO: figure out how to fit in this part (the defaults\n",
    "new_inst_map._map = backend.defaults().instruction_schedule_map._map\n",
    "new_inst_map._qubit_instructions = backend.defaults().instruction_schedule_map._qubit_instructions"
   ],
   "metadata": {
    "collapsed": false,
    "pycharm": {
     "name": "#%%\n"
    }
   }
  },
  {
   "cell_type": "code",
   "execution_count": null,
   "outputs": [],
   "source": [
    "# set the drive strength\n",
    "getattr(armonk_backend.configuration(), 'hamiltonian')['vars']['omegad0'] = 31919806.54584908\n",
    "\n",
    "# set the qubit frequency\n",
    "armonk_backend.configuration().qubit_freq_est=[freq_est-delta_freq]\n",
    "getattr(armonk_backend.configuration(), 'hamiltonian')['vars']['wq0'] = 2*np.pi*freq_est"
   ],
   "metadata": {
    "collapsed": false,
    "pycharm": {
     "name": "#%%\n"
    }
   }
  },
  {
   "cell_type": "code",
   "execution_count": null,
   "outputs": [],
   "source": [
    "pulse_aer_backend = qiskit.providers.aer.PulseSimulator(\n",
    "    configuration=backend.configuration())\n",
    "\n",
    "def_inst = backend.defaults().instruction_schedule_map\n",
    "new_sched = qiskit.schedule(circ, inst_map=new_inst_map, backend=pulse_aer_backend, meas_map=[[0]])\n",
    "# def_sched = qiskit.schedule(circ, inst_map=def_inst, backend=pulse_aer_backend, meas_map=[[0]])\n",
    "# my_transp_circ = qiskit.transpile(circ, backend=pulse_aer_backend, basis_gates=armonk_backend.configuration().basis_gates + ['opt_gate'])"
   ],
   "metadata": {
    "collapsed": false,
    "pycharm": {
     "name": "#%%\n"
    }
   }
  },
  {
   "cell_type": "code",
   "execution_count": null,
   "outputs": [],
   "source": [
    "armonk_model = PulseSystemModel.from_backend(armonk_backend)\n",
    "\n",
    "# small_transp_circ = qiskit.transpile(circ, backend=armonk_backend, basis_gates=armonk_backend.configuration().basis_gates + ['opt_gate'])\n",
    "small_gate_sched = qiskit.schedule(circ, inst_map=new_inst_map, backend=pulse_aer_backend, meas_map=[[0]])\n",
    "\n",
    "# program = assemble(small_gate_sched, backend=armonk_backend, meas_level=2, meas_return='single',\n",
    "#                    shots=4096, qubit_lo_freq=[freq_est-delta_freq])\n",
    "program = assemble(new_sched, backend=armonk_backend, meas_level=2, meas_return='single',\n",
    "                   shots=4096, qubit_lo_freq=[freq_est-delta_freq])\n",
    "#\n",
    "job = qiskit.execute(small_gate_sched, pulse_aer_backend, shots=4096, system_model=armonk_model)\n",
    "# prog_job = qiskit.execute(program, pulse_aer_backend, shots=4096, system_model=armonk_model)\n",
    "prog_job = pulse_aer_backend.run(program,armonk_model)"
   ],
   "metadata": {
    "collapsed": false,
    "pycharm": {
     "name": "#%%\n"
    }
   }
  },
  {
   "cell_type": "code",
   "execution_count": null,
   "outputs": [],
   "source": [
    "# circ.draw()\n",
    "prog_job.result().get_counts()"
   ],
   "metadata": {
    "collapsed": false,
    "pycharm": {
     "name": "#%%\n"
    }
   }
  },
  {
   "cell_type": "code",
   "execution_count": null,
   "outputs": [],
   "source": [
    "job.result().get_counts()"
   ],
   "metadata": {
    "collapsed": false,
    "pycharm": {
     "name": "#%%\n"
    }
   }
  },
  {
   "cell_type": "code",
   "execution_count": null,
   "outputs": [],
   "source": [
    "job = qiskit.execute(new_sched, pulse_aer_backend, shots=4096, system_model=PulseSystemModel.from_backend(armonk_backend))\n",
    "# job = qiskit.execute(def_sched, pulse_aer_backend, shots=4096, system_model=PulseSystemModel.from_backend(armonk_backend))\n",
    "job.result().get_counts()"
   ],
   "metadata": {
    "collapsed": false,
    "pycharm": {
     "name": "#%%\n"
    }
   }
  },
  {
   "cell_type": "code",
   "execution_count": null,
   "outputs": [],
   "source": [
    "# my_gate = Gate('x', 0, )\n",
    "# from qiskit.extensions import UnitaryGate\n",
    "#\n",
    "    # @deprecate_arguments({'q': 'qubit'})\n",
    "    # def y(self, qubit, *, q=None):  # pylint: disable=unused-argument\n",
    "    #     \"\"\"Apply :class:`~qiskit.circuit.library.YGate`.\"\"\"\n",
    "    #     from .library.standard_gates.y import YGate\n",
    "    #     return self.append(YGate(), [qubit], [])\n",
    "# my_gate = UnitaryGate(sigmax())"
   ],
   "metadata": {
    "collapsed": false,
    "pycharm": {
     "name": "#%%\n"
    }
   }
  },
  {
   "cell_type": "code",
   "execution_count": null,
   "outputs": [],
   "source": [],
   "metadata": {
    "collapsed": false,
    "pycharm": {
     "name": "#%%\n"
    }
   }
  },
  {
   "cell_type": "code",
   "execution_count": null,
   "outputs": [],
   "source": [],
   "metadata": {
    "collapsed": false,
    "pycharm": {
     "name": "#%%\n"
    }
   }
  }
 ],
 "metadata": {
  "kernelspec": {
   "display_name": "Python 3",
   "language": "python",
   "name": "python3"
  },
  "language_info": {
   "codemirror_mode": {
    "name": "ipython",
    "version": 2
   },
   "file_extension": ".py",
   "mimetype": "text/x-python",
   "name": "python",
   "nbconvert_exporter": "python",
   "pygments_lexer": "ipython2",
   "version": "2.7.6"
  }
 },
 "nbformat": 4,
 "nbformat_minor": 0
}