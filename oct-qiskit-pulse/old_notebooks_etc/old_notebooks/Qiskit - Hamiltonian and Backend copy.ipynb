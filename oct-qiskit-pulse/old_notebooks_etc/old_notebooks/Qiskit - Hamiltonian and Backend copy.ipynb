{
 "cells": [
  {
   "cell_type": "code",
   "execution_count": 1,
   "metadata": {},
   "outputs": [],
   "source": [
    "import copy\n",
    "import numpy as np\n",
    "from qiskit import Aer, IBMQ, execute, QuantumCircuit, circuit, pulse, transpile, schedule, assemble\n",
    "from qiskit.providers.aer.pulse.system_models.pulse_system_model import PulseSystemModel\n",
    "from qiskit.providers.aer.backends import PulseSimulator\n",
    "\n",
    "import matplotlib.pyplot as plt"
   ]
  },
  {
   "cell_type": "code",
   "execution_count": 2,
   "metadata": {
    "tags": []
   },
   "outputs": [],
   "source": [
    "subsystem_list = [0]\n",
    "IBMQ.load_account()\n",
    "\n",
    "provider = IBMQ.get_provider(hub='ibm-q-internal', group='deployed', project='default')\n",
    "backend = provider.get_backend('ibmq_armonk')"
   ]
  },
  {
   "cell_type": "code",
   "execution_count": 3,
   "metadata": {},
   "outputs": [],
   "source": [
    "backend = provider.get_backend('ibmq_armonk')"
   ]
  },
  {
   "cell_type": "code",
   "execution_count": 4,
   "metadata": {},
   "outputs": [],
   "source": [
    "config = backend.configuration()\n",
    "defaults = backend.defaults()"
   ]
  },
  {
   "cell_type": "code",
   "execution_count": 5,
   "metadata": {
    "tags": []
   },
   "outputs": [
    {
     "output_type": "stream",
     "name": "stdout",
     "text": "['_SUM[i,0,0,wq{i}/2*(I{i}-Z{i})]', '_SUM[i,0,0,delta{i}/2*O{i}*O{i}]', '_SUM[i,0,0,-delta{i}/2*O{i}]', '_SUM[i,0,0,omegad{i}*X{i}||D{i}]']\n{}\n{'delta0': 0, 'omegad0': 0.03687059465493426, 'wq0': 31.255387112381104}\n"
    }
   ],
   "source": [
    "hamiltonian = config.hamiltonian\n",
    "print(hamiltonian['h_str'])\n",
    "print(hamiltonian['osc'])\n",
    "print(hamiltonian['vars'])"
   ]
  },
  {
   "cell_type": "code",
   "execution_count": 6,
   "metadata": {},
   "outputs": [
    {
     "output_type": "execute_result",
     "data": {
      "text/plain": "2.2222222222222221e-10"
     },
     "metadata": {},
     "execution_count": 6
    }
   ],
   "source": [
    "config.dt"
   ]
  },
  {
   "cell_type": "markdown",
   "metadata": {},
   "source": [
    "## Original Model"
   ]
  },
  {
   "cell_type": "code",
   "execution_count": 7,
   "metadata": {},
   "outputs": [],
   "source": [
    "orig_model = PulseSystemModel.from_backend(backend)"
   ]
  },
  {
   "cell_type": "code",
   "execution_count": 8,
   "metadata": {},
   "outputs": [
    {
     "output_type": "execute_result",
     "data": {
      "text/plain": "<qiskit.circuit.instructionset.InstructionSet at 0x7fea36254a00>"
     },
     "metadata": {},
     "execution_count": 8
    }
   ],
   "source": [
    "qc = QuantumCircuit(1, 1)\n",
    "qc.h(0)\n",
    "qc.measure(0, 0)"
   ]
  },
  {
   "cell_type": "code",
   "execution_count": 9,
   "metadata": {},
   "outputs": [],
   "source": [
    "sched = schedule(transpile(qc, backend), backend)"
   ]
  },
  {
   "cell_type": "code",
   "execution_count": 10,
   "metadata": {},
   "outputs": [],
   "source": [
    "sim = PulseSimulator()"
   ]
  },
  {
   "cell_type": "code",
   "execution_count": 11,
   "metadata": {},
   "outputs": [],
   "source": [
    "qobj = assemble(sched, backend=sim)"
   ]
  },
  {
   "cell_type": "code",
   "execution_count": 12,
   "metadata": {},
   "outputs": [],
   "source": [
    "job = sim.run(qobj, system_model=orig_model)"
   ]
  },
  {
   "cell_type": "code",
   "execution_count": 13,
   "metadata": {},
   "outputs": [],
   "source": [
    "result = job.result()"
   ]
  },
  {
   "cell_type": "code",
   "execution_count": 14,
   "metadata": {},
   "outputs": [
    {
     "output_type": "execute_result",
     "data": {
      "text/plain": "{'0': 1024}"
     },
     "metadata": {},
     "execution_count": 14
    }
   ],
   "source": [
    "result.get_counts()"
   ]
  },
  {
   "cell_type": "markdown",
   "metadata": {},
   "source": [
    "## Modified Model"
   ]
  },
  {
   "cell_type": "code",
   "execution_count": 15,
   "metadata": {},
   "outputs": [],
   "source": [
    "new_backend = copy.deepcopy(backend)\n",
    "new_config = new_backend.configuration()\n",
    "new_defaults = new_backend.defaults()"
   ]
  },
  {
   "cell_type": "code",
   "execution_count": 16,
   "metadata": {},
   "outputs": [],
   "source": [
    "new_hamiltonian = new_config.hamiltonian"
   ]
  },
  {
   "cell_type": "markdown",
   "metadata": {},
   "source": [
    "### Modifications"
   ]
  },
  {
   "cell_type": "code",
   "execution_count": 17,
   "metadata": {},
   "outputs": [],
   "source": [
    "new_hamiltonian['vars'] = {k: v*1e9 for k, v in new_hamiltonian['vars'].items()}\n",
    "new_hamiltonian['qub'] = {k: 3 for k in new_hamiltonian['qub'].keys()}\n",
    "new_hamiltonian['vars']['omegad0'] = new_hamiltonian['vars']['omegad0']*2\n",
    "new_hamiltonian['vars']['delta0'] = -330e7"
   ]
  },
  {
   "cell_type": "code",
   "execution_count": 18,
   "metadata": {
    "tags": []
   },
   "outputs": [
    {
     "output_type": "stream",
     "name": "stdout",
     "text": "['_SUM[i,0,0,wq{i}/2*(I{i}-Z{i})]', '_SUM[i,0,0,delta{i}/2*O{i}*O{i}]', '_SUM[i,0,0,-delta{i}/2*O{i}]', '_SUM[i,0,0,omegad{i}*X{i}||D{i}]']\n{}\n{'0': 3}\n{'delta0': -3300000000.0, 'omegad0': 73741189.30986851, 'wq0': 31255387112.381104}\n"
    }
   ],
   "source": [
    "hamiltonian = config.hamiltonian\n",
    "print(new_hamiltonian['h_str'])\n",
    "print(new_hamiltonian['osc'])\n",
    "print(new_hamiltonian['qub'])\n",
    "print(new_hamiltonian['vars'])"
   ]
  },
  {
   "cell_type": "code",
   "execution_count": 19,
   "metadata": {},
   "outputs": [],
   "source": [
    "new_model = PulseSystemModel.from_backend(new_backend)"
   ]
  },
  {
   "cell_type": "code",
   "execution_count": 24,
   "metadata": {},
   "outputs": [],
   "source": [
    "job = sim.run(qobj, system_model=new_model)\n",
    "real_job = backend.run(qobj)"
   ]
  },
  {
   "cell_type": "code",
   "execution_count": 21,
   "metadata": {},
   "outputs": [],
   "source": [
    "result = job.result()"
   ]
  },
  {
   "cell_type": "code",
   "execution_count": 22,
   "metadata": {},
   "outputs": [
    {
     "output_type": "execute_result",
     "data": {
      "text/plain": "{'0': 397, '1': 627}"
     },
     "metadata": {},
     "execution_count": 22
    }
   ],
   "source": [
    "result.get_counts()"
   ]
  },
  {
   "cell_type": "code",
   "execution_count": 23,
   "metadata": {},
   "outputs": [
    {
     "output_type": "execute_result",
     "data": {
      "text/plain": "[4974449357.186173]"
     },
     "metadata": {},
     "execution_count": 23
    }
   ],
   "source": [
    "new_defaults.qubit_freq_est"
   ]
  },
  {
   "cell_type": "code",
   "execution_count": 25,
   "metadata": {},
   "outputs": [
    {
     "output_type": "error",
     "ename": "IBMQJobFailureError",
     "evalue": "'Unable to retrieve result for job 5f5bc73d3e7dd000197b240f. Job has failed: Channel d0 lo setting: inf is not within acceptable range of [4.474449357186174, 5.474449357186174]. Error code: 8000.'",
     "traceback": [
      "\u001b[0;31m---------------------------------------------------------------------------\u001b[0m",
      "\u001b[0;31mIBMQJobFailureError\u001b[0m                       Traceback (most recent call last)",
      "\u001b[0;32m<ipython-input-25-853d319249bb>\u001b[0m in \u001b[0;36m<module>\u001b[0;34m\u001b[0m\n\u001b[0;32m----> 1\u001b[0;31m \u001b[0mreal_job\u001b[0m\u001b[0;34m.\u001b[0m\u001b[0mresult\u001b[0m\u001b[0;34m(\u001b[0m\u001b[0;34m)\u001b[0m\u001b[0;34m\u001b[0m\u001b[0;34m\u001b[0m\u001b[0m\n\u001b[0m",
      "\u001b[0;32m~/anaconda3/envs/qoc/lib/python3.8/site-packages/qiskit/providers/ibmq/job/ibmqjob.py\u001b[0m in \u001b[0;36mresult\u001b[0;34m(self, timeout, wait, partial, refresh)\u001b[0m\n\u001b[1;32m    288\u001b[0m                 \u001b[0;32melse\u001b[0m\u001b[0;34m:\u001b[0m\u001b[0;34m\u001b[0m\u001b[0;34m\u001b[0m\u001b[0m\n\u001b[1;32m    289\u001b[0m                     \u001b[0merror_message\u001b[0m \u001b[0;34m=\u001b[0m \u001b[0;34m\": \"\u001b[0m \u001b[0;34m+\u001b[0m \u001b[0merror_message\u001b[0m\u001b[0;34m\u001b[0m\u001b[0;34m\u001b[0m\u001b[0m\n\u001b[0;32m--> 290\u001b[0;31m                 raise IBMQJobFailureError(\n\u001b[0m\u001b[1;32m    291\u001b[0m                     'Unable to retrieve result for job {}. Job has failed{}'.format(\n\u001b[1;32m    292\u001b[0m                         self.job_id(), error_message))\n",
      "\u001b[0;31mIBMQJobFailureError\u001b[0m: 'Unable to retrieve result for job 5f5bc73d3e7dd000197b240f. Job has failed: Channel d0 lo setting: inf is not within acceptable range of [4.474449357186174, 5.474449357186174]. Error code: 8000.'"
     ]
    }
   ],
   "source": [
    "real_job.result()"
   ]
  },
  {
   "cell_type": "markdown",
   "metadata": {},
   "source": [
    "# 2Q Backend"
   ]
  },
  {
   "cell_type": "markdown",
   "metadata": {},
   "source": [
    "## Original"
   ]
  },
  {
   "cell_type": "code",
   "execution_count": 72,
   "metadata": {},
   "outputs": [],
   "source": [
    "backend_2q = provider.get_backend('ibmq_manhattan')"
   ]
  },
  {
   "cell_type": "code",
   "execution_count": 73,
   "metadata": {},
   "outputs": [],
   "source": [
    "orig_config_2q = backend_2q.configuration()\n",
    "orig_defaults_2q = backend_2q.defaults()"
   ]
  },
  {
   "cell_type": "code",
   "execution_count": 74,
   "metadata": {},
   "outputs": [],
   "source": [
    "orig_model_2q = PulseSystemModel.from_backend(backend_2q, subsystem_list=[0, 1])"
   ]
  },
  {
   "cell_type": "code",
   "execution_count": 75,
   "metadata": {
    "tags": []
   },
   "outputs": [
    {
     "output_type": "stream",
     "name": "stdout",
     "text": "['_SUM[i,0,64,wq{i}/2*(I{i}-Z{i})]', '_SUM[i,0,64,delta{i}/2*O{i}*O{i}]', '_SUM[i,0,64,-delta{i}/2*O{i}]', '_SUM[i,0,64,omegad{i}*X{i}||D{i}]', 'jq42q43*Sp42*Sm43', 'jq42q43*Sm42*Sp43', 'jq22q23*Sp22*Sm23', 'jq22q23*Sm22*Sp23', 'jq36q37*Sp36*Sm37', 'jq36q37*Sm36*Sp37', 'jq28q29*Sp28*Sm29', 'jq28q29*Sm28*Sp29', 'jq53q60*Sp53*Sm60', 'jq53q60*Sm53*Sp60', 'jq61q62*Sp61*Sm62', 'jq61q62*Sm61*Sp62', 'jq5q6*Sp5*Sm6', 'jq5q6*Sm5*Sp6', 'jq8q9*Sp8*Sm9', 'jq8q9*Sm8*Sp9', 'jq34q35*Sp34*Sm35', 'jq34q35*Sm34*Sp35', 'jq18q19*Sp18*Sm19', 'jq18q19*Sm18*Sp19', 'jq23q26*Sp23*Sm26', 'jq23q26*Sm23*Sp26', 'jq0q10*Sp0*Sm10', 'jq0q10*Sm0*Sp10', 'jq51q54*Sp51*Sm54', 'jq51q54*Sm51*Sp54', 'jq59q60*Sp59*Sm60', 'jq59q60*Sm59*Sp60', 'jq30q31*Sp30*Sm31', 'jq30q31*Sm30*Sp31', 'jq46q47*Sp46*Sm47', 'jq46q47*Sm46*Sp47', 'jq31q32*Sp31*Sm32', 'jq31q32*Sm31*Sp32', 'jq63q64*Sp63*Sm64', 'jq63q64*Sm63*Sp64', 'jq49q50*Sp49*Sm50', 'jq49q50*Sm49*Sp50', 'jq1q2*Sp1*Sm2', 'jq1q2*Sm1*Sp2', 'jq16q17*Sp16*Sm17', 'jq16q17*Sm16*Sp17', 'jq32q33*Sp32*Sm33', 'jq32q33*Sm32*Sp33', 'jq6q7*Sp6*Sm7', 'jq6q7*Sm6*Sp7', 'jq58q59*Sp58*Sm59', 'jq58q59*Sm58*Sp59', 'jq44q45*Sp44*Sm45', 'jq44q45*Sm44*Sp45', 'jq20q21*Sp20*Sm21', 'jq20q21*Sm20*Sp21', 'jq47q53*Sp47*Sm53', 'jq47q53*Sm47*Sp53', 'jq39q45*Sp39*Sm45', 'jq39q45*Sm39*Sp45', 'jq56q57*Sp56*Sm57', 'jq56q57*Sm56*Sp57', 'jq35q40*Sp35*Sm40', 'jq35q40*Sm35*Sp40', 'jq19q25*Sp19*Sm25', 'jq19q25*Sm19*Sp25', 'jq3q4*Sp3*Sm4', 'jq3q4*Sm3*Sp4', 'jq27q28*Sp27*Sm28', 'jq27q28*Sm27*Sp28', 'jq35q36*Sp35*Sm36', 'jq35q36*Sm35*Sp36', 'jq47q48*Sp47*Sm48', 'jq47q48*Sm47*Sp48', 'jq54q64*Sp54*Sm64', 'jq54q64*Sm54*Sp64', 'jq12q21*Sp12*Sm21', 'jq12q21*Sm12*Sp21', 'jq38q41*Sp38*Sm41', 'jq38q41*Sm38*Sp41', 'jq31q39*Sp31*Sm39', 'jq31q39*Sm31*Sp39', 'jq60q61*Sp60*Sm61', 'jq60q61*Sm60*Sp61', 'jq4q5*Sp4*Sm5', 'jq4q5*Sm4*Sp5', 'jq29q30*Sp29*Sm30', 'jq29q30*Sm29*Sp30', 'jq10q13*Sp10*Sm13', 'jq10q13*Sm10*Sp13', 'jq41q42*Sp41*Sm42', 'jq41q42*Sm41*Sp42', 'jq26q37*Sp26*Sm37', 'jq26q37*Sm26*Sp37', 'jq50q51*Sp50*Sm51', 'jq50q51*Sm50*Sp51', 'jq2q3*Sp2*Sm3', 'jq2q3*Sm2*Sp3', 'jq14q15*Sp14*Sm15', 'jq14q15*Sm14*Sp15', 'jq62q63*Sp62*Sm63', 'jq62q63*Sm62*Sp63', 'jq40q49*Sp40*Sm49', 'jq40q49*Sm40*Sp49', 'jq19q20*Sp19*Sm20', 'jq19q20*Sm19*Sp20', 'jq55q56*Sp55*Sm56', 'jq55q56*Sm55*Sp56', 'jq4q11*Sp4*Sm11', 'jq4q11*Sm4*Sp11', 'jq43q44*Sp43*Sm44', 'jq43q44*Sm43*Sp44', 'jq48q49*Sp48*Sm49', 'jq48q49*Sm48*Sp49', 'jq33q34*Sp33*Sm34', 'jq33q34*Sm33*Sp34', 'jq0q1*Sp0*Sm1', 'jq0q1*Sm0*Sp1', 'jq17q18*Sp17*Sm18', 'jq17q18*Sm17*Sp18', 'jq7q8*Sp7*Sm8', 'jq7q8*Sm7*Sp8', 'jq11q17*Sp11*Sm17', 'jq11q17*Sm11*Sp17', 'jq15q24*Sp15*Sm24', 'jq15q24*Sm15*Sp24', 'jq8q12*Sp8*Sm12', 'jq8q12*Sm8*Sp12', 'jq45q46*Sp45*Sm46', 'jq45q46*Sm45*Sp46', 'jq52q56*Sp52*Sm56', 'jq52q56*Sm52*Sp56', 'jq24q29*Sp24*Sm29', 'jq24q29*Sm24*Sp29', 'jq13q14*Sp13*Sm14', 'jq13q14*Sm13*Sp14', 'jq21q22*Sp21*Sm22', 'jq21q22*Sm21*Sp22', 'jq27q38*Sp27*Sm38', 'jq27q38*Sm27*Sp38', 'jq57q58*Sp57*Sm58', 'jq57q58*Sm57*Sp58', 'jq43q52*Sp43*Sm52', 'jq43q52*Sm43*Sp52', 'jq25q33*Sp25*Sm33', 'jq25q33*Sm25*Sp33', 'jq15q16*Sp15*Sm16', 'jq15q16*Sm15*Sp16', 'omegad1*X0||U0', 'omegad10*X0||U1', 'omegad0*X1||U2', 'omegad2*X1||U3', 'omegad1*X2||U4', 'omegad3*X2||U5', 'omegad4*X3||U7', 'omegad2*X3||U6', 'omegad5*X4||U9', 'omegad3*X4||U8', 'omegad11*X4||U10', 'omegad4*X5||U11', 'omegad6*X5||U12', 'omegad7*X6||U14', 'omegad5*X6||U13', 'omegad6*X7||U15', 'omegad8*X7||U16', 'omegad12*X8||U19', 'omegad9*X8||U18', 'omegad7*X8||U17', 'omegad8*X9||U20', 'omegad0*X10||U21', 'omegad13*X10||U22', 'omegad4*X11||U23', 'omegad17*X11||U24', 'omegad21*X12||U26', 'omegad8*X12||U25', 'omegad10*X13||U27', 'omegad14*X13||U28', 'omegad15*X14||U30', 'omegad13*X14||U29', 'omegad24*X15||U33', 'omegad14*X15||U31', 'omegad16*X15||U32', 'omegad15*X16||U34', 'omegad17*X16||U35', 'omegad18*X17||U38', 'omegad16*X17||U37', 'omegad11*X17||U36', 'omegad19*X18||U40', 'omegad17*X18||U39', 'omegad18*X19||U41', 'omegad25*X19||U43', 'omegad20*X19||U42', 'omegad21*X20||U45', 'omegad19*X20||U44', 'omegad20*X21||U47', 'omegad12*X21||U46', 'omegad22*X21||U48', 'omegad23*X22||U50', 'omegad21*X22||U49', 'omegad26*X23||U52', 'omegad22*X23||U51', 'omegad15*X24||U53', 'omegad29*X24||U54', 'omegad33*X25||U56', 'omegad19*X25||U55', 'omegad37*X26||U58', 'omegad23*X26||U57', 'omegad28*X27||U59', 'omegad38*X27||U60', 'omegad29*X28||U62', 'omegad27*X28||U61', 'omegad24*X29||U63', 'omegad30*X29||U65', 'omegad28*X29||U64', 'omegad31*X30||U67', 'omegad29*X30||U66', 'omegad39*X31||U70', 'omegad30*X31||U68', 'omegad32*X31||U69', 'omegad33*X32||U72', 'omegad31*X32||U71', 'omegad32*X33||U74', 'omegad34*X33||U75', 'omegad25*X33||U73', 'omegad33*X34||U76', 'omegad35*X34||U77', 'omegad36*X35||U79', 'omegad34*X35||U78', 'omegad40*X35||U80', 'omegad37*X36||U82', 'omegad35*X36||U81', 'omegad26*X37||U83', 'omegad36*X37||U84', 'omegad41*X38||U86', 'omegad27*X38||U85', 'omegad45*X39||U88', 'omegad31*X39||U87', 'omegad35*X40||U89', 'omegad49*X40||U90', 'omegad42*X41||U92', 'omegad38*X41||U91', 'omegad43*X42||U94', 'omegad41*X42||U93', 'omegad52*X43||U97', 'omegad42*X43||U95', 'omegad44*X43||U96', 'omegad43*X44||U98', 'omegad45*X44||U99', 'omegad44*X45||U101', 'omegad39*X45||U100', 'omegad46*X45||U102', 'omegad45*X46||U103', 'omegad47*X46||U104', 'omegad48*X47||U106', 'omegad46*X47||U105', 'omegad53*X47||U107', 'omegad49*X48||U109', 'omegad47*X48||U108', 'omegad48*X49||U111', 'omegad40*X49||U110', 'omegad50*X49||U112', 'omegad51*X50||U114', 'omegad49*X50||U113', 'omegad50*X51||U115', 'omegad54*X51||U116', 'omegad56*X52||U118', 'omegad43*X52||U117', 'omegad47*X53||U119', 'omegad60*X53||U120', 'omegad64*X54||U122', 'omegad51*X54||U121', 'omegad56*X55||U123', 'omegad57*X56||U126', 'omegad52*X56||U124', 'omegad55*X56||U125', 'omegad56*X57||U127', 'omegad58*X57||U128', 'omegad59*X58||U130', 'omegad57*X58||U129', 'omegad58*X59||U131', 'omegad60*X59||U132', 'omegad59*X60||U134', 'omegad61*X60||U135', 'omegad53*X60||U133', 'omegad62*X61||U137', 'omegad60*X61||U136', 'omegad63*X62||U139', 'omegad61*X62||U138', 'omegad62*X63||U140', 'omegad64*X63||U141', 'omegad63*X64||U143', 'omegad54*X64||U142']\n{}\n{'delta0': -2.082409528201026, 'delta1': -2.108692153903296, 'delta10': -2.0955390950177173, 'delta11': -2.100958609864856, 'delta12': -2.0823524168566583, 'delta13': -2.079863390219936, 'delta14': -2.0986245342839465, 'delta15': -2.0913046165737534, 'delta16': -2.1147584685967837, 'delta17': -2.083431050881202, 'delta18': -2.0871760010235283, 'delta19': -2.079086146193932, 'delta2': -2.080054560307207, 'delta20': -2.0809593337496866, 'delta21': -2.0868952673573595, 'delta22': -2.081354695514319, 'delta23': -2.096787337379475, 'delta24': -2.0722106481259717, 'delta25': -2.080369744382093, 'delta26': -2.092116736278728, 'delta27': -2.0985738973098456, 'delta28': -2.0755414526932534, 'delta29': -2.0890822438286176, 'delta3': -2.0999212890853562, 'delta30': -2.08670780390729, 'delta31': -2.076201777361299, 'delta32': -2.070255050678703, 'delta33': -2.1040795888596437, 'delta34': -2.0877309202887857, 'delta35': -2.107373832439615, 'delta36': -2.079405179424301, 'delta37': -2.091835771162876, 'delta38': -2.075901371889025, 'delta39': -2.0904615623352276, 'delta4': -2.093628492226991, 'delta40': -2.1306861202665175, 'delta41': -2.0865518970755175, 'delta42': -2.1152611176603004, 'delta43': -2.0741726061075876, 'delta44': -2.093082321475129, 'delta45': -2.0852396753607954, 'delta46': -2.0829304635141854, 'delta47': -2.0805355428201646, 'delta48': -2.092295634525706, 'delta49': -2.0728983053097103, 'delta5': -2.1076108858437412, 'delta50': -2.086811512231418, 'delta51': -2.078875458274717, 'delta52': -2.0847345667675286, 'delta53': -2.1037851661025484, 'delta54': -2.1066228812119174, 'delta55': -2.0775332501812054, 'delta56': -2.0867337957738656, 'delta57': -2.120641152499985, 'delta58': -2.0857399265225287, 'delta59': -2.0776063293835523, 'delta6': -2.0896935883297525, 'delta60': -2.08902215551072, 'delta61': -2.1160016078860915, 'delta62': -2.089117798373012, 'delta63': -2.106330758762709, 'delta64': -2.090469682733742, 'delta7': -2.1008931274144858, 'delta8': -2.09572226614486, 'delta9': -2.081885599010024, 'jq0q1': 0.012293126322480197, 'jq0q10': 0.012506061323926414, 'jq10q13': 0.012445528646655686, 'jq11q17': 0.014292699740985727, 'jq12q21': 0.013420812572829672, 'jq13q14': 0.012806354710220087, 'jq14q15': 0.012455235392068503, 'jq15q16': 0.01392400194180702, 'jq15q24': 0.013824641378837092, 'jq16q17': 0.012025957844627774, 'jq17q18': 0.01296585887428978, 'jq18q19': 0.013479395190981156, 'jq19q20': 0.014721134228083887, 'jq19q25': 0.013361259873442314, 'jq1q2': 0.014257628792432683, 'jq20q21': 0.013718083908827651, 'jq21q22': 0.013070206591033964, 'jq22q23': 0.013192565295867128, 'jq23q26': 0.012334435215585887, 'jq24q29': 0.014622179654265583, 'jq25q33': 0.011912454565186921, 'jq26q37': 0.014236885627812433, 'jq27q28': 0.011835937472740586, 'jq27q38': 0.01253636713654229, 'jq28q29': 0.01251869485944329, 'jq29q30': 0.014432738193361454, 'jq2q3': 0.012749602059596514, 'jq30q31': 0.014817767976700003, 'jq31q32': 0.013864978685261379, 'jq31q39': 0.01269839045261408, 'jq32q33': 0.014014084477466687, 'jq33q34': 0.014006523303099622, 'jq34q35': 0.01417123882637102, 'jq35q36': 0.012256121671582123, 'jq35q40': 0.013791226499718482, 'jq36q37': 0.014636075023239822, 'jq38q41': 0.014205986579999483, 'jq39q45': 0.014673819712257608, 'jq3q4': 0.012988252166169719, 'jq40q49': 0.012321705512355174, 'jq41q42': 0.012203834781995035, 'jq42q43': 0.011744826069852273, 'jq43q44': 0.012387779554591777, 'jq43q52': 0.01318983211843102, 'jq44q45': 0.013440981657959898, 'jq45q46': 0.011177100670757341, 'jq46q47': 0.014317407226235642, 'jq47q48': 0.014282317803909025, 'jq47q53': 0.012241672335143047, 'jq48q49': 0.014084778609878017, 'jq49q50': 0.011997718139992678, 'jq4q11': 0.01359023012152749, 'jq4q5': 0.011436295161501919, 'jq50q51': 0.014022974065469465, 'jq51q54': 0.013100248864873943, 'jq52q56': 0.012232647573423192, 'jq53q60': 0.012325197151410994, 'jq54q64': 0.01384487521013418, 'jq55q56': 0.013812611788819809, 'jq56q57': 0.013923109255648576, 'jq57q58': 0.013408933599110447, 'jq58q59': 0.012615488355019093, 'jq59q60': 0.014347719071657588, 'jq5q6': 0.013696308053128872, 'jq60q61': 0.011701117396567696, 'jq61q62': 0.013949921276537719, 'jq62q63': 0.013207592452548331, 'jq63q64': 0.012358405647272436, 'jq6q7': 0.014084450205036876, 'jq7q8': 0.013883944784185722, 'jq8q12': 0.01199957126533062, 'jq8q9': 0.014509380006189681, 'omegad0': 0.6265482163023387, 'omegad1': 0.6318974768204234, 'omegad10': 0.584240387572316, 'omegad11': 0.6299797168576013, 'omegad12': 0.5769475412412077, 'omegad13': 0.6213794959264882, 'omegad14': 0.6313790100451301, 'omegad15': 0.6189288347198333, 'omegad16': 0.6171418949625461, 'omegad17': 0.6401224377857153, 'omegad18': 0.6532310031753834, 'omegad19': 0.6569191919130458, 'omegad2': 0.6459858759950807, 'omegad20': 0.6213764745321251, 'omegad21': 0.6277536499235236, 'omegad22': 0.6501443258137374, 'omegad23': 0.6309403889218422, 'omegad24': 0.6758111826619625, 'omegad25': 0.6374757380987868, 'omegad26': 0.6238178752910626, 'omegad27': 0.6378689809500069, 'omegad28': 0.6326024197850455, 'omegad29': 0.6235008139758542, 'omegad3': 0.6242899183063617, 'omegad30': 0.5986402064438107, 'omegad31': 0.6912173346875319, 'omegad32': 0.6396539786592738, 'omegad33': 0.6454199309785659, 'omegad34': 0.6280512630804376, 'omegad35': 0.6527146573218063, 'omegad36': 0.6296470554312362, 'omegad37': 0.6476116990722787, 'omegad38': 0.6169892160338252, 'omegad39': 0.6040017915841368, 'omegad4': 0.6513957546870849, 'omegad40': 0.679964194403978, 'omegad41': 0.6323104578895272, 'omegad42': 0.6393970595499089, 'omegad43': 0.6584190457904572, 'omegad44': 0.6440559847187488, 'omegad45': 0.6624326485862417, 'omegad46': 0.6663483222541601, 'omegad47': 0.6464059832962148, 'omegad48': 0.6625131758334153, 'omegad49': 0.6417297894141347, 'omegad5': 0.637025268498255, 'omegad50': 0.4174200206506, 'omegad51': 0.6146897624183675, 'omegad52': 0.6593082214369735, 'omegad53': 0.6356122563627956, 'omegad54': 0.6362934509245967, 'omegad55': 0.6593465200535722, 'omegad56': 0.6875853208615718, 'omegad57': 0.5884594574768139, 'omegad58': 0.654475283248349, 'omegad59': 0.630959509785883, 'omegad6': 0.6518163955195819, 'omegad60': 0.6544467939200809, 'omegad61': 0.6317053747708249, 'omegad62': 0.6702932256531142, 'omegad63': 0.6589840638201812, 'omegad64': 0.6462285104809115, 'omegad7': 0.6232922394720533, 'omegad8': 0.6477140199142712, 'omegad9': 0.6253123721066998, 'wq0': 30.39973664161857, 'wq1': 29.412448901965245, 'wq10': 29.4569982860439, 'wq11': 29.932423250831857, 'wq12': 31.03274909411622, 'wq13': 30.410748914232236, 'wq14': 29.312903818916944, 'wq15': 30.177777489986692, 'wq16': 29.21273670483878, 'wq17': 30.64323161369062, 'wq18': 30.26659269353999, 'wq19': 31.41138948214919, 'wq2': 31.079340176587035, 'wq20': 30.429059952910595, 'wq21': 30.03077147682922, 'wq22': 31.006459543935847, 'wq23': 30.14170716951582, 'wq24': 31.493408959095383, 'wq25': 30.528173468750573, 'wq26': 29.659734373761477, 'wq27': 30.157498540487563, 'wq28': 30.761231624143264, 'wq29': 30.069295553123265, 'wq3': 29.94387625617287, 'wq30': 30.72660894239305, 'wq31': 31.603449074919382, 'wq32': 30.775050207214395, 'wq33': 29.196226976026765, 'wq34': 30.03823340688754, 'wq35': 29.514894205608552, 'wq36': 31.232157473963984, 'wq37': 30.22773562913464, 'wq38': 31.227515167146052, 'wq39': 30.156245676632516, 'wq4': 29.594936361374252, 'wq40': 28.556510786364903, 'wq41': 30.16794805142547, 'wq42': 29.298348753337727, 'wq43': 30.062520788421544, 'wq44': 29.424795140673755, 'wq45': 30.98093410237175, 'wq46': 30.15254009843977, 'wq47': 30.69562517782105, 'wq48': 29.89353602310175, 'wq49': 29.286130324404738, 'wq5': 28.740603152470804, 'wq50': 30.046805375702597, 'wq51': 30.706921550953986, 'wq52': 30.780713446473722, 'wq53': 29.388576979478863, 'wq54': 29.54769649340745, 'wq55': 30.671190777436735, 'wq56': 30.13041460332499, 'wq57': 29.016345713187942, 'wq58': 30.06083371753795, 'wq59': 30.941510234069433, 'wq6': 29.897315291190434, 'wq60': 30.015187593209117, 'wq61': 29.161610888613364, 'wq62': 30.318693130031047, 'wq63': 29.518086334755242, 'wq64': 30.36120017030202, 'wq7': 29.091956375955935, 'wq8': 30.02262994914163, 'wq9': 30.97138729600599}\n"
    }
   ],
   "source": [
    "orig_hamiltonian_2q = orig_config_2q.hamiltonian\n",
    "print(orig_hamiltonian_2q['h_str'])\n",
    "print(orig_hamiltonian_2q['osc'])\n",
    "print(orig_hamiltonian_2q['vars'])"
   ]
  },
  {
   "cell_type": "code",
   "execution_count": 76,
   "metadata": {},
   "outputs": [
    {
     "output_type": "execute_result",
     "data": {
      "text/plain": "<qiskit.circuit.instructionset.InstructionSet at 0x7fd2039b2460>"
     },
     "metadata": {},
     "execution_count": 76
    }
   ],
   "source": [
    "bell = QuantumCircuit(2, 2)\n",
    "bell.h(0)\n",
    "bell.cx(0, 1)\n",
    "bell.measure([0, 1], [0, 1])"
   ]
  },
  {
   "cell_type": "code",
   "execution_count": 77,
   "metadata": {},
   "outputs": [],
   "source": [
    "channels_to_drop = ([pulse.AcquireChannel(i) for i in range(2, orig_config_2q.n_qubits)]+\n",
    "                    [pulse.MeasureChannel(i) for i in range(2, orig_config_2q.n_qubits)]+\n",
    "                    [pulse.ControlChannel(0), pulse.ControlChannel(4), pulse.ControlChannel(21)])"
   ]
  },
  {
   "cell_type": "code",
   "execution_count": 78,
   "metadata": {},
   "outputs": [],
   "source": [
    "bell_sched = schedule(transpile(bell, backend_2q), backend_2q).exclude(channels=channels_to_drop)"
   ]
  },
  {
   "cell_type": "code",
   "execution_count": 79,
   "metadata": {},
   "outputs": [],
   "source": [
    "bell_qobj = assemble(bell_sched, backend=sim)"
   ]
  },
  {
   "cell_type": "code",
   "execution_count": 80,
   "metadata": {},
   "outputs": [],
   "source": [
    "job = sim.run(bell_qobj, system_model=orig_model_2q)"
   ]
  },
  {
   "cell_type": "code",
   "execution_count": 81,
   "metadata": {},
   "outputs": [],
   "source": [
    "result = job.result()"
   ]
  },
  {
   "cell_type": "code",
   "execution_count": 82,
   "metadata": {},
   "outputs": [
    {
     "output_type": "execute_result",
     "data": {
      "text/plain": "{'00': 1024}"
     },
     "metadata": {},
     "execution_count": 82
    }
   ],
   "source": [
    "result.get_counts()"
   ]
  },
  {
   "cell_type": "markdown",
   "metadata": {},
   "source": [
    "## Modified Model"
   ]
  },
  {
   "cell_type": "code",
   "execution_count": 83,
   "metadata": {},
   "outputs": [],
   "source": [
    "new_backend_2q = copy.deepcopy(backend_2q)"
   ]
  },
  {
   "cell_type": "code",
   "execution_count": 84,
   "metadata": {},
   "outputs": [],
   "source": [
    "new_config_2q = new_backend_2q.configuration()\n",
    "new_defaults_2q = new_backend_2q.defaults()"
   ]
  },
  {
   "cell_type": "code",
   "execution_count": 85,
   "metadata": {
    "tags": []
   },
   "outputs": [
    {
     "output_type": "stream",
     "name": "stdout",
     "text": "['_SUM[i,0,64,wq{i}/2*(I{i}-Z{i})]', '_SUM[i,0,64,delta{i}/2*O{i}*O{i}]', '_SUM[i,0,64,-delta{i}/2*O{i}]', '_SUM[i,0,64,omegad{i}*X{i}||D{i}]', 'jq42q43*Sp42*Sm43', 'jq42q43*Sm42*Sp43', 'jq22q23*Sp22*Sm23', 'jq22q23*Sm22*Sp23', 'jq36q37*Sp36*Sm37', 'jq36q37*Sm36*Sp37', 'jq28q29*Sp28*Sm29', 'jq28q29*Sm28*Sp29', 'jq53q60*Sp53*Sm60', 'jq53q60*Sm53*Sp60', 'jq61q62*Sp61*Sm62', 'jq61q62*Sm61*Sp62', 'jq5q6*Sp5*Sm6', 'jq5q6*Sm5*Sp6', 'jq8q9*Sp8*Sm9', 'jq8q9*Sm8*Sp9', 'jq34q35*Sp34*Sm35', 'jq34q35*Sm34*Sp35', 'jq18q19*Sp18*Sm19', 'jq18q19*Sm18*Sp19', 'jq23q26*Sp23*Sm26', 'jq23q26*Sm23*Sp26', 'jq0q10*Sp0*Sm10', 'jq0q10*Sm0*Sp10', 'jq51q54*Sp51*Sm54', 'jq51q54*Sm51*Sp54', 'jq59q60*Sp59*Sm60', 'jq59q60*Sm59*Sp60', 'jq30q31*Sp30*Sm31', 'jq30q31*Sm30*Sp31', 'jq46q47*Sp46*Sm47', 'jq46q47*Sm46*Sp47', 'jq31q32*Sp31*Sm32', 'jq31q32*Sm31*Sp32', 'jq63q64*Sp63*Sm64', 'jq63q64*Sm63*Sp64', 'jq49q50*Sp49*Sm50', 'jq49q50*Sm49*Sp50', 'jq1q2*Sp1*Sm2', 'jq1q2*Sm1*Sp2', 'jq16q17*Sp16*Sm17', 'jq16q17*Sm16*Sp17', 'jq32q33*Sp32*Sm33', 'jq32q33*Sm32*Sp33', 'jq6q7*Sp6*Sm7', 'jq6q7*Sm6*Sp7', 'jq58q59*Sp58*Sm59', 'jq58q59*Sm58*Sp59', 'jq44q45*Sp44*Sm45', 'jq44q45*Sm44*Sp45', 'jq20q21*Sp20*Sm21', 'jq20q21*Sm20*Sp21', 'jq47q53*Sp47*Sm53', 'jq47q53*Sm47*Sp53', 'jq39q45*Sp39*Sm45', 'jq39q45*Sm39*Sp45', 'jq56q57*Sp56*Sm57', 'jq56q57*Sm56*Sp57', 'jq35q40*Sp35*Sm40', 'jq35q40*Sm35*Sp40', 'jq19q25*Sp19*Sm25', 'jq19q25*Sm19*Sp25', 'jq3q4*Sp3*Sm4', 'jq3q4*Sm3*Sp4', 'jq27q28*Sp27*Sm28', 'jq27q28*Sm27*Sp28', 'jq35q36*Sp35*Sm36', 'jq35q36*Sm35*Sp36', 'jq47q48*Sp47*Sm48', 'jq47q48*Sm47*Sp48', 'jq54q64*Sp54*Sm64', 'jq54q64*Sm54*Sp64', 'jq12q21*Sp12*Sm21', 'jq12q21*Sm12*Sp21', 'jq38q41*Sp38*Sm41', 'jq38q41*Sm38*Sp41', 'jq31q39*Sp31*Sm39', 'jq31q39*Sm31*Sp39', 'jq60q61*Sp60*Sm61', 'jq60q61*Sm60*Sp61', 'jq4q5*Sp4*Sm5', 'jq4q5*Sm4*Sp5', 'jq29q30*Sp29*Sm30', 'jq29q30*Sm29*Sp30', 'jq10q13*Sp10*Sm13', 'jq10q13*Sm10*Sp13', 'jq41q42*Sp41*Sm42', 'jq41q42*Sm41*Sp42', 'jq26q37*Sp26*Sm37', 'jq26q37*Sm26*Sp37', 'jq50q51*Sp50*Sm51', 'jq50q51*Sm50*Sp51', 'jq2q3*Sp2*Sm3', 'jq2q3*Sm2*Sp3', 'jq14q15*Sp14*Sm15', 'jq14q15*Sm14*Sp15', 'jq62q63*Sp62*Sm63', 'jq62q63*Sm62*Sp63', 'jq40q49*Sp40*Sm49', 'jq40q49*Sm40*Sp49', 'jq19q20*Sp19*Sm20', 'jq19q20*Sm19*Sp20', 'jq55q56*Sp55*Sm56', 'jq55q56*Sm55*Sp56', 'jq4q11*Sp4*Sm11', 'jq4q11*Sm4*Sp11', 'jq43q44*Sp43*Sm44', 'jq43q44*Sm43*Sp44', 'jq48q49*Sp48*Sm49', 'jq48q49*Sm48*Sp49', 'jq33q34*Sp33*Sm34', 'jq33q34*Sm33*Sp34', 'jq0q1*Sp0*Sm1', 'jq0q1*Sm0*Sp1', 'jq17q18*Sp17*Sm18', 'jq17q18*Sm17*Sp18', 'jq7q8*Sp7*Sm8', 'jq7q8*Sm7*Sp8', 'jq11q17*Sp11*Sm17', 'jq11q17*Sm11*Sp17', 'jq15q24*Sp15*Sm24', 'jq15q24*Sm15*Sp24', 'jq8q12*Sp8*Sm12', 'jq8q12*Sm8*Sp12', 'jq45q46*Sp45*Sm46', 'jq45q46*Sm45*Sp46', 'jq52q56*Sp52*Sm56', 'jq52q56*Sm52*Sp56', 'jq24q29*Sp24*Sm29', 'jq24q29*Sm24*Sp29', 'jq13q14*Sp13*Sm14', 'jq13q14*Sm13*Sp14', 'jq21q22*Sp21*Sm22', 'jq21q22*Sm21*Sp22', 'jq27q38*Sp27*Sm38', 'jq27q38*Sm27*Sp38', 'jq57q58*Sp57*Sm58', 'jq57q58*Sm57*Sp58', 'jq43q52*Sp43*Sm52', 'jq43q52*Sm43*Sp52', 'jq25q33*Sp25*Sm33', 'jq25q33*Sm25*Sp33', 'jq15q16*Sp15*Sm16', 'jq15q16*Sm15*Sp16', 'omegad1*X0||U0', 'omegad10*X0||U1', 'omegad0*X1||U2', 'omegad2*X1||U3', 'omegad1*X2||U4', 'omegad3*X2||U5', 'omegad4*X3||U7', 'omegad2*X3||U6', 'omegad5*X4||U9', 'omegad3*X4||U8', 'omegad11*X4||U10', 'omegad4*X5||U11', 'omegad6*X5||U12', 'omegad7*X6||U14', 'omegad5*X6||U13', 'omegad6*X7||U15', 'omegad8*X7||U16', 'omegad12*X8||U19', 'omegad9*X8||U18', 'omegad7*X8||U17', 'omegad8*X9||U20', 'omegad0*X10||U21', 'omegad13*X10||U22', 'omegad4*X11||U23', 'omegad17*X11||U24', 'omegad21*X12||U26', 'omegad8*X12||U25', 'omegad10*X13||U27', 'omegad14*X13||U28', 'omegad15*X14||U30', 'omegad13*X14||U29', 'omegad24*X15||U33', 'omegad14*X15||U31', 'omegad16*X15||U32', 'omegad15*X16||U34', 'omegad17*X16||U35', 'omegad18*X17||U38', 'omegad16*X17||U37', 'omegad11*X17||U36', 'omegad19*X18||U40', 'omegad17*X18||U39', 'omegad18*X19||U41', 'omegad25*X19||U43', 'omegad20*X19||U42', 'omegad21*X20||U45', 'omegad19*X20||U44', 'omegad20*X21||U47', 'omegad12*X21||U46', 'omegad22*X21||U48', 'omegad23*X22||U50', 'omegad21*X22||U49', 'omegad26*X23||U52', 'omegad22*X23||U51', 'omegad15*X24||U53', 'omegad29*X24||U54', 'omegad33*X25||U56', 'omegad19*X25||U55', 'omegad37*X26||U58', 'omegad23*X26||U57', 'omegad28*X27||U59', 'omegad38*X27||U60', 'omegad29*X28||U62', 'omegad27*X28||U61', 'omegad24*X29||U63', 'omegad30*X29||U65', 'omegad28*X29||U64', 'omegad31*X30||U67', 'omegad29*X30||U66', 'omegad39*X31||U70', 'omegad30*X31||U68', 'omegad32*X31||U69', 'omegad33*X32||U72', 'omegad31*X32||U71', 'omegad32*X33||U74', 'omegad34*X33||U75', 'omegad25*X33||U73', 'omegad33*X34||U76', 'omegad35*X34||U77', 'omegad36*X35||U79', 'omegad34*X35||U78', 'omegad40*X35||U80', 'omegad37*X36||U82', 'omegad35*X36||U81', 'omegad26*X37||U83', 'omegad36*X37||U84', 'omegad41*X38||U86', 'omegad27*X38||U85', 'omegad45*X39||U88', 'omegad31*X39||U87', 'omegad35*X40||U89', 'omegad49*X40||U90', 'omegad42*X41||U92', 'omegad38*X41||U91', 'omegad43*X42||U94', 'omegad41*X42||U93', 'omegad52*X43||U97', 'omegad42*X43||U95', 'omegad44*X43||U96', 'omegad43*X44||U98', 'omegad45*X44||U99', 'omegad44*X45||U101', 'omegad39*X45||U100', 'omegad46*X45||U102', 'omegad45*X46||U103', 'omegad47*X46||U104', 'omegad48*X47||U106', 'omegad46*X47||U105', 'omegad53*X47||U107', 'omegad49*X48||U109', 'omegad47*X48||U108', 'omegad48*X49||U111', 'omegad40*X49||U110', 'omegad50*X49||U112', 'omegad51*X50||U114', 'omegad49*X50||U113', 'omegad50*X51||U115', 'omegad54*X51||U116', 'omegad56*X52||U118', 'omegad43*X52||U117', 'omegad47*X53||U119', 'omegad60*X53||U120', 'omegad64*X54||U122', 'omegad51*X54||U121', 'omegad56*X55||U123', 'omegad57*X56||U126', 'omegad52*X56||U124', 'omegad55*X56||U125', 'omegad56*X57||U127', 'omegad58*X57||U128', 'omegad59*X58||U130', 'omegad57*X58||U129', 'omegad58*X59||U131', 'omegad60*X59||U132', 'omegad59*X60||U134', 'omegad61*X60||U135', 'omegad53*X60||U133', 'omegad62*X61||U137', 'omegad60*X61||U136', 'omegad63*X62||U139', 'omegad61*X62||U138', 'omegad62*X63||U140', 'omegad64*X63||U141', 'omegad63*X64||U143', 'omegad54*X64||U142']\n{}\n{'delta0': -2.082409528201026, 'delta1': -2.108692153903296, 'delta10': -2.0955390950177173, 'delta11': -2.100958609864856, 'delta12': -2.0823524168566583, 'delta13': -2.079863390219936, 'delta14': -2.0986245342839465, 'delta15': -2.0913046165737534, 'delta16': -2.1147584685967837, 'delta17': -2.083431050881202, 'delta18': -2.0871760010235283, 'delta19': -2.079086146193932, 'delta2': -2.080054560307207, 'delta20': -2.0809593337496866, 'delta21': -2.0868952673573595, 'delta22': -2.081354695514319, 'delta23': -2.096787337379475, 'delta24': -2.0722106481259717, 'delta25': -2.080369744382093, 'delta26': -2.092116736278728, 'delta27': -2.0985738973098456, 'delta28': -2.0755414526932534, 'delta29': -2.0890822438286176, 'delta3': -2.0999212890853562, 'delta30': -2.08670780390729, 'delta31': -2.076201777361299, 'delta32': -2.070255050678703, 'delta33': -2.1040795888596437, 'delta34': -2.0877309202887857, 'delta35': -2.107373832439615, 'delta36': -2.079405179424301, 'delta37': -2.091835771162876, 'delta38': -2.075901371889025, 'delta39': -2.0904615623352276, 'delta4': -2.093628492226991, 'delta40': -2.1306861202665175, 'delta41': -2.0865518970755175, 'delta42': -2.1152611176603004, 'delta43': -2.0741726061075876, 'delta44': -2.093082321475129, 'delta45': -2.0852396753607954, 'delta46': -2.0829304635141854, 'delta47': -2.0805355428201646, 'delta48': -2.092295634525706, 'delta49': -2.0728983053097103, 'delta5': -2.1076108858437412, 'delta50': -2.086811512231418, 'delta51': -2.078875458274717, 'delta52': -2.0847345667675286, 'delta53': -2.1037851661025484, 'delta54': -2.1066228812119174, 'delta55': -2.0775332501812054, 'delta56': -2.0867337957738656, 'delta57': -2.120641152499985, 'delta58': -2.0857399265225287, 'delta59': -2.0776063293835523, 'delta6': -2.0896935883297525, 'delta60': -2.08902215551072, 'delta61': -2.1160016078860915, 'delta62': -2.089117798373012, 'delta63': -2.106330758762709, 'delta64': -2.090469682733742, 'delta7': -2.1008931274144858, 'delta8': -2.09572226614486, 'delta9': -2.081885599010024, 'jq0q1': 0.012293126322480197, 'jq0q10': 0.012506061323926414, 'jq10q13': 0.012445528646655686, 'jq11q17': 0.014292699740985727, 'jq12q21': 0.013420812572829672, 'jq13q14': 0.012806354710220087, 'jq14q15': 0.012455235392068503, 'jq15q16': 0.01392400194180702, 'jq15q24': 0.013824641378837092, 'jq16q17': 0.012025957844627774, 'jq17q18': 0.01296585887428978, 'jq18q19': 0.013479395190981156, 'jq19q20': 0.014721134228083887, 'jq19q25': 0.013361259873442314, 'jq1q2': 0.014257628792432683, 'jq20q21': 0.013718083908827651, 'jq21q22': 0.013070206591033964, 'jq22q23': 0.013192565295867128, 'jq23q26': 0.012334435215585887, 'jq24q29': 0.014622179654265583, 'jq25q33': 0.011912454565186921, 'jq26q37': 0.014236885627812433, 'jq27q28': 0.011835937472740586, 'jq27q38': 0.01253636713654229, 'jq28q29': 0.01251869485944329, 'jq29q30': 0.014432738193361454, 'jq2q3': 0.012749602059596514, 'jq30q31': 0.014817767976700003, 'jq31q32': 0.013864978685261379, 'jq31q39': 0.01269839045261408, 'jq32q33': 0.014014084477466687, 'jq33q34': 0.014006523303099622, 'jq34q35': 0.01417123882637102, 'jq35q36': 0.012256121671582123, 'jq35q40': 0.013791226499718482, 'jq36q37': 0.014636075023239822, 'jq38q41': 0.014205986579999483, 'jq39q45': 0.014673819712257608, 'jq3q4': 0.012988252166169719, 'jq40q49': 0.012321705512355174, 'jq41q42': 0.012203834781995035, 'jq42q43': 0.011744826069852273, 'jq43q44': 0.012387779554591777, 'jq43q52': 0.01318983211843102, 'jq44q45': 0.013440981657959898, 'jq45q46': 0.011177100670757341, 'jq46q47': 0.014317407226235642, 'jq47q48': 0.014282317803909025, 'jq47q53': 0.012241672335143047, 'jq48q49': 0.014084778609878017, 'jq49q50': 0.011997718139992678, 'jq4q11': 0.01359023012152749, 'jq4q5': 0.011436295161501919, 'jq50q51': 0.014022974065469465, 'jq51q54': 0.013100248864873943, 'jq52q56': 0.012232647573423192, 'jq53q60': 0.012325197151410994, 'jq54q64': 0.01384487521013418, 'jq55q56': 0.013812611788819809, 'jq56q57': 0.013923109255648576, 'jq57q58': 0.013408933599110447, 'jq58q59': 0.012615488355019093, 'jq59q60': 0.014347719071657588, 'jq5q6': 0.013696308053128872, 'jq60q61': 0.011701117396567696, 'jq61q62': 0.013949921276537719, 'jq62q63': 0.013207592452548331, 'jq63q64': 0.012358405647272436, 'jq6q7': 0.014084450205036876, 'jq7q8': 0.013883944784185722, 'jq8q12': 0.01199957126533062, 'jq8q9': 0.014509380006189681, 'omegad0': 0.6265482163023387, 'omegad1': 0.6318974768204234, 'omegad10': 0.584240387572316, 'omegad11': 0.6299797168576013, 'omegad12': 0.5769475412412077, 'omegad13': 0.6213794959264882, 'omegad14': 0.6313790100451301, 'omegad15': 0.6189288347198333, 'omegad16': 0.6171418949625461, 'omegad17': 0.6401224377857153, 'omegad18': 0.6532310031753834, 'omegad19': 0.6569191919130458, 'omegad2': 0.6459858759950807, 'omegad20': 0.6213764745321251, 'omegad21': 0.6277536499235236, 'omegad22': 0.6501443258137374, 'omegad23': 0.6309403889218422, 'omegad24': 0.6758111826619625, 'omegad25': 0.6374757380987868, 'omegad26': 0.6238178752910626, 'omegad27': 0.6378689809500069, 'omegad28': 0.6326024197850455, 'omegad29': 0.6235008139758542, 'omegad3': 0.6242899183063617, 'omegad30': 0.5986402064438107, 'omegad31': 0.6912173346875319, 'omegad32': 0.6396539786592738, 'omegad33': 0.6454199309785659, 'omegad34': 0.6280512630804376, 'omegad35': 0.6527146573218063, 'omegad36': 0.6296470554312362, 'omegad37': 0.6476116990722787, 'omegad38': 0.6169892160338252, 'omegad39': 0.6040017915841368, 'omegad4': 0.6513957546870849, 'omegad40': 0.679964194403978, 'omegad41': 0.6323104578895272, 'omegad42': 0.6393970595499089, 'omegad43': 0.6584190457904572, 'omegad44': 0.6440559847187488, 'omegad45': 0.6624326485862417, 'omegad46': 0.6663483222541601, 'omegad47': 0.6464059832962148, 'omegad48': 0.6625131758334153, 'omegad49': 0.6417297894141347, 'omegad5': 0.637025268498255, 'omegad50': 0.4174200206506, 'omegad51': 0.6146897624183675, 'omegad52': 0.6593082214369735, 'omegad53': 0.6356122563627956, 'omegad54': 0.6362934509245967, 'omegad55': 0.6593465200535722, 'omegad56': 0.6875853208615718, 'omegad57': 0.5884594574768139, 'omegad58': 0.654475283248349, 'omegad59': 0.630959509785883, 'omegad6': 0.6518163955195819, 'omegad60': 0.6544467939200809, 'omegad61': 0.6317053747708249, 'omegad62': 0.6702932256531142, 'omegad63': 0.6589840638201812, 'omegad64': 0.6462285104809115, 'omegad7': 0.6232922394720533, 'omegad8': 0.6477140199142712, 'omegad9': 0.6253123721066998, 'wq0': 30.39973664161857, 'wq1': 29.412448901965245, 'wq10': 29.4569982860439, 'wq11': 29.932423250831857, 'wq12': 31.03274909411622, 'wq13': 30.410748914232236, 'wq14': 29.312903818916944, 'wq15': 30.177777489986692, 'wq16': 29.21273670483878, 'wq17': 30.64323161369062, 'wq18': 30.26659269353999, 'wq19': 31.41138948214919, 'wq2': 31.079340176587035, 'wq20': 30.429059952910595, 'wq21': 30.03077147682922, 'wq22': 31.006459543935847, 'wq23': 30.14170716951582, 'wq24': 31.493408959095383, 'wq25': 30.528173468750573, 'wq26': 29.659734373761477, 'wq27': 30.157498540487563, 'wq28': 30.761231624143264, 'wq29': 30.069295553123265, 'wq3': 29.94387625617287, 'wq30': 30.72660894239305, 'wq31': 31.603449074919382, 'wq32': 30.775050207214395, 'wq33': 29.196226976026765, 'wq34': 30.03823340688754, 'wq35': 29.514894205608552, 'wq36': 31.232157473963984, 'wq37': 30.22773562913464, 'wq38': 31.227515167146052, 'wq39': 30.156245676632516, 'wq4': 29.594936361374252, 'wq40': 28.556510786364903, 'wq41': 30.16794805142547, 'wq42': 29.298348753337727, 'wq43': 30.062520788421544, 'wq44': 29.424795140673755, 'wq45': 30.98093410237175, 'wq46': 30.15254009843977, 'wq47': 30.69562517782105, 'wq48': 29.89353602310175, 'wq49': 29.286130324404738, 'wq5': 28.740603152470804, 'wq50': 30.046805375702597, 'wq51': 30.706921550953986, 'wq52': 30.780713446473722, 'wq53': 29.388576979478863, 'wq54': 29.54769649340745, 'wq55': 30.671190777436735, 'wq56': 30.13041460332499, 'wq57': 29.016345713187942, 'wq58': 30.06083371753795, 'wq59': 30.941510234069433, 'wq6': 29.897315291190434, 'wq60': 30.015187593209117, 'wq61': 29.161610888613364, 'wq62': 30.318693130031047, 'wq63': 29.518086334755242, 'wq64': 30.36120017030202, 'wq7': 29.091956375955935, 'wq8': 30.02262994914163, 'wq9': 30.97138729600599}\n"
    }
   ],
   "source": [
    "new_hamiltonian_2q = new_config_2q.hamiltonian\n",
    "print(new_hamiltonian_2q['h_str'])\n",
    "print(new_hamiltonian_2q['osc'])\n",
    "print(new_hamiltonian_2q['vars'])"
   ]
  },
  {
   "cell_type": "markdown",
   "metadata": {},
   "source": [
    "### Modifications"
   ]
  },
  {
   "cell_type": "code",
   "execution_count": 86,
   "metadata": {},
   "outputs": [
    {
     "output_type": "execute_result",
     "data": {
      "text/plain": "24586252.644960392"
     },
     "metadata": {},
     "execution_count": 86
    }
   ],
   "source": [
    "new_hamiltonian_2q['vars'] = {k: v*1e9 for k, v in new_hamiltonian_2q['vars'].items()}\n",
    "new_hamiltonian_2q['qub'] = {k: 3 for k in new_hamiltonian_2q['qub'].keys()}\n",
    "new_hamiltonian_2q['vars']['omegad0'] = new_hamiltonian_2q['vars']['omegad0']*2\n",
    "new_hamiltonian_2q['vars']['omegad1'] = new_hamiltonian_2q['vars']['omegad1']*2\n",
    "new_hamiltonian_2q['vars']['jq0q1'] = 2*new_hamiltonian_2q['vars']['jq0q1']\n",
    "new_hamiltonian_2q['vars']['jq0q1']"
   ]
  },
  {
   "cell_type": "code",
   "execution_count": 87,
   "metadata": {},
   "outputs": [],
   "source": [
    "new_model_2q = PulseSystemModel.from_backend(new_backend_2q, subsystem_list=[0, 1])"
   ]
  },
  {
   "cell_type": "code",
   "execution_count": 88,
   "metadata": {},
   "outputs": [],
   "source": [
    "bell_qobj = assemble(bell_sched, backend=sim)\n",
    "job = sim.run(bell_qobj, system_model=new_model_2q)"
   ]
  },
  {
   "cell_type": "code",
   "execution_count": 89,
   "metadata": {},
   "outputs": [
    {
     "output_type": "error",
     "ename": "KeyboardInterrupt",
     "evalue": "",
     "traceback": [
      "\u001b[0;31m---------------------------------------------------------------------------\u001b[0m",
      "\u001b[0;31mKeyboardInterrupt\u001b[0m                         Traceback (most recent call last)",
      "\u001b[0;32m<ipython-input-89-209c7cc62cf4>\u001b[0m in \u001b[0;36m<module>\u001b[0;34m\u001b[0m\n\u001b[0;32m----> 1\u001b[0;31m \u001b[0mbell_sched\u001b[0m\u001b[0;34m.\u001b[0m\u001b[0mdraw\u001b[0m\u001b[0;34m(\u001b[0m\u001b[0;34m)\u001b[0m\u001b[0;34m\u001b[0m\u001b[0;34m\u001b[0m\u001b[0m\n\u001b[0m",
      "\u001b[0;32m~/anaconda3/envs/qoc/lib/python3.8/site-packages/IPython/core/displayhook.py\u001b[0m in \u001b[0;36m__call__\u001b[0;34m(self, result)\u001b[0m\n\u001b[1;32m    260\u001b[0m             \u001b[0mself\u001b[0m\u001b[0;34m.\u001b[0m\u001b[0mstart_displayhook\u001b[0m\u001b[0;34m(\u001b[0m\u001b[0;34m)\u001b[0m\u001b[0;34m\u001b[0m\u001b[0;34m\u001b[0m\u001b[0m\n\u001b[1;32m    261\u001b[0m             \u001b[0mself\u001b[0m\u001b[0;34m.\u001b[0m\u001b[0mwrite_output_prompt\u001b[0m\u001b[0;34m(\u001b[0m\u001b[0;34m)\u001b[0m\u001b[0;34m\u001b[0m\u001b[0;34m\u001b[0m\u001b[0m\n\u001b[0;32m--> 262\u001b[0;31m             \u001b[0mformat_dict\u001b[0m\u001b[0;34m,\u001b[0m \u001b[0mmd_dict\u001b[0m \u001b[0;34m=\u001b[0m \u001b[0mself\u001b[0m\u001b[0;34m.\u001b[0m\u001b[0mcompute_format_data\u001b[0m\u001b[0;34m(\u001b[0m\u001b[0mresult\u001b[0m\u001b[0;34m)\u001b[0m\u001b[0;34m\u001b[0m\u001b[0;34m\u001b[0m\u001b[0m\n\u001b[0m\u001b[1;32m    263\u001b[0m             \u001b[0mself\u001b[0m\u001b[0;34m.\u001b[0m\u001b[0mupdate_user_ns\u001b[0m\u001b[0;34m(\u001b[0m\u001b[0mresult\u001b[0m\u001b[0;34m)\u001b[0m\u001b[0;34m\u001b[0m\u001b[0;34m\u001b[0m\u001b[0m\n\u001b[1;32m    264\u001b[0m             \u001b[0mself\u001b[0m\u001b[0;34m.\u001b[0m\u001b[0mfill_exec_result\u001b[0m\u001b[0;34m(\u001b[0m\u001b[0mresult\u001b[0m\u001b[0;34m)\u001b[0m\u001b[0;34m\u001b[0m\u001b[0;34m\u001b[0m\u001b[0m\n",
      "\u001b[0;32m~/anaconda3/envs/qoc/lib/python3.8/site-packages/IPython/core/displayhook.py\u001b[0m in \u001b[0;36mcompute_format_data\u001b[0;34m(self, result)\u001b[0m\n\u001b[1;32m    149\u001b[0m \u001b[0;34m\u001b[0m\u001b[0m\n\u001b[1;32m    150\u001b[0m         \"\"\"\n\u001b[0;32m--> 151\u001b[0;31m         \u001b[0;32mreturn\u001b[0m \u001b[0mself\u001b[0m\u001b[0;34m.\u001b[0m\u001b[0mshell\u001b[0m\u001b[0;34m.\u001b[0m\u001b[0mdisplay_formatter\u001b[0m\u001b[0;34m.\u001b[0m\u001b[0mformat\u001b[0m\u001b[0;34m(\u001b[0m\u001b[0mresult\u001b[0m\u001b[0;34m)\u001b[0m\u001b[0;34m\u001b[0m\u001b[0;34m\u001b[0m\u001b[0m\n\u001b[0m\u001b[1;32m    152\u001b[0m \u001b[0;34m\u001b[0m\u001b[0m\n\u001b[1;32m    153\u001b[0m     \u001b[0;31m# This can be set to True by the write_output_prompt method in a subclass\u001b[0m\u001b[0;34m\u001b[0m\u001b[0;34m\u001b[0m\u001b[0;34m\u001b[0m\u001b[0m\n",
      "\u001b[0;32m~/anaconda3/envs/qoc/lib/python3.8/site-packages/IPython/core/formatters.py\u001b[0m in \u001b[0;36mformat\u001b[0;34m(self, obj, include, exclude)\u001b[0m\n\u001b[1;32m    178\u001b[0m             \u001b[0mmd\u001b[0m \u001b[0;34m=\u001b[0m \u001b[0;32mNone\u001b[0m\u001b[0;34m\u001b[0m\u001b[0;34m\u001b[0m\u001b[0m\n\u001b[1;32m    179\u001b[0m             \u001b[0;32mtry\u001b[0m\u001b[0;34m:\u001b[0m\u001b[0;34m\u001b[0m\u001b[0;34m\u001b[0m\u001b[0m\n\u001b[0;32m--> 180\u001b[0;31m                 \u001b[0mdata\u001b[0m \u001b[0;34m=\u001b[0m \u001b[0mformatter\u001b[0m\u001b[0;34m(\u001b[0m\u001b[0mobj\u001b[0m\u001b[0;34m)\u001b[0m\u001b[0;34m\u001b[0m\u001b[0;34m\u001b[0m\u001b[0m\n\u001b[0m\u001b[1;32m    181\u001b[0m             \u001b[0;32mexcept\u001b[0m\u001b[0;34m:\u001b[0m\u001b[0;34m\u001b[0m\u001b[0;34m\u001b[0m\u001b[0m\n\u001b[1;32m    182\u001b[0m                 \u001b[0;31m# FIXME: log the exception\u001b[0m\u001b[0;34m\u001b[0m\u001b[0;34m\u001b[0m\u001b[0;34m\u001b[0m\u001b[0m\n",
      "\u001b[0;32m<decorator-gen-9>\u001b[0m in \u001b[0;36m__call__\u001b[0;34m(self, obj)\u001b[0m\n",
      "\u001b[0;32m~/anaconda3/envs/qoc/lib/python3.8/site-packages/IPython/core/formatters.py\u001b[0m in \u001b[0;36mcatch_format_error\u001b[0;34m(method, self, *args, **kwargs)\u001b[0m\n\u001b[1;32m    222\u001b[0m     \u001b[0;34m\"\"\"show traceback on failed format call\"\"\"\u001b[0m\u001b[0;34m\u001b[0m\u001b[0;34m\u001b[0m\u001b[0m\n\u001b[1;32m    223\u001b[0m     \u001b[0;32mtry\u001b[0m\u001b[0;34m:\u001b[0m\u001b[0;34m\u001b[0m\u001b[0;34m\u001b[0m\u001b[0m\n\u001b[0;32m--> 224\u001b[0;31m         \u001b[0mr\u001b[0m \u001b[0;34m=\u001b[0m \u001b[0mmethod\u001b[0m\u001b[0;34m(\u001b[0m\u001b[0mself\u001b[0m\u001b[0;34m,\u001b[0m \u001b[0;34m*\u001b[0m\u001b[0margs\u001b[0m\u001b[0;34m,\u001b[0m \u001b[0;34m**\u001b[0m\u001b[0mkwargs\u001b[0m\u001b[0;34m)\u001b[0m\u001b[0;34m\u001b[0m\u001b[0;34m\u001b[0m\u001b[0m\n\u001b[0m\u001b[1;32m    225\u001b[0m     \u001b[0;32mexcept\u001b[0m \u001b[0mNotImplementedError\u001b[0m\u001b[0;34m:\u001b[0m\u001b[0;34m\u001b[0m\u001b[0;34m\u001b[0m\u001b[0m\n\u001b[1;32m    226\u001b[0m         \u001b[0;31m# don't warn on NotImplementedErrors\u001b[0m\u001b[0;34m\u001b[0m\u001b[0;34m\u001b[0m\u001b[0;34m\u001b[0m\u001b[0m\n",
      "\u001b[0;32m~/anaconda3/envs/qoc/lib/python3.8/site-packages/IPython/core/formatters.py\u001b[0m in \u001b[0;36m__call__\u001b[0;34m(self, obj)\u001b[0m\n\u001b[1;32m    339\u001b[0m                 \u001b[0;32mpass\u001b[0m\u001b[0;34m\u001b[0m\u001b[0;34m\u001b[0m\u001b[0m\n\u001b[1;32m    340\u001b[0m             \u001b[0;32melse\u001b[0m\u001b[0;34m:\u001b[0m\u001b[0;34m\u001b[0m\u001b[0;34m\u001b[0m\u001b[0m\n\u001b[0;32m--> 341\u001b[0;31m                 \u001b[0;32mreturn\u001b[0m \u001b[0mprinter\u001b[0m\u001b[0;34m(\u001b[0m\u001b[0mobj\u001b[0m\u001b[0;34m)\u001b[0m\u001b[0;34m\u001b[0m\u001b[0;34m\u001b[0m\u001b[0m\n\u001b[0m\u001b[1;32m    342\u001b[0m             \u001b[0;31m# Finally look for special method names\u001b[0m\u001b[0;34m\u001b[0m\u001b[0;34m\u001b[0m\u001b[0;34m\u001b[0m\u001b[0m\n\u001b[1;32m    343\u001b[0m             \u001b[0mmethod\u001b[0m \u001b[0;34m=\u001b[0m \u001b[0mget_real_method\u001b[0m\u001b[0;34m(\u001b[0m\u001b[0mobj\u001b[0m\u001b[0;34m,\u001b[0m \u001b[0mself\u001b[0m\u001b[0;34m.\u001b[0m\u001b[0mprint_method\u001b[0m\u001b[0;34m)\u001b[0m\u001b[0;34m\u001b[0m\u001b[0;34m\u001b[0m\u001b[0m\n",
      "\u001b[0;32m~/anaconda3/envs/qoc/lib/python3.8/site-packages/IPython/core/pylabtools.py\u001b[0m in \u001b[0;36m<lambda>\u001b[0;34m(fig)\u001b[0m\n\u001b[1;32m    252\u001b[0m         \u001b[0mjpg_formatter\u001b[0m\u001b[0;34m.\u001b[0m\u001b[0mfor_type\u001b[0m\u001b[0;34m(\u001b[0m\u001b[0mFigure\u001b[0m\u001b[0;34m,\u001b[0m \u001b[0;32mlambda\u001b[0m \u001b[0mfig\u001b[0m\u001b[0;34m:\u001b[0m \u001b[0mprint_figure\u001b[0m\u001b[0;34m(\u001b[0m\u001b[0mfig\u001b[0m\u001b[0;34m,\u001b[0m \u001b[0;34m'jpg'\u001b[0m\u001b[0;34m,\u001b[0m \u001b[0;34m**\u001b[0m\u001b[0mkwargs\u001b[0m\u001b[0;34m)\u001b[0m\u001b[0;34m)\u001b[0m\u001b[0;34m\u001b[0m\u001b[0;34m\u001b[0m\u001b[0m\n\u001b[1;32m    253\u001b[0m     \u001b[0;32mif\u001b[0m \u001b[0;34m'svg'\u001b[0m \u001b[0;32min\u001b[0m \u001b[0mformats\u001b[0m\u001b[0;34m:\u001b[0m\u001b[0;34m\u001b[0m\u001b[0;34m\u001b[0m\u001b[0m\n\u001b[0;32m--> 254\u001b[0;31m         \u001b[0msvg_formatter\u001b[0m\u001b[0;34m.\u001b[0m\u001b[0mfor_type\u001b[0m\u001b[0;34m(\u001b[0m\u001b[0mFigure\u001b[0m\u001b[0;34m,\u001b[0m \u001b[0;32mlambda\u001b[0m \u001b[0mfig\u001b[0m\u001b[0;34m:\u001b[0m \u001b[0mprint_figure\u001b[0m\u001b[0;34m(\u001b[0m\u001b[0mfig\u001b[0m\u001b[0;34m,\u001b[0m \u001b[0;34m'svg'\u001b[0m\u001b[0;34m,\u001b[0m \u001b[0;34m**\u001b[0m\u001b[0mkwargs\u001b[0m\u001b[0;34m)\u001b[0m\u001b[0;34m)\u001b[0m\u001b[0;34m\u001b[0m\u001b[0;34m\u001b[0m\u001b[0m\n\u001b[0m\u001b[1;32m    255\u001b[0m     \u001b[0;32mif\u001b[0m \u001b[0;34m'pdf'\u001b[0m \u001b[0;32min\u001b[0m \u001b[0mformats\u001b[0m\u001b[0;34m:\u001b[0m\u001b[0;34m\u001b[0m\u001b[0;34m\u001b[0m\u001b[0m\n\u001b[1;32m    256\u001b[0m         \u001b[0mpdf_formatter\u001b[0m\u001b[0;34m.\u001b[0m\u001b[0mfor_type\u001b[0m\u001b[0;34m(\u001b[0m\u001b[0mFigure\u001b[0m\u001b[0;34m,\u001b[0m \u001b[0;32mlambda\u001b[0m \u001b[0mfig\u001b[0m\u001b[0;34m:\u001b[0m \u001b[0mprint_figure\u001b[0m\u001b[0;34m(\u001b[0m\u001b[0mfig\u001b[0m\u001b[0;34m,\u001b[0m \u001b[0;34m'pdf'\u001b[0m\u001b[0;34m,\u001b[0m \u001b[0;34m**\u001b[0m\u001b[0mkwargs\u001b[0m\u001b[0;34m)\u001b[0m\u001b[0;34m)\u001b[0m\u001b[0;34m\u001b[0m\u001b[0;34m\u001b[0m\u001b[0m\n",
      "\u001b[0;32m~/anaconda3/envs/qoc/lib/python3.8/site-packages/IPython/core/pylabtools.py\u001b[0m in \u001b[0;36mprint_figure\u001b[0;34m(fig, fmt, bbox_inches, **kwargs)\u001b[0m\n\u001b[1;32m    130\u001b[0m         \u001b[0mFigureCanvasBase\u001b[0m\u001b[0;34m(\u001b[0m\u001b[0mfig\u001b[0m\u001b[0;34m)\u001b[0m\u001b[0;34m\u001b[0m\u001b[0;34m\u001b[0m\u001b[0m\n\u001b[1;32m    131\u001b[0m \u001b[0;34m\u001b[0m\u001b[0m\n\u001b[0;32m--> 132\u001b[0;31m     \u001b[0mfig\u001b[0m\u001b[0;34m.\u001b[0m\u001b[0mcanvas\u001b[0m\u001b[0;34m.\u001b[0m\u001b[0mprint_figure\u001b[0m\u001b[0;34m(\u001b[0m\u001b[0mbytes_io\u001b[0m\u001b[0;34m,\u001b[0m \u001b[0;34m**\u001b[0m\u001b[0mkw\u001b[0m\u001b[0;34m)\u001b[0m\u001b[0;34m\u001b[0m\u001b[0;34m\u001b[0m\u001b[0m\n\u001b[0m\u001b[1;32m    133\u001b[0m     \u001b[0mdata\u001b[0m \u001b[0;34m=\u001b[0m \u001b[0mbytes_io\u001b[0m\u001b[0;34m.\u001b[0m\u001b[0mgetvalue\u001b[0m\u001b[0;34m(\u001b[0m\u001b[0;34m)\u001b[0m\u001b[0;34m\u001b[0m\u001b[0;34m\u001b[0m\u001b[0m\n\u001b[1;32m    134\u001b[0m     \u001b[0;32mif\u001b[0m \u001b[0mfmt\u001b[0m \u001b[0;34m==\u001b[0m \u001b[0;34m'svg'\u001b[0m\u001b[0;34m:\u001b[0m\u001b[0;34m\u001b[0m\u001b[0;34m\u001b[0m\u001b[0m\n",
      "\u001b[0;32m~/anaconda3/envs/qoc/lib/python3.8/site-packages/matplotlib/backend_bases.py\u001b[0m in \u001b[0;36mprint_figure\u001b[0;34m(self, filename, dpi, facecolor, edgecolor, orientation, format, bbox_inches, pad_inches, bbox_extra_artists, backend, **kwargs)\u001b[0m\n\u001b[1;32m   2191\u001b[0m                            else suppress())\n\u001b[1;32m   2192\u001b[0m                     \u001b[0;32mwith\u001b[0m \u001b[0mctx\u001b[0m\u001b[0;34m:\u001b[0m\u001b[0;34m\u001b[0m\u001b[0;34m\u001b[0m\u001b[0m\n\u001b[0;32m-> 2193\u001b[0;31m                         \u001b[0mself\u001b[0m\u001b[0;34m.\u001b[0m\u001b[0mfigure\u001b[0m\u001b[0;34m.\u001b[0m\u001b[0mdraw\u001b[0m\u001b[0;34m(\u001b[0m\u001b[0mrenderer\u001b[0m\u001b[0;34m)\u001b[0m\u001b[0;34m\u001b[0m\u001b[0;34m\u001b[0m\u001b[0m\n\u001b[0m\u001b[1;32m   2194\u001b[0m \u001b[0;34m\u001b[0m\u001b[0m\n\u001b[1;32m   2195\u001b[0m                     bbox_inches = self.figure.get_tightbbox(\n",
      "\u001b[0;32m~/anaconda3/envs/qoc/lib/python3.8/site-packages/matplotlib/artist.py\u001b[0m in \u001b[0;36mdraw_wrapper\u001b[0;34m(artist, renderer, *args, **kwargs)\u001b[0m\n\u001b[1;32m     39\u001b[0m                 \u001b[0mrenderer\u001b[0m\u001b[0;34m.\u001b[0m\u001b[0mstart_filter\u001b[0m\u001b[0;34m(\u001b[0m\u001b[0;34m)\u001b[0m\u001b[0;34m\u001b[0m\u001b[0;34m\u001b[0m\u001b[0m\n\u001b[1;32m     40\u001b[0m \u001b[0;34m\u001b[0m\u001b[0m\n\u001b[0;32m---> 41\u001b[0;31m             \u001b[0;32mreturn\u001b[0m \u001b[0mdraw\u001b[0m\u001b[0;34m(\u001b[0m\u001b[0martist\u001b[0m\u001b[0;34m,\u001b[0m \u001b[0mrenderer\u001b[0m\u001b[0;34m,\u001b[0m \u001b[0;34m*\u001b[0m\u001b[0margs\u001b[0m\u001b[0;34m,\u001b[0m \u001b[0;34m**\u001b[0m\u001b[0mkwargs\u001b[0m\u001b[0;34m)\u001b[0m\u001b[0;34m\u001b[0m\u001b[0;34m\u001b[0m\u001b[0m\n\u001b[0m\u001b[1;32m     42\u001b[0m         \u001b[0;32mfinally\u001b[0m\u001b[0;34m:\u001b[0m\u001b[0;34m\u001b[0m\u001b[0;34m\u001b[0m\u001b[0m\n\u001b[1;32m     43\u001b[0m             \u001b[0;32mif\u001b[0m \u001b[0martist\u001b[0m\u001b[0;34m.\u001b[0m\u001b[0mget_agg_filter\u001b[0m\u001b[0;34m(\u001b[0m\u001b[0;34m)\u001b[0m \u001b[0;32mis\u001b[0m \u001b[0;32mnot\u001b[0m \u001b[0;32mNone\u001b[0m\u001b[0;34m:\u001b[0m\u001b[0;34m\u001b[0m\u001b[0;34m\u001b[0m\u001b[0m\n",
      "\u001b[0;32m~/anaconda3/envs/qoc/lib/python3.8/site-packages/matplotlib/figure.py\u001b[0m in \u001b[0;36mdraw\u001b[0;34m(self, renderer)\u001b[0m\n\u001b[1;32m   1861\u001b[0m \u001b[0;34m\u001b[0m\u001b[0m\n\u001b[1;32m   1862\u001b[0m             \u001b[0mself\u001b[0m\u001b[0;34m.\u001b[0m\u001b[0mpatch\u001b[0m\u001b[0;34m.\u001b[0m\u001b[0mdraw\u001b[0m\u001b[0;34m(\u001b[0m\u001b[0mrenderer\u001b[0m\u001b[0;34m)\u001b[0m\u001b[0;34m\u001b[0m\u001b[0;34m\u001b[0m\u001b[0m\n\u001b[0;32m-> 1863\u001b[0;31m             mimage._draw_list_compositing_images(\n\u001b[0m\u001b[1;32m   1864\u001b[0m                 renderer, self, artists, self.suppressComposite)\n\u001b[1;32m   1865\u001b[0m \u001b[0;34m\u001b[0m\u001b[0m\n",
      "\u001b[0;32m~/anaconda3/envs/qoc/lib/python3.8/site-packages/matplotlib/image.py\u001b[0m in \u001b[0;36m_draw_list_compositing_images\u001b[0;34m(renderer, parent, artists, suppress_composite)\u001b[0m\n\u001b[1;32m    129\u001b[0m     \u001b[0;32mif\u001b[0m \u001b[0mnot_composite\u001b[0m \u001b[0;32mor\u001b[0m \u001b[0;32mnot\u001b[0m \u001b[0mhas_images\u001b[0m\u001b[0;34m:\u001b[0m\u001b[0;34m\u001b[0m\u001b[0;34m\u001b[0m\u001b[0m\n\u001b[1;32m    130\u001b[0m         \u001b[0;32mfor\u001b[0m \u001b[0ma\u001b[0m \u001b[0;32min\u001b[0m \u001b[0martists\u001b[0m\u001b[0;34m:\u001b[0m\u001b[0;34m\u001b[0m\u001b[0;34m\u001b[0m\u001b[0m\n\u001b[0;32m--> 131\u001b[0;31m             \u001b[0ma\u001b[0m\u001b[0;34m.\u001b[0m\u001b[0mdraw\u001b[0m\u001b[0;34m(\u001b[0m\u001b[0mrenderer\u001b[0m\u001b[0;34m)\u001b[0m\u001b[0;34m\u001b[0m\u001b[0;34m\u001b[0m\u001b[0m\n\u001b[0m\u001b[1;32m    132\u001b[0m     \u001b[0;32melse\u001b[0m\u001b[0;34m:\u001b[0m\u001b[0;34m\u001b[0m\u001b[0;34m\u001b[0m\u001b[0m\n\u001b[1;32m    133\u001b[0m         \u001b[0;31m# Composite any adjacent images together\u001b[0m\u001b[0;34m\u001b[0m\u001b[0;34m\u001b[0m\u001b[0;34m\u001b[0m\u001b[0m\n",
      "\u001b[0;32m~/anaconda3/envs/qoc/lib/python3.8/site-packages/matplotlib/artist.py\u001b[0m in \u001b[0;36mdraw_wrapper\u001b[0;34m(artist, renderer, *args, **kwargs)\u001b[0m\n\u001b[1;32m     39\u001b[0m                 \u001b[0mrenderer\u001b[0m\u001b[0;34m.\u001b[0m\u001b[0mstart_filter\u001b[0m\u001b[0;34m(\u001b[0m\u001b[0;34m)\u001b[0m\u001b[0;34m\u001b[0m\u001b[0;34m\u001b[0m\u001b[0m\n\u001b[1;32m     40\u001b[0m \u001b[0;34m\u001b[0m\u001b[0m\n\u001b[0;32m---> 41\u001b[0;31m             \u001b[0;32mreturn\u001b[0m \u001b[0mdraw\u001b[0m\u001b[0;34m(\u001b[0m\u001b[0martist\u001b[0m\u001b[0;34m,\u001b[0m \u001b[0mrenderer\u001b[0m\u001b[0;34m,\u001b[0m \u001b[0;34m*\u001b[0m\u001b[0margs\u001b[0m\u001b[0;34m,\u001b[0m \u001b[0;34m**\u001b[0m\u001b[0mkwargs\u001b[0m\u001b[0;34m)\u001b[0m\u001b[0;34m\u001b[0m\u001b[0;34m\u001b[0m\u001b[0m\n\u001b[0m\u001b[1;32m     42\u001b[0m         \u001b[0;32mfinally\u001b[0m\u001b[0;34m:\u001b[0m\u001b[0;34m\u001b[0m\u001b[0;34m\u001b[0m\u001b[0m\n\u001b[1;32m     43\u001b[0m             \u001b[0;32mif\u001b[0m \u001b[0martist\u001b[0m\u001b[0;34m.\u001b[0m\u001b[0mget_agg_filter\u001b[0m\u001b[0;34m(\u001b[0m\u001b[0;34m)\u001b[0m \u001b[0;32mis\u001b[0m \u001b[0;32mnot\u001b[0m \u001b[0;32mNone\u001b[0m\u001b[0;34m:\u001b[0m\u001b[0;34m\u001b[0m\u001b[0;34m\u001b[0m\u001b[0m\n",
      "\u001b[0;32m~/anaconda3/envs/qoc/lib/python3.8/site-packages/matplotlib/cbook/deprecation.py\u001b[0m in \u001b[0;36mwrapper\u001b[0;34m(*inner_args, **inner_kwargs)\u001b[0m\n\u001b[1;32m    409\u001b[0m                          \u001b[0;32melse\u001b[0m \u001b[0mdeprecation_addendum\u001b[0m\u001b[0;34m,\u001b[0m\u001b[0;34m\u001b[0m\u001b[0;34m\u001b[0m\u001b[0m\n\u001b[1;32m    410\u001b[0m                 **kwargs)\n\u001b[0;32m--> 411\u001b[0;31m         \u001b[0;32mreturn\u001b[0m \u001b[0mfunc\u001b[0m\u001b[0;34m(\u001b[0m\u001b[0;34m*\u001b[0m\u001b[0minner_args\u001b[0m\u001b[0;34m,\u001b[0m \u001b[0;34m**\u001b[0m\u001b[0minner_kwargs\u001b[0m\u001b[0;34m)\u001b[0m\u001b[0;34m\u001b[0m\u001b[0;34m\u001b[0m\u001b[0m\n\u001b[0m\u001b[1;32m    412\u001b[0m \u001b[0;34m\u001b[0m\u001b[0m\n\u001b[1;32m    413\u001b[0m     \u001b[0;32mreturn\u001b[0m \u001b[0mwrapper\u001b[0m\u001b[0;34m\u001b[0m\u001b[0;34m\u001b[0m\u001b[0m\n",
      "\u001b[0;32m~/anaconda3/envs/qoc/lib/python3.8/site-packages/matplotlib/axes/_base.py\u001b[0m in \u001b[0;36mdraw\u001b[0;34m(self, renderer, inframe)\u001b[0m\n\u001b[1;32m   2746\u001b[0m             \u001b[0mrenderer\u001b[0m\u001b[0;34m.\u001b[0m\u001b[0mstop_rasterizing\u001b[0m\u001b[0;34m(\u001b[0m\u001b[0;34m)\u001b[0m\u001b[0;34m\u001b[0m\u001b[0;34m\u001b[0m\u001b[0m\n\u001b[1;32m   2747\u001b[0m \u001b[0;34m\u001b[0m\u001b[0m\n\u001b[0;32m-> 2748\u001b[0;31m         \u001b[0mmimage\u001b[0m\u001b[0;34m.\u001b[0m\u001b[0m_draw_list_compositing_images\u001b[0m\u001b[0;34m(\u001b[0m\u001b[0mrenderer\u001b[0m\u001b[0;34m,\u001b[0m \u001b[0mself\u001b[0m\u001b[0;34m,\u001b[0m \u001b[0martists\u001b[0m\u001b[0;34m)\u001b[0m\u001b[0;34m\u001b[0m\u001b[0;34m\u001b[0m\u001b[0m\n\u001b[0m\u001b[1;32m   2749\u001b[0m \u001b[0;34m\u001b[0m\u001b[0m\n\u001b[1;32m   2750\u001b[0m         \u001b[0mrenderer\u001b[0m\u001b[0;34m.\u001b[0m\u001b[0mclose_group\u001b[0m\u001b[0;34m(\u001b[0m\u001b[0;34m'axes'\u001b[0m\u001b[0;34m)\u001b[0m\u001b[0;34m\u001b[0m\u001b[0;34m\u001b[0m\u001b[0m\n",
      "\u001b[0;32m~/anaconda3/envs/qoc/lib/python3.8/site-packages/matplotlib/image.py\u001b[0m in \u001b[0;36m_draw_list_compositing_images\u001b[0;34m(renderer, parent, artists, suppress_composite)\u001b[0m\n\u001b[1;32m    129\u001b[0m     \u001b[0;32mif\u001b[0m \u001b[0mnot_composite\u001b[0m \u001b[0;32mor\u001b[0m \u001b[0;32mnot\u001b[0m \u001b[0mhas_images\u001b[0m\u001b[0;34m:\u001b[0m\u001b[0;34m\u001b[0m\u001b[0;34m\u001b[0m\u001b[0m\n\u001b[1;32m    130\u001b[0m         \u001b[0;32mfor\u001b[0m \u001b[0ma\u001b[0m \u001b[0;32min\u001b[0m \u001b[0martists\u001b[0m\u001b[0;34m:\u001b[0m\u001b[0;34m\u001b[0m\u001b[0;34m\u001b[0m\u001b[0m\n\u001b[0;32m--> 131\u001b[0;31m             \u001b[0ma\u001b[0m\u001b[0;34m.\u001b[0m\u001b[0mdraw\u001b[0m\u001b[0;34m(\u001b[0m\u001b[0mrenderer\u001b[0m\u001b[0;34m)\u001b[0m\u001b[0;34m\u001b[0m\u001b[0;34m\u001b[0m\u001b[0m\n\u001b[0m\u001b[1;32m    132\u001b[0m     \u001b[0;32melse\u001b[0m\u001b[0;34m:\u001b[0m\u001b[0;34m\u001b[0m\u001b[0;34m\u001b[0m\u001b[0m\n\u001b[1;32m    133\u001b[0m         \u001b[0;31m# Composite any adjacent images together\u001b[0m\u001b[0;34m\u001b[0m\u001b[0;34m\u001b[0m\u001b[0;34m\u001b[0m\u001b[0m\n",
      "\u001b[0;32m~/anaconda3/envs/qoc/lib/python3.8/site-packages/matplotlib/artist.py\u001b[0m in \u001b[0;36mdraw_wrapper\u001b[0;34m(artist, renderer, *args, **kwargs)\u001b[0m\n\u001b[1;32m     39\u001b[0m                 \u001b[0mrenderer\u001b[0m\u001b[0;34m.\u001b[0m\u001b[0mstart_filter\u001b[0m\u001b[0;34m(\u001b[0m\u001b[0;34m)\u001b[0m\u001b[0;34m\u001b[0m\u001b[0;34m\u001b[0m\u001b[0m\n\u001b[1;32m     40\u001b[0m \u001b[0;34m\u001b[0m\u001b[0m\n\u001b[0;32m---> 41\u001b[0;31m             \u001b[0;32mreturn\u001b[0m \u001b[0mdraw\u001b[0m\u001b[0;34m(\u001b[0m\u001b[0martist\u001b[0m\u001b[0;34m,\u001b[0m \u001b[0mrenderer\u001b[0m\u001b[0;34m,\u001b[0m \u001b[0;34m*\u001b[0m\u001b[0margs\u001b[0m\u001b[0;34m,\u001b[0m \u001b[0;34m**\u001b[0m\u001b[0mkwargs\u001b[0m\u001b[0;34m)\u001b[0m\u001b[0;34m\u001b[0m\u001b[0;34m\u001b[0m\u001b[0m\n\u001b[0m\u001b[1;32m     42\u001b[0m         \u001b[0;32mfinally\u001b[0m\u001b[0;34m:\u001b[0m\u001b[0;34m\u001b[0m\u001b[0;34m\u001b[0m\u001b[0m\n\u001b[1;32m     43\u001b[0m             \u001b[0;32mif\u001b[0m \u001b[0martist\u001b[0m\u001b[0;34m.\u001b[0m\u001b[0mget_agg_filter\u001b[0m\u001b[0;34m(\u001b[0m\u001b[0;34m)\u001b[0m \u001b[0;32mis\u001b[0m \u001b[0;32mnot\u001b[0m \u001b[0;32mNone\u001b[0m\u001b[0;34m:\u001b[0m\u001b[0;34m\u001b[0m\u001b[0;34m\u001b[0m\u001b[0m\n",
      "\u001b[0;32m~/anaconda3/envs/qoc/lib/python3.8/site-packages/matplotlib/text.py\u001b[0m in \u001b[0;36mdraw\u001b[0;34m(self, renderer)\u001b[0m\n\u001b[1;32m    677\u001b[0m \u001b[0;34m\u001b[0m\u001b[0m\n\u001b[1;32m    678\u001b[0m         \u001b[0;32mwith\u001b[0m \u001b[0m_wrap_text\u001b[0m\u001b[0;34m(\u001b[0m\u001b[0mself\u001b[0m\u001b[0;34m)\u001b[0m \u001b[0;32mas\u001b[0m \u001b[0mtextobj\u001b[0m\u001b[0;34m:\u001b[0m\u001b[0;34m\u001b[0m\u001b[0;34m\u001b[0m\u001b[0m\n\u001b[0;32m--> 679\u001b[0;31m             \u001b[0mbbox\u001b[0m\u001b[0;34m,\u001b[0m \u001b[0minfo\u001b[0m\u001b[0;34m,\u001b[0m \u001b[0mdescent\u001b[0m \u001b[0;34m=\u001b[0m \u001b[0mtextobj\u001b[0m\u001b[0;34m.\u001b[0m\u001b[0m_get_layout\u001b[0m\u001b[0;34m(\u001b[0m\u001b[0mrenderer\u001b[0m\u001b[0;34m)\u001b[0m\u001b[0;34m\u001b[0m\u001b[0;34m\u001b[0m\u001b[0m\n\u001b[0m\u001b[1;32m    680\u001b[0m             \u001b[0mtrans\u001b[0m \u001b[0;34m=\u001b[0m \u001b[0mtextobj\u001b[0m\u001b[0;34m.\u001b[0m\u001b[0mget_transform\u001b[0m\u001b[0;34m(\u001b[0m\u001b[0;34m)\u001b[0m\u001b[0;34m\u001b[0m\u001b[0;34m\u001b[0m\u001b[0m\n\u001b[1;32m    681\u001b[0m \u001b[0;34m\u001b[0m\u001b[0m\n",
      "\u001b[0;32m~/anaconda3/envs/qoc/lib/python3.8/site-packages/matplotlib/text.py\u001b[0m in \u001b[0;36m_get_layout\u001b[0;34m(self, renderer)\u001b[0m\n\u001b[1;32m    291\u001b[0m             \u001b[0mclean_line\u001b[0m\u001b[0;34m,\u001b[0m \u001b[0mismath\u001b[0m \u001b[0;34m=\u001b[0m \u001b[0mself\u001b[0m\u001b[0;34m.\u001b[0m\u001b[0m_preprocess_math\u001b[0m\u001b[0;34m(\u001b[0m\u001b[0mline\u001b[0m\u001b[0;34m)\u001b[0m\u001b[0;34m\u001b[0m\u001b[0;34m\u001b[0m\u001b[0m\n\u001b[1;32m    292\u001b[0m             \u001b[0;32mif\u001b[0m \u001b[0mclean_line\u001b[0m\u001b[0;34m:\u001b[0m\u001b[0;34m\u001b[0m\u001b[0;34m\u001b[0m\u001b[0m\n\u001b[0;32m--> 293\u001b[0;31m                 w, h, d = renderer.get_text_width_height_descent(\n\u001b[0m\u001b[1;32m    294\u001b[0m                     clean_line, self._fontproperties, ismath=ismath)\n\u001b[1;32m    295\u001b[0m             \u001b[0;32melse\u001b[0m\u001b[0;34m:\u001b[0m\u001b[0;34m\u001b[0m\u001b[0;34m\u001b[0m\u001b[0m\n",
      "\u001b[0;32m~/anaconda3/envs/qoc/lib/python3.8/site-packages/matplotlib/backends/backend_svg.py\u001b[0m in \u001b[0;36mget_text_width_height_descent\u001b[0;34m(self, s, prop, ismath)\u001b[0m\n\u001b[1;32m   1275\u001b[0m     \u001b[0;32mdef\u001b[0m \u001b[0mget_text_width_height_descent\u001b[0m\u001b[0;34m(\u001b[0m\u001b[0mself\u001b[0m\u001b[0;34m,\u001b[0m \u001b[0ms\u001b[0m\u001b[0;34m,\u001b[0m \u001b[0mprop\u001b[0m\u001b[0;34m,\u001b[0m \u001b[0mismath\u001b[0m\u001b[0;34m)\u001b[0m\u001b[0;34m:\u001b[0m\u001b[0;34m\u001b[0m\u001b[0;34m\u001b[0m\u001b[0m\n\u001b[1;32m   1276\u001b[0m         \u001b[0;31m# docstring inherited\u001b[0m\u001b[0;34m\u001b[0m\u001b[0;34m\u001b[0m\u001b[0;34m\u001b[0m\u001b[0m\n\u001b[0;32m-> 1277\u001b[0;31m         \u001b[0;32mreturn\u001b[0m \u001b[0mself\u001b[0m\u001b[0;34m.\u001b[0m\u001b[0m_text2path\u001b[0m\u001b[0;34m.\u001b[0m\u001b[0mget_text_width_height_descent\u001b[0m\u001b[0;34m(\u001b[0m\u001b[0ms\u001b[0m\u001b[0;34m,\u001b[0m \u001b[0mprop\u001b[0m\u001b[0;34m,\u001b[0m \u001b[0mismath\u001b[0m\u001b[0;34m)\u001b[0m\u001b[0;34m\u001b[0m\u001b[0;34m\u001b[0m\u001b[0m\n\u001b[0m\u001b[1;32m   1278\u001b[0m \u001b[0;34m\u001b[0m\u001b[0m\n\u001b[1;32m   1279\u001b[0m \u001b[0;34m\u001b[0m\u001b[0m\n",
      "\u001b[0;32m~/anaconda3/envs/qoc/lib/python3.8/site-packages/matplotlib/textpath.py\u001b[0m in \u001b[0;36mget_text_width_height_descent\u001b[0;34m(self, s, prop, ismath)\u001b[0m\n\u001b[1;32m     68\u001b[0m \u001b[0;34m\u001b[0m\u001b[0m\n\u001b[1;32m     69\u001b[0m             \u001b[0mwidth\u001b[0m\u001b[0;34m,\u001b[0m \u001b[0mheight\u001b[0m\u001b[0;34m,\u001b[0m \u001b[0mdescent\u001b[0m\u001b[0;34m,\u001b[0m \u001b[0mtrash\u001b[0m\u001b[0;34m,\u001b[0m \u001b[0mused_characters\u001b[0m \u001b[0;34m=\u001b[0m\u001b[0;31m \u001b[0m\u001b[0;31m\\\u001b[0m\u001b[0;34m\u001b[0m\u001b[0;34m\u001b[0m\u001b[0m\n\u001b[0;32m---> 70\u001b[0;31m                 \u001b[0mself\u001b[0m\u001b[0;34m.\u001b[0m\u001b[0mmathtext_parser\u001b[0m\u001b[0;34m.\u001b[0m\u001b[0mparse\u001b[0m\u001b[0;34m(\u001b[0m\u001b[0ms\u001b[0m\u001b[0;34m,\u001b[0m \u001b[0;36m72\u001b[0m\u001b[0;34m,\u001b[0m \u001b[0mprop\u001b[0m\u001b[0;34m)\u001b[0m\u001b[0;34m\u001b[0m\u001b[0;34m\u001b[0m\u001b[0m\n\u001b[0m\u001b[1;32m     71\u001b[0m             \u001b[0;32mreturn\u001b[0m \u001b[0mwidth\u001b[0m \u001b[0;34m*\u001b[0m \u001b[0mscale\u001b[0m\u001b[0;34m,\u001b[0m \u001b[0mheight\u001b[0m \u001b[0;34m*\u001b[0m \u001b[0mscale\u001b[0m\u001b[0;34m,\u001b[0m \u001b[0mdescent\u001b[0m \u001b[0;34m*\u001b[0m \u001b[0mscale\u001b[0m\u001b[0;34m\u001b[0m\u001b[0;34m\u001b[0m\u001b[0m\n\u001b[1;32m     72\u001b[0m \u001b[0;34m\u001b[0m\u001b[0m\n",
      "\u001b[0;32m~/anaconda3/envs/qoc/lib/python3.8/site-packages/matplotlib/mathtext.py\u001b[0m in \u001b[0;36mparse\u001b[0;34m(self, s, dpi, prop)\u001b[0m\n\u001b[1;32m   3338\u001b[0m         \u001b[0;31m# mathtext.fontset rcParams also affect the parse (e.g. by affecting\u001b[0m\u001b[0;34m\u001b[0m\u001b[0;34m\u001b[0m\u001b[0;34m\u001b[0m\u001b[0m\n\u001b[1;32m   3339\u001b[0m         \u001b[0;31m# the glyph metrics).\u001b[0m\u001b[0;34m\u001b[0m\u001b[0;34m\u001b[0m\u001b[0;34m\u001b[0m\u001b[0m\n\u001b[0;32m-> 3340\u001b[0;31m         return self._parse_cached(\n\u001b[0m\u001b[1;32m   3341\u001b[0m             s, dpi, prop, rcParams['ps.useafm'], rcParams['mathtext.fontset'])\n\u001b[1;32m   3342\u001b[0m \u001b[0;34m\u001b[0m\u001b[0m\n",
      "\u001b[0;32m~/anaconda3/envs/qoc/lib/python3.8/site-packages/matplotlib/mathtext.py\u001b[0m in \u001b[0;36m_parse_cached\u001b[0;34m(self, s, dpi, prop, ps_useafm, fontset)\u001b[0m\n\u001b[1;32m   3353\u001b[0m             fontset_class = cbook._check_getitem(\n\u001b[1;32m   3354\u001b[0m                 self._font_type_mapping, fontset=fontset)\n\u001b[0;32m-> 3355\u001b[0;31m             \u001b[0mfont_output\u001b[0m \u001b[0;34m=\u001b[0m \u001b[0mfontset_class\u001b[0m\u001b[0;34m(\u001b[0m\u001b[0mprop\u001b[0m\u001b[0;34m,\u001b[0m \u001b[0mbackend\u001b[0m\u001b[0;34m)\u001b[0m\u001b[0;34m\u001b[0m\u001b[0;34m\u001b[0m\u001b[0m\n\u001b[0m\u001b[1;32m   3356\u001b[0m \u001b[0;34m\u001b[0m\u001b[0m\n\u001b[1;32m   3357\u001b[0m         \u001b[0mfontsize\u001b[0m \u001b[0;34m=\u001b[0m \u001b[0mprop\u001b[0m\u001b[0;34m.\u001b[0m\u001b[0mget_size_in_points\u001b[0m\u001b[0;34m(\u001b[0m\u001b[0;34m)\u001b[0m\u001b[0;34m\u001b[0m\u001b[0;34m\u001b[0m\u001b[0m\n",
      "\u001b[0;32m~/anaconda3/envs/qoc/lib/python3.8/site-packages/matplotlib/mathtext.py\u001b[0m in \u001b[0;36m__init__\u001b[0;34m(self, *args, **kwargs)\u001b[0m\n\u001b[1;32m    895\u001b[0m         \u001b[0;32melse\u001b[0m\u001b[0;34m:\u001b[0m\u001b[0;34m\u001b[0m\u001b[0;34m\u001b[0m\u001b[0m\n\u001b[1;32m    896\u001b[0m             \u001b[0mself\u001b[0m\u001b[0;34m.\u001b[0m\u001b[0mcm_fallback\u001b[0m \u001b[0;34m=\u001b[0m \u001b[0mStixSansFonts\u001b[0m\u001b[0;34m(\u001b[0m\u001b[0;34m*\u001b[0m\u001b[0margs\u001b[0m\u001b[0;34m,\u001b[0m \u001b[0;34m**\u001b[0m\u001b[0mkwargs\u001b[0m\u001b[0;34m)\u001b[0m\u001b[0;34m\u001b[0m\u001b[0;34m\u001b[0m\u001b[0m\n\u001b[0;32m--> 897\u001b[0;31m         \u001b[0mself\u001b[0m\u001b[0;34m.\u001b[0m\u001b[0mbakoma\u001b[0m \u001b[0;34m=\u001b[0m \u001b[0mBakomaFonts\u001b[0m\u001b[0;34m(\u001b[0m\u001b[0;34m*\u001b[0m\u001b[0margs\u001b[0m\u001b[0;34m,\u001b[0m \u001b[0;34m**\u001b[0m\u001b[0mkwargs\u001b[0m\u001b[0;34m)\u001b[0m\u001b[0;34m\u001b[0m\u001b[0;34m\u001b[0m\u001b[0m\n\u001b[0m\u001b[1;32m    898\u001b[0m         \u001b[0mTruetypeFonts\u001b[0m\u001b[0;34m.\u001b[0m\u001b[0m__init__\u001b[0m\u001b[0;34m(\u001b[0m\u001b[0mself\u001b[0m\u001b[0;34m,\u001b[0m \u001b[0;34m*\u001b[0m\u001b[0margs\u001b[0m\u001b[0;34m,\u001b[0m \u001b[0;34m**\u001b[0m\u001b[0mkwargs\u001b[0m\u001b[0;34m)\u001b[0m\u001b[0;34m\u001b[0m\u001b[0;34m\u001b[0m\u001b[0m\n\u001b[1;32m    899\u001b[0m         \u001b[0mself\u001b[0m\u001b[0;34m.\u001b[0m\u001b[0mfontmap\u001b[0m \u001b[0;34m=\u001b[0m \u001b[0;34m{\u001b[0m\u001b[0;34m}\u001b[0m\u001b[0;34m\u001b[0m\u001b[0;34m\u001b[0m\u001b[0m\n",
      "\u001b[0;32m~/anaconda3/envs/qoc/lib/python3.8/site-packages/matplotlib/mathtext.py\u001b[0m in \u001b[0;36m__init__\u001b[0;34m(self, *args, **kwargs)\u001b[0m\n\u001b[1;32m    663\u001b[0m         \u001b[0mself\u001b[0m\u001b[0;34m.\u001b[0m\u001b[0mfontmap\u001b[0m \u001b[0;34m=\u001b[0m \u001b[0;34m{\u001b[0m\u001b[0;34m}\u001b[0m\u001b[0;34m\u001b[0m\u001b[0;34m\u001b[0m\u001b[0m\n\u001b[1;32m    664\u001b[0m         \u001b[0;32mfor\u001b[0m \u001b[0mkey\u001b[0m\u001b[0;34m,\u001b[0m \u001b[0mval\u001b[0m \u001b[0;32min\u001b[0m \u001b[0mself\u001b[0m\u001b[0;34m.\u001b[0m\u001b[0m_fontmap\u001b[0m\u001b[0;34m.\u001b[0m\u001b[0mitems\u001b[0m\u001b[0;34m(\u001b[0m\u001b[0;34m)\u001b[0m\u001b[0;34m:\u001b[0m\u001b[0;34m\u001b[0m\u001b[0;34m\u001b[0m\u001b[0m\n\u001b[0;32m--> 665\u001b[0;31m             \u001b[0mfullpath\u001b[0m \u001b[0;34m=\u001b[0m \u001b[0mfindfont\u001b[0m\u001b[0;34m(\u001b[0m\u001b[0mval\u001b[0m\u001b[0;34m)\u001b[0m\u001b[0;34m\u001b[0m\u001b[0;34m\u001b[0m\u001b[0m\n\u001b[0m\u001b[1;32m    666\u001b[0m             \u001b[0mself\u001b[0m\u001b[0;34m.\u001b[0m\u001b[0mfontmap\u001b[0m\u001b[0;34m[\u001b[0m\u001b[0mkey\u001b[0m\u001b[0;34m]\u001b[0m \u001b[0;34m=\u001b[0m \u001b[0mfullpath\u001b[0m\u001b[0;34m\u001b[0m\u001b[0;34m\u001b[0m\u001b[0m\n\u001b[1;32m    667\u001b[0m             \u001b[0mself\u001b[0m\u001b[0;34m.\u001b[0m\u001b[0mfontmap\u001b[0m\u001b[0;34m[\u001b[0m\u001b[0mval\u001b[0m\u001b[0;34m]\u001b[0m \u001b[0;34m=\u001b[0m \u001b[0mfullpath\u001b[0m\u001b[0;34m\u001b[0m\u001b[0;34m\u001b[0m\u001b[0m\n",
      "\u001b[0;32m~/anaconda3/envs/qoc/lib/python3.8/site-packages/matplotlib/font_manager.py\u001b[0m in \u001b[0;36mfindfont\u001b[0;34m(self, prop, fontext, directory, fallback_to_default, rebuild_if_missing)\u001b[0m\n\u001b[1;32m   1312\u001b[0m             \u001b[0mprop\u001b[0m\u001b[0;34m,\u001b[0m \u001b[0mfontext\u001b[0m\u001b[0;34m,\u001b[0m \u001b[0mdirectory\u001b[0m\u001b[0;34m,\u001b[0m \u001b[0mfallback_to_default\u001b[0m\u001b[0;34m,\u001b[0m \u001b[0mrebuild_if_missing\u001b[0m\u001b[0;34m,\u001b[0m\u001b[0;34m\u001b[0m\u001b[0;34m\u001b[0m\u001b[0m\n\u001b[1;32m   1313\u001b[0m             rc_params)\n\u001b[0;32m-> 1314\u001b[0;31m         \u001b[0;32mreturn\u001b[0m \u001b[0mos\u001b[0m\u001b[0;34m.\u001b[0m\u001b[0mpath\u001b[0m\u001b[0;34m.\u001b[0m\u001b[0mrealpath\u001b[0m\u001b[0;34m(\u001b[0m\u001b[0mfilename\u001b[0m\u001b[0;34m)\u001b[0m\u001b[0;34m\u001b[0m\u001b[0;34m\u001b[0m\u001b[0m\n\u001b[0m\u001b[1;32m   1315\u001b[0m \u001b[0;34m\u001b[0m\u001b[0m\n\u001b[1;32m   1316\u001b[0m     \u001b[0;34m@\u001b[0m\u001b[0mlru_cache\u001b[0m\u001b[0;34m(\u001b[0m\u001b[0;34m)\u001b[0m\u001b[0;34m\u001b[0m\u001b[0;34m\u001b[0m\u001b[0m\n",
      "\u001b[0;32m~/anaconda3/envs/qoc/lib/python3.8/posixpath.py\u001b[0m in \u001b[0;36mrealpath\u001b[0;34m(filename)\u001b[0m\n\u001b[1;32m    389\u001b[0m symbolic links encountered in the path.\"\"\"\n\u001b[1;32m    390\u001b[0m     \u001b[0mfilename\u001b[0m \u001b[0;34m=\u001b[0m \u001b[0mos\u001b[0m\u001b[0;34m.\u001b[0m\u001b[0mfspath\u001b[0m\u001b[0;34m(\u001b[0m\u001b[0mfilename\u001b[0m\u001b[0;34m)\u001b[0m\u001b[0;34m\u001b[0m\u001b[0;34m\u001b[0m\u001b[0m\n\u001b[0;32m--> 391\u001b[0;31m     \u001b[0mpath\u001b[0m\u001b[0;34m,\u001b[0m \u001b[0mok\u001b[0m \u001b[0;34m=\u001b[0m \u001b[0m_joinrealpath\u001b[0m\u001b[0;34m(\u001b[0m\u001b[0mfilename\u001b[0m\u001b[0;34m[\u001b[0m\u001b[0;34m:\u001b[0m\u001b[0;36m0\u001b[0m\u001b[0;34m]\u001b[0m\u001b[0;34m,\u001b[0m \u001b[0mfilename\u001b[0m\u001b[0;34m,\u001b[0m \u001b[0;34m{\u001b[0m\u001b[0;34m}\u001b[0m\u001b[0;34m)\u001b[0m\u001b[0;34m\u001b[0m\u001b[0;34m\u001b[0m\u001b[0m\n\u001b[0m\u001b[1;32m    392\u001b[0m     \u001b[0;32mreturn\u001b[0m \u001b[0mabspath\u001b[0m\u001b[0;34m(\u001b[0m\u001b[0mpath\u001b[0m\u001b[0;34m)\u001b[0m\u001b[0;34m\u001b[0m\u001b[0;34m\u001b[0m\u001b[0m\n\u001b[1;32m    393\u001b[0m \u001b[0;34m\u001b[0m\u001b[0m\n",
      "\u001b[0;32m~/anaconda3/envs/qoc/lib/python3.8/posixpath.py\u001b[0m in \u001b[0;36m_joinrealpath\u001b[0;34m(path, rest, seen)\u001b[0m\n\u001b[1;32m    423\u001b[0m             \u001b[0;32mcontinue\u001b[0m\u001b[0;34m\u001b[0m\u001b[0;34m\u001b[0m\u001b[0m\n\u001b[1;32m    424\u001b[0m         \u001b[0mnewpath\u001b[0m \u001b[0;34m=\u001b[0m \u001b[0mjoin\u001b[0m\u001b[0;34m(\u001b[0m\u001b[0mpath\u001b[0m\u001b[0;34m,\u001b[0m \u001b[0mname\u001b[0m\u001b[0;34m)\u001b[0m\u001b[0;34m\u001b[0m\u001b[0;34m\u001b[0m\u001b[0m\n\u001b[0;32m--> 425\u001b[0;31m         \u001b[0;32mif\u001b[0m \u001b[0;32mnot\u001b[0m \u001b[0mislink\u001b[0m\u001b[0;34m(\u001b[0m\u001b[0mnewpath\u001b[0m\u001b[0;34m)\u001b[0m\u001b[0;34m:\u001b[0m\u001b[0;34m\u001b[0m\u001b[0;34m\u001b[0m\u001b[0m\n\u001b[0m\u001b[1;32m    426\u001b[0m             \u001b[0mpath\u001b[0m \u001b[0;34m=\u001b[0m \u001b[0mnewpath\u001b[0m\u001b[0;34m\u001b[0m\u001b[0;34m\u001b[0m\u001b[0m\n\u001b[1;32m    427\u001b[0m             \u001b[0;32mcontinue\u001b[0m\u001b[0;34m\u001b[0m\u001b[0;34m\u001b[0m\u001b[0m\n",
      "\u001b[0;32m~/anaconda3/envs/qoc/lib/python3.8/posixpath.py\u001b[0m in \u001b[0;36mislink\u001b[0;34m(path)\u001b[0m\n\u001b[1;32m    165\u001b[0m     \u001b[0;34m\"\"\"Test whether a path is a symbolic link\"\"\"\u001b[0m\u001b[0;34m\u001b[0m\u001b[0;34m\u001b[0m\u001b[0m\n\u001b[1;32m    166\u001b[0m     \u001b[0;32mtry\u001b[0m\u001b[0;34m:\u001b[0m\u001b[0;34m\u001b[0m\u001b[0;34m\u001b[0m\u001b[0m\n\u001b[0;32m--> 167\u001b[0;31m         \u001b[0mst\u001b[0m \u001b[0;34m=\u001b[0m \u001b[0mos\u001b[0m\u001b[0;34m.\u001b[0m\u001b[0mlstat\u001b[0m\u001b[0;34m(\u001b[0m\u001b[0mpath\u001b[0m\u001b[0;34m)\u001b[0m\u001b[0;34m\u001b[0m\u001b[0;34m\u001b[0m\u001b[0m\n\u001b[0m\u001b[1;32m    168\u001b[0m     \u001b[0;32mexcept\u001b[0m \u001b[0;34m(\u001b[0m\u001b[0mOSError\u001b[0m\u001b[0;34m,\u001b[0m \u001b[0mValueError\u001b[0m\u001b[0;34m,\u001b[0m \u001b[0mAttributeError\u001b[0m\u001b[0;34m)\u001b[0m\u001b[0;34m:\u001b[0m\u001b[0;34m\u001b[0m\u001b[0;34m\u001b[0m\u001b[0m\n\u001b[1;32m    169\u001b[0m         \u001b[0;32mreturn\u001b[0m \u001b[0;32mFalse\u001b[0m\u001b[0;34m\u001b[0m\u001b[0;34m\u001b[0m\u001b[0m\n",
      "\u001b[0;31mKeyboardInterrupt\u001b[0m: "
     ]
    }
   ],
   "source": [
    "bell_sched.draw()"
   ]
  },
  {
   "cell_type": "code",
   "execution_count": 42,
   "metadata": {},
   "outputs": [
    {
     "output_type": "error",
     "ename": "NameError",
     "evalue": "name 'job' is not defined",
     "traceback": [
      "\u001b[0;31m---------------------------------------------------------------------------\u001b[0m",
      "\u001b[0;31mNameError\u001b[0m                                 Traceback (most recent call last)",
      "\u001b[0;32m<ipython-input-42-e7dce18b5e49>\u001b[0m in \u001b[0;36m<module>\u001b[0;34m\u001b[0m\n\u001b[0;32m----> 1\u001b[0;31m \u001b[0mresult\u001b[0m \u001b[0;34m=\u001b[0m \u001b[0mjob\u001b[0m\u001b[0;34m.\u001b[0m\u001b[0mresult\u001b[0m\u001b[0;34m(\u001b[0m\u001b[0;34m)\u001b[0m\u001b[0;34m\u001b[0m\u001b[0;34m\u001b[0m\u001b[0m\n\u001b[0m",
      "\u001b[0;31mNameError\u001b[0m: name 'job' is not defined"
     ]
    }
   ],
   "source": [
    "result = job.result()"
   ]
  },
  {
   "cell_type": "code",
   "execution_count": 43,
   "metadata": {},
   "outputs": [
    {
     "output_type": "error",
     "ename": "NameError",
     "evalue": "name 'result' is not defined",
     "traceback": [
      "\u001b[0;31m---------------------------------------------------------------------------\u001b[0m",
      "\u001b[0;31mNameError\u001b[0m                                 Traceback (most recent call last)",
      "\u001b[0;32m<ipython-input-43-048a825e6f0c>\u001b[0m in \u001b[0;36m<module>\u001b[0;34m\u001b[0m\n\u001b[0;32m----> 1\u001b[0;31m \u001b[0mresult\u001b[0m\u001b[0;34m.\u001b[0m\u001b[0mget_counts\u001b[0m\u001b[0;34m(\u001b[0m\u001b[0;34m)\u001b[0m\u001b[0;34m\u001b[0m\u001b[0;34m\u001b[0m\u001b[0m\n\u001b[0m",
      "\u001b[0;31mNameError\u001b[0m: name 'result' is not defined"
     ]
    }
   ],
   "source": [
    "result.get_counts()"
   ]
  },
  {
   "cell_type": "code",
   "execution_count": 44,
   "metadata": {},
   "outputs": [
    {
     "output_type": "error",
     "ename": "NameError",
     "evalue": "name 'backend_2q' is not defined",
     "traceback": [
      "\u001b[0;31m---------------------------------------------------------------------------\u001b[0m",
      "\u001b[0;31mNameError\u001b[0m                                 Traceback (most recent call last)",
      "\u001b[0;32m<ipython-input-44-d6cd73344479>\u001b[0m in \u001b[0;36m<module>\u001b[0;34m\u001b[0m\n\u001b[1;32m      3\u001b[0m \u001b[0mamps\u001b[0m \u001b[0;34m=\u001b[0m \u001b[0mnp\u001b[0m\u001b[0;34m.\u001b[0m\u001b[0mlinspace\u001b[0m\u001b[0;34m(\u001b[0m\u001b[0;36m0\u001b[0m\u001b[0;34m,\u001b[0m \u001b[0;36m1.0\u001b[0m\u001b[0;34m,\u001b[0m \u001b[0mn_exps\u001b[0m\u001b[0;34m)\u001b[0m\u001b[0;34m\u001b[0m\u001b[0;34m\u001b[0m\u001b[0m\n\u001b[1;32m      4\u001b[0m \u001b[0;32mfor\u001b[0m \u001b[0mamp\u001b[0m \u001b[0;32min\u001b[0m \u001b[0mamps\u001b[0m\u001b[0;34m:\u001b[0m\u001b[0;34m\u001b[0m\u001b[0;34m\u001b[0m\u001b[0m\n\u001b[0;32m----> 5\u001b[0;31m     \u001b[0;32mwith\u001b[0m \u001b[0mpulse\u001b[0m\u001b[0;34m.\u001b[0m\u001b[0mbuild\u001b[0m\u001b[0;34m(\u001b[0m\u001b[0mbackend_2q\u001b[0m\u001b[0;34m)\u001b[0m \u001b[0;32mas\u001b[0m \u001b[0mexp\u001b[0m\u001b[0;34m:\u001b[0m\u001b[0;34m\u001b[0m\u001b[0;34m\u001b[0m\u001b[0m\n\u001b[0m\u001b[1;32m      6\u001b[0m         \u001b[0mpulse\u001b[0m\u001b[0;34m.\u001b[0m\u001b[0mplay\u001b[0m\u001b[0;34m(\u001b[0m\u001b[0mpulse\u001b[0m\u001b[0;34m.\u001b[0m\u001b[0mGaussianSquare\u001b[0m\u001b[0;34m(\u001b[0m\u001b[0mduration\u001b[0m\u001b[0;34m=\u001b[0m\u001b[0;36m736\u001b[0m\u001b[0;34m,\u001b[0m \u001b[0mamp\u001b[0m\u001b[0;34m=\u001b[0m\u001b[0mamp\u001b[0m\u001b[0;34m,\u001b[0m \u001b[0msigma\u001b[0m\u001b[0;34m=\u001b[0m\u001b[0;36m64\u001b[0m\u001b[0;34m,\u001b[0m \u001b[0mwidth\u001b[0m\u001b[0;34m=\u001b[0m\u001b[0;36m480\u001b[0m\u001b[0;34m)\u001b[0m\u001b[0;34m,\u001b[0m \u001b[0mpulse\u001b[0m\u001b[0;34m.\u001b[0m\u001b[0mControlChannel\u001b[0m\u001b[0;34m(\u001b[0m\u001b[0;36m2\u001b[0m\u001b[0;34m)\u001b[0m\u001b[0;34m)\u001b[0m\u001b[0;34m\u001b[0m\u001b[0;34m\u001b[0m\u001b[0m\n\u001b[1;32m      7\u001b[0m         \u001b[0mpulse\u001b[0m\u001b[0;34m.\u001b[0m\u001b[0mbarrier\u001b[0m\u001b[0;34m(\u001b[0m\u001b[0;36m0\u001b[0m\u001b[0;34m)\u001b[0m\u001b[0;34m\u001b[0m\u001b[0;34m\u001b[0m\u001b[0m\n",
      "\u001b[0;31mNameError\u001b[0m: name 'backend_2q' is not defined"
     ]
    }
   ],
   "source": [
    "exps = []\n",
    "n_exps = 25\n",
    "amps = np.linspace(0, 1.0, n_exps)\n",
    "for amp in amps:\n",
    "    with pulse.build(backend_2q) as exp:\n",
    "        pulse.play(pulse.GaussianSquare(duration=736, amp=amp, sigma=64, width=480), pulse.ControlChannel(2))\n",
    "        pulse.barrier(0)\n",
    "        pulse.measure_all()\n",
    "    exps.append(exp.exclude(channels=channels_to_drop))"
   ]
  },
  {
   "cell_type": "code",
   "execution_count": 45,
   "metadata": {},
   "outputs": [
    {
     "output_type": "error",
     "ename": "ValueError",
     "evalue": "max() arg is an empty sequence",
     "traceback": [
      "\u001b[0;31m---------------------------------------------------------------------------\u001b[0m",
      "\u001b[0;31mValueError\u001b[0m                                Traceback (most recent call last)",
      "\u001b[0;32m<ipython-input-45-76fead504f3e>\u001b[0m in \u001b[0;36m<module>\u001b[0;34m\u001b[0m\n\u001b[0;32m----> 1\u001b[0;31m \u001b[0mcr_rabi\u001b[0m \u001b[0;34m=\u001b[0m \u001b[0massemble\u001b[0m\u001b[0;34m(\u001b[0m\u001b[0mexps\u001b[0m\u001b[0;34m,\u001b[0m \u001b[0mbackend\u001b[0m\u001b[0;34m=\u001b[0m\u001b[0msim\u001b[0m\u001b[0;34m)\u001b[0m\u001b[0;34m\u001b[0m\u001b[0;34m\u001b[0m\u001b[0m\n\u001b[0m\u001b[1;32m      2\u001b[0m \u001b[0mjob\u001b[0m \u001b[0;34m=\u001b[0m \u001b[0msim\u001b[0m\u001b[0;34m.\u001b[0m\u001b[0mrun\u001b[0m\u001b[0;34m(\u001b[0m\u001b[0mcr_rabi\u001b[0m\u001b[0;34m,\u001b[0m \u001b[0msystem_model\u001b[0m\u001b[0;34m=\u001b[0m\u001b[0mnew_model_2q\u001b[0m\u001b[0;34m)\u001b[0m\u001b[0;34m\u001b[0m\u001b[0;34m\u001b[0m\u001b[0m\n",
      "\u001b[0;32m~/oct-qiskit-pulse/qiskit-terra/qiskit/compiler/assemble.py\u001b[0m in \u001b[0;36massemble\u001b[0;34m(experiments, backend, qobj_id, qobj_header, shots, memory, max_credits, seed_simulator, qubit_lo_freq, meas_lo_freq, qubit_lo_range, meas_lo_range, schedule_los, meas_level, meas_return, meas_map, memory_slot_size, rep_time, rep_delay, parameter_binds, parametric_pulses, init_qubits, **run_config)\u001b[0m\n\u001b[1;32m    150\u001b[0m         \u001b[0mend_time\u001b[0m \u001b[0;34m=\u001b[0m \u001b[0mtime\u001b[0m\u001b[0;34m(\u001b[0m\u001b[0;34m)\u001b[0m\u001b[0;34m\u001b[0m\u001b[0;34m\u001b[0m\u001b[0m\n\u001b[1;32m    151\u001b[0m         \u001b[0m_log_assembly_time\u001b[0m\u001b[0;34m(\u001b[0m\u001b[0mstart_time\u001b[0m\u001b[0;34m,\u001b[0m \u001b[0mend_time\u001b[0m\u001b[0;34m)\u001b[0m\u001b[0;34m\u001b[0m\u001b[0;34m\u001b[0m\u001b[0m\n\u001b[0;32m--> 152\u001b[0;31m         return assemble_circuits(circuits=bound_experiments, qobj_id=qobj_id,\n\u001b[0m\u001b[1;32m    153\u001b[0m                                  qobj_header=qobj_header, run_config=run_config)\n\u001b[1;32m    154\u001b[0m \u001b[0;34m\u001b[0m\u001b[0m\n",
      "\u001b[0;32m~/oct-qiskit-pulse/qiskit-terra/qiskit/assembler/assemble_circuits.py\u001b[0m in \u001b[0;36massemble_circuits\u001b[0;34m(circuits, run_config, qobj_id, qobj_header)\u001b[0m\n\u001b[1;32m    256\u001b[0m         \u001b[0mqubit_sizes\u001b[0m\u001b[0;34m.\u001b[0m\u001b[0mappend\u001b[0m\u001b[0;34m(\u001b[0m\u001b[0mnum_qubits\u001b[0m\u001b[0;34m)\u001b[0m\u001b[0;34m\u001b[0m\u001b[0;34m\u001b[0m\u001b[0m\n\u001b[1;32m    257\u001b[0m         \u001b[0mmemory_slot_sizes\u001b[0m\u001b[0;34m.\u001b[0m\u001b[0mappend\u001b[0m\u001b[0;34m(\u001b[0m\u001b[0mmemory_slots\u001b[0m\u001b[0;34m)\u001b[0m\u001b[0;34m\u001b[0m\u001b[0;34m\u001b[0m\u001b[0m\n\u001b[0;32m--> 258\u001b[0;31m     \u001b[0mqobj_config\u001b[0m\u001b[0;34m.\u001b[0m\u001b[0mmemory_slots\u001b[0m \u001b[0;34m=\u001b[0m \u001b[0mmax\u001b[0m\u001b[0;34m(\u001b[0m\u001b[0mmemory_slot_sizes\u001b[0m\u001b[0;34m)\u001b[0m\u001b[0;34m\u001b[0m\u001b[0;34m\u001b[0m\u001b[0m\n\u001b[0m\u001b[1;32m    259\u001b[0m     \u001b[0mqobj_config\u001b[0m\u001b[0;34m.\u001b[0m\u001b[0mn_qubits\u001b[0m \u001b[0;34m=\u001b[0m \u001b[0mmax\u001b[0m\u001b[0;34m(\u001b[0m\u001b[0mqubit_sizes\u001b[0m\u001b[0;34m)\u001b[0m\u001b[0;34m\u001b[0m\u001b[0;34m\u001b[0m\u001b[0m\n\u001b[1;32m    260\u001b[0m \u001b[0;34m\u001b[0m\u001b[0m\n",
      "\u001b[0;31mValueError\u001b[0m: max() arg is an empty sequence"
     ]
    }
   ],
   "source": [
    "cr_rabi = assemble(exps, backend=sim)\n",
    "job = sim.run(cr_rabi, system_model=new_model_2q)"
   ]
  },
  {
   "cell_type": "code",
   "execution_count": 46,
   "metadata": {},
   "outputs": [
    {
     "output_type": "error",
     "ename": "NameError",
     "evalue": "name 'job' is not defined",
     "traceback": [
      "\u001b[0;31m---------------------------------------------------------------------------\u001b[0m",
      "\u001b[0;31mNameError\u001b[0m                                 Traceback (most recent call last)",
      "\u001b[0;32m<ipython-input-46-e7dce18b5e49>\u001b[0m in \u001b[0;36m<module>\u001b[0;34m\u001b[0m\n\u001b[0;32m----> 1\u001b[0;31m \u001b[0mresult\u001b[0m \u001b[0;34m=\u001b[0m \u001b[0mjob\u001b[0m\u001b[0;34m.\u001b[0m\u001b[0mresult\u001b[0m\u001b[0;34m(\u001b[0m\u001b[0;34m)\u001b[0m\u001b[0;34m\u001b[0m\u001b[0;34m\u001b[0m\u001b[0m\n\u001b[0m",
      "\u001b[0;31mNameError\u001b[0m: name 'job' is not defined"
     ]
    }
   ],
   "source": [
    "result = job.result()"
   ]
  },
  {
   "cell_type": "code",
   "execution_count": 47,
   "metadata": {},
   "outputs": [
    {
     "output_type": "error",
     "ename": "NameError",
     "evalue": "name 'result' is not defined",
     "traceback": [
      "\u001b[0;31m---------------------------------------------------------------------------\u001b[0m",
      "\u001b[0;31mNameError\u001b[0m                                 Traceback (most recent call last)",
      "\u001b[0;32m<ipython-input-47-e5701a025a1f>\u001b[0m in \u001b[0;36m<module>\u001b[0;34m\u001b[0m\n\u001b[0;32m----> 1\u001b[0;31m \u001b[0mcounts\u001b[0m \u001b[0;34m=\u001b[0m \u001b[0;34m[\u001b[0m\u001b[0mresult\u001b[0m\u001b[0;34m.\u001b[0m\u001b[0mget_counts\u001b[0m\u001b[0;34m(\u001b[0m\u001b[0mi\u001b[0m\u001b[0;34m)\u001b[0m\u001b[0;34m.\u001b[0m\u001b[0mget\u001b[0m\u001b[0;34m(\u001b[0m\u001b[0;34m'01'\u001b[0m\u001b[0;34m,\u001b[0m \u001b[0;36m0\u001b[0m\u001b[0;34m)\u001b[0m \u001b[0;32mfor\u001b[0m \u001b[0mi\u001b[0m \u001b[0;32min\u001b[0m \u001b[0mrange\u001b[0m\u001b[0;34m(\u001b[0m\u001b[0mn_exps\u001b[0m\u001b[0;34m)\u001b[0m\u001b[0;34m]\u001b[0m\u001b[0;34m\u001b[0m\u001b[0;34m\u001b[0m\u001b[0m\n\u001b[0m",
      "\u001b[0;32m<ipython-input-47-e5701a025a1f>\u001b[0m in \u001b[0;36m<listcomp>\u001b[0;34m(.0)\u001b[0m\n\u001b[0;32m----> 1\u001b[0;31m \u001b[0mcounts\u001b[0m \u001b[0;34m=\u001b[0m \u001b[0;34m[\u001b[0m\u001b[0mresult\u001b[0m\u001b[0;34m.\u001b[0m\u001b[0mget_counts\u001b[0m\u001b[0;34m(\u001b[0m\u001b[0mi\u001b[0m\u001b[0;34m)\u001b[0m\u001b[0;34m.\u001b[0m\u001b[0mget\u001b[0m\u001b[0;34m(\u001b[0m\u001b[0;34m'01'\u001b[0m\u001b[0;34m,\u001b[0m \u001b[0;36m0\u001b[0m\u001b[0;34m)\u001b[0m \u001b[0;32mfor\u001b[0m \u001b[0mi\u001b[0m \u001b[0;32min\u001b[0m \u001b[0mrange\u001b[0m\u001b[0;34m(\u001b[0m\u001b[0mn_exps\u001b[0m\u001b[0;34m)\u001b[0m\u001b[0;34m]\u001b[0m\u001b[0;34m\u001b[0m\u001b[0;34m\u001b[0m\u001b[0m\n\u001b[0m",
      "\u001b[0;31mNameError\u001b[0m: name 'result' is not defined"
     ]
    }
   ],
   "source": [
    "counts = [result.get_counts(i).get('01', 0) for i in range(n_exps)]"
   ]
  },
  {
   "cell_type": "code",
   "execution_count": 48,
   "metadata": {},
   "outputs": [
    {
     "output_type": "error",
     "ename": "NameError",
     "evalue": "name 'counts' is not defined",
     "traceback": [
      "\u001b[0;31m---------------------------------------------------------------------------\u001b[0m",
      "\u001b[0;31mNameError\u001b[0m                                 Traceback (most recent call last)",
      "\u001b[0;32m<ipython-input-48-b04a1a6a6ad7>\u001b[0m in \u001b[0;36m<module>\u001b[0;34m\u001b[0m\n\u001b[0;32m----> 1\u001b[0;31m \u001b[0mplt\u001b[0m\u001b[0;34m.\u001b[0m\u001b[0mplot\u001b[0m\u001b[0;34m(\u001b[0m\u001b[0mamps\u001b[0m\u001b[0;34m,\u001b[0m\u001b[0mcounts\u001b[0m\u001b[0;34m)\u001b[0m\u001b[0;34m\u001b[0m\u001b[0;34m\u001b[0m\u001b[0m\n\u001b[0m",
      "\u001b[0;31mNameError\u001b[0m: name 'counts' is not defined"
     ]
    }
   ],
   "source": [
    "plt.plot(amps,counts)"
   ]
  },
  {
   "cell_type": "code",
   "execution_count": null,
   "metadata": {},
   "outputs": [],
   "source": []
  },
  {
   "cell_type": "code",
   "execution_count": null,
   "metadata": {},
   "outputs": [],
   "source": []
  },
  {
   "cell_type": "code",
   "execution_count": null,
   "metadata": {},
   "outputs": [],
   "source": []
  }
 ],
 "metadata": {
  "kernelspec": {
   "display_name": "Python 3",
   "language": "python",
   "name": "python3"
  },
  "language_info": {
   "codemirror_mode": {
    "name": "ipython",
    "version": 3
   },
   "file_extension": ".py",
   "mimetype": "text/x-python",
   "name": "python",
   "nbconvert_exporter": "python",
   "pygments_lexer": "ipython3",
   "version": "3.8.5-final"
  }
 },
 "nbformat": 4,
 "nbformat_minor": 4
}