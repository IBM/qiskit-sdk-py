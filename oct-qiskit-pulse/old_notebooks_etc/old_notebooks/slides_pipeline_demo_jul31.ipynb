{
 "cells": [
  {
   "cell_type": "code",
   "execution_count": 5,
   "metadata": {
    "slideshow": {
     "slide_type": "fragment"
    }
   },
   "outputs": [
    {
     "ename": "ImportError",
     "evalue": "attempted relative import with no known parent package",
     "output_type": "error",
     "traceback": [
      "\u001b[0;31m---------------------------------------------------------------------------\u001b[0m",
      "\u001b[0;31mImportError\u001b[0m                               Traceback (most recent call last)",
      "\u001b[0;32m<ipython-input-5-dc5d05afde3c>\u001b[0m in \u001b[0;36m<module>\u001b[0;34m\u001b[0m\n\u001b[1;32m     11\u001b[0m \u001b[0;32mfrom\u001b[0m \u001b[0mhelper\u001b[0m \u001b[0;32mimport\u001b[0m \u001b[0mqutip_ham_converter\u001b[0m\u001b[0;34m\u001b[0m\u001b[0;34m\u001b[0m\u001b[0m\n\u001b[1;32m     12\u001b[0m \u001b[0;32mfrom\u001b[0m \u001b[0mqoc_instruction_schedule_map\u001b[0m \u001b[0;32mimport\u001b[0m \u001b[0mQocInstructionScheduleMap\u001b[0m\u001b[0;34m\u001b[0m\u001b[0;34m\u001b[0m\u001b[0m\n\u001b[0;32m---> 13\u001b[0;31m \u001b[0;32mfrom\u001b[0m \u001b[0mqutip_optimizer\u001b[0m \u001b[0;32mimport\u001b[0m \u001b[0mqutip_optimizer\u001b[0m\u001b[0;34m\u001b[0m\u001b[0;34m\u001b[0m\u001b[0m\n\u001b[0m\u001b[1;32m     14\u001b[0m \u001b[0;34m\u001b[0m\u001b[0m\n\u001b[1;32m     15\u001b[0m \u001b[0mIBMQ\u001b[0m\u001b[0;34m.\u001b[0m\u001b[0mload_account\u001b[0m\u001b[0;34m(\u001b[0m\u001b[0;34m)\u001b[0m\u001b[0;34m\u001b[0m\u001b[0;34m\u001b[0m\u001b[0m\n",
      "\u001b[0;32m~/oct-qiskit-pulse/src/qutipoptimizer.py\u001b[0m in \u001b[0;36m<module>\u001b[0;34m\u001b[0m\n\u001b[1;32m      8\u001b[0m \u001b[0;32mfrom\u001b[0m \u001b[0mqutip\u001b[0m\u001b[0;34m.\u001b[0m\u001b[0mcontrol\u001b[0m\u001b[0;34m.\u001b[0m\u001b[0mpulseoptim\u001b[0m \u001b[0;32mimport\u001b[0m \u001b[0moptimize_pulse_unitary\u001b[0m\u001b[0;34m\u001b[0m\u001b[0;34m\u001b[0m\u001b[0m\n\u001b[1;32m      9\u001b[0m \u001b[0;34m\u001b[0m\u001b[0m\n\u001b[0;32m---> 10\u001b[0;31m \u001b[0;32mfrom\u001b[0m \u001b[0;34m.\u001b[0m\u001b[0mQOC_optimizer\u001b[0m \u001b[0;32mimport\u001b[0m \u001b[0mQOC_optimizer\u001b[0m\u001b[0;34m\u001b[0m\u001b[0;34m\u001b[0m\u001b[0m\n\u001b[0m\u001b[1;32m     11\u001b[0m \u001b[0;32mfrom\u001b[0m \u001b[0;34m.\u001b[0m\u001b[0mqutip_helper\u001b[0m \u001b[0;32mimport\u001b[0m \u001b[0;34m*\u001b[0m\u001b[0;34m\u001b[0m\u001b[0;34m\u001b[0m\u001b[0m\n\u001b[1;32m     12\u001b[0m \u001b[0;32mfrom\u001b[0m \u001b[0;34m.\u001b[0m\u001b[0mhelper\u001b[0m \u001b[0;32mimport\u001b[0m \u001b[0mnormalizer\u001b[0m\u001b[0;34m,\u001b[0m \u001b[0mcomp_converter\u001b[0m\u001b[0;34m\u001b[0m\u001b[0;34m\u001b[0m\u001b[0m\n",
      "\u001b[0;31mImportError\u001b[0m: attempted relative import with no known parent package"
     ]
    }
   ],
   "source": [
    "import numpy as np\n",
    "\n",
    "import qiskit\n",
    "from qiskit import IBMQ, QuantumRegister, ClassicalRegister, assemble\n",
    "from qiskit.extensions import UnitaryGate\n",
    "from qiskit.providers.aer import PulseSimulator, Aer, QasmSimulator\n",
    "from qiskit.providers.aer.noise import NoiseModel\n",
    "from qiskit.providers.aer.pulse import PulseSystemModel\n",
    "from qiskit.test.mock import FakeArmonk\n",
    "from qiskit.tools import job_monitor\n",
    "from helper import qutip_ham_converter\n",
    "from qoc_instruction_schedule_map import QOCInstructionScheduleMap\n",
    "from QutipOptimizer import QutipOptimizer\n",
    "\n",
    "IBMQ.load_account()\n",
    "\n",
    "provider = IBMQ.get_provider(hub='ibm-q', group='open', project='main')\n",
    "real_armonk_backend = provider.get_backend('ibmq_armonk')"
   ]
  },
  {
   "cell_type": "code",
   "execution_count": null,
   "metadata": {
    "pycharm": {
     "name": "#%%\n"
    },
    "slideshow": {
     "slide_type": "fragment"
    }
   },
   "outputs": [],
   "source": [
    "fake_armonk_backend=FakeArmonk()\n",
    "# which_armonk = 'fake'\n",
    "which_armonk = 'fake'\n",
    "def_x = False\n",
    "if which_armonk=='real':\n",
    "    fake_armonk_backend=real_armonk_backend\n",
    "# doesn't work with name()'"
   ]
  },
  {
   "cell_type": "code",
   "execution_count": null,
   "metadata": {
    "pycharm": {
     "name": "#%%\n"
    },
    "slideshow": {
     "slide_type": "slide"
    }
   },
   "outputs": [],
   "source": [
    "# convert hamiltonian from backend to qutip nbformat\n",
    "hamiltonian = qutip_ham_converter(fake_armonk_backend)\n",
    "\n",
    "# Instantiate grape optimizer with this hamiltonian\n",
    "grape_optimizer = QutipOptimizer(hamiltonian, fake_armonk_backend.configuration().dt)\n",
    "\n",
    "# Create new QOCInstructionScheduleMap with this optimizer\n",
    "grape_inst_map = QOCInstructionScheduleMap(grape_optimizer)"
   ]
  },
  {
   "cell_type": "code",
   "execution_count": null,
   "metadata": {
    "pycharm": {
     "name": "#%%\n"
    },
    "slideshow": {
     "slide_type": "skip"
    }
   },
   "outputs": [],
   "source": [
    "# add measurement map to grape_inst_map\n",
    "# this isn't long term sol, for measurement probably just use getter or something in instantiation\n",
    "grape_inst_map._map['measure'] = fake_armonk_backend.defaults().instruction_schedule_map._map['measure']\n",
    "# grape_inst_map._map['MEAS'] = fake_armonk_backend.defaults().instruction_schedule_map._map['MEAS']\n",
    "if def_x:\n",
    "    grape_inst_map._map['x'] = fake_armonk_backend.defaults().instruction_schedule_map._map['x']\n",
    "grape_inst_map._qubit_instructions = fake_armonk_backend.defaults().instruction_schedule_map._qubit_instructions"
   ]
  },
  {
   "cell_type": "code",
   "execution_count": null,
   "metadata": {
    "pycharm": {
     "name": "#%%\n"
    },
    "slideshow": {
     "slide_type": "slide"
    }
   },
   "outputs": [],
   "source": [
    "# create a random gate for testing\n",
    "rand_gate = UnitaryGate(qiskit.quantum_info.random_unitary(2,2))\n",
    "rand_gate.to_matrix()"
   ]
  },
  {
   "cell_type": "code",
   "execution_count": null,
   "metadata": {
    "pycharm": {
     "name": "#%%\n"
    },
    "slideshow": {
     "slide_type": "fragment"
    }
   },
   "outputs": [],
   "source": [
    "# Create circuit\n",
    "q = QuantumRegister(1)\n",
    "c = ClassicalRegister(1)\n",
    "circ = qiskit.QuantumCircuit(q, c)\n",
    "\n",
    "# Add the X gate\n",
    "# circ.x(q)\n",
    "# circ.h(q)\n",
    "circ.append(rand_gate, q)\n",
    "\n",
    "# Add the measurement pulse\n",
    "circ.measure([0], [0])"
   ]
  },
  {
   "cell_type": "code",
   "execution_count": null,
   "metadata": {
    "pycharm": {
     "name": "#%%\n"
    },
    "slideshow": {
     "slide_type": "fragment"
    }
   },
   "outputs": [],
   "source": [
    "# set the drive strength\n",
    "omegad0 = 31919806.545849085\n",
    "getattr(fake_armonk_backend.configuration(), 'hamiltonian')['vars']['omegad0'] = omegad0\n",
    "\n",
    "# set the qubit frequency\n",
    "freq_est = 4.97445401836326e9\n",
    "fake_armonk_backend.configuration().qubit_freq_est=[freq_est]\n",
    "getattr(fake_armonk_backend.configuration(), 'hamiltonian')['vars']['wq0'] = 2*np.pi*freq_est"
   ]
  },
  {
   "cell_type": "code",
   "execution_count": null,
   "metadata": {
    "pycharm": {
     "name": "#%%\n"
    },
    "slideshow": {
     "slide_type": "slide"
    }
   },
   "outputs": [],
   "source": [
    "# generate model from backend\n",
    "armonk_model = PulseSystemModel.from_backend(fake_armonk_backend)"
   ]
  },
  {
   "cell_type": "code",
   "execution_count": null,
   "metadata": {
    "pycharm": {
     "name": "#%%\n"
    },
    "slideshow": {
     "slide_type": "fragment"
    }
   },
   "outputs": [],
   "source": [
    "# construct the schedule from the circuit using the grape instruction_schedule_map\n",
    "grape_schedule = qiskit.schedule(circ, inst_map = grape_inst_map,\n",
    "                        meas_map = fake_armonk_backend.configuration().meas_map)"
   ]
  },
  {
   "cell_type": "code",
   "execution_count": null,
   "metadata": {
    "pycharm": {
     "name": "#%%\n"
    },
    "slideshow": {
     "slide_type": "fragment"
    }
   },
   "outputs": [],
   "source": [
    "# assemble qobj for job submission\n",
    "backend_sim = PulseSimulator(configuration=fake_armonk_backend.configuration)\n",
    "\n",
    "grape_qobj = assemble(grape_schedule,\n",
    "                      backend=backend_sim,\n",
    "                      qubit_lo_freq=[freq_est],\n",
    "                      meas_level=2,\n",
    "                      meas_return='single',\n",
    "                      shots=1024)"
   ]
  },
  {
   "cell_type": "code",
   "execution_count": null,
   "metadata": {
    "pycharm": {
     "name": "#%%\n"
    },
    "slideshow": {
     "slide_type": "slide"
    }
   },
   "outputs": [],
   "source": [
    "sim_result = backend_sim.run(grape_qobj, armonk_model).result()\n",
    "sim_result.get_counts()"
   ]
  },
  {
   "cell_type": "code",
   "execution_count": null,
   "metadata": {
    "pycharm": {
     "name": "#%%\n"
    },
    "slideshow": {
     "slide_type": "fragment"
    }
   },
   "outputs": [],
   "source": [
    "noise_model = NoiseModel()\n",
    "noise_model.add_basis_gates(['unitary'])\n",
    "ideal_job = qiskit.execute(circ, QasmSimulator(),\n",
    "                           basis_gates=noise_model.basis_gates)\n",
    "ideal_job.result().get_counts()"
   ]
  },
  {
   "cell_type": "code",
   "execution_count": null,
   "metadata": {
    "pycharm": {
     "name": "#%%\n"
    },
    "slideshow": {
     "slide_type": "fragment"
    }
   },
   "outputs": [],
   "source": [
    "# now we run it on the real armonk\n",
    "armonk_qobj = assemble(grape_schedule,\n",
    "                      backend=real_armonk_backend,\n",
    "                      qubit_lo_freq=[freq_est],\n",
    "                      meas_level=2,\n",
    "                      meas_return='single',\n",
    "                      shots=1024)\n",
    "real_job = real_armonk_backend.run(armonk_qobj)\n",
    "job_id = real_job._job_id"
   ]
  },
  {
   "cell_type": "code",
   "execution_count": null,
   "metadata": {
    "pycharm": {
     "name": "#%%\n"
    },
    "slideshow": {
     "slide_type": "fragment"
    }
   },
   "outputs": [],
   "source": [
    "job = real_armonk_backend.retrieve_job(job_id)\n",
    "job_monitor(job)\n",
    "job.result().get_counts()"
   ]
  },
  {
   "cell_type": "code",
   "execution_count": null,
   "metadata": {
    "pycharm": {
     "name": "#%%\n"
    },
    "slideshow": {
     "slide_type": "slide"
    }
   },
   "outputs": [],
   "source": [
    "print('simulated results: {}'.format(sim_result.get_counts()))\n",
    "print('ideal results: {}'.format(ideal_job.result().get_counts()))\n",
    "print('real results: {}'.format(real_job.result().get_counts()))\n",
    "print('Grape run on {} backend'.format(which_armonk))\n",
    "print('Used grape gate: {}'.format(not def_x))"
   ]
  },
  {
   "cell_type": "code",
   "execution_count": null,
   "metadata": {
    "pycharm": {
     "name": "#%%\n"
    }
   },
   "outputs": [],
   "source": [
    "# def x gate on real armonk: 0:67, 1:957\n",
    "# grape x gate on real armonk: 0:212, 1:812\n",
    "# see https://qiskit.org/documentation/locale/de_DE/tutorials/pulse/5_pulse_simulator_backend_model.html"
   ]
  }
 ],
 "metadata": {
  "celltoolbar": "Slideshow",
  "kernelspec": {
   "display_name": "Python 3.8.3 64-bit ('qutip': conda)",
   "language": "python",
   "name": "python38364bitqutipconda72ab910969ae45118da3f2cef457c161"
  },
  "language_info": {
   "codemirror_mode": {
    "name": "ipython",
    "version": 3
   },
   "file_extension": ".py",
   "mimetype": "text/x-python",
   "name": "python",
   "nbconvert_exporter": "python",
   "pygments_lexer": "ipython3",
   "version": "3.8.5"
  }
 },
 "nbformat": 4,
 "nbformat_minor": 1
}
