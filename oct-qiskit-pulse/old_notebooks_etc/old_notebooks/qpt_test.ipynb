{
 "cells": [
  {
   "cell_type": "code",
   "execution_count": null,
   "outputs": [],
   "source": [
    "from qutip import sigmax\n",
    "from qutip.control.grape import _overlap\n",
    "from notebooks.qutip_wrapper import qutip_optimize_wrapper, qutip_simulate_wrapper\n",
    "%matplotlib inline\n",
    "# import matplotlib.pyplot as plt\n",
    "import numpy as np\n",
    "# import datetime\n",
    "# from qutip_wrapper import qutip_optimize_wrapper, qutip_simulate_wrapper\n",
    "from notebooks.qiskit_scripts import *\n",
    "# from qutip import identity, sigmax, sigmaz, sigmay, hadamard_transform\n",
    "\n",
    "from qiskit.tools.qi.qi import outer"
   ],
   "metadata": {
    "collapsed": false,
    "pycharm": {
     "name": "#%%\n"
    }
   }
  },
  {
   "cell_type": "code",
   "execution_count": null,
   "outputs": [],
   "source": [
    "from qiskit import IBMQ, pulse, QuantumCircuit, ClassicalRegister\n",
    "from qiskit.pulse import Play\n",
    "\n",
    "IBMQ.load_account()\n",
    "\n",
    "provider = IBMQ.get_provider(hub='ibm-q', group='open', project='main')\n",
    "backend = provider.get_backend('ibmq_armonk')\n",
    "armonk_backend = backend"
   ],
   "metadata": {
    "collapsed": false,
    "pycharm": {
     "name": "#%%\n"
    }
   }
  },
  {
   "cell_type": "code",
   "execution_count": 97,
   "outputs": [
    {
     "name": "stdout",
     "output_type": "stream",
     "text": [
      "Final evolution\n",
      "Quantum object: dims = [[2], [2]], shape = (2, 2), type = oper, isherm = False\n",
      "Qobj data =\n",
      "[[ 7.61519827e-06+1.46055723e-06j -9.90741776e-01+1.35759836e-01j]\n",
      " [-9.90743604e-01+1.35746496e-01j -6.94163893e-06+3.45515861e-06j]]\n",
      "\n"
     ]
    }
   ],
   "source": [
    "freq_est = 4974450442.586346\n",
    "omegad0 = 31919806.545849085\n",
    "dt = armonk_backend.configuration().dt\n",
    "wq0 = 2 * np.pi * freq_est\n",
    "\n",
    "n_ts = 1600\n",
    "evo_time = dt * n_ts\n",
    "\n",
    "default_delta = wq0/16\n",
    "delta=default_delta\n",
    "delta_freq = delta / 2 / np.pi\n",
    "phase=np.pi/3\n",
    "optimized_pulse_seq, qutip_result = qutip_optimize_wrapper(delta, omegad0, evo_time, n_ts, final_evo=True, target='sigmax', p_type='RND')"
   ],
   "metadata": {
    "collapsed": false,
    "pycharm": {
     "name": "#%%\n"
    }
   }
  },
  {
   "cell_type": "code",
   "execution_count": 80,
   "outputs": [
    {
     "data": {
      "text/plain": "4974450442.586346"
     },
     "execution_count": 80,
     "metadata": {},
     "output_type": "execute_result"
    }
   ],
   "source": [
    "omegad0\n",
    "freq_est\n",
    "# wq0/16"
   ],
   "metadata": {
    "collapsed": false,
    "pycharm": {
     "name": "#%%\n"
    }
   }
  },
  {
   "cell_type": "code",
   "execution_count": 98,
   "outputs": [],
   "source": [
    "getattr(armonk_backend.configuration(), 'hamiltonian')['vars']['omegad0'] = omegad0\n",
    "getattr(armonk_backend.configuration(), 'hamiltonian')['vars']['wq0'] = wq0\n",
    "\n",
    "delta_freq = delta / 2 / np.pi\n",
    "armonk_backend.configuration().qubit_lo_freq=[freq_est - delta_freq]\n",
    "# armonk_backend.configuration().qubit_lo_freq=[freq_est - delta_freq]"
   ],
   "metadata": {
    "collapsed": false,
    "pycharm": {
     "name": "#%%\n"
    }
   }
  },
  {
   "cell_type": "code",
   "execution_count": 101,
   "outputs": [
    {
     "data": {
      "text/plain": "Quantum object: dims = [[2], [2]], shape = (2, 2), type = oper, isherm = False\nQobj data =\n[[ 7.61519827e-06+1.46055723e-06j -9.90741776e-01+1.35759836e-01j]\n [-9.90743604e-01+1.35746496e-01j -6.94163893e-06+3.45515861e-06j]]",
      "text/latex": "Quantum object: dims = [[2], [2]], shape = (2, 2), type = oper, isherm = False\\begin{equation*}\\left(\\begin{array}{*{11}c}(7.615\\times10^{-06}+1.461\\times10^{-06}j) & (-0.991+0.136j)\\\\(-0.991+0.136j) & (-6.942\\times10^{-06}+3.455\\times10^{-06}j)\\\\\\end{array}\\right)\\end{equation*}"
     },
     "execution_count": 101,
     "metadata": {},
     "output_type": "execute_result"
    }
   ],
   "source": [
    "qutip_result.evo_full_final"
   ],
   "metadata": {
    "collapsed": false,
    "pycharm": {
     "name": "#%%\n"
    }
   }
  },
  {
   "cell_type": "code",
   "execution_count": 117,
   "outputs": [
    {
     "name": "stderr",
     "output_type": "stream",
     "text": [
      "/Users/benrosand/anaconda3/envs/qutip/lib/python3.8/site-packages/qiskit/pulse/pulse_lib/sample_pulse.py:149: DeprecationWarning: Calling `SamplePulse` with a channel is deprecated. Instantiate the new `Play` instruction directly with a pulse and a channel. In this case, please use: `Play(SamplePulse(samples), DriveChannel(0))`.\n",
      "  warnings.warn(\"Calling `{}` with a channel is deprecated. Instantiate the new `Play` \"\n",
      "/Users/benrosand/anaconda3/envs/qutip/lib/python3.8/site-packages/qiskit/pulse/pulse_lib/pulse.py:46: DeprecationWarning: Calling `SamplePulse` with a channel is deprecated. Instantiate the new `Play` instruction directly with a pulse and a channel. In this case, please use: `Play(SamplePulse(array([-0.99999074+0.j, -0.99933906+0.j,  0.92067025+0.j, ...,\n",
      "        0.90854336+0.j, -0.99934313+0.j, -0.99999079+0.j])), DriveChannel(0))`.\n",
      "  warnings.warn(\"Calling `{}` with a channel is deprecated. Instantiate the new `Play` \"\n",
      "/Users/benrosand/anaconda3/envs/qutip/lib/python3.8/site-packages/qiskit/providers/models/pulsedefaults.py:283: DeprecationWarning: The `circuit_instruction_map` attribute has been renamed to `instruction_schedule_map`.\n",
      "  warnings.warn(\"The `circuit_instruction_map` attribute has been renamed to \"\n"
     ]
    }
   ],
   "source": [
    "gate, inst_map = pulse_to_gate_1q(backend, pulse.SamplePulse(optimized_pulse_seq))\n",
    "pulse_aer_backend = qiskit.providers.aer.PulseSimulator(\n",
    "    configuration=armonk_backend.configuration())\n",
    "armonk_model = PulseSystemModel.from_backend(armonk_backend)"
   ],
   "metadata": {
    "collapsed": false,
    "pycharm": {
     "name": "#%%\n"
    }
   }
  },
  {
   "cell_type": "code",
   "execution_count": null,
   "outputs": [],
   "source": [
    "# q = QuantumRegister(1)\n",
    "# c = ClassicalRegister(1)\n",
    "# circ = qiskit.QuantumCircuit(q, c)\n",
    "# circ.x(q)\n",
    "# # circ.measure([0], [0])\n",
    "# qpt_circs = process_tomography_circuits(circ, q)\n",
    "# pulse_transp_circ = qiskit.transpile(qpt_circs, backend=pulse_aer_backend, basis_gates=armonk_backend.configuration().basis_gates + ['opt_gate'])\n",
    "# gate_sched = qiskit.schedule(pulse_transp_circ, inst_map=inst_map, backend=pulse_aer_backend, meas_map=[[0]])\n",
    "\n",
    "# default_jobs = [qiskit.execute(sched, pulse_aer_backend, shots=4096, system_model=armonk_model) for sched in gate_sched]"
   ],
   "metadata": {
    "collapsed": false,
    "pycharm": {
     "name": "#%%\n"
    }
   }
  },
  {
   "cell_type": "code",
   "execution_count": null,
   "outputs": [],
   "source": [
    "# q = QuantumRegister(1)\n",
    "# c = ClassicalRegister(1)\n",
    "# circ = qiskit.QuantumCircuit(q, c)\n",
    "# # circ.append(gate,q)\n",
    "# circ.x(0)\n",
    "# # circ.measure(q, c)\n",
    "# qpt_circs = process_tomography_circuits(circ, q)\n",
    "# pulse_transp_circ = qiskit.transpile(circ, backend=pulse_aer_backend, basis_gates=armonk_backend.configuration().basis_gates + ['opt_gate'])\n",
    "# gate_sched = qiskit.schedule(pulse_transp_circ, inst_map=inst_map, backend=pulse_aer_backend, meas_map=[[0]])\n",
    "# # default_jobs[0].result().get_counts()\n",
    "# job = qiskit.execute(gate_sched, pulse_aer_backend, shots=4096, system_model=armonk_model)"
   ],
   "metadata": {
    "collapsed": false,
    "pycharm": {
     "name": "#%%\n"
    }
   }
  },
  {
   "cell_type": "code",
   "execution_count": null,
   "outputs": [],
   "source": [
    "# job.result().get_counts()\n",
    "# qpt_circs[6].draw()"
   ],
   "metadata": {
    "collapsed": false,
    "pycharm": {
     "name": "#%%\n"
    }
   }
  },
  {
   "cell_type": "code",
   "execution_count": null,
   "outputs": [],
   "source": [
    "#NOTE we removed measurement for qpt?\n",
    "q = QuantumRegister(1)\n",
    "c = ClassicalRegister(1)\n",
    "my_circ = qiskit.QuantumCircuit(q, c)\n",
    "my_circ.append(gate,q)\n",
    "# my_circ.x(q)\n",
    "my_circ.measure([0], [0])\n",
    "# my_circ.Acquire()\n",
    "# acquire = pulse.Acquire(100, channel=pulse.AcquireChannel(\n",
    "#         0), mem_slot=pulse.MemorySlot(0), name='acquire')\n",
    "\n",
    "\n",
    "my_qpt_circs = process_tomography_circuits(my_circ, q)\n",
    "my_transp_circ = qiskit.transpile(my_qpt_circs, backend=pulse_aer_backend, basis_gates=armonk_backend.configuration().basis_gates + ['opt_gate'])\n",
    "my_gate_sched = qiskit.schedule(my_transp_circ, inst_map=inst_map, backend=pulse_aer_backend, meas_map=[[0]])\n",
    "\n",
    "# my_jobs = [qiskit.execute(sched, pulse_aer_backend, shots=4096, system_model=armonk_model) for sched in my_gate_sched]\n",
    "# my_jobs[0].result().get_counts()"
   ],
   "metadata": {
    "collapsed": false,
    "pycharm": {
     "name": "#%%\n",
     "is_executing": true
    }
   }
  },
  {
   "cell_type": "code",
   "execution_count": null,
   "outputs": [],
   "source": [
    "small_transp = qiskit.transpile(my_circ, backend=pulse_aer_backend, basis_gates=armonk_backend.configuration().basis_gates + ['opt_gate'])\n",
    "small_gate_sched = qiskit.schedule(small_transp, inst_map=inst_map, backend=pulse_aer_backend, meas_map=[[0]])\n",
    "# small_gate_sched += acquire << small_gate_sched.duration()\n",
    "temp_job = qiskit.execute(small_gate_sched, pulse_aer_backend, shots=4096, system_model=armonk_model)"
   ],
   "metadata": {
    "collapsed": false,
    "pycharm": {
     "name": "#%%\n",
     "is_executing": true
    }
   }
  },
  {
   "cell_type": "code",
   "execution_count": null,
   "outputs": [],
   "source": [
    "temp_job.result().get_counts()"
   ],
   "metadata": {
    "collapsed": false,
    "pycharm": {
     "name": "#%%\n"
    }
   }
  },
  {
   "cell_type": "code",
   "execution_count": null,
   "outputs": [],
   "source": [
    "# my_qpt_circs[1].draw()\n",
    "# qpt_circs[1].draw()\n",
    "pulse_transp_circ[4].draw()"
   ],
   "metadata": {
    "collapsed": false,
    "pycharm": {
     "name": "#%%\n"
    }
   }
  },
  {
   "cell_type": "code",
   "execution_count": null,
   "outputs": [],
   "source": [
    "qpt_circs[4].draw()"
   ],
   "metadata": {
    "collapsed": false,
    "pycharm": {
     "name": "#%%\n"
    }
   }
  },
  {
   "cell_type": "code",
   "execution_count": null,
   "outputs": [],
   "source": [
    "my_transp_circ[4].draw()"
   ],
   "metadata": {
    "collapsed": false,
    "pycharm": {
     "name": "#%%\n"
    }
   }
  },
  {
   "cell_type": "code",
   "execution_count": null,
   "outputs": [],
   "source": [
    "default_tomo = ProcessTomographyFitter(default_jobs[0].result(), [pulse_transp_circ[0]])\n",
    "my_tomo = ProcessTomographyFitter(my_jobs[0].result(), [my_transp_circ[0]])\n",
    "\n",
    "for i,_ in enumerate(my_jobs[:-1]):\n",
    "    default_tomo.add_data(default_jobs[i+1].result(), [pulse_transp_circ[i+1]])\n",
    "    my_tomo.add_data(my_jobs[i+1].result(), [my_transp_circ[i+1]])"
   ],
   "metadata": {
    "collapsed": false,
    "pycharm": {
     "name": "#%%\n"
    }
   }
  },
  {
   "cell_type": "code",
   "execution_count": null,
   "outputs": [],
   "source": [
    "q = QuantumRegister(1)\n",
    "circ = qiskit.QuantumCircuit(q)\n",
    "# circ.x(q[0])\n",
    "circ.x(0)\n",
    "\n",
    "# Run circuit on unitary simulator to find ideal unitary\n",
    "unitary_job = qiskit.execute(circ, Aer.get_backend('unitary_simulator'))\n",
    "ideal_unitary = unitary_job.result().get_unitary(circ)\n",
    "# convert to Choi-matrix in column-major convention\n",
    "choi_ideal = outer(ideal_unitary.ravel(order='F'))\n",
    "\n",
    "# Generate process tomography circuits and run on qasm simulator\n",
    "qpt_circs = process_tomography_circuits(circ, q)\n",
    "ideal_job = qiskit.execute(qpt_circs, Aer.get_backend('qasm_simulator'), shots=4000)\n",
    "\n",
    "# ideal_transp_circ = qiskit.transpile(qpt_circs, backend=pulse_aer_backend, basis_gates=armonk_backend.configuration().basis_gates + ['opt_gate'])\n",
    "# ideal_gate_sched = qiskit.schedule(ideal_transp_circ, inst_map=inst_map, backend=pulse_aer_backend, meas_map=[[0]])\n",
    "# ideal_armonk_job = qiskit.execute(qpt_circs, armonk_backend, shots=4096)\n",
    "\n",
    "# Extract tomography data so that counts are indexed by measurement configuration\n",
    "ideal_qpt_tomo = ProcessTomographyFitter(ideal_job.result(), qpt_circs)\n",
    "\n",
    "x_choi_lstsq = ideal_qpt_tomo.fit(method='lstsq')"
   ],
   "metadata": {
    "collapsed": false,
    "pycharm": {
     "name": "#%%\n"
    }
   }
  },
  {
   "cell_type": "code",
   "execution_count": null,
   "outputs": [],
   "source": [
    "# ideal_qpt_tomo.data"
   ],
   "metadata": {
    "collapsed": false,
    "pycharm": {
     "name": "#%%\n"
    }
   }
  },
  {
   "cell_type": "code",
   "execution_count": null,
   "outputs": [],
   "source": [
    "t = time.time()\n",
    "my_choi_lstsq = my_tomo.fit(method='lstsq')\n",
    "default_choi_lstsq = default_tomo.fit(method='lstsq')\n",
    "ideal_choi_lstsq = ideal_qpt_tomo.fit(method='lstsq')\n",
    "\n",
    "print('Least-Sq Fitter')\n",
    "print('my fit fidelity (state):', state_fidelity(choi_ideal / 2, my_choi_lstsq.data / 2))\n",
    "print('default fit fidelity (state):', state_fidelity(choi_ideal / 2, default_choi_lstsq.data / 2))\n",
    "print('ideal fit fidelity (state):', state_fidelity(choi_ideal / 2, ideal_choi_lstsq.data / 2))\n",
    "\n",
    "print('my fit time:', time.time() - t)\n",
    "print('default fit fidelity (process):', np.real(process_fidelity(choi_ideal, default_choi_lstsq.data, require_cptp=False)))\n",
    "print('my fit fidelity (process):', np.real(process_fidelity(choi_ideal, my_choi_lstsq.data, require_cptp=False)))"
   ],
   "metadata": {
    "collapsed": false,
    "pycharm": {
     "name": "#%%\n"
    }
   }
  },
  {
   "cell_type": "code",
   "execution_count": null,
   "outputs": [],
   "source": [
    "default_tomo.data"
   ],
   "metadata": {
    "collapsed": false,
    "pycharm": {
     "name": "#%%\n"
    }
   }
  },
  {
   "cell_type": "code",
   "execution_count": null,
   "outputs": [],
   "source": [
    "default_tomo.data"
   ],
   "metadata": {
    "collapsed": false,
    "pycharm": {
     "name": "#%%\n"
    }
   }
  },
  {
   "cell_type": "code",
   "execution_count": null,
   "outputs": [],
   "source": [
    "my_tomo.data"
   ],
   "metadata": {
    "collapsed": false,
    "pycharm": {
     "name": "#%%\n"
    }
   }
  },
  {
   "cell_type": "code",
   "execution_count": null,
   "outputs": [],
   "source": [
    "ideal_qpt_tomo.data"
   ],
   "metadata": {
    "collapsed": false,
    "pycharm": {
     "name": "#%%\n"
    }
   }
  }
 ],
 "metadata": {
  "kernelspec": {
   "display_name": "Python 3",
   "language": "python",
   "name": "python3"
  },
  "language_info": {
   "codemirror_mode": {
    "name": "ipython",
    "version": 2
   },
   "file_extension": ".py",
   "mimetype": "text/x-python",
   "name": "python",
   "nbconvert_exporter": "python",
   "pygments_lexer": "ipython2",
   "version": "2.7.6"
  }
 },
 "nbformat": 4,
 "nbformat_minor": 0
}