{
 "cells": [
  {
   "cell_type": "code",
   "execution_count": 25,
   "metadata": {
    "collapsed": false
   },
   "outputs": [],
   "source": [
    "import copy\n",
    "from qutip import sigmax\n",
    "from qutip.control.grape import _overlap\n",
    "from notebooks.qutip_wrapper import qutip_optimize_wrapper, qutip_simulate_wrapper\n",
    "%matplotlib inline\n",
    "# import matplotlib.pyplot as plt\n",
    "import numpy as np\n",
    "# import datetime\n",
    "# from qutip_wrapper import qutip_optimize_wrapper, qutip_simulate_wrapper\n",
    "from notebooks.qiskit_scripts import *\n",
    "# from qutip import identity, sigmax, sigmaz, sigmay, hadamard_transform\n"
   ]
  },
  {
   "cell_type": "code",
   "execution_count": 26,
   "metadata": {
    "collapsed": false,
    "tags": null
   },
   "outputs": [
    {
     "name": "stderr",
     "output_type": "stream",
     "text": [
      "ibmqfactory.load_account:WARNING:2020-07-29 15:28:16,783: Credentials are already in use. The existing account in the session will be replaced.\n"
     ]
    }
   ],
   "source": [
    "from qiskit import IBMQ, pulse, QuantumCircuit\n",
    "from qiskit.pulse import Play\n",
    "# import qiskit\n",
    "\n",
    "IBMQ.load_account()\n",
    "\n",
    "provider = IBMQ.get_provider(hub='ibm-q', group='open', project='main')\n",
    "backend = provider.get_backend('ibmq_armonk')\n",
    "armonk_backend = backend\n",
    "# original_backend = provider.get_backend('ibmq_armonk')"
   ]
  },
  {
   "cell_type": "code",
   "execution_count": 27,
   "metadata": {
    "collapsed": false,
    "pycharm": {
     "name": "#%%\n"
    }
   },
   "outputs": [],
   "source": [
    "# provider = IBMQ.get_provider(hub='ibm-q-internal', group='deployed', project='default')\n",
    "# backend = provider.get_backend('ibmq_armonk')\n",
    "# ham = backend.configuration().hamiltonian"
   ]
  },
  {
   "cell_type": "code",
   "execution_count": 28,
   "outputs": [
    {
     "name": "stdout",
     "output_type": "stream",
     "text": [
      "\\begin{align} \\mathcal{H}/\\hbar = & \\sum_{i=0}^{0}\\left(\\frac{\\omega_{q,i}}{2} (\\mathbb{1}_i-\\sigma_i^{z})+ \\Omega_{d,i}D_i(t)\\sigma_i^{X}\\right) \\\\ \\end{align}\n"
     ]
    }
   ],
   "source": [
    "# print(ham['h_latex'])"
   ],
   "metadata": {
    "collapsed": false,
    "pycharm": {
     "name": "#%%\n"
    }
   }
  },
  {
   "cell_type": "code",
   "execution_count": 29,
   "outputs": [
    {
     "data": {
      "text/plain": "{'description': 'Qubits are modelled as a two level system. Qubits are coupled through resonator buses. The provided Hamiltonian has been projected into the zero excitation subspace of the resonator buses leading to an effective qubit-qubit flip-flop interaction. The qubit resonance frequencies in the Hamiltonian are the cavity dressed frequencies and not exactly what is returned by the backend defaults, which also includes the dressing due to the qubit-qubit interactions.\\nWarning: Currently not all system Hamiltonian information is available to the public, missing values have been replaced with 0.\\n',\n 'h_latex': '\\\\begin{align} \\\\mathcal{H}/\\\\hbar = & \\\\sum_{i=0}^{0}\\\\left(\\\\frac{\\\\omega_{q,i}}{2} (\\\\mathbb{1}_i-\\\\sigma_i^{z})+ \\\\Omega_{d,i}D_i(t)\\\\sigma_i^{X}\\\\right) \\\\\\\\ \\\\end{align}',\n 'h_str': ['_SUM[i,0,0,wq{i}/2*(I{i}-Z{i})]',\n  '_SUM[i,0,0,omegad{i}*X{i}||D{i}]'],\n 'osc': {},\n 'qub': {'0': 2},\n 'vars': {'omegad0': 0, 'wq0': 31.255410616078645}}"
     },
     "execution_count": 29,
     "metadata": {},
     "output_type": "execute_result"
    }
   ],
   "source": [
    "# ham"
   ],
   "metadata": {
    "collapsed": false,
    "pycharm": {
     "name": "#%%\n"
    }
   }
  },
  {
   "cell_type": "code",
   "execution_count": 30,
   "outputs": [],
   "source": [
    "\n",
    "base_test=True"
   ],
   "metadata": {
    "collapsed": false,
    "pycharm": {
     "name": "#%%\n"
    }
   }
  },
  {
   "cell_type": "code",
   "execution_count": 31,
   "metadata": {
    "collapsed": false
   },
   "outputs": [],
   "source": [
    "freq_est = 4974450442.586346\n",
    "omegad0 = 31919806.545849085\n",
    "dt = armonk_backend.configuration().dt\n",
    "wq0 = 2 * np.pi * freq_est\n"
   ]
  },
  {
   "cell_type": "code",
   "execution_count": 32,
   "metadata": {
    "collapsed": false
   },
   "outputs": [],
   "source": [
    "n_ts = 1600\n",
    "evo_time = dt * n_ts"
   ]
  },
  {
   "cell_type": "code",
   "execution_count": 32,
   "outputs": [],
   "source": [],
   "metadata": {
    "collapsed": false,
    "pycharm": {
     "name": "#%%\n"
    }
   }
  },
  {
   "cell_type": "code",
   "execution_count": 33,
   "metadata": {
    "collapsed": false,
    "tags": null
   },
   "outputs": [
    {
     "name": "stderr",
     "output_type": "stream",
     "text": [
      "/Users/benrosand/oct-qiskit-pulse/notebooks/qutip_wrapper.py:45: DeprecationWarning: Importing functions/classes of the qip submodule directly from the namespace qutip is deprecated. Please import them from the submodule instead, e.g.\n",
      "from qutip.qip.operations import cnot\n",
      "from qutip.qip.circuit import QubitCircuit\n",
      "\n",
      "  U_targ = hadamard_transform(1)\n"
     ]
    },
    {
     "name": "stdout",
     "output_type": "stream",
     "text": [
      "Final evolution\n",
      "Quantum object: dims = [[2], [2]], shape = (2, 2), type = oper, isherm = False\n",
      "Qobj data =\n",
      "[[ 0.70056106-0.09598633j  0.70056141-0.09599237j]\n",
      " [ 0.7005615 -0.09599176j -0.70055953+0.09599748j]]\n",
      "\n"
     ]
    }
   ],
   "source": [
    "delta = wq0/16\n",
    "# delta = 0\n",
    "# delta=\n",
    "default_delta = wq0/16\n",
    "delta_freq = delta / 2 / np.pi\n",
    "# evo_tine = evo_time\n",
    "phase=np.pi/3\n",
    "optimized_pulse_seq, qutip_result = qutip_optimize_wrapper(delta, omegad0, evo_time, n_ts, final_evo=True, target='hadamard', p_type='RND')\n",
    "# optimized_pulse_seq, qutip_result = qutip_optimize_wrapper(delta, omegad0, evo_time, n_ts, final_evo=True, target='sigmax', phase=phase)\n",
    "# had_seq = qutip_optimize_wrapper(0.0000000, 1, np.pi*2, 160, final_evo=True, target='hadamard')\n",
    "# had_seq\n",
    "# optimized_pulse_seq[1:10]"
   ]
  },
  {
   "cell_type": "code",
   "execution_count": 34,
   "outputs": [
    {
     "data": {
      "text/plain": "(0.7005614541137017, 0.500000827287504)"
     },
     "execution_count": 34,
     "metadata": {},
     "output_type": "execute_result"
    }
   ],
   "source": [
    "_overlap(sigmax(), qutip_result.evo_full_final).real, abs(_overlap(sigmax(), qutip_result.evo_full_final))**2\n",
    "# _overlap(sigmax(), qutip_result.evo_full_final).real, abs(_overlap(sigmax(), qutip_result.evo_full_final))**2"
   ],
   "metadata": {
    "collapsed": false,
    "pycharm": {
     "name": "#%%\n"
    }
   }
  },
  {
   "cell_type": "code",
   "execution_count": 35,
   "outputs": [
    {
     "data": {
      "text/plain": "Quantum object: dims = [[2], [2]], shape = (2, 2), type = oper, isherm = False\nQobj data =\n[[ 0.70056106-0.09598633j  0.70056141-0.09599237j]\n [ 0.7005615 -0.09599176j -0.70055953+0.09599748j]]",
      "text/latex": "Quantum object: dims = [[2], [2]], shape = (2, 2), type = oper, isherm = False\\begin{equation*}\\left(\\begin{array}{*{11}c}(0.701-0.096j) & (0.701-0.096j)\\\\(0.701-0.096j) & (-0.701+0.096j)\\\\\\end{array}\\right)\\end{equation*}"
     },
     "execution_count": 35,
     "metadata": {},
     "output_type": "execute_result"
    },
    {
     "data": {
      "text/plain": "<Figure size 432x288 with 1 Axes>",
      "image/png": "[encoded data removed]"
     },
     "metadata": {
      "needs_background": "light"
     },
     "output_type": "display_data"
    }
   ],
   "source": [
    "import matplotlib.pyplot as plt\n",
    "\n",
    "plt.plot(optimized_pulse_seq)\n",
    "qutip_result.evo_full_final"
   ],
   "metadata": {
    "collapsed": false,
    "pycharm": {
     "name": "#%%\n"
    }
   }
  },
  {
   "cell_type": "code",
   "execution_count": 36,
   "metadata": {
    "collapsed": false,
    "tags": null
   },
   "outputs": [
    {
     "name": "stdout",
     "output_type": "stream",
     "text": [
      "Quantum object: dims = [[2], [1]], shape = (2, 1), type = ket\n",
      "Qobj data =\n",
      "[[1.]\n",
      " [0.]]\n"
     ]
    }
   ],
   "source": [
    "# dt = evo_time / n_ts\n",
    "test_obj = qutip_simulate_wrapper(optimized_pulse_seq, dt, omegad0, wq0=delta, print_result=True)\n",
    "# test_obj\n",
    "# dt"
   ]
  },
  {
   "cell_type": "code",
   "execution_count": 37,
   "metadata": {
    "collapsed": false
   },
   "outputs": [],
   "source": [
    "getattr(armonk_backend.configuration(), 'hamiltonian')['vars']['omegad0'] = omegad0\n",
    "getattr(armonk_backend.configuration(), 'hamiltonian')['vars']['wq0'] = wq0\n",
    "\n",
    "armonk_backend.configuration().qubit_lo_freq=[freq_est]"
   ]
  },
  {
   "cell_type": "code",
   "execution_count": 38,
   "outputs": [],
   "source": [
    "pulse_aer_backend = qiskit.providers.aer.PulseSimulator(\n",
    "    configuration=armonk_backend.configuration())"
   ],
   "metadata": {
    "collapsed": false,
    "pycharm": {
     "name": "#%%\n"
    }
   }
  },
  {
   "cell_type": "code",
   "execution_count": 39,
   "outputs": [
    {
     "name": "stdout",
     "output_type": "stream",
     "text": [
      "Job Status: job is queued (17)    "
     ]
    },
    {
     "ename": "KeyboardInterrupt",
     "evalue": "",
     "output_type": "error",
     "traceback": [
      "\u001B[0;31m---------------------------------------------------------------------------\u001B[0m",
      "\u001B[0;31mKeyboardInterrupt\u001B[0m                         Traceback (most recent call last)",
      "\u001B[0;32m<ipython-input-39-6ee478506b43>\u001B[0m in \u001B[0;36m<module>\u001B[0;34m\u001B[0m\n\u001B[1;32m      1\u001B[0m \u001B[0;31m# optimized_pulse_seq, qutip_result = qutip_optimize_wrapper(delta, omegad0, evo_time, n_ts, final_evo=True, target='hadamard', p_type='RND')\u001B[0m\u001B[0;34m\u001B[0m\u001B[0;34m\u001B[0m\u001B[0;34m\u001B[0m\u001B[0m\n\u001B[0;32m----> 2\u001B[0;31m \u001B[0mreal_job\u001B[0m\u001B[0;34m,\u001B[0m \u001B[0mreal_schedule\u001B[0m \u001B[0;34m=\u001B[0m \u001B[0mrun_opt_pulse\u001B[0m\u001B[0;34m(\u001B[0m\u001B[0moptimized_pulse_seq\u001B[0m\u001B[0;34m,\u001B[0m \u001B[0mbackend\u001B[0m\u001B[0;34m,\u001B[0m \u001B[0mfreq_est\u001B[0m\u001B[0;34m=\u001B[0m\u001B[0mfreq_est\u001B[0m \u001B[0;34m-\u001B[0m \u001B[0mdelta_freq\u001B[0m\u001B[0;34m,\u001B[0m \u001B[0msim\u001B[0m\u001B[0;34m=\u001B[0m\u001B[0;32mFalse\u001B[0m\u001B[0;34m,\u001B[0m \u001B[0mnum_shots\u001B[0m\u001B[0;34m=\u001B[0m\u001B[0;36m4096\u001B[0m\u001B[0;34m)\u001B[0m\u001B[0;34m\u001B[0m\u001B[0;34m\u001B[0m\u001B[0m\n\u001B[0m\u001B[1;32m      3\u001B[0m \u001B[0;31m# x_optimized_pulse_seq, x_qutip_result = qutip_optimize_wrapper(delta, omegad0, evo_time, n_ts, final_evo=True, target='sigmax', p_type='RND')\u001B[0m\u001B[0;34m\u001B[0m\u001B[0;34m\u001B[0m\u001B[0;34m\u001B[0m\u001B[0m\n\u001B[1;32m      4\u001B[0m \u001B[0;31m# x_real_job, x_real_schedule = run_opt_pulse(x_optimized_pulse_seq, backend, freq_est=freq_est - delta_freq, sim=False, num_shots=4096)\u001B[0m\u001B[0;34m\u001B[0m\u001B[0;34m\u001B[0m\u001B[0;34m\u001B[0m\u001B[0m\n\u001B[1;32m      5\u001B[0m \u001B[0;34m\u001B[0m\u001B[0m\n",
      "\u001B[0;32m~/oct-qiskit-pulse/notebooks/qiskit_scripts.py\u001B[0m in \u001B[0;36mrun_opt_pulse\u001B[0;34m(pulse_seq, backend, sim, num_shots, freq_est)\u001B[0m\n\u001B[1;32m     50\u001B[0m         \u001B[0mjob\u001B[0m \u001B[0;34m=\u001B[0m \u001B[0mbackend\u001B[0m\u001B[0;34m.\u001B[0m\u001B[0mrun\u001B[0m\u001B[0;34m(\u001B[0m\u001B[0mprogram\u001B[0m\u001B[0;34m)\u001B[0m\u001B[0;34m\u001B[0m\u001B[0;34m\u001B[0m\u001B[0m\n\u001B[1;32m     51\u001B[0m \u001B[0;34m\u001B[0m\u001B[0m\n\u001B[0;32m---> 52\u001B[0;31m     \u001B[0mjob_monitor\u001B[0m\u001B[0;34m(\u001B[0m\u001B[0mjob\u001B[0m\u001B[0;34m)\u001B[0m\u001B[0;34m\u001B[0m\u001B[0;34m\u001B[0m\u001B[0m\n\u001B[0m\u001B[1;32m     53\u001B[0m     \u001B[0;31m# print(sum(job.result(timeout=120).get_memory(0)))\u001B[0m\u001B[0;34m\u001B[0m\u001B[0;34m\u001B[0m\u001B[0;34m\u001B[0m\u001B[0m\n\u001B[1;32m     54\u001B[0m     \u001B[0;32mreturn\u001B[0m \u001B[0mjob\u001B[0m\u001B[0;34m,\u001B[0m \u001B[0mschedule\u001B[0m\u001B[0;34m\u001B[0m\u001B[0;34m\u001B[0m\u001B[0m\n",
      "\u001B[0;32m~/anaconda3/envs/qutip/lib/python3.8/site-packages/qiskit/tools/monitor/job_monitor.py\u001B[0m in \u001B[0;36mjob_monitor\u001B[0;34m(job, interval, quiet, output)\u001B[0m\n\u001B[1;32m     83\u001B[0m         \u001B[0m_interval_set\u001B[0m \u001B[0;34m=\u001B[0m \u001B[0;32mTrue\u001B[0m\u001B[0;34m\u001B[0m\u001B[0;34m\u001B[0m\u001B[0m\n\u001B[1;32m     84\u001B[0m \u001B[0;34m\u001B[0m\u001B[0m\n\u001B[0;32m---> 85\u001B[0;31m     _text_checker(job, interval, _interval_set,\n\u001B[0m\u001B[1;32m     86\u001B[0m                   quiet=quiet, output=output)\n",
      "\u001B[0;32m~/anaconda3/envs/qutip/lib/python3.8/site-packages/qiskit/tools/monitor/job_monitor.py\u001B[0m in \u001B[0;36m_text_checker\u001B[0;34m(job, interval, _interval_set, quiet, output)\u001B[0m\n\u001B[1;32m     40\u001B[0m         \u001B[0mprint\u001B[0m\u001B[0;34m(\u001B[0m\u001B[0;34m'\\r%s: %s'\u001B[0m \u001B[0;34m%\u001B[0m \u001B[0;34m(\u001B[0m\u001B[0;34m'Job Status'\u001B[0m\u001B[0;34m,\u001B[0m \u001B[0mmsg\u001B[0m\u001B[0;34m)\u001B[0m\u001B[0;34m,\u001B[0m \u001B[0mend\u001B[0m\u001B[0;34m=\u001B[0m\u001B[0;34m''\u001B[0m\u001B[0;34m,\u001B[0m \u001B[0mfile\u001B[0m\u001B[0;34m=\u001B[0m\u001B[0moutput\u001B[0m\u001B[0;34m)\u001B[0m\u001B[0;34m\u001B[0m\u001B[0;34m\u001B[0m\u001B[0m\n\u001B[1;32m     41\u001B[0m     \u001B[0;32mwhile\u001B[0m \u001B[0mstatus\u001B[0m\u001B[0;34m.\u001B[0m\u001B[0mname\u001B[0m \u001B[0;32mnot\u001B[0m \u001B[0;32min\u001B[0m \u001B[0;34m[\u001B[0m\u001B[0;34m'DONE'\u001B[0m\u001B[0;34m,\u001B[0m \u001B[0;34m'CANCELLED'\u001B[0m\u001B[0;34m,\u001B[0m \u001B[0;34m'ERROR'\u001B[0m\u001B[0;34m]\u001B[0m\u001B[0;34m:\u001B[0m\u001B[0;34m\u001B[0m\u001B[0;34m\u001B[0m\u001B[0m\n\u001B[0;32m---> 42\u001B[0;31m         \u001B[0mtime\u001B[0m\u001B[0;34m.\u001B[0m\u001B[0msleep\u001B[0m\u001B[0;34m(\u001B[0m\u001B[0minterval\u001B[0m\u001B[0;34m)\u001B[0m\u001B[0;34m\u001B[0m\u001B[0;34m\u001B[0m\u001B[0m\n\u001B[0m\u001B[1;32m     43\u001B[0m         \u001B[0mstatus\u001B[0m \u001B[0;34m=\u001B[0m \u001B[0mjob\u001B[0m\u001B[0;34m.\u001B[0m\u001B[0mstatus\u001B[0m\u001B[0;34m(\u001B[0m\u001B[0;34m)\u001B[0m\u001B[0;34m\u001B[0m\u001B[0;34m\u001B[0m\u001B[0m\n\u001B[1;32m     44\u001B[0m         \u001B[0mmsg\u001B[0m \u001B[0;34m=\u001B[0m \u001B[0mstatus\u001B[0m\u001B[0;34m.\u001B[0m\u001B[0mvalue\u001B[0m\u001B[0;34m\u001B[0m\u001B[0;34m\u001B[0m\u001B[0m\n",
      "\u001B[0;31mKeyboardInterrupt\u001B[0m: "
     ]
    }
   ],
   "source": [
    "# optimized_pulse_seq, qutip_result = qutip_optimize_wrapper(delta, omegad0, evo_time, n_ts, final_evo=True, target='hadamard', p_type='RND')\n",
    "real_job, real_schedule = run_opt_pulse(optimized_pulse_seq, backend, freq_est=freq_est - delta_freq, sim=False, num_shots=4096)\n",
    "# x_optimized_pulse_seq, x_qutip_result = qutip_optimize_wrapper(delta, omegad0, evo_time, n_ts, final_evo=True, target='sigmax', p_type='RND')\n",
    "# x_real_job, x_real_schedule = run_opt_pulse(x_optimized_pulse_seq, backend, freq_est=freq_est - delta_freq, sim=False, num_shots=4096)"
   ],
   "metadata": {
    "collapsed": false,
    "pycharm": {
     "name": "#%%\n"
    }
   }
  },
  {
   "cell_type": "code",
   "execution_count": 40,
   "outputs": [
    {
     "ename": "IBMQJobFailureError",
     "evalue": "'Unable to retrieve result for job 5f21cb96677f60001b6b7ff4. Job has failed. Use job.error_message() to get more details.'",
     "output_type": "error",
     "traceback": [
      "\u001B[0;31m---------------------------------------------------------------------------\u001B[0m",
      "\u001B[0;31mIBMQJobFailureError\u001B[0m                       Traceback (most recent call last)",
      "\u001B[0;32m<ipython-input-40-2f61a0a9dd0d>\u001B[0m in \u001B[0;36m<module>\u001B[0;34m\u001B[0m\n\u001B[1;32m      1\u001B[0m \u001B[0;31m# x_real_job.result().get_counts()\u001B[0m\u001B[0;34m\u001B[0m\u001B[0;34m\u001B[0m\u001B[0;34m\u001B[0m\u001B[0m\n\u001B[0;32m----> 2\u001B[0;31m \u001B[0mreal_job\u001B[0m\u001B[0;34m.\u001B[0m\u001B[0mresult\u001B[0m\u001B[0;34m(\u001B[0m\u001B[0;34m)\u001B[0m\u001B[0;34m.\u001B[0m\u001B[0mget_counts\u001B[0m\u001B[0;34m(\u001B[0m\u001B[0;34m)\u001B[0m\u001B[0;34m\u001B[0m\u001B[0;34m\u001B[0m\u001B[0m\n\u001B[0m\u001B[1;32m      3\u001B[0m \u001B[0;34m\u001B[0m\u001B[0m\n",
      "\u001B[0;32m~/anaconda3/envs/qutip/lib/python3.8/site-packages/qiskit/providers/ibmq/job/ibmqjob.py\u001B[0m in \u001B[0;36mresult\u001B[0;34m(self, timeout, wait, partial, refresh)\u001B[0m\n\u001B[1;32m    270\u001B[0m \u001B[0;34m\u001B[0m\u001B[0m\n\u001B[1;32m    271\u001B[0m             \u001B[0;32mif\u001B[0m \u001B[0mself\u001B[0m\u001B[0;34m.\u001B[0m\u001B[0m_status\u001B[0m \u001B[0;32mis\u001B[0m \u001B[0mJobStatus\u001B[0m\u001B[0;34m.\u001B[0m\u001B[0mERROR\u001B[0m \u001B[0;32mand\u001B[0m \u001B[0;32mnot\u001B[0m \u001B[0mpartial\u001B[0m\u001B[0;34m:\u001B[0m\u001B[0;34m\u001B[0m\u001B[0;34m\u001B[0m\u001B[0m\n\u001B[0;32m--> 272\u001B[0;31m                 raise IBMQJobFailureError(\n\u001B[0m\u001B[1;32m    273\u001B[0m                     \u001B[0;34m'Unable to retrieve result for job {}. Job has failed. '\u001B[0m\u001B[0;34m\u001B[0m\u001B[0;34m\u001B[0m\u001B[0m\n\u001B[1;32m    274\u001B[0m                     'Use job.error_message() to get more details.'.format(self.job_id()))\n",
      "\u001B[0;31mIBMQJobFailureError\u001B[0m: 'Unable to retrieve result for job 5f21cb96677f60001b6b7ff4. Job has failed. Use job.error_message() to get more details.'"
     ]
    }
   ],
   "source": [
    "# x_real_job.result().get_counts()\n",
    "real_job.result().get_counts()"
   ],
   "metadata": {
    "collapsed": false,
    "pycharm": {
     "name": "#%%\n"
    }
   }
  },
  {
   "cell_type": "code",
   "execution_count": 43,
   "outputs": [
    {
     "name": "stdout",
     "output_type": "stream",
     "text": [
      "Job Status: job has successfully run\n"
     ]
    }
   ],
   "source": [
    "sim_job, schedule = run_opt_pulse(optimized_pulse_seq, backend, freq_est=freq_est - delta_freq, sim=True, num_shots= 4096)\n",
    "\n",
    "# real_job ,_= run_opt_pulse(optimized_pulse_seq, backend, freq_est=4974450442, sim=False)\n",
    "# real_job, real_schedule = run_opt_pulse(optimized_pulse_seq, backend, freq_est=freq_est - delta_freq, sim=False, num_shots=4096)"
   ],
   "metadata": {
    "collapsed": false,
    "pycharm": {
     "name": "#%%\n"
    }
   }
  },
  {
   "cell_type": "code",
   "execution_count": 44,
   "outputs": [
    {
     "data": {
      "text/plain": "{'1': 2088, '0': 2008}"
     },
     "execution_count": 44,
     "metadata": {},
     "output_type": "execute_result"
    }
   ],
   "source": [
    "# real_schedule.draw()\n",
    "# r\n",
    "# real_job.result().get_counts()\n",
    "sim_job.result().get_counts()"
   ],
   "metadata": {
    "collapsed": false,
    "pycharm": {
     "name": "#%%\n"
    }
   }
  },
  {
   "cell_type": "code",
   "execution_count": null,
   "outputs": [],
   "source": [
    "\n",
    "q = QuantumRegister(1)\n",
    "c = ClassicalRegister(1)\n",
    "circ = qiskit.QuantumCircuit(q, c)\n",
    "circ.x(q)\n",
    "circ.measure([q], [c])"
   ],
   "metadata": {
    "collapsed": false,
    "pycharm": {
     "name": "#%%\n"
    }
   }
  },
  {
   "cell_type": "code",
   "execution_count": null,
   "outputs": [],
   "source": [
    "r_res = real_job.result().get_counts()\n",
    "def_res = def_job.result().get_counts()"
   ],
   "metadata": {
    "collapsed": false,
    "pycharm": {
     "name": "#%%\n"
    }
   }
  },
  {
   "cell_type": "code",
   "execution_count": null,
   "outputs": [],
   "source": [
    "print(real_job.result().get_counts())\n",
    "print(sim_job.result().get_counts())"
   ],
   "metadata": {
    "collapsed": false,
    "pycharm": {
     "name": "#%%\n"
    }
   }
  },
  {
   "cell_type": "code",
   "execution_count": null,
   "outputs": [],
   "source": [
    "print('max pulse: {}'.format(max(optimized_pulse_seq)))\n",
    "\n",
    "import matplotlib.pyplot as plt\n",
    "\n",
    "plt.plot(optimized_pulse_seq)"
   ],
   "metadata": {
    "collapsed": false,
    "pycharm": {
     "name": "#%%\n"
    }
   }
  },
  {
   "cell_type": "code",
   "execution_count": null,
   "outputs": [],
   "source": [
    "from collections import Counter\n",
    "ct = Counter(optimized_pulse_seq)\n",
    "print(ct[1])\n",
    "print(ct[-1])\n",
    "\n",
    "#"
   ],
   "metadata": {
    "collapsed": false,
    "pycharm": {
     "name": "#%%\n"
    }
   }
  },
  {
   "cell_type": "code",
   "execution_count": null,
   "outputs": [],
   "source": [
    "# sum(sim_job.result(timeout=120).get_memory(0))\n",
    "sim_job.result(timeout=120).get_counts()\n",
    "# real_job.result(timeout=120).get_counts()\n",
    "# real_job.error_message()\n",
    "# (delta_freq + freq_est) * 1e-9"
   ],
   "metadata": {
    "collapsed": false,
    "pycharm": {
     "name": "#%%\n"
    }
   }
  },
  {
   "cell_type": "code",
   "execution_count": null,
   "outputs": [],
   "source": [
    "# range\n",
    "# real_job.e\n",
    "print('freq_est: {}'.format(freq_est * 1e-9) )\n",
    "print('detuned frequency: {}'.format((freq_est - delta_freq) * 1e-9))\n",
    "print('detuning: {}'.format(delta_freq * 1e-9))\n",
    "# freq_est * 1e-9"
   ],
   "metadata": {
    "collapsed": false,
    "pycharm": {
     "name": "#%%\n"
    }
   }
  },
  {
   "cell_type": "code",
   "execution_count": null,
   "outputs": [],
   "source": [
    "gate, inst_map = pulse_to_gate_1q(backend, pulse.SamplePulse(optimized_pulse_seq))\n",
    "# opt_tomo, _ = run_qpt_gate_1q(backend, gate, my_inst_map=inst_map, num_shots=4096)\n",
    "# true_tomo, ideal_unitary = run_qpt_gate_1q(backend, gate, num_shots=4096 , default_gate='x')"
   ],
   "metadata": {
    "collapsed": false,
    "pycharm": {
     "name": "#%%\n"
    }
   }
  },
  {
   "cell_type": "code",
   "execution_count": null,
   "outputs": [],
   "source": [
    "opt_tomo, _ = run_qpt_gate_1q(simulator, gate, my_inst_map=inst_map, num_shots=4096)"
   ],
   "metadata": {
    "collapsed": false,
    "pycharm": {
     "name": "#%%\n"
    }
   }
  },
  {
   "cell_type": "code",
   "execution_count": null,
   "outputs": [],
   "source": [],
   "metadata": {
    "collapsed": false,
    "pycharm": {
     "name": "#%%\n"
    }
   }
  },
  {
   "cell_type": "code",
   "execution_count": null,
   "outputs": [],
   "source": [
    "# true_tomo[0].data\n",
    "# convert to Choi-matrix in column-major convention\n",
    "choi_ideal = np.outer(ideal_unitary.ravel(order='F'))"
   ],
   "metadata": {
    "collapsed": false,
    "pycharm": {
     "name": "#%%\n"
    }
   }
  },
  {
   "cell_type": "code",
   "execution_count": null,
   "outputs": [],
   "source": [
    "simulator = Aer.get_backend('qasm_simulator')\n",
    "# opt_tomo, _ = run_qpt_gate_1q(simulator, gate, my_inst_map=inst_map, num_shots=4096)\n",
    "opt_tomo, _ = circ_runner(simulator, gate, my_inst_map=inst_map, num_shots=4096)\n"
   ],
   "metadata": {
    "collapsed": false,
    "pycharm": {
     "name": "#%%\n"
    }
   }
  },
  {
   "cell_type": "code",
   "execution_count": null,
   "outputs": [],
   "source": [
    "aer_backend = simulator\n",
    "\n",
    "sched = run_qpt_gate_1q(aer_backend, gate, my_inst_map=inst_map, default_gate='x')\n",
    "# job = qiskit.execute(sched, sim_backend, inst_map=inst_map, shots=1024)\n",
    "job = qiskit.execute(sched, aer_backend, shots=1024)"
   ],
   "metadata": {
    "collapsed": false,
    "pycharm": {
     "name": "#%%\n"
    }
   }
  },
  {
   "cell_type": "code",
   "execution_count": null,
   "outputs": [],
   "source": [
    "job.result().get_counts()"
   ],
   "metadata": {
    "collapsed": false,
    "pycharm": {
     "name": "#%%\n"
    }
   }
  },
  {
   "cell_type": "code",
   "execution_count": null,
   "outputs": [],
   "source": [
    "aer_backend.configuration().basis_gates"
   ],
   "metadata": {
    "collapsed": false,
    "pycharm": {
     "name": "#%%\n"
    }
   }
  },
  {
   "cell_type": "code",
   "execution_count": null,
   "outputs": [],
   "source": [
    "# armonk_backend.defaults().instruction_schedule_map.instructions"
   ],
   "metadata": {
    "collapsed": false,
    "pycharm": {
     "name": "#%%\n"
    }
   }
  },
  {
   "cell_type": "code",
   "execution_count": null,
   "outputs": [],
   "source": [
    "# gate, inst_map = pulse_to_gate_1q(qasm_backend, pulse.SamplePulse(optimized_pulse_seq))\n",
    "import qiskit"
   ],
   "metadata": {
    "collapsed": false,
    "pycharm": {
     "name": "#%%\n"
    }
   }
  },
  {
   "cell_type": "code",
   "execution_count": null,
   "outputs": [],
   "source": [
    "\n",
    "q = QuantumRegister(1)\n",
    "circ = qiskit.QuantumCircuit(1,1)\n",
    "circ.x(0)\n",
    "# circ.append(gate, [0])\n",
    "circ.measure([0], [0]]\n",
    "# circ = transpiled_circ\n",
    "# job = qiskit.execute(circ, Aer.get_backend('unitary_simulator'))\n",
    "# ideal_unitary = job.result().get_unitary(circ)\n",
    "\n",
    "# Generate process tomography circuits and run on qasm simulator\n",
    "qpt_circs = process_tomography_circuits(circ, q)\n",
    "\n",
    "#could also rename to x\n",
    "#Make sure that drive strength is set on armonk_backend\n",
    "# transpiled_circ = qiskit.transpile(qpt_circs,backend=armonk_backend, basis_gates=armonk_backend.configuration().basis_gates + ['opt_gate'])\n",
    "pulse_transp_circ = qiskit.transpile(circ, backend=pulse_aer_backend, basis_gates=armonk_backend.configuration().basis_gates + ['opt_gate'])\n",
    "\n",
    "gate_sched = qiskit.schedule(pulse_transp_circ, inst_map=inst_map, backend=pulse_aer_backend, meas_map=[[0]])\n",
    "\n",
    "job = qiskit.execute(gate_sched, pulse_aer_backend, shots=4096, system_model=PulseSystemModel.from_backend(armonk_backend))\n",
    "job.result().get_counts()"
   ],
   "metadata": {
    "collapsed": false,
    "pycharm": {
     "name": "#%%\n"
    }
   }
  },
  {
   "cell_type": "code",
   "execution_count": null,
   "outputs": [],
   "source": [
    "qpt_circs = process_tomography_circuits(circ, q)\n",
    "transpiled_circ = qiskit.transpile(qpt_circs,backend=pulse_aer_backend, basis_gates=armonk_backend.configuration().basis_gates + ['opt_gate'])\n",
    "qpt_sched = qiskit.schedule(transpiled_circ, inst_map=inst_map, backend=pulse_aer_backend, meas_map = [[0]])\n",
    "aer_model = PulseSystemModel.from_backend(armonk_backend)\n",
    "# job = pulse_aer_backend.run(qpt_sched, aer_model)\n",
    "# job = qiskit.execute(qpt_sched[0], pulse_aer_backend, shots=4096, system_model=aer_model)\n",
    "jobs = [qiskit.execute(sched, pulse_aer_backend, shots=4096, system_model=aer_model) for sched in qpt_sched]"
   ],
   "metadata": {
    "collapsed": false,
    "pycharm": {
     "name": "#%%\n"
    }
   }
  },
  {
   "cell_type": "code",
   "execution_count": null,
   "outputs": [],
   "source": [
    "# job.error_message()\n",
    "# job.result().get_counts()\n",
    "\n",
    "# tomo = ProcessTomographyFitter(jobs, transpiled_circ)\n",
    "results = [j.result() for j in jobs]"
   ],
   "metadata": {
    "collapsed": false,
    "pycharm": {
     "name": "#%%\n"
    }
   }
  },
  {
   "cell_type": "code",
   "execution_count": null,
   "outputs": [],
   "source": [
    "# ProcessTomographyFitter(results, transpiled_circ)\n",
    "my_gate_tomo = ProcessTomographyFitter(results[0], [transpiled_circ[0]])\n",
    "for i,res in enumerate(results[:-1]):\n",
    "    my_gate_tomo.add_data(results[i+1], [transpiled_circ[i+1]])\n",
    "        \n",
    "# transpiled_circ[0].cregs"
   ],
   "metadata": {
    "collapsed": false,
    "pycharm": {
     "name": "#%%\n"
    }
   }
  },
  {
   "cell_type": "code",
   "execution_count": null,
   "outputs": [],
   "source": [
    "len(results[:-1])\n",
    "# len(my_gate_tomo)"
   ],
   "metadata": {
    "collapsed": false,
    "pycharm": {
     "name": "#%%\n"
    }
   }
  },
  {
   "cell_type": "code",
   "execution_count": null,
   "outputs": [],
   "source": [
    "\n",
    "#NOTE below works but the job cannot be fed correctly to final line\n",
    "qpt_circs = process_tomography_circuits(circ, q)\n",
    "transpiled_circ = qiskct.transpile(qpt_circs,backend=pulse_aer_backend, basis_gates=armonk_backend.configuration().basis_gates + ['opt_gate'])\n",
    "qpt_sched = qiskit.schedule(transpiled_circ, inst_map=inst_map, backend=pulse_aer_backend, meas_map = [[0]])\n",
    "aer_model = PulseSystemModel.from_backend(armonk_backend)\n",
    "# job = pulse_aer_backend.run(qpt_sched, aer_model)\n",
    "job = qiskit.execute(qpt_sched, pulse_aer_backend, shots=4096, system_model=aer_model)\n"
   ],
   "metadata": {
    "collapsed": false,
    "pycharm": {
     "name": "#%%\n"
    }
   }
  },
  {
   "cell_type": "code",
   "execution_count": null,
   "outputs": [],
   "source": [
    "\n",
    "from qiskit.tools.qi.qi import outer\n",
    "# Process tomography of a Hadamard gate\n",
    "q = QuantumRegister(1)\n",
    "circ = qiskit.QuantumCircuit(q)\n",
    "circ.x(q[0])\n",
    "\n",
    "# Run circuit on unitary simulator to find ideal unitary\n",
    "unitary_job = qiskit.execute(circ, Aer.get_backend('unitary_simulator'))\n",
    "ideal_unitary = unitary_job.result().get_unitary(circ)\n",
    "# convert to Choi-matrix in column-major convention\n",
    "choi_ideal = outer(ideal_unitary.ravel(order='F'))\n",
    "\n",
    "# Generate process tomography circuits and run on qasm simulator\n",
    "qpt_circs = process_tomography_circuits(circ, q)\n",
    "ideal_job = qiskit.execute(qpt_circs, Aer.get_backend('qasm_simulator'), shots=4000)\n",
    "# ideal_armonk_job = qiskit.execute(qpt_circs, armonk_backend, shots=4096)\n",
    "\n",
    "# Extract tomography data so that counts are indexed by measurement configuration\n",
    "ideal_qpt_tomo = ProcessTomographyFitter(ideal_job.result(), qpt_circs)\n",
    "# ideal_armonk_qpt = ProcessTomographyFitter(ideal_armonk_job.result(), qpt_circs)\n",
    "# ideal_qpt_tomo.data\n",
    "\n",
    "x_choi_lstsq = ideal_qpt_tomo.fit(method='lstsq')\n",
    "# armonk_choi_lstsq = ideal_armonk_qpt.fit(method='lstsq')"
   ],
   "metadata": {
    "collapsed": false,
    "pycharm": {
     "name": "#%%\n"
    }
   }
  },
  {
   "cell_type": "code",
   "execution_count": null,
   "outputs": [],
   "source": [
    "ideal_qpt_tomo.data"
   ],
   "metadata": {
    "collapsed": false,
    "pycharm": {
     "name": "#%%\n"
    }
   }
  },
  {
   "cell_type": "code",
   "execution_count": null,
   "outputs": [],
   "source": [
    "my_gate_tomo.data"
   ],
   "metadata": {
    "collapsed": false,
    "pycharm": {
     "name": "#%%\n"
    }
   }
  },
  {
   "cell_type": "code",
   "execution_count": null,
   "outputs": [],
   "source": [
    "# MLE Least-Squares tomographic reconstruction\n",
    "t = time.time()\n",
    "qpt_tomo = my_gate_tomo\n",
    "# qpt_tomo = ideal_qpt_tomo\n",
    "choi_lstsq = qpt_tomo.fit(method='lstsq')\n",
    "# choi_lstsq = x_choi_lstsq\n",
    "# choi_lstsq = armonk_choi_lstsq\n",
    "\n",
    "print('Least-Sq Fitter')\n",
    "print('fit fidelity (state):', state_fidelity(choi_ideal / 2, choi_lstsq.data / 2))\n",
    "print('fit time:', time.time() - t)\n",
    "print('fit fidelity (process):', np.real(process_fidelity(choi_ideal, choi_lstsq.data, require_cptp=False)))\n",
    "\n",
    "\n",
    "# CVXOPT Semidefinite-Program tomographic reconstruction\n",
    "t = time.time()\n",
    "choi_cvx = qpt_tomo.fit(method='cvx')\n",
    "print('\\nCVXOPT Fitter')\n",
    "print('fit time:', time.time() - t)\n",
    "print('fit fidelity (state):', state_fidelity(choi_ideal / 2, choi_cvx.data / 2))\n",
    "print('fit fidelity (process):', np.real(process_fidelity(choi_ideal, choi_cvx.data, require_cptp=False)))\n"
   ],
   "metadata": {
    "collapsed": false,
    "pycharm": {
     "name": "#%%\n"
    }
   }
  },
  {
   "cell_type": "code",
   "execution_count": null,
   "outputs": [],
   "source": [
    "from qiskit import IBMQ\n",
    "import qiskit.tools.jupyter\n",
    "%matplotlib inline\n",
    "\n",
    "IBMQ.load_account()\n",
    "\n",
    "%qiskit_backend_overview"
   ],
   "metadata": {
    "collapsed": false,
    "pycharm": {
     "name": "#%%\n"
    }
   }
  },
  {
   "cell_type": "code",
   "execution_count": null,
   "outputs": [],
   "source": [
    "from qiskit import IBMQ\n",
    "import qiskit.tools.jupyter\n",
    "%matplotlib inline\n",
    "\n",
    "IBMQ.load_account()\n",
    "\n",
    "%qiskit_backend_overview"
   ],
   "metadata": {
    "collapsed": false,
    "pycharm": {
     "name": "#%%\n"
    }
   }
  },
  {
   "cell_type": "code",
   "execution_count": null,
   "outputs": [],
   "source": [
    "ideal_qpt_tomo.data"
   ],
   "metadata": {
    "collapsed": false,
    "pycharm": {
     "name": "#%%\n"
    }
   }
  },
  {
   "cell_type": "code",
   "execution_count": null,
   "outputs": [],
   "source": [
    "my_gate_tomo.data"
   ],
   "metadata": {
    "collapsed": false,
    "pycharm": {
     "name": "#%%\n"
    }
   }
  },
  {
   "cell_type": "code",
   "execution_count": null,
   "outputs": [],
   "source": [
    "# MLE Least-Squares tomographic reconstruction\n",
    "t = time.time()\n",
    "qpt_tomo = my_gate_tomo\n",
    "# qpt_tomo = ideal_qpt_tomo\n",
    "choi_lstsq = qpt_tomo.fit(method='lstsq')\n",
    "# choi_lstsq = x_choi_lstsq\n",
    "# choi_lstsq = armonk_choi_lstsq\n",
    "\n",
    "print('Least-Sq Fitter')\n",
    "print('fit fidelity (state):', state_fidelity(choi_ideal / 2, choi_lstsq.data / 2))\n",
    "print('fit time:', time.time() - t)\n",
    "print('fit fidelity (process):', np.real(process_fidelity(choi_ideal, choi_lstsq.data, require_cptp=False)))\n",
    "\n",
    "\n",
    "# CVXOPT Semidefinite-Program tomographic reconstruction\n",
    "t = time.time()\n",
    "choi_cvx = qpt_tomo.fit(method='cvx')\n",
    "print('\\nCVXOPT Fitter')\n",
    "print('fit time:', time.time() - t)\n",
    "print('fit fidelity (state):', state_fidelity(choi_ideal / 2, choi_cvx.data / 2))\n",
    "print('fit fidelity (process):', np.real(process_fidelity(choi_ideal, choi_cvx.data, require_cptp=False)))\n"
   ],
   "metadata": {
    "collapsed": false,
    "pycharm": {
     "name": "#%%\n"
    }
   }
  },
  {
   "cell_type": "code",
   "execution_count": null,
   "outputs": [],
   "source": [
    "from qiskit import IBMQ\n",
    "import qiskit.tools.jupyter\n",
    "%matplotlib inline\n",
    "\n",
    "IBMQ.load_account()\n",
    "\n",
    "%qiskit_backend_overview"
   ],
   "metadata": {
    "collapsed": false,
    "pycharm": {
     "name": "#%%\n"
    }
   }
  }
 ],
 "metadata": {
  "kernelspec": {
   "name": "python38364bitqutipcondaf2e7297c9f3141ebb90564e6d73c5756",
   "language": "python",
   "display_name": "Python 3.8.3 64-bit ('qutip': conda)"
  },
  "language_info": {
   "codemirror_mode": {
    "name": "ipython",
    "version": 3
   },
   "file_extension": ".py",
   "mimetype": "text/x-python",
   "name": "python",
   "nbconvert_exporter": "python",
   "pygments_lexer": "ipython3",
   "version": 3
  },
  "name": "grape_tester.ipynb"
 },
 "nbformat": 4,
 "nbformat_minor": 2
}