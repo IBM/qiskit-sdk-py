{
 "cells": [
  {
   "cell_type": "code",
   "execution_count": 1,
   "outputs": [],
   "source": [
    "import numpy as np\n",
    "# The pulse simulator\n",
    "import qiskit\n",
    "from qiskit import QuantumCircuit, QuantumRegister, ClassicalRegister, IBMQ\n",
    "from qiskit.providers.aer import PulseSimulator\n",
    "\n",
    "# Object for representing physical models\n",
    "from qiskit.providers.aer.pulse import PulseSystemModel\n",
    "\n",
    "# Mock Armonk backend\n",
    "from qiskit.test.mock import FakeAthens\n",
    "from qiskit.test.mock.backends.armonk.fake_armonk import FakeArmonk\n",
    "from qiskit.compiler import assemble"
   ],
   "metadata": {
    "collapsed": false,
    "pycharm": {
     "name": "#%%\n"
    }
   }
  },
  {
   "cell_type": "code",
   "execution_count": 51,
   "outputs": [
    {
     "name": "stderr",
     "output_type": "stream",
     "text": [
      "ibmqfactory.load_account:WARNING:2020-08-18 17:24:47,161: Credentials are already in use. The existing account in the session will be replaced.\n"
     ]
    }
   ],
   "source": [
    "IBMQ.load_account()\n",
    "\n",
    "# provider = IBMQ.get_provider(hub='ibm-q', group='open', project='main')\n",
    "provider = IBMQ.get_provider(hub='ibm-q-internal', group='deployed', project='default')\n",
    "real_backend = provider.get_backend('ibmq_athens')"
   ],
   "metadata": {
    "collapsed": false,
    "pycharm": {
     "name": "#%%\n"
    }
   }
  },
  {
   "cell_type": "code",
   "execution_count": 52,
   "outputs": [],
   "source": [
    "# armonk_backend = FakeArmonk()\n",
    "backend = FakeAthens()"
   ],
   "metadata": {
    "collapsed": false,
    "pycharm": {
     "name": "#%%\n"
    }
   }
  },
  {
   "cell_type": "code",
   "execution_count": 53,
   "outputs": [],
   "source": [
    "# set the drive strength\n",
    "# getattr(armonk_backend.configuration(), 'hamiltonian')['vars']['omegad0'] = 63455017.85\n",
    "\n",
    "# backend.configuration().hamiltonian['vars'] = real_backend.configuration().hamiltonian['vars']\n",
    "# backend.configuration().hamiltonian['vars']"
   ],
   "metadata": {
    "collapsed": false,
    "pycharm": {
     "name": "#%%\n"
    }
   }
  },
  {
   "cell_type": "code",
   "execution_count": 54,
   "outputs": [],
   "source": [
    "num_qub=5\n",
    "lst = ['omegad' + str(i) for i in range(num_qub)]\n",
    "for ele in lst:\n",
    "    getattr(backend.configuration(), 'hamiltonian')['vars'][ele] = 0.5 * 1e9 * getattr(real_backend.configuration(), 'hamiltonian')['vars'][ele]\n",
    "# freq_est = 4.97e9\n",
    "# armonk_backend.defaults().qubit_freq_est = [freq_est]\n",
    "lst2 = ['wq' + str(i) for i in range(num_qub)]\n",
    "for i,ele in enumerate(lst2):\n",
    "    getattr(backend.configuration(), 'hamiltonian')['vars'][ele] = 2 * np.pi * real_backend.defaults().qubit_freq_est[i]\n",
    "\n",
    "backend.defaults().qubit_freq_est = real_backend.defaults().qubit_freq_est"
   ],
   "metadata": {
    "collapsed": false,
    "pycharm": {
     "name": "#%%\n"
    }
   }
  },
  {
   "cell_type": "code",
   "execution_count": 55,
   "outputs": [],
   "source": [
    "# backend.configuration().hamiltonian['vars']"
   ],
   "metadata": {
    "collapsed": false,
    "pycharm": {
     "name": "#%%\n"
    }
   }
  },
  {
   "cell_type": "code",
   "execution_count": 56,
   "outputs": [],
   "source": [
    "# armonk_model = PulseSystemModel.from_backend(armonk_backend)\n",
    "athens_model = PulseSystemModel.from_backend(backend)"
   ],
   "metadata": {
    "collapsed": false,
    "pycharm": {
     "name": "#%%\n"
    }
   }
  },
  {
   "cell_type": "code",
   "execution_count": 62,
   "outputs": [],
   "source": [
    "circ = QuantumCircuit(num_qub)\n",
    "\n",
    "circ.x(0)\n",
    "circ.measure_all()"
   ],
   "metadata": {
    "collapsed": false,
    "pycharm": {
     "name": "#%%\n"
    }
   }
  },
  {
   "cell_type": "code",
   "execution_count": 63,
   "outputs": [
    {
     "name": "stdout",
     "output_type": "stream",
     "text": [
      "changed instruction to instruction.name\n"
     ]
    }
   ],
   "source": [
    "def_trans_circ = qiskit.transpile(circ, basis_gates=backend.configuration().basis_gates)\n",
    "default_schedule = qiskit.schedule(def_trans_circ, inst_map = backend.defaults().instruction_schedule_map,\n",
    "                        meas_map = backend.configuration().meas_map)"
   ],
   "metadata": {
    "collapsed": false,
    "pycharm": {
     "name": "#%%\n"
    }
   }
  },
  {
   "cell_type": "code",
   "execution_count": 64,
   "outputs": [],
   "source": [
    "backend_sim = PulseSimulator(configuration=backend)\n",
    "\n",
    "my_qobj = assemble(default_schedule,\n",
    "                backend=backend_sim,\n",
    "                # qubit_lo_freq=backend.defaults().qubit_freq_est,\n",
    "                meas_level=2,\n",
    "                meas_return='single',\n",
    "                shots=2048)"
   ],
   "metadata": {
    "collapsed": false,
    "pycharm": {
     "name": "#%%\n"
    }
   }
  },
  {
   "cell_type": "code",
   "execution_count": 65,
   "outputs": [],
   "source": [
    "sim_result = backend_sim.run(my_qobj, athens_model).result()"
   ],
   "metadata": {
    "collapsed": false,
    "pycharm": {
     "name": "#%%\n"
    }
   }
  },
  {
   "cell_type": "code",
   "execution_count": 66,
   "outputs": [
    {
     "data": {
      "text/plain": "{'00000': 1736, '00001': 312}"
     },
     "execution_count": 66,
     "metadata": {},
     "output_type": "execute_result"
    }
   ],
   "source": [
    "sim_result.get_counts()"
   ],
   "metadata": {
    "collapsed": false,
    "pycharm": {
     "name": "#%%\n"
    }
   }
  }
 ],
 "metadata": {
  "kernelspec": {
   "display_name": "Python 3",
   "language": "python",
   "name": "python3"
  },
  "language_info": {
   "codemirror_mode": {
    "name": "ipython",
    "version": 2
   },
   "file_extension": ".py",
   "mimetype": "text/x-python",
   "name": "python",
   "nbconvert_exporter": "python",
   "pygments_lexer": "ipython2",
   "version": "2.7.6"
  }
 },
 "nbformat": 4,
 "nbformat_minor": 0
}