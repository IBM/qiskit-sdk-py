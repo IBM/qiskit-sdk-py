{
 "cells": [
  {
   "cell_type": "code",
   "execution_count": 1,
   "metadata": {},
   "outputs": [],
   "source": [
    "%matplotlib inline"
   ]
  },
  {
   "cell_type": "code",
   "execution_count": 2,
   "metadata": {},
   "outputs": [],
   "source": [
    "from typing import List, Union\n",
    "\n",
    "from qiskit import pulse\n",
    "from qiskit.pulse.reschedule import pad\n",
    "import qiskit.pulse.pulse_lib as pulse_lib\n",
    "from qiskit.pulse import Schedule, DriveChannel, MeasureChannel, FrameChange, Delay\n",
    "\n",
    "import numpy as np"
   ]
  },
  {
   "cell_type": "code",
   "execution_count": 3,
   "metadata": {},
   "outputs": [
    {
     "ename": "TypeError",
     "evalue": "unsupported operand type(s) for +=: 'NoneType' and 'FrameChangeInstruction'",
     "output_type": "error",
     "traceback": [
      "\u001b[0;31m---------------------------------------------------------------------------\u001b[0m",
      "\u001b[0;31mTypeError\u001b[0m                                 Traceback (most recent call last)",
      "\u001b[0;32m<ipython-input-3-6ccfc9eb6d8f>\u001b[0m in \u001b[0;36m<module>\u001b[0;34m\u001b[0m\n\u001b[1;32m      2\u001b[0m \u001b[0mf\u001b[0m \u001b[0;34m=\u001b[0m \u001b[0mpulse_lib\u001b[0m\u001b[0;34m.\u001b[0m\u001b[0mgaussian\u001b[0m\u001b[0;34m(\u001b[0m\u001b[0;36m100\u001b[0m\u001b[0;34m,\u001b[0m \u001b[0;36m1.0\u001b[0m\u001b[0;34m,\u001b[0m \u001b[0;36m10.0\u001b[0m\u001b[0;34m)\u001b[0m\u001b[0;34m\u001b[0m\u001b[0;34m\u001b[0m\u001b[0m\n\u001b[1;32m      3\u001b[0m \u001b[0msched\u001b[0m \u001b[0;34m+=\u001b[0m \u001b[0mf\u001b[0m\u001b[0;34m(\u001b[0m\u001b[0mDriveChannel\u001b[0m\u001b[0;34m(\u001b[0m\u001b[0;36m0\u001b[0m\u001b[0;34m)\u001b[0m\u001b[0;34m)\u001b[0m\u001b[0;34m\u001b[0m\u001b[0;34m\u001b[0m\u001b[0m\n\u001b[0;32m----> 4\u001b[0;31m \u001b[0msched\u001b[0m \u001b[0;34m+=\u001b[0m \u001b[0mFrameChange\u001b[0m\u001b[0;34m(\u001b[0m\u001b[0mnp\u001b[0m\u001b[0;34m.\u001b[0m\u001b[0mpi\u001b[0m\u001b[0;34m/\u001b[0m\u001b[0;36m2\u001b[0m\u001b[0;34m)\u001b[0m\u001b[0;34m(\u001b[0m\u001b[0mDriveChannel\u001b[0m\u001b[0;34m(\u001b[0m\u001b[0;36m0\u001b[0m\u001b[0;34m)\u001b[0m\u001b[0;34m)\u001b[0m\u001b[0;34m\u001b[0m\u001b[0;34m\u001b[0m\u001b[0m\n\u001b[0m\u001b[1;32m      5\u001b[0m \u001b[0msched\u001b[0m \u001b[0;34m|=\u001b[0m \u001b[0mf\u001b[0m\u001b[0;34m(\u001b[0m\u001b[0mDriveChannel\u001b[0m\u001b[0;34m(\u001b[0m\u001b[0;36m0\u001b[0m\u001b[0;34m)\u001b[0m\u001b[0;34m)\u001b[0m\u001b[0;34m.\u001b[0m\u001b[0mshift\u001b[0m\u001b[0;34m(\u001b[0m\u001b[0;36m100\u001b[0m\u001b[0;34m)\u001b[0m\u001b[0;34m\u001b[0m\u001b[0;34m\u001b[0m\u001b[0m\n\u001b[1;32m      6\u001b[0m \u001b[0msched\u001b[0m\u001b[0;34m.\u001b[0m\u001b[0mdraw\u001b[0m\u001b[0;34m(\u001b[0m\u001b[0;34m)\u001b[0m\u001b[0;34m\u001b[0m\u001b[0;34m\u001b[0m\u001b[0m\n",
      "\u001b[0;31mTypeError\u001b[0m: unsupported operand type(s) for +=: 'NoneType' and 'FrameChangeInstruction'"
     ]
    }
   ],
   "source": [
    "sched = Schedule()\n",
    "f = pulse_lib.gaussian(100, 1.0, 10.0)\n",
    "sched += f(DriveChannel(0))\n",
    "sched += FrameChange(np.pi/2)(DriveChannel(0))\n",
    "sched |= f(DriveChannel(0)).shift(100)\n",
    "sched.draw()"
   ]
  },
  {
   "cell_type": "code",
   "execution_count": null,
   "metadata": {},
   "outputs": [],
   "source": [
    "ramsey = pulse.Schedule()\n",
    "x90 = pulse_lib.gaussian_square(100, 0.5j, 50, 20)\n",
    "ramsey += x90(DriveChannel(0))\n",
    "ramsey += Delay(100)(DriveChannel(0))\n",
    "ramsey += x90(DriveChannel(0))\n",
    "ramsey += x90(DriveChannel(1)) << 200\n",
    "align = [f(DriveChannel(0)), f(DriveChannel(0)), ramsey, f(DriveChannel(1))]"
   ]
  },
  {
   "cell_type": "markdown",
   "metadata": {},
   "source": [
    "# Align left"
   ]
  },
  {
   "cell_type": "code",
   "execution_count": null,
   "metadata": {},
   "outputs": [],
   "source": [
    "def push_append(this: List[pulse.ScheduleComponent], \n",
    "                other: List[pulse.ScheduleComponent], \n",
    "                mutate=True) -> pulse.Schedule:\n",
    "        r\"\"\"Return a new schedule with `schedule` inserted at the maximum time over\n",
    "        all channels shared between `self` and `schedule`.\n",
    "\n",
    "       $t = \\textrm{max}({x.stop\\_time |x \\in self.channels \\cap schedule.channels})$\n",
    "\n",
    "        Args:\n",
    "            schedule: schedule to be appended\n",
    "            buffer: Whether to obey buffer when appending\n",
    "            mutate: Instead of returning a new schedule the call will be performed \n",
    "                by mutating `this`.\n",
    "        \"\"\"\n",
    "        common_channels = set(this.channels) & set(other.channels)\n",
    "        \n",
    "        channels = {}\n",
    "        min_ch_slack = np.inf\n",
    "        max_common_time = this.ch_stop_time(*common_channels)\n",
    "        ch_slacks = [this.ch_stop_time(channel)+other.ch_start_time(channel) \n",
    "                     for channel in common_channels]\n",
    "           \n",
    "        insert_time = this.start_time + min(ch_slacks, default=0)\n",
    "        \n",
    "        return this.insert(insert_time, other, mutate=mutate)\n",
    "    \n",
    "def align_left(*instructions: List[Union[pulse.Instruction, pulse.Schedule]], \n",
    "               mutate=True) -> pulse.Schedule:\n",
    "    \"\"\"Align a list of pulse instructions on the left\n",
    "    \n",
    "    Args:\n",
    "        instructions: List of pulse instructions to align.\n",
    "        mutate: Instead of returning a new schedule the call will be performed \n",
    "                by mutating `this`.\n",
    "    \n",
    "    Returns:\n",
    "        pulse.Schedule\n",
    "    \"\"\"\n",
    "    aligned = pulse.Schedule()\n",
    "    for instruction in instructions:\n",
    "        aligned = push_append(aligned, instruction, mutate=mutate)\n",
    "    \n",
    "    return aligned\n",
    "\n",
    "def align_left_padded(*instructions: List[pulse.ScheduleComponent],\n",
    "                      mutate=True) -> pulse.Schedule:\n",
    "    \"\"\"Align a list of pulse instructions on the left with padding\n",
    "    \n",
    "    Args:\n",
    "        instructions: List of pulse instructions to align.\n",
    "        mutate: Instead of returning a new schedule the call will be performed \n",
    "                by mutating `this`.\n",
    "    \n",
    "    Returns:\n",
    "        pulse.Schedule\n",
    "    \"\"\"\n",
    "    aligned = align_left(*instructions, mutate=mutate)\n",
    "    return pad(aligned, mutate=mutate)\n",
    "\n",
    "def align_right(*instructions: List[pulse.ScheduleComponent],\n",
    "                mutate=True) -> pulse.Schedule:\n",
    "    \"\"\"Align a list of pulse instructions on the right\n",
    "    \n",
    "    Args:\n",
    "        instructions: List of pulse instructions to align.\n",
    "        mutate: Instead of returning a new schedule the call will be performed \n",
    "                by mutating `this`.\n",
    "    \n",
    "    Returns:\n",
    "        pulse.Schedule\n",
    "    \"\"\"\n",
    "    left_aligned = align_left(*instructions, mutate=False)\n",
    "    max_duration = 0\n",
    "    \n",
    "    channel_durations = {}\n",
    "    for channel in left_aligned.channels:\n",
    "        channel_sched = left_aligned.filter(channels=[channel])\n",
    "        channel_duration = channel_sched.duration\n",
    "        channel_durations[channel] = channel_sched.duration\n",
    "        max_duration = max(max_duration, channel_duration)\n",
    "    \n",
    "    aligned = pulse.Schedule()\n",
    "    for instr_time, instruction in left_aligned.instructions:\n",
    "        instr_max_dur = max(channel_durations[channel] for channel in instruction.channels)\n",
    "        instr_delayed_time = max_duration - instr_max_dur + instr_time\n",
    "        aligned.insert(instr_delayed_time, instruction, mutate=mutate)\n",
    "        \n",
    "    return aligned\n",
    "\n",
    "def align_right_padded(*instructions: List[pulse.ScheduleComponent],\n",
    "                       mutate=True) -> pulse.Schedule:\n",
    "    \"\"\"Align a list of pulse instructions on the right with padding\n",
    "    \n",
    "    Args:\n",
    "        instructions: List of pulse instructions to align.\n",
    "        mutate: Instead of returning a new schedule the call will be performed \n",
    "                by mutating `this`.\n",
    "    \n",
    "    Returns:\n",
    "        pulse.Schedule\n",
    "    \"\"\"\n",
    "    aligned = align_right(*instructions, mutate=mutate)\n",
    "    return pad(aligned, mutate=mutate)\n",
    "\n",
    "def align_in_sequence(*instructions: List[pulse.ScheduleComponent],\n",
    "                      mutate=True) -> pulse.Schedule:\n",
    "    \"\"\"Align a list of pulse instructions sequentially in time.\n",
    "    Args:\n",
    "        instructions: List of pulse instructions to align.\n",
    "        mutate: Instead of returning a new schedule the call will be performed \n",
    "                by mutating `this`.\n",
    "    Returns:\n",
    "        A new pulse schedule with instructions`\n",
    "    \"\"\"\n",
    "    aligned = pulse.Schedule()\n",
    "    for instruction in instructions:\n",
    "        if mutate:\n",
    "            aligned.insert(aligned.duration, instruction, mutate=mutate)\n",
    "    return aligned"
   ]
  },
  {
   "cell_type": "code",
   "execution_count": null,
   "metadata": {},
   "outputs": [],
   "source": [
    "aligned_left._children"
   ]
  },
  {
   "cell_type": "code",
   "execution_count": null,
   "metadata": {},
   "outputs": [],
   "source": [
    "aligned_left = align_left_padded(f(DriveChannel(1)), *align)\n",
    "aligned_left.draw()"
   ]
  },
  {
   "cell_type": "code",
   "execution_count": null,
   "metadata": {},
   "outputs": [],
   "source": [
    "aligned_left = align_left(f(DriveChannel(1)), ramsey)\n",
    "aligned_left.draw()"
   ]
  },
  {
   "cell_type": "code",
   "execution_count": null,
   "metadata": {},
   "outputs": [],
   "source": [
    "aligned_right = align_right(*align)\n",
    "aligned_right.draw()"
   ]
  },
  {
   "cell_type": "code",
   "execution_count": null,
   "metadata": {},
   "outputs": [],
   "source": [
    "aligned_left_padded = align_left_padded(*align)\n",
    "aligned_left_padded.draw()\n",
    "added =  aligned_left_padded + f(DriveChannel(1))\n",
    "added.draw()"
   ]
  },
  {
   "cell_type": "code",
   "execution_count": null,
   "metadata": {},
   "outputs": [],
   "source": [
    "added =  aligned_left + f(DriveChannel(1))\n",
    "added.draw()"
   ]
  },
  {
   "cell_type": "code",
   "execution_count": null,
   "metadata": {},
   "outputs": [],
   "source": [
    "aligned_right_padded = align_right_padded(*align)\n",
    "aligned_right_padded.draw()\n",
    "added =  f(DriveChannel(1)) + aligned_right_padded \n",
    "added.draw()"
   ]
  },
  {
   "cell_type": "code",
   "execution_count": null,
   "metadata": {},
   "outputs": [],
   "source": [
    "added =  align_left(f(DriveChannel(1)), aligned_right)\n",
    "added.draw()"
   ]
  },
  {
   "cell_type": "code",
   "execution_count": null,
   "metadata": {},
   "outputs": [],
   "source": [
    "align_in_sequence(*align).draw()"
   ]
  }
 ],
 "metadata": {
  "kernelspec": {
   "display_name": "Python 3",
   "language": "python",
   "name": "python3"
  },
  "language_info": {
   "codemirror_mode": {
    "name": "ipython",
    "version": 3
   },
   "file_extension": ".py",
   "mimetype": "text/x-python",
   "name": "python",
   "nbconvert_exporter": "python",
   "pygments_lexer": "ipython3",
   "version": "3.7.4"
  }
 },
 "nbformat": 4,
 "nbformat_minor": 2
}
