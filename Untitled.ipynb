{
 "cells": [
  {
   "cell_type": "code",
   "execution_count": 6,
   "metadata": {
    "ExecuteTime": {
     "end_time": "2019-07-07T09:48:47.440005Z",
     "start_time": "2019-07-07T09:48:47.436206Z"
    }
   },
   "outputs": [],
   "source": [
    "from qiskit import *\n",
    "from qiskit.extensions.simulator import snapshot"
   ]
  },
  {
   "cell_type": "code",
   "execution_count": 3,
   "metadata": {
    "ExecuteTime": {
     "end_time": "2019-07-07T09:47:39.640858Z",
     "start_time": "2019-07-07T09:47:39.631462Z"
    }
   },
   "outputs": [
    {
     "name": "stdout",
     "output_type": "stream",
     "text": [
      "        ┌───┐      ░           \n",
      "q_0: |0>┤ H ├──■───░───────────\n",
      "        └───┘┌─┴─┐ ░           \n",
      "q_1: |0>─────┤ X ├─░───────────\n",
      "             └───┘ ░ ┌───┐     \n",
      "q_2: |0>───────────░─┤ H ├──■──\n",
      "                   ░ └───┘┌─┴─┐\n",
      "q_3: |0>───────────░──────┤ X ├\n",
      "                   ░      └───┘\n",
      " c_0: 0 ═══════════════════════\n",
      "                               \n",
      " c_1: 0 ═══════════════════════\n",
      "                               \n",
      " c_2: 0 ═══════════════════════\n",
      "                               \n",
      " c_3: 0 ═══════════════════════\n",
      "                               \n",
      "depth:  4\n"
     ]
    }
   ],
   "source": [
    "q = QuantumRegister(4, 'q')\n",
    "c = ClassicalRegister(4, 'c')\n",
    "circ = QuantumCircuit(q, c)\n",
    "circ.h(0)\n",
    "circ.cx(0, 1)\n",
    "circ.barrier(q)\n",
    "circ.h(2)\n",
    "circ.cx(2, 3)\n",
    "print(circ)\n",
    "print('depth: ', circ.depth())"
   ]
  },
  {
   "cell_type": "code",
   "execution_count": 4,
   "metadata": {
    "ExecuteTime": {
     "end_time": "2019-07-07T09:48:15.048834Z",
     "start_time": "2019-07-07T09:48:15.032032Z"
    }
   },
   "outputs": [
    {
     "name": "stdout",
     "output_type": "stream",
     "text": [
      "        ┌───┐ ░       ░       ░      \n",
      "q_0: |0>┤ H ├─░───■───░───────░──────\n",
      "        └───┘ ░ ┌─┴─┐ ░       ░      \n",
      "q_1: |0>──────░─┤ X ├─░───────░──────\n",
      "              ░ └───┘ ░ ┌───┐ ░      \n",
      "q_2: |0>──────░───────░─┤ H ├─░───■──\n",
      "              ░       ░ └───┘ ░ ┌─┴─┐\n",
      "q_3: |0>──────░───────░───────░─┤ X ├\n",
      "              ░       ░       ░ └───┘\n",
      " c_0: 0 ═════════════════════════════\n",
      "                                     \n",
      " c_1: 0 ═════════════════════════════\n",
      "                                     \n",
      " c_2: 0 ═════════════════════════════\n",
      "                                     \n",
      " c_3: 0 ═════════════════════════════\n",
      "                                     \n",
      "depth:  4\n"
     ]
    }
   ],
   "source": [
    "q = QuantumRegister(4, 'q')\n",
    "c = ClassicalRegister(4, 'c')\n",
    "circ = QuantumCircuit(q, c)\n",
    "circ.h(0)\n",
    "circ.barrier(q)\n",
    "circ.cx(0, 1)\n",
    "circ.barrier(q)\n",
    "circ.h(2)\n",
    "circ.barrier(q)\n",
    "circ.cx(2, 3)\n",
    "print(circ)\n",
    "print('depth: ', circ.depth())"
   ]
  },
  {
   "cell_type": "code",
   "execution_count": 5,
   "metadata": {
    "ExecuteTime": {
     "end_time": "2019-07-07T09:48:23.210415Z",
     "start_time": "2019-07-07T09:48:23.197270Z"
    }
   },
   "outputs": [
    {
     "name": "stdout",
     "output_type": "stream",
     "text": [
      "        ┌───┐ ░       ░  ░  ░  ░       ░      \n",
      "q_0: |0>┤ H ├─░───■───░──░──░──░───────░──────\n",
      "        └───┘ ░ ┌─┴─┐ ░  ░  ░  ░       ░      \n",
      "q_1: |0>──────░─┤ X ├─░──░──░──░───────░──────\n",
      "              ░ └───┘ ░  ░  ░  ░ ┌───┐ ░      \n",
      "q_2: |0>──────░───────░──░──░──░─┤ H ├─░───■──\n",
      "              ░       ░  ░  ░  ░ └───┘ ░ ┌─┴─┐\n",
      "q_3: |0>──────░───────░──░──░──░───────░─┤ X ├\n",
      "              ░       ░  ░  ░  ░       ░ └───┘\n",
      " c_0: 0 ══════════════════════════════════════\n",
      "                                              \n",
      " c_1: 0 ══════════════════════════════════════\n",
      "                                              \n",
      " c_2: 0 ══════════════════════════════════════\n",
      "                                              \n",
      " c_3: 0 ══════════════════════════════════════\n",
      "                                              \n",
      "depth:  4\n"
     ]
    }
   ],
   "source": [
    "q = QuantumRegister(4, 'q')\n",
    "c = ClassicalRegister(4, 'c')\n",
    "circ = QuantumCircuit(q, c)\n",
    "circ.h(0)\n",
    "circ.barrier(q)\n",
    "circ.cx(0, 1)\n",
    "circ.barrier(q)\n",
    "circ.barrier(q)\n",
    "circ.barrier(q)\n",
    "circ.barrier(q)\n",
    "circ.h(2)\n",
    "circ.barrier(q)\n",
    "circ.cx(2, 3)\n",
    "print(circ)\n",
    "print('depth: ', circ.depth())"
   ]
  },
  {
   "cell_type": "code",
   "execution_count": 7,
   "metadata": {
    "ExecuteTime": {
     "end_time": "2019-07-07T09:48:57.609329Z",
     "start_time": "2019-07-07T09:48:57.597692Z"
    }
   },
   "outputs": [
    {
     "name": "stdout",
     "output_type": "stream",
     "text": [
      "        ┌───┐      ░           \n",
      "q_0: |0>┤ H ├──■───░───────────\n",
      "        └───┘┌─┴─┐ ░           \n",
      "q_1: |0>─────┤ X ├─░───────────\n",
      "             └───┘ ░ ┌───┐     \n",
      "q_2: |0>───────────░─┤ H ├──■──\n",
      "                   ░ └───┘┌─┴─┐\n",
      "q_3: |0>───────────░──────┤ X ├\n",
      "                   ░      └───┘\n",
      " c_0: 0 ═══════════════════════\n",
      "                               \n",
      " c_1: 0 ═══════════════════════\n",
      "                               \n",
      " c_2: 0 ═══════════════════════\n",
      "                               \n",
      " c_3: 0 ═══════════════════════\n",
      "                               \n",
      "depth:  4\n"
     ]
    }
   ],
   "source": [
    "q = QuantumRegister(4, 'q')\n",
    "c = ClassicalRegister(4, 'c')\n",
    "circ = QuantumCircuit(q, c)\n",
    "circ.h(0)\n",
    "circ.cx(0, 1)\n",
    "circ.snapshot('snap')\n",
    "circ.h(2)\n",
    "circ.cx(2, 3)\n",
    "print(circ)\n",
    "print('depth: ', circ.depth())"
   ]
  },
  {
   "cell_type": "code",
   "execution_count": 8,
   "metadata": {
    "ExecuteTime": {
     "end_time": "2019-07-07T09:49:08.753354Z",
     "start_time": "2019-07-07T09:49:08.742199Z"
    }
   },
   "outputs": [
    {
     "name": "stdout",
     "output_type": "stream",
     "text": [
      "        ┌───┐ ░       ░       ░      \n",
      "q_0: |0>┤ H ├─░───■───░───────░──────\n",
      "        └───┘ ░ ┌─┴─┐ ░       ░      \n",
      "q_1: |0>──────░─┤ X ├─░───────░──────\n",
      "              ░ └───┘ ░ ┌───┐ ░      \n",
      "q_2: |0>──────░───────░─┤ H ├─░───■──\n",
      "              ░       ░ └───┘ ░ ┌─┴─┐\n",
      "q_3: |0>──────░───────░───────░─┤ X ├\n",
      "              ░       ░       ░ └───┘\n",
      " c_0: 0 ═════════════════════════════\n",
      "                                     \n",
      " c_1: 0 ═════════════════════════════\n",
      "                                     \n",
      " c_2: 0 ═════════════════════════════\n",
      "                                     \n",
      " c_3: 0 ═════════════════════════════\n",
      "                                     \n",
      "depth:  4\n"
     ]
    }
   ],
   "source": [
    "q = QuantumRegister(4, 'q')\n",
    "c = ClassicalRegister(4, 'c')\n",
    "circ = QuantumCircuit(q, c)\n",
    "circ.h(0)\n",
    "circ.snapshot('snap')\n",
    "circ.cx(0, 1)\n",
    "circ.snapshot('snap')\n",
    "circ.h(2)\n",
    "circ.snapshot('snap')\n",
    "circ.cx(2, 3)\n",
    "print(circ)\n",
    "print('depth: ', circ.depth())"
   ]
  },
  {
   "cell_type": "code",
   "execution_count": null,
   "metadata": {},
   "outputs": [],
   "source": []
  }
 ],
 "metadata": {
  "kernelspec": {
   "display_name": "Python 3",
   "language": "python",
   "name": "python3"
  },
  "language_info": {
   "codemirror_mode": {
    "name": "ipython",
    "version": 3
   },
   "file_extension": ".py",
   "mimetype": "text/x-python",
   "name": "python",
   "nbconvert_exporter": "python",
   "pygments_lexer": "ipython3",
   "version": "3.7.3"
  },
  "varInspector": {
   "cols": {
    "lenName": 16,
    "lenType": 16,
    "lenVar": 40
   },
   "kernels_config": {
    "python": {
     "delete_cmd_postfix": "",
     "delete_cmd_prefix": "del ",
     "library": "var_list.py",
     "varRefreshCmd": "print(var_dic_list())"
    },
    "r": {
     "delete_cmd_postfix": ") ",
     "delete_cmd_prefix": "rm(",
     "library": "var_list.r",
     "varRefreshCmd": "cat(var_dic_list()) "
    }
   },
   "types_to_exclude": [
    "module",
    "function",
    "builtin_function_or_method",
    "instance",
    "_Feature"
   ],
   "window_display": false
  }
 },
 "nbformat": 4,
 "nbformat_minor": 2
}
